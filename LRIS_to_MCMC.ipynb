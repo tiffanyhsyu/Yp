{
 "cells": [
  {
   "cell_type": "markdown",
   "metadata": {},
   "source": [
    "# Import"
   ]
  },
  {
   "cell_type": "code",
   "execution_count": 2,
   "metadata": {},
   "outputs": [],
   "source": [
    "%matplotlib inline\n",
    "import os\n",
    "import glob\n",
    "\n",
    "import numpy as np\n",
    "from astropy.io.ascii import write\n",
    "from astropy.table import Table, Column\n",
    "from matplotlib import pyplot as plt\n"
   ]
  },
  {
   "cell_type": "markdown",
   "metadata": {},
   "source": [
    "# LRIS targets"
   ]
  },
  {
   "cell_type": "markdown",
   "metadata": {},
   "source": [
    "## Read in file of LRIS targets and edit"
   ]
  },
  {
   "cell_type": "code",
   "execution_count": 3,
   "metadata": {},
   "outputs": [],
   "source": [
    "observed = Table.read('/Users/thsyu/Dropbox/BCDs/science_frames/lris_reduction.csv', format='ascii', delimiter=',', data_start=1)\n",
    "observed.rename_column('col1', 'Target')\n",
    "observed.rename_column('col2', 'Exposure')\n",
    "observed.rename_column('col3', 'GratingGrism')\n",
    "observed.rename_column('col4', 'Exten')\n",
    "observed.rename_column('col5', 'Redshift')\n",
    "observed.rename_column('col6', 'File Name')"
   ]
  },
  {
   "cell_type": "code",
   "execution_count": 4,
   "metadata": {},
   "outputs": [
    {
     "data": {
      "text/html": [
       "<i>Table masked=True length=5</i>\n",
       "<table id=\"table4672236736\" class=\"table-striped table-bordered table-condensed\">\n",
       "<thead><tr><th>Target</th><th>Exposure</th><th>GratingGrism</th><th>Exten</th><th>Redshift</th><th>File Name</th></tr></thead>\n",
       "<thead><tr><th>str15</th><th>int64</th><th>str8</th><th>int64</th><th>float64</th><th>str49</th></tr></thead>\n",
       "<tr><td>OFF_KJ2</td><td>300</td><td>600/4000</td><td>1</td><td>0.01432</td><td>spec1d_OFF_KJ2_LRISb_2016Feb16T140313.fits</td></tr>\n",
       "<tr><td>OFF_KJ2</td><td>300</td><td>600/4000</td><td>1</td><td>0.01416</td><td>spec1d_OFF_KJ2_LRISb_2016Feb16T140850.fits</td></tr>\n",
       "<tr><td>OFF_KJ2</td><td>300</td><td>600/4000</td><td>1</td><td>0.01423</td><td>spec1d_OFF_KJ2_LRISb_2016Feb16T141427.fits</td></tr>\n",
       "<tr><td>OFF_KJ2</td><td>300</td><td>600/4000</td><td>1</td><td>0.01429</td><td>spec1d_OFF_KJ2_LRISb_2016Feb16T142004.fits</td></tr>\n",
       "<tr><td>OFF_KJ2</td><td>300</td><td>600/4000</td><td>1</td><td>0.0142</td><td>spec1d_OFF_KJ2_LRISb_2016Feb16T142541.fits</td></tr>\n",
       "</table>"
      ],
      "text/plain": [
       "<Table masked=True length=5>\n",
       " Target Exposure ... Redshift                 File Name                 \n",
       " str15   int64   ... float64                    str49                   \n",
       "------- -------- ... -------- ------------------------------------------\n",
       "OFF_KJ2      300 ...  0.01432 spec1d_OFF_KJ2_LRISb_2016Feb16T140313.fits\n",
       "OFF_KJ2      300 ...  0.01416 spec1d_OFF_KJ2_LRISb_2016Feb16T140850.fits\n",
       "OFF_KJ2      300 ...  0.01423 spec1d_OFF_KJ2_LRISb_2016Feb16T141427.fits\n",
       "OFF_KJ2      300 ...  0.01429 spec1d_OFF_KJ2_LRISb_2016Feb16T142004.fits\n",
       "OFF_KJ2      300 ...   0.0142 spec1d_OFF_KJ2_LRISb_2016Feb16T142541.fits"
      ]
     },
     "execution_count": 4,
     "metadata": {},
     "output_type": "execute_result"
    }
   ],
   "source": [
    "observed[0:5]"
   ]
  },
  {
   "cell_type": "code",
   "execution_count": 5,
   "metadata": {},
   "outputs": [
    {
     "name": "stdout",
     "output_type": "stream",
     "text": [
      "28\n"
     ]
    }
   ],
   "source": [
    "all_targets = []\n",
    "\n",
    "for i in range(len(observed)-1):\n",
    "    if observed[i]['Target'] != observed[i+1]['Target']:\n",
    "        all_targets.append(observed[i]['Target'])\n",
    "all_targets.append('OFF_J2319p1616')\n",
    "\n",
    "all_targets.remove('OFF_J0321m1439')\n",
    "all_targets.remove('OF_J1121p3744A')\n",
    "all_targets.remove('OF_J1121p3744B')\n",
    "all_targets.remove('OFF_J0000p3053')\n",
    "all_targets.remove('OFF_J1044p6306')\n",
    "\n",
    "print (len(all_targets))"
   ]
  },
  {
   "cell_type": "code",
   "execution_count": 6,
   "metadata": {
    "scrolled": true
   },
   "outputs": [
    {
     "name": "stdout",
     "output_type": "stream",
     "text": [
      "KJ2\n",
      "KJ5\n",
      "KJ29\n",
      "KJ5B\n",
      "KJ97\n",
      "J0201p0919\n",
      "J0220p2044A\n",
      "J0220p2044B\n",
      "J0452m0541\n",
      "J1655p6337\n",
      "J1705p3527\n",
      "J1732p4452\n",
      "J2230m0531\n",
      "J2339p3230\n",
      "J0000p3052A\n",
      "J0000p3052B\n",
      "J0118p3512\n",
      "J0140p2951\n",
      "J0743p4807\n",
      "J0812p4836\n",
      "J0834p5905\n",
      "J0943p3326\n",
      "J1414m0208\n",
      "J1425p4441\n",
      "J1757p6454\n",
      "J2030m1343\n",
      "J2213p1722\n",
      "J2319p1616\n"
     ]
    }
   ],
   "source": [
    "for obj in range(len(all_targets)):\n",
    "    \n",
    "    print (all_targets[obj].strip('OFF_').strip('OF_'))"
   ]
  },
  {
   "cell_type": "markdown",
   "metadata": {},
   "source": [
    "## Build Table for MCMC input for each target"
   ]
  },
  {
   "cell_type": "code",
   "execution_count": 35,
   "metadata": {},
   "outputs": [
    {
     "name": "stdout",
     "output_type": "stream",
     "text": [
      "Working on KJ29\n",
      "Model files: ['spec1d_OFF_KJ29_LRISb_coadd.mod.out', 'spec1d_OFF_KJ29_LRISr_coadd.mod.out']\n",
      "Wavelength     Species          Flux Ratio        Flux Ratio Errors  \n",
      "---------- --------------- -------------------- ---------------------\n",
      "  3890.166 hydrogen+helium  0.13403648583474959 0.0033414179310808974\n",
      "  4027.328          helium 0.012464876319710615 0.0027725224348813375\n",
      "  4102.891        hydrogen  0.19904069934345797 0.0024814756014776016\n",
      "  4341.684        hydrogen   0.4158584979769493 0.0026370805706177076\n",
      "  4472.755          helium 0.023428610572324145 0.0020437856736437695\n",
      "  4862.721        hydrogen                  1.0 0.0036145087761831163\n",
      "  5017.079          helium  0.01912459164943586 0.0022022593688909896\n",
      "  5877.299          helium                  0.0                   0.0\n",
      "  6564.612        hydrogen    2.986538258011854   0.02040829768970089\n",
      "  6679.994          helium 0.029112444717507412    0.0151822588678489\n",
      "  7067.198          helium  0.03446461201823549  0.008492250388900165\n"
     ]
    },
    {
     "ename": "ZeroDivisionError",
     "evalue": "float division by zero",
     "output_type": "error",
     "traceback": [
      "\u001b[0;31m---------------------------------------------------------------------------\u001b[0m",
      "\u001b[0;31mZeroDivisionError\u001b[0m                         Traceback (most recent call last)",
      "\u001b[0;32m<ipython-input-35-55d7b847ebcd>\u001b[0m in \u001b[0;36m<module>\u001b[0;34m()\u001b[0m\n\u001b[1;32m    131\u001b[0m     \u001b[0;31m# EW = F_line / F_continuum;\u001b[0m\u001b[0;34m\u001b[0m\u001b[0;34m\u001b[0m\u001b[0m\n\u001b[1;32m    132\u001b[0m     \u001b[0mtarg_table\u001b[0m\u001b[0;34m[\u001b[0m\u001b[0;34m'EW'\u001b[0m\u001b[0;34m]\u001b[0m \u001b[0;34m=\u001b[0m \u001b[0mColumn\u001b[0m\u001b[0;34m(\u001b[0m\u001b[0;34m[\u001b[0m\u001b[0mfloat\u001b[0m\u001b[0;34m(\u001b[0m\u001b[0mH8_He3890_emis\u001b[0m\u001b[0;34m[\u001b[0m\u001b[0;36m0\u001b[0m\u001b[0;34m]\u001b[0m\u001b[0;34m.\u001b[0m\u001b[0msplit\u001b[0m\u001b[0;34m(\u001b[0m\u001b[0;34m)\u001b[0m\u001b[0;34m[\u001b[0m\u001b[0;36m1\u001b[0m\u001b[0;34m]\u001b[0m\u001b[0;34m)\u001b[0m\u001b[0;34m/\u001b[0m\u001b[0mfloat\u001b[0m\u001b[0;34m(\u001b[0m\u001b[0mH8_He3890_cont\u001b[0m\u001b[0;34m[\u001b[0m\u001b[0;36m0\u001b[0m\u001b[0;34m]\u001b[0m\u001b[0;34m.\u001b[0m\u001b[0msplit\u001b[0m\u001b[0;34m(\u001b[0m\u001b[0;34m)\u001b[0m\u001b[0;34m[\u001b[0m\u001b[0;36m1\u001b[0m\u001b[0;34m]\u001b[0m\u001b[0;34m)\u001b[0m\u001b[0;34m,\u001b[0m \u001b[0mfloat\u001b[0m\u001b[0;34m(\u001b[0m\u001b[0mHe4027_emis\u001b[0m\u001b[0;34m[\u001b[0m\u001b[0;36m0\u001b[0m\u001b[0;34m]\u001b[0m\u001b[0;34m.\u001b[0m\u001b[0msplit\u001b[0m\u001b[0;34m(\u001b[0m\u001b[0;34m)\u001b[0m\u001b[0;34m[\u001b[0m\u001b[0;36m1\u001b[0m\u001b[0;34m]\u001b[0m\u001b[0;34m)\u001b[0m\u001b[0;34m/\u001b[0m\u001b[0mfloat\u001b[0m\u001b[0;34m(\u001b[0m\u001b[0mHe4027_cont\u001b[0m\u001b[0;34m[\u001b[0m\u001b[0;36m0\u001b[0m\u001b[0;34m]\u001b[0m\u001b[0;34m.\u001b[0m\u001b[0msplit\u001b[0m\u001b[0;34m(\u001b[0m\u001b[0;34m)\u001b[0m\u001b[0;34m[\u001b[0m\u001b[0;36m1\u001b[0m\u001b[0;34m]\u001b[0m\u001b[0;34m)\u001b[0m\u001b[0;34m,\u001b[0m                               \u001b[0mfloat\u001b[0m\u001b[0;34m(\u001b[0m\u001b[0mHd_emis\u001b[0m\u001b[0;34m[\u001b[0m\u001b[0;36m0\u001b[0m\u001b[0;34m]\u001b[0m\u001b[0;34m.\u001b[0m\u001b[0msplit\u001b[0m\u001b[0;34m(\u001b[0m\u001b[0;34m)\u001b[0m\u001b[0;34m[\u001b[0m\u001b[0;36m1\u001b[0m\u001b[0;34m]\u001b[0m\u001b[0;34m)\u001b[0m\u001b[0;34m/\u001b[0m\u001b[0mfloat\u001b[0m\u001b[0;34m(\u001b[0m\u001b[0mHd_cont\u001b[0m\u001b[0;34m[\u001b[0m\u001b[0;36m0\u001b[0m\u001b[0;34m]\u001b[0m\u001b[0;34m.\u001b[0m\u001b[0msplit\u001b[0m\u001b[0;34m(\u001b[0m\u001b[0;34m)\u001b[0m\u001b[0;34m[\u001b[0m\u001b[0;36m1\u001b[0m\u001b[0;34m]\u001b[0m\u001b[0;34m)\u001b[0m\u001b[0;34m,\u001b[0m \u001b[0mfloat\u001b[0m\u001b[0;34m(\u001b[0m\u001b[0mHg_emis\u001b[0m\u001b[0;34m[\u001b[0m\u001b[0;36m0\u001b[0m\u001b[0;34m]\u001b[0m\u001b[0;34m.\u001b[0m\u001b[0msplit\u001b[0m\u001b[0;34m(\u001b[0m\u001b[0;34m)\u001b[0m\u001b[0;34m[\u001b[0m\u001b[0;36m1\u001b[0m\u001b[0;34m]\u001b[0m\u001b[0;34m)\u001b[0m\u001b[0;34m/\u001b[0m\u001b[0mfloat\u001b[0m\u001b[0;34m(\u001b[0m\u001b[0mHg_cont\u001b[0m\u001b[0;34m[\u001b[0m\u001b[0;36m0\u001b[0m\u001b[0;34m]\u001b[0m\u001b[0;34m.\u001b[0m\u001b[0msplit\u001b[0m\u001b[0;34m(\u001b[0m\u001b[0;34m)\u001b[0m\u001b[0;34m[\u001b[0m\u001b[0;36m1\u001b[0m\u001b[0;34m]\u001b[0m\u001b[0;34m)\u001b[0m\u001b[0;34m,\u001b[0m                               \u001b[0mfloat\u001b[0m\u001b[0;34m(\u001b[0m\u001b[0mHe4472_emis\u001b[0m\u001b[0;34m[\u001b[0m\u001b[0;36m0\u001b[0m\u001b[0;34m]\u001b[0m\u001b[0;34m.\u001b[0m\u001b[0msplit\u001b[0m\u001b[0;34m(\u001b[0m\u001b[0;34m)\u001b[0m\u001b[0;34m[\u001b[0m\u001b[0;36m1\u001b[0m\u001b[0;34m]\u001b[0m\u001b[0;34m)\u001b[0m\u001b[0;34m/\u001b[0m\u001b[0mfloat\u001b[0m\u001b[0;34m(\u001b[0m\u001b[0mHe4472_cont\u001b[0m\u001b[0;34m[\u001b[0m\u001b[0;36m0\u001b[0m\u001b[0;34m]\u001b[0m\u001b[0;34m.\u001b[0m\u001b[0msplit\u001b[0m\u001b[0;34m(\u001b[0m\u001b[0;34m)\u001b[0m\u001b[0;34m[\u001b[0m\u001b[0;36m1\u001b[0m\u001b[0;34m]\u001b[0m\u001b[0;34m)\u001b[0m\u001b[0;34m,\u001b[0m \u001b[0mfloat\u001b[0m\u001b[0;34m(\u001b[0m\u001b[0mHb_emis\u001b[0m\u001b[0;34m[\u001b[0m\u001b[0;36m0\u001b[0m\u001b[0;34m]\u001b[0m\u001b[0;34m.\u001b[0m\u001b[0msplit\u001b[0m\u001b[0;34m(\u001b[0m\u001b[0;34m)\u001b[0m\u001b[0;34m[\u001b[0m\u001b[0;36m1\u001b[0m\u001b[0;34m]\u001b[0m\u001b[0;34m)\u001b[0m\u001b[0;34m/\u001b[0m\u001b[0mfloat\u001b[0m\u001b[0;34m(\u001b[0m\u001b[0mHb_cont\u001b[0m\u001b[0;34m[\u001b[0m\u001b[0;36m0\u001b[0m\u001b[0;34m]\u001b[0m\u001b[0;34m.\u001b[0m\u001b[0msplit\u001b[0m\u001b[0;34m(\u001b[0m\u001b[0;34m)\u001b[0m\u001b[0;34m[\u001b[0m\u001b[0;36m1\u001b[0m\u001b[0;34m]\u001b[0m\u001b[0;34m)\u001b[0m\u001b[0;34m,\u001b[0m                               \u001b[0mfloat\u001b[0m\u001b[0;34m(\u001b[0m\u001b[0mHe5017_emis\u001b[0m\u001b[0;34m[\u001b[0m\u001b[0;36m0\u001b[0m\u001b[0;34m]\u001b[0m\u001b[0;34m.\u001b[0m\u001b[0msplit\u001b[0m\u001b[0;34m(\u001b[0m\u001b[0;34m)\u001b[0m\u001b[0;34m[\u001b[0m\u001b[0;36m1\u001b[0m\u001b[0;34m]\u001b[0m\u001b[0;34m)\u001b[0m\u001b[0;34m/\u001b[0m\u001b[0mfloat\u001b[0m\u001b[0;34m(\u001b[0m\u001b[0mHe5017_cont\u001b[0m\u001b[0;34m[\u001b[0m\u001b[0;36m0\u001b[0m\u001b[0;34m]\u001b[0m\u001b[0;34m.\u001b[0m\u001b[0msplit\u001b[0m\u001b[0;34m(\u001b[0m\u001b[0;34m)\u001b[0m\u001b[0;34m[\u001b[0m\u001b[0;36m1\u001b[0m\u001b[0;34m]\u001b[0m\u001b[0;34m)\u001b[0m\u001b[0;34m,\u001b[0m \u001b[0mfloat\u001b[0m\u001b[0;34m(\u001b[0m\u001b[0mHe5877_emis\u001b[0m\u001b[0;34m[\u001b[0m\u001b[0;36m0\u001b[0m\u001b[0;34m]\u001b[0m\u001b[0;34m.\u001b[0m\u001b[0msplit\u001b[0m\u001b[0;34m(\u001b[0m\u001b[0;34m)\u001b[0m\u001b[0;34m[\u001b[0m\u001b[0;36m1\u001b[0m\u001b[0;34m]\u001b[0m\u001b[0;34m)\u001b[0m\u001b[0;34m/\u001b[0m\u001b[0mfloat\u001b[0m\u001b[0;34m(\u001b[0m\u001b[0mHe5877_cont\u001b[0m\u001b[0;34m[\u001b[0m\u001b[0;36m0\u001b[0m\u001b[0;34m]\u001b[0m\u001b[0;34m.\u001b[0m\u001b[0msplit\u001b[0m\u001b[0;34m(\u001b[0m\u001b[0;34m)\u001b[0m\u001b[0;34m[\u001b[0m\u001b[0;36m1\u001b[0m\u001b[0;34m]\u001b[0m\u001b[0;34m)\u001b[0m\u001b[0;34m,\u001b[0m                               \u001b[0mfloat\u001b[0m\u001b[0;34m(\u001b[0m\u001b[0mHa_emis\u001b[0m\u001b[0;34m[\u001b[0m\u001b[0;36m0\u001b[0m\u001b[0;34m]\u001b[0m\u001b[0;34m.\u001b[0m\u001b[0msplit\u001b[0m\u001b[0;34m(\u001b[0m\u001b[0;34m)\u001b[0m\u001b[0;34m[\u001b[0m\u001b[0;36m1\u001b[0m\u001b[0;34m]\u001b[0m\u001b[0;34m)\u001b[0m\u001b[0;34m/\u001b[0m\u001b[0mfloat\u001b[0m\u001b[0;34m(\u001b[0m\u001b[0mHa_cont\u001b[0m\u001b[0;34m[\u001b[0m\u001b[0;36m0\u001b[0m\u001b[0;34m]\u001b[0m\u001b[0;34m.\u001b[0m\u001b[0msplit\u001b[0m\u001b[0;34m(\u001b[0m\u001b[0;34m)\u001b[0m\u001b[0;34m[\u001b[0m\u001b[0;36m1\u001b[0m\u001b[0;34m]\u001b[0m\u001b[0;34m)\u001b[0m\u001b[0;34m,\u001b[0m \u001b[0mfloat\u001b[0m\u001b[0;34m(\u001b[0m\u001b[0mHe6680_emis\u001b[0m\u001b[0;34m[\u001b[0m\u001b[0;36m0\u001b[0m\u001b[0;34m]\u001b[0m\u001b[0;34m.\u001b[0m\u001b[0msplit\u001b[0m\u001b[0;34m(\u001b[0m\u001b[0;34m)\u001b[0m\u001b[0;34m[\u001b[0m\u001b[0;36m1\u001b[0m\u001b[0;34m]\u001b[0m\u001b[0;34m)\u001b[0m\u001b[0;34m/\u001b[0m\u001b[0mfloat\u001b[0m\u001b[0;34m(\u001b[0m\u001b[0mHe6680_cont\u001b[0m\u001b[0;34m[\u001b[0m\u001b[0;36m0\u001b[0m\u001b[0;34m]\u001b[0m\u001b[0;34m.\u001b[0m\u001b[0msplit\u001b[0m\u001b[0;34m(\u001b[0m\u001b[0;34m)\u001b[0m\u001b[0;34m[\u001b[0m\u001b[0;36m1\u001b[0m\u001b[0;34m]\u001b[0m\u001b[0;34m)\u001b[0m\u001b[0;34m,\u001b[0m                               \u001b[0mfloat\u001b[0m\u001b[0;34m(\u001b[0m\u001b[0mHe7067_emis\u001b[0m\u001b[0;34m[\u001b[0m\u001b[0;36m0\u001b[0m\u001b[0;34m]\u001b[0m\u001b[0;34m.\u001b[0m\u001b[0msplit\u001b[0m\u001b[0;34m(\u001b[0m\u001b[0;34m)\u001b[0m\u001b[0;34m[\u001b[0m\u001b[0;36m1\u001b[0m\u001b[0;34m]\u001b[0m\u001b[0;34m)\u001b[0m\u001b[0;34m/\u001b[0m\u001b[0mfloat\u001b[0m\u001b[0;34m(\u001b[0m\u001b[0mHe7067_cont\u001b[0m\u001b[0;34m[\u001b[0m\u001b[0;36m0\u001b[0m\u001b[0;34m]\u001b[0m\u001b[0;34m.\u001b[0m\u001b[0msplit\u001b[0m\u001b[0;34m(\u001b[0m\u001b[0;34m)\u001b[0m\u001b[0;34m[\u001b[0m\u001b[0;36m1\u001b[0m\u001b[0;34m]\u001b[0m\u001b[0;34m)\u001b[0m\u001b[0;34m]\u001b[0m\u001b[0;34m)\u001b[0m\u001b[0;34m\u001b[0m\u001b[0m\n\u001b[0;32m--> 133\u001b[0;31m     \u001b[0mtarg_table\u001b[0m\u001b[0;34m[\u001b[0m\u001b[0;34m'EW Errors'\u001b[0m\u001b[0;34m]\u001b[0m \u001b[0;34m=\u001b[0m \u001b[0mColumn\u001b[0m\u001b[0;34m(\u001b[0m\u001b[0;34m[\u001b[0m\u001b[0mfloat\u001b[0m\u001b[0;34m(\u001b[0m\u001b[0mH8_He3890_emis\u001b[0m\u001b[0;34m[\u001b[0m\u001b[0;36m0\u001b[0m\u001b[0;34m]\u001b[0m\u001b[0;34m.\u001b[0m\u001b[0msplit\u001b[0m\u001b[0;34m(\u001b[0m\u001b[0;34m)\u001b[0m\u001b[0;34m[\u001b[0m\u001b[0;36m1\u001b[0m\u001b[0;34m]\u001b[0m\u001b[0;34m)\u001b[0m\u001b[0;34m/\u001b[0m\u001b[0mfloat\u001b[0m\u001b[0;34m(\u001b[0m\u001b[0mH8_He3890_cont\u001b[0m\u001b[0;34m[\u001b[0m\u001b[0;36m0\u001b[0m\u001b[0;34m]\u001b[0m\u001b[0;34m.\u001b[0m\u001b[0msplit\u001b[0m\u001b[0;34m(\u001b[0m\u001b[0;34m)\u001b[0m\u001b[0;34m[\u001b[0m\u001b[0;36m1\u001b[0m\u001b[0;34m]\u001b[0m\u001b[0;34m)\u001b[0m \u001b[0;34m*\u001b[0m \u001b[0mnp\u001b[0m\u001b[0;34m.\u001b[0m\u001b[0msqrt\u001b[0m\u001b[0;34m(\u001b[0m \u001b[0;34m(\u001b[0m\u001b[0mfloat\u001b[0m\u001b[0;34m(\u001b[0m\u001b[0mH8_He3890_emis\u001b[0m\u001b[0;34m[\u001b[0m\u001b[0;36m1\u001b[0m\u001b[0;34m]\u001b[0m\u001b[0;34m.\u001b[0m\u001b[0msplit\u001b[0m\u001b[0;34m(\u001b[0m\u001b[0;34m)\u001b[0m\u001b[0;34m[\u001b[0m\u001b[0;36m2\u001b[0m\u001b[0;34m]\u001b[0m\u001b[0;34m)\u001b[0m\u001b[0;34m/\u001b[0m\u001b[0mfloat\u001b[0m\u001b[0;34m(\u001b[0m\u001b[0mH8_He3890_emis\u001b[0m\u001b[0;34m[\u001b[0m\u001b[0;36m0\u001b[0m\u001b[0;34m]\u001b[0m\u001b[0;34m.\u001b[0m\u001b[0msplit\u001b[0m\u001b[0;34m(\u001b[0m\u001b[0;34m)\u001b[0m\u001b[0;34m[\u001b[0m\u001b[0;36m1\u001b[0m\u001b[0;34m]\u001b[0m\u001b[0;34m)\u001b[0m\u001b[0;34m)\u001b[0m\u001b[0;34m**\u001b[0m\u001b[0;36m2.\u001b[0m \u001b[0;34m+\u001b[0m \u001b[0;34m(\u001b[0m\u001b[0mfloat\u001b[0m\u001b[0;34m(\u001b[0m\u001b[0mH8_He3890_cont\u001b[0m\u001b[0;34m[\u001b[0m\u001b[0;36m1\u001b[0m\u001b[0;34m]\u001b[0m\u001b[0;34m.\u001b[0m\u001b[0msplit\u001b[0m\u001b[0;34m(\u001b[0m\u001b[0;34m)\u001b[0m\u001b[0;34m[\u001b[0m\u001b[0;36m2\u001b[0m\u001b[0;34m]\u001b[0m\u001b[0;34m)\u001b[0m\u001b[0;34m/\u001b[0m\u001b[0mfloat\u001b[0m\u001b[0;34m(\u001b[0m\u001b[0mH8_He3890_cont\u001b[0m\u001b[0;34m[\u001b[0m\u001b[0;36m0\u001b[0m\u001b[0;34m]\u001b[0m\u001b[0;34m.\u001b[0m\u001b[0msplit\u001b[0m\u001b[0;34m(\u001b[0m\u001b[0;34m)\u001b[0m\u001b[0;34m[\u001b[0m\u001b[0;36m1\u001b[0m\u001b[0;34m]\u001b[0m\u001b[0;34m)\u001b[0m\u001b[0;34m)\u001b[0m\u001b[0;34m**\u001b[0m\u001b[0;36m2.\u001b[0m \u001b[0;34m)\u001b[0m\u001b[0;34m,\u001b[0m                                       \u001b[0mfloat\u001b[0m\u001b[0;34m(\u001b[0m\u001b[0mHe4027_emis\u001b[0m\u001b[0;34m[\u001b[0m\u001b[0;36m0\u001b[0m\u001b[0;34m]\u001b[0m\u001b[0;34m.\u001b[0m\u001b[0msplit\u001b[0m\u001b[0;34m(\u001b[0m\u001b[0;34m)\u001b[0m\u001b[0;34m[\u001b[0m\u001b[0;36m1\u001b[0m\u001b[0;34m]\u001b[0m\u001b[0;34m)\u001b[0m\u001b[0;34m/\u001b[0m\u001b[0mfloat\u001b[0m\u001b[0;34m(\u001b[0m\u001b[0mHe4027_cont\u001b[0m\u001b[0;34m[\u001b[0m\u001b[0;36m0\u001b[0m\u001b[0;34m]\u001b[0m\u001b[0;34m.\u001b[0m\u001b[0msplit\u001b[0m\u001b[0;34m(\u001b[0m\u001b[0;34m)\u001b[0m\u001b[0;34m[\u001b[0m\u001b[0;36m1\u001b[0m\u001b[0;34m]\u001b[0m\u001b[0;34m)\u001b[0m \u001b[0;34m*\u001b[0m \u001b[0mnp\u001b[0m\u001b[0;34m.\u001b[0m\u001b[0msqrt\u001b[0m\u001b[0;34m(\u001b[0m \u001b[0;34m(\u001b[0m\u001b[0mfloat\u001b[0m\u001b[0;34m(\u001b[0m\u001b[0mHe4027_emis\u001b[0m\u001b[0;34m[\u001b[0m\u001b[0;36m1\u001b[0m\u001b[0;34m]\u001b[0m\u001b[0;34m.\u001b[0m\u001b[0msplit\u001b[0m\u001b[0;34m(\u001b[0m\u001b[0;34m)\u001b[0m\u001b[0;34m[\u001b[0m\u001b[0;36m2\u001b[0m\u001b[0;34m]\u001b[0m\u001b[0;34m)\u001b[0m\u001b[0;34m/\u001b[0m\u001b[0mfloat\u001b[0m\u001b[0;34m(\u001b[0m\u001b[0mHe4027_emis\u001b[0m\u001b[0;34m[\u001b[0m\u001b[0;36m0\u001b[0m\u001b[0;34m]\u001b[0m\u001b[0;34m.\u001b[0m\u001b[0msplit\u001b[0m\u001b[0;34m(\u001b[0m\u001b[0;34m)\u001b[0m\u001b[0;34m[\u001b[0m\u001b[0;36m1\u001b[0m\u001b[0;34m]\u001b[0m\u001b[0;34m)\u001b[0m\u001b[0;34m)\u001b[0m\u001b[0;34m**\u001b[0m\u001b[0;36m2.\u001b[0m \u001b[0;34m+\u001b[0m \u001b[0;34m(\u001b[0m\u001b[0mfloat\u001b[0m\u001b[0;34m(\u001b[0m\u001b[0mHe4027_cont\u001b[0m\u001b[0;34m[\u001b[0m\u001b[0;36m1\u001b[0m\u001b[0;34m]\u001b[0m\u001b[0;34m.\u001b[0m\u001b[0msplit\u001b[0m\u001b[0;34m(\u001b[0m\u001b[0;34m)\u001b[0m\u001b[0;34m[\u001b[0m\u001b[0;36m2\u001b[0m\u001b[0;34m]\u001b[0m\u001b[0;34m)\u001b[0m\u001b[0;34m/\u001b[0m\u001b[0mfloat\u001b[0m\u001b[0;34m(\u001b[0m\u001b[0mHe4027_cont\u001b[0m\u001b[0;34m[\u001b[0m\u001b[0;36m0\u001b[0m\u001b[0;34m]\u001b[0m\u001b[0;34m.\u001b[0m\u001b[0msplit\u001b[0m\u001b[0;34m(\u001b[0m\u001b[0;34m)\u001b[0m\u001b[0;34m[\u001b[0m\u001b[0;36m1\u001b[0m\u001b[0;34m]\u001b[0m\u001b[0;34m)\u001b[0m\u001b[0;34m)\u001b[0m\u001b[0;34m**\u001b[0m\u001b[0;36m2.\u001b[0m \u001b[0;34m)\u001b[0m\u001b[0;34m,\u001b[0m                                       \u001b[0mfloat\u001b[0m\u001b[0;34m(\u001b[0m\u001b[0mHd_emis\u001b[0m\u001b[0;34m[\u001b[0m\u001b[0;36m0\u001b[0m\u001b[0;34m]\u001b[0m\u001b[0;34m.\u001b[0m\u001b[0msplit\u001b[0m\u001b[0;34m(\u001b[0m\u001b[0;34m)\u001b[0m\u001b[0;34m[\u001b[0m\u001b[0;36m1\u001b[0m\u001b[0;34m]\u001b[0m\u001b[0;34m)\u001b[0m\u001b[0;34m/\u001b[0m\u001b[0mfloat\u001b[0m\u001b[0;34m(\u001b[0m\u001b[0mHd_cont\u001b[0m\u001b[0;34m[\u001b[0m\u001b[0;36m0\u001b[0m\u001b[0;34m]\u001b[0m\u001b[0;34m.\u001b[0m\u001b[0msplit\u001b[0m\u001b[0;34m(\u001b[0m\u001b[0;34m)\u001b[0m\u001b[0;34m[\u001b[0m\u001b[0;36m1\u001b[0m\u001b[0;34m]\u001b[0m\u001b[0;34m)\u001b[0m \u001b[0;34m*\u001b[0m \u001b[0mnp\u001b[0m\u001b[0;34m.\u001b[0m\u001b[0msqrt\u001b[0m\u001b[0;34m(\u001b[0m \u001b[0;34m(\u001b[0m\u001b[0mfloat\u001b[0m\u001b[0;34m(\u001b[0m\u001b[0mHd_emis\u001b[0m\u001b[0;34m[\u001b[0m\u001b[0;36m1\u001b[0m\u001b[0;34m]\u001b[0m\u001b[0;34m.\u001b[0m\u001b[0msplit\u001b[0m\u001b[0;34m(\u001b[0m\u001b[0;34m)\u001b[0m\u001b[0;34m[\u001b[0m\u001b[0;36m2\u001b[0m\u001b[0;34m]\u001b[0m\u001b[0;34m)\u001b[0m\u001b[0;34m/\u001b[0m\u001b[0mfloat\u001b[0m\u001b[0;34m(\u001b[0m\u001b[0mHd_emis\u001b[0m\u001b[0;34m[\u001b[0m\u001b[0;36m0\u001b[0m\u001b[0;34m]\u001b[0m\u001b[0;34m.\u001b[0m\u001b[0msplit\u001b[0m\u001b[0;34m(\u001b[0m\u001b[0;34m)\u001b[0m\u001b[0;34m[\u001b[0m\u001b[0;36m1\u001b[0m\u001b[0;34m]\u001b[0m\u001b[0;34m)\u001b[0m\u001b[0;34m)\u001b[0m\u001b[0;34m**\u001b[0m\u001b[0;36m2.\u001b[0m \u001b[0;34m+\u001b[0m \u001b[0;34m(\u001b[0m\u001b[0mfloat\u001b[0m\u001b[0;34m(\u001b[0m\u001b[0mHd_cont\u001b[0m\u001b[0;34m[\u001b[0m\u001b[0;36m1\u001b[0m\u001b[0;34m]\u001b[0m\u001b[0;34m.\u001b[0m\u001b[0msplit\u001b[0m\u001b[0;34m(\u001b[0m\u001b[0;34m)\u001b[0m\u001b[0;34m[\u001b[0m\u001b[0;36m2\u001b[0m\u001b[0;34m]\u001b[0m\u001b[0;34m)\u001b[0m\u001b[0;34m/\u001b[0m\u001b[0mfloat\u001b[0m\u001b[0;34m(\u001b[0m\u001b[0mHd_cont\u001b[0m\u001b[0;34m[\u001b[0m\u001b[0;36m0\u001b[0m\u001b[0;34m]\u001b[0m\u001b[0;34m.\u001b[0m\u001b[0msplit\u001b[0m\u001b[0;34m(\u001b[0m\u001b[0;34m)\u001b[0m\u001b[0;34m[\u001b[0m\u001b[0;36m1\u001b[0m\u001b[0;34m]\u001b[0m\u001b[0;34m)\u001b[0m\u001b[0;34m)\u001b[0m\u001b[0;34m**\u001b[0m\u001b[0;36m2.\u001b[0m \u001b[0;34m)\u001b[0m\u001b[0;34m,\u001b[0m                                       \u001b[0mfloat\u001b[0m\u001b[0;34m(\u001b[0m\u001b[0mHg_emis\u001b[0m\u001b[0;34m[\u001b[0m\u001b[0;36m0\u001b[0m\u001b[0;34m]\u001b[0m\u001b[0;34m.\u001b[0m\u001b[0msplit\u001b[0m\u001b[0;34m(\u001b[0m\u001b[0;34m)\u001b[0m\u001b[0;34m[\u001b[0m\u001b[0;36m1\u001b[0m\u001b[0;34m]\u001b[0m\u001b[0;34m)\u001b[0m\u001b[0;34m/\u001b[0m\u001b[0mfloat\u001b[0m\u001b[0;34m(\u001b[0m\u001b[0mHg_cont\u001b[0m\u001b[0;34m[\u001b[0m\u001b[0;36m0\u001b[0m\u001b[0;34m]\u001b[0m\u001b[0;34m.\u001b[0m\u001b[0msplit\u001b[0m\u001b[0;34m(\u001b[0m\u001b[0;34m)\u001b[0m\u001b[0;34m[\u001b[0m\u001b[0;36m1\u001b[0m\u001b[0;34m]\u001b[0m\u001b[0;34m)\u001b[0m \u001b[0;34m*\u001b[0m \u001b[0mnp\u001b[0m\u001b[0;34m.\u001b[0m\u001b[0msqrt\u001b[0m\u001b[0;34m(\u001b[0m \u001b[0;34m(\u001b[0m\u001b[0mfloat\u001b[0m\u001b[0;34m(\u001b[0m\u001b[0mHg_emis\u001b[0m\u001b[0;34m[\u001b[0m\u001b[0;36m1\u001b[0m\u001b[0;34m]\u001b[0m\u001b[0;34m.\u001b[0m\u001b[0msplit\u001b[0m\u001b[0;34m(\u001b[0m\u001b[0;34m)\u001b[0m\u001b[0;34m[\u001b[0m\u001b[0;36m2\u001b[0m\u001b[0;34m]\u001b[0m\u001b[0;34m)\u001b[0m\u001b[0;34m/\u001b[0m\u001b[0mfloat\u001b[0m\u001b[0;34m(\u001b[0m\u001b[0mHg_emis\u001b[0m\u001b[0;34m[\u001b[0m\u001b[0;36m0\u001b[0m\u001b[0;34m]\u001b[0m\u001b[0;34m.\u001b[0m\u001b[0msplit\u001b[0m\u001b[0;34m(\u001b[0m\u001b[0;34m)\u001b[0m\u001b[0;34m[\u001b[0m\u001b[0;36m1\u001b[0m\u001b[0;34m]\u001b[0m\u001b[0;34m)\u001b[0m\u001b[0;34m)\u001b[0m\u001b[0;34m**\u001b[0m\u001b[0;36m2.\u001b[0m \u001b[0;34m+\u001b[0m \u001b[0;34m(\u001b[0m\u001b[0mfloat\u001b[0m\u001b[0;34m(\u001b[0m\u001b[0mHg_cont\u001b[0m\u001b[0;34m[\u001b[0m\u001b[0;36m1\u001b[0m\u001b[0;34m]\u001b[0m\u001b[0;34m.\u001b[0m\u001b[0msplit\u001b[0m\u001b[0;34m(\u001b[0m\u001b[0;34m)\u001b[0m\u001b[0;34m[\u001b[0m\u001b[0;36m2\u001b[0m\u001b[0;34m]\u001b[0m\u001b[0;34m)\u001b[0m\u001b[0;34m/\u001b[0m\u001b[0mfloat\u001b[0m\u001b[0;34m(\u001b[0m\u001b[0mHg_cont\u001b[0m\u001b[0;34m[\u001b[0m\u001b[0;36m0\u001b[0m\u001b[0;34m]\u001b[0m\u001b[0;34m.\u001b[0m\u001b[0msplit\u001b[0m\u001b[0;34m(\u001b[0m\u001b[0;34m)\u001b[0m\u001b[0;34m[\u001b[0m\u001b[0;36m1\u001b[0m\u001b[0;34m]\u001b[0m\u001b[0;34m)\u001b[0m\u001b[0;34m)\u001b[0m\u001b[0;34m**\u001b[0m\u001b[0;36m2.\u001b[0m \u001b[0;34m)\u001b[0m\u001b[0;34m,\u001b[0m                                       \u001b[0mfloat\u001b[0m\u001b[0;34m(\u001b[0m\u001b[0mHe4472_emis\u001b[0m\u001b[0;34m[\u001b[0m\u001b[0;36m0\u001b[0m\u001b[0;34m]\u001b[0m\u001b[0;34m.\u001b[0m\u001b[0msplit\u001b[0m\u001b[0;34m(\u001b[0m\u001b[0;34m)\u001b[0m\u001b[0;34m[\u001b[0m\u001b[0;36m1\u001b[0m\u001b[0;34m]\u001b[0m\u001b[0;34m)\u001b[0m\u001b[0;34m/\u001b[0m\u001b[0mfloat\u001b[0m\u001b[0;34m(\u001b[0m\u001b[0mHe4472_cont\u001b[0m\u001b[0;34m[\u001b[0m\u001b[0;36m0\u001b[0m\u001b[0;34m]\u001b[0m\u001b[0;34m.\u001b[0m\u001b[0msplit\u001b[0m\u001b[0;34m(\u001b[0m\u001b[0;34m)\u001b[0m\u001b[0;34m[\u001b[0m\u001b[0;36m1\u001b[0m\u001b[0;34m]\u001b[0m\u001b[0;34m)\u001b[0m \u001b[0;34m*\u001b[0m \u001b[0mnp\u001b[0m\u001b[0;34m.\u001b[0m\u001b[0msqrt\u001b[0m\u001b[0;34m(\u001b[0m \u001b[0;34m(\u001b[0m\u001b[0mfloat\u001b[0m\u001b[0;34m(\u001b[0m\u001b[0mHe4472_emis\u001b[0m\u001b[0;34m[\u001b[0m\u001b[0;36m1\u001b[0m\u001b[0;34m]\u001b[0m\u001b[0;34m.\u001b[0m\u001b[0msplit\u001b[0m\u001b[0;34m(\u001b[0m\u001b[0;34m)\u001b[0m\u001b[0;34m[\u001b[0m\u001b[0;36m2\u001b[0m\u001b[0;34m]\u001b[0m\u001b[0;34m)\u001b[0m\u001b[0;34m/\u001b[0m\u001b[0mfloat\u001b[0m\u001b[0;34m(\u001b[0m\u001b[0mHe4472_emis\u001b[0m\u001b[0;34m[\u001b[0m\u001b[0;36m0\u001b[0m\u001b[0;34m]\u001b[0m\u001b[0;34m.\u001b[0m\u001b[0msplit\u001b[0m\u001b[0;34m(\u001b[0m\u001b[0;34m)\u001b[0m\u001b[0;34m[\u001b[0m\u001b[0;36m1\u001b[0m\u001b[0;34m]\u001b[0m\u001b[0;34m)\u001b[0m\u001b[0;34m)\u001b[0m\u001b[0;34m**\u001b[0m\u001b[0;36m2.\u001b[0m \u001b[0;34m+\u001b[0m \u001b[0;34m(\u001b[0m\u001b[0mfloat\u001b[0m\u001b[0;34m(\u001b[0m\u001b[0mHe4472_cont\u001b[0m\u001b[0;34m[\u001b[0m\u001b[0;36m1\u001b[0m\u001b[0;34m]\u001b[0m\u001b[0;34m.\u001b[0m\u001b[0msplit\u001b[0m\u001b[0;34m(\u001b[0m\u001b[0;34m)\u001b[0m\u001b[0;34m[\u001b[0m\u001b[0;36m2\u001b[0m\u001b[0;34m]\u001b[0m\u001b[0;34m)\u001b[0m\u001b[0;34m/\u001b[0m\u001b[0mfloat\u001b[0m\u001b[0;34m(\u001b[0m\u001b[0mHe4472_cont\u001b[0m\u001b[0;34m[\u001b[0m\u001b[0;36m0\u001b[0m\u001b[0;34m]\u001b[0m\u001b[0;34m.\u001b[0m\u001b[0msplit\u001b[0m\u001b[0;34m(\u001b[0m\u001b[0;34m)\u001b[0m\u001b[0;34m[\u001b[0m\u001b[0;36m1\u001b[0m\u001b[0;34m]\u001b[0m\u001b[0;34m)\u001b[0m\u001b[0;34m)\u001b[0m\u001b[0;34m**\u001b[0m\u001b[0;36m2.\u001b[0m \u001b[0;34m)\u001b[0m\u001b[0;34m,\u001b[0m                                       \u001b[0mfloat\u001b[0m\u001b[0;34m(\u001b[0m\u001b[0mHb_emis\u001b[0m\u001b[0;34m[\u001b[0m\u001b[0;36m0\u001b[0m\u001b[0;34m]\u001b[0m\u001b[0;34m.\u001b[0m\u001b[0msplit\u001b[0m\u001b[0;34m(\u001b[0m\u001b[0;34m)\u001b[0m\u001b[0;34m[\u001b[0m\u001b[0;36m1\u001b[0m\u001b[0;34m]\u001b[0m\u001b[0;34m)\u001b[0m\u001b[0;34m/\u001b[0m\u001b[0mfloat\u001b[0m\u001b[0;34m(\u001b[0m\u001b[0mHb_cont\u001b[0m\u001b[0;34m[\u001b[0m\u001b[0;36m0\u001b[0m\u001b[0;34m]\u001b[0m\u001b[0;34m.\u001b[0m\u001b[0msplit\u001b[0m\u001b[0;34m(\u001b[0m\u001b[0;34m)\u001b[0m\u001b[0;34m[\u001b[0m\u001b[0;36m1\u001b[0m\u001b[0;34m]\u001b[0m\u001b[0;34m)\u001b[0m \u001b[0;34m*\u001b[0m \u001b[0mnp\u001b[0m\u001b[0;34m.\u001b[0m\u001b[0msqrt\u001b[0m\u001b[0;34m(\u001b[0m \u001b[0;34m(\u001b[0m\u001b[0mfloat\u001b[0m\u001b[0;34m(\u001b[0m\u001b[0mHb_emis\u001b[0m\u001b[0;34m[\u001b[0m\u001b[0;36m1\u001b[0m\u001b[0;34m]\u001b[0m\u001b[0;34m.\u001b[0m\u001b[0msplit\u001b[0m\u001b[0;34m(\u001b[0m\u001b[0;34m)\u001b[0m\u001b[0;34m[\u001b[0m\u001b[0;36m2\u001b[0m\u001b[0;34m]\u001b[0m\u001b[0;34m)\u001b[0m\u001b[0;34m/\u001b[0m\u001b[0mfloat\u001b[0m\u001b[0;34m(\u001b[0m\u001b[0mHb_emis\u001b[0m\u001b[0;34m[\u001b[0m\u001b[0;36m0\u001b[0m\u001b[0;34m]\u001b[0m\u001b[0;34m.\u001b[0m\u001b[0msplit\u001b[0m\u001b[0;34m(\u001b[0m\u001b[0;34m)\u001b[0m\u001b[0;34m[\u001b[0m\u001b[0;36m1\u001b[0m\u001b[0;34m]\u001b[0m\u001b[0;34m)\u001b[0m\u001b[0;34m)\u001b[0m\u001b[0;34m**\u001b[0m\u001b[0;36m2.\u001b[0m \u001b[0;34m+\u001b[0m \u001b[0;34m(\u001b[0m\u001b[0mfloat\u001b[0m\u001b[0;34m(\u001b[0m\u001b[0mHb_cont\u001b[0m\u001b[0;34m[\u001b[0m\u001b[0;36m1\u001b[0m\u001b[0;34m]\u001b[0m\u001b[0;34m.\u001b[0m\u001b[0msplit\u001b[0m\u001b[0;34m(\u001b[0m\u001b[0;34m)\u001b[0m\u001b[0;34m[\u001b[0m\u001b[0;36m2\u001b[0m\u001b[0;34m]\u001b[0m\u001b[0;34m)\u001b[0m\u001b[0;34m/\u001b[0m\u001b[0mfloat\u001b[0m\u001b[0;34m(\u001b[0m\u001b[0mHb_cont\u001b[0m\u001b[0;34m[\u001b[0m\u001b[0;36m0\u001b[0m\u001b[0;34m]\u001b[0m\u001b[0;34m.\u001b[0m\u001b[0msplit\u001b[0m\u001b[0;34m(\u001b[0m\u001b[0;34m)\u001b[0m\u001b[0;34m[\u001b[0m\u001b[0;36m1\u001b[0m\u001b[0;34m]\u001b[0m\u001b[0;34m)\u001b[0m\u001b[0;34m)\u001b[0m\u001b[0;34m**\u001b[0m\u001b[0;36m2.\u001b[0m \u001b[0;34m)\u001b[0m\u001b[0;34m,\u001b[0m                                       \u001b[0mfloat\u001b[0m\u001b[0;34m(\u001b[0m\u001b[0mHe5017_emis\u001b[0m\u001b[0;34m[\u001b[0m\u001b[0;36m0\u001b[0m\u001b[0;34m]\u001b[0m\u001b[0;34m.\u001b[0m\u001b[0msplit\u001b[0m\u001b[0;34m(\u001b[0m\u001b[0;34m)\u001b[0m\u001b[0;34m[\u001b[0m\u001b[0;36m1\u001b[0m\u001b[0;34m]\u001b[0m\u001b[0;34m)\u001b[0m\u001b[0;34m/\u001b[0m\u001b[0mfloat\u001b[0m\u001b[0;34m(\u001b[0m\u001b[0mHe5017_cont\u001b[0m\u001b[0;34m[\u001b[0m\u001b[0;36m0\u001b[0m\u001b[0;34m]\u001b[0m\u001b[0;34m.\u001b[0m\u001b[0msplit\u001b[0m\u001b[0;34m(\u001b[0m\u001b[0;34m)\u001b[0m\u001b[0;34m[\u001b[0m\u001b[0;36m1\u001b[0m\u001b[0;34m]\u001b[0m\u001b[0;34m)\u001b[0m \u001b[0;34m*\u001b[0m \u001b[0mnp\u001b[0m\u001b[0;34m.\u001b[0m\u001b[0msqrt\u001b[0m\u001b[0;34m(\u001b[0m \u001b[0;34m(\u001b[0m\u001b[0mfloat\u001b[0m\u001b[0;34m(\u001b[0m\u001b[0mHe5017_emis\u001b[0m\u001b[0;34m[\u001b[0m\u001b[0;36m1\u001b[0m\u001b[0;34m]\u001b[0m\u001b[0;34m.\u001b[0m\u001b[0msplit\u001b[0m\u001b[0;34m(\u001b[0m\u001b[0;34m)\u001b[0m\u001b[0;34m[\u001b[0m\u001b[0;36m2\u001b[0m\u001b[0;34m]\u001b[0m\u001b[0;34m)\u001b[0m\u001b[0;34m/\u001b[0m\u001b[0mfloat\u001b[0m\u001b[0;34m(\u001b[0m\u001b[0mHe5017_emis\u001b[0m\u001b[0;34m[\u001b[0m\u001b[0;36m0\u001b[0m\u001b[0;34m]\u001b[0m\u001b[0;34m.\u001b[0m\u001b[0msplit\u001b[0m\u001b[0;34m(\u001b[0m\u001b[0;34m)\u001b[0m\u001b[0;34m[\u001b[0m\u001b[0;36m1\u001b[0m\u001b[0;34m]\u001b[0m\u001b[0;34m)\u001b[0m\u001b[0;34m)\u001b[0m\u001b[0;34m**\u001b[0m\u001b[0;36m2.\u001b[0m \u001b[0;34m+\u001b[0m \u001b[0;34m(\u001b[0m\u001b[0mfloat\u001b[0m\u001b[0;34m(\u001b[0m\u001b[0mHe5017_cont\u001b[0m\u001b[0;34m[\u001b[0m\u001b[0;36m1\u001b[0m\u001b[0;34m]\u001b[0m\u001b[0;34m.\u001b[0m\u001b[0msplit\u001b[0m\u001b[0;34m(\u001b[0m\u001b[0;34m)\u001b[0m\u001b[0;34m[\u001b[0m\u001b[0;36m2\u001b[0m\u001b[0;34m]\u001b[0m\u001b[0;34m)\u001b[0m\u001b[0;34m/\u001b[0m\u001b[0mfloat\u001b[0m\u001b[0;34m(\u001b[0m\u001b[0mHe5017_cont\u001b[0m\u001b[0;34m[\u001b[0m\u001b[0;36m0\u001b[0m\u001b[0;34m]\u001b[0m\u001b[0;34m.\u001b[0m\u001b[0msplit\u001b[0m\u001b[0;34m(\u001b[0m\u001b[0;34m)\u001b[0m\u001b[0;34m[\u001b[0m\u001b[0;36m1\u001b[0m\u001b[0;34m]\u001b[0m\u001b[0;34m)\u001b[0m\u001b[0;34m)\u001b[0m\u001b[0;34m**\u001b[0m\u001b[0;36m2.\u001b[0m \u001b[0;34m)\u001b[0m\u001b[0;34m,\u001b[0m                                       \u001b[0mfloat\u001b[0m\u001b[0;34m(\u001b[0m\u001b[0mHe5877_emis\u001b[0m\u001b[0;34m[\u001b[0m\u001b[0;36m0\u001b[0m\u001b[0;34m]\u001b[0m\u001b[0;34m.\u001b[0m\u001b[0msplit\u001b[0m\u001b[0;34m(\u001b[0m\u001b[0;34m)\u001b[0m\u001b[0;34m[\u001b[0m\u001b[0;36m1\u001b[0m\u001b[0;34m]\u001b[0m\u001b[0;34m)\u001b[0m\u001b[0;34m/\u001b[0m\u001b[0mfloat\u001b[0m\u001b[0;34m(\u001b[0m\u001b[0mHe5877_cont\u001b[0m\u001b[0;34m[\u001b[0m\u001b[0;36m0\u001b[0m\u001b[0;34m]\u001b[0m\u001b[0;34m.\u001b[0m\u001b[0msplit\u001b[0m\u001b[0;34m(\u001b[0m\u001b[0;34m)\u001b[0m\u001b[0;34m[\u001b[0m\u001b[0;36m1\u001b[0m\u001b[0;34m]\u001b[0m\u001b[0;34m)\u001b[0m \u001b[0;34m*\u001b[0m \u001b[0mnp\u001b[0m\u001b[0;34m.\u001b[0m\u001b[0msqrt\u001b[0m\u001b[0;34m(\u001b[0m \u001b[0;34m(\u001b[0m\u001b[0mfloat\u001b[0m\u001b[0;34m(\u001b[0m\u001b[0mHe5877_emis\u001b[0m\u001b[0;34m[\u001b[0m\u001b[0;36m1\u001b[0m\u001b[0;34m]\u001b[0m\u001b[0;34m.\u001b[0m\u001b[0msplit\u001b[0m\u001b[0;34m(\u001b[0m\u001b[0;34m)\u001b[0m\u001b[0;34m[\u001b[0m\u001b[0;36m2\u001b[0m\u001b[0;34m]\u001b[0m\u001b[0;34m)\u001b[0m\u001b[0;34m/\u001b[0m\u001b[0mfloat\u001b[0m\u001b[0;34m(\u001b[0m\u001b[0mHe5877_emis\u001b[0m\u001b[0;34m[\u001b[0m\u001b[0;36m0\u001b[0m\u001b[0;34m]\u001b[0m\u001b[0;34m.\u001b[0m\u001b[0msplit\u001b[0m\u001b[0;34m(\u001b[0m\u001b[0;34m)\u001b[0m\u001b[0;34m[\u001b[0m\u001b[0;36m1\u001b[0m\u001b[0;34m]\u001b[0m\u001b[0;34m)\u001b[0m\u001b[0;34m)\u001b[0m\u001b[0;34m**\u001b[0m\u001b[0;36m2.\u001b[0m \u001b[0;34m+\u001b[0m \u001b[0;34m(\u001b[0m\u001b[0mfloat\u001b[0m\u001b[0;34m(\u001b[0m\u001b[0mHe5877_cont\u001b[0m\u001b[0;34m[\u001b[0m\u001b[0;36m1\u001b[0m\u001b[0;34m]\u001b[0m\u001b[0;34m.\u001b[0m\u001b[0msplit\u001b[0m\u001b[0;34m(\u001b[0m\u001b[0;34m)\u001b[0m\u001b[0;34m[\u001b[0m\u001b[0;36m2\u001b[0m\u001b[0;34m]\u001b[0m\u001b[0;34m)\u001b[0m\u001b[0;34m/\u001b[0m\u001b[0mfloat\u001b[0m\u001b[0;34m(\u001b[0m\u001b[0mHe5877_cont\u001b[0m\u001b[0;34m[\u001b[0m\u001b[0;36m0\u001b[0m\u001b[0;34m]\u001b[0m\u001b[0;34m.\u001b[0m\u001b[0msplit\u001b[0m\u001b[0;34m(\u001b[0m\u001b[0;34m)\u001b[0m\u001b[0;34m[\u001b[0m\u001b[0;36m1\u001b[0m\u001b[0;34m]\u001b[0m\u001b[0;34m)\u001b[0m\u001b[0;34m)\u001b[0m\u001b[0;34m**\u001b[0m\u001b[0;36m2.\u001b[0m \u001b[0;34m)\u001b[0m\u001b[0;34m,\u001b[0m                                       \u001b[0mfloat\u001b[0m\u001b[0;34m(\u001b[0m\u001b[0mHa_emis\u001b[0m\u001b[0;34m[\u001b[0m\u001b[0;36m0\u001b[0m\u001b[0;34m]\u001b[0m\u001b[0;34m.\u001b[0m\u001b[0msplit\u001b[0m\u001b[0;34m(\u001b[0m\u001b[0;34m)\u001b[0m\u001b[0;34m[\u001b[0m\u001b[0;36m1\u001b[0m\u001b[0;34m]\u001b[0m\u001b[0;34m)\u001b[0m\u001b[0;34m/\u001b[0m\u001b[0mfloat\u001b[0m\u001b[0;34m(\u001b[0m\u001b[0mHa_cont\u001b[0m\u001b[0;34m[\u001b[0m\u001b[0;36m0\u001b[0m\u001b[0;34m]\u001b[0m\u001b[0;34m.\u001b[0m\u001b[0msplit\u001b[0m\u001b[0;34m(\u001b[0m\u001b[0;34m)\u001b[0m\u001b[0;34m[\u001b[0m\u001b[0;36m1\u001b[0m\u001b[0;34m]\u001b[0m\u001b[0;34m)\u001b[0m \u001b[0;34m*\u001b[0m \u001b[0mnp\u001b[0m\u001b[0;34m.\u001b[0m\u001b[0msqrt\u001b[0m\u001b[0;34m(\u001b[0m \u001b[0;34m(\u001b[0m\u001b[0mfloat\u001b[0m\u001b[0;34m(\u001b[0m\u001b[0mHa_emis\u001b[0m\u001b[0;34m[\u001b[0m\u001b[0;36m1\u001b[0m\u001b[0;34m]\u001b[0m\u001b[0;34m.\u001b[0m\u001b[0msplit\u001b[0m\u001b[0;34m(\u001b[0m\u001b[0;34m)\u001b[0m\u001b[0;34m[\u001b[0m\u001b[0;36m2\u001b[0m\u001b[0;34m]\u001b[0m\u001b[0;34m)\u001b[0m\u001b[0;34m/\u001b[0m\u001b[0mfloat\u001b[0m\u001b[0;34m(\u001b[0m\u001b[0mHa_emis\u001b[0m\u001b[0;34m[\u001b[0m\u001b[0;36m0\u001b[0m\u001b[0;34m]\u001b[0m\u001b[0;34m.\u001b[0m\u001b[0msplit\u001b[0m\u001b[0;34m(\u001b[0m\u001b[0;34m)\u001b[0m\u001b[0;34m[\u001b[0m\u001b[0;36m1\u001b[0m\u001b[0;34m]\u001b[0m\u001b[0;34m)\u001b[0m\u001b[0;34m)\u001b[0m\u001b[0;34m**\u001b[0m\u001b[0;36m2.\u001b[0m \u001b[0;34m+\u001b[0m \u001b[0;34m(\u001b[0m\u001b[0mfloat\u001b[0m\u001b[0;34m(\u001b[0m\u001b[0mHa_cont\u001b[0m\u001b[0;34m[\u001b[0m\u001b[0;36m1\u001b[0m\u001b[0;34m]\u001b[0m\u001b[0;34m.\u001b[0m\u001b[0msplit\u001b[0m\u001b[0;34m(\u001b[0m\u001b[0;34m)\u001b[0m\u001b[0;34m[\u001b[0m\u001b[0;36m2\u001b[0m\u001b[0;34m]\u001b[0m\u001b[0;34m)\u001b[0m\u001b[0;34m/\u001b[0m\u001b[0mfloat\u001b[0m\u001b[0;34m(\u001b[0m\u001b[0mHa_cont\u001b[0m\u001b[0;34m[\u001b[0m\u001b[0;36m0\u001b[0m\u001b[0;34m]\u001b[0m\u001b[0;34m.\u001b[0m\u001b[0msplit\u001b[0m\u001b[0;34m(\u001b[0m\u001b[0;34m)\u001b[0m\u001b[0;34m[\u001b[0m\u001b[0;36m1\u001b[0m\u001b[0;34m]\u001b[0m\u001b[0;34m)\u001b[0m\u001b[0;34m)\u001b[0m\u001b[0;34m**\u001b[0m\u001b[0;36m2.\u001b[0m \u001b[0;34m)\u001b[0m\u001b[0;34m,\u001b[0m                                       \u001b[0mfloat\u001b[0m\u001b[0;34m(\u001b[0m\u001b[0mHe6680_emis\u001b[0m\u001b[0;34m[\u001b[0m\u001b[0;36m0\u001b[0m\u001b[0;34m]\u001b[0m\u001b[0;34m.\u001b[0m\u001b[0msplit\u001b[0m\u001b[0;34m(\u001b[0m\u001b[0;34m)\u001b[0m\u001b[0;34m[\u001b[0m\u001b[0;36m1\u001b[0m\u001b[0;34m]\u001b[0m\u001b[0;34m)\u001b[0m\u001b[0;34m/\u001b[0m\u001b[0mfloat\u001b[0m\u001b[0;34m(\u001b[0m\u001b[0mHe6680_cont\u001b[0m\u001b[0;34m[\u001b[0m\u001b[0;36m0\u001b[0m\u001b[0;34m]\u001b[0m\u001b[0;34m.\u001b[0m\u001b[0msplit\u001b[0m\u001b[0;34m(\u001b[0m\u001b[0;34m)\u001b[0m\u001b[0;34m[\u001b[0m\u001b[0;36m1\u001b[0m\u001b[0;34m]\u001b[0m\u001b[0;34m)\u001b[0m \u001b[0;34m*\u001b[0m \u001b[0mnp\u001b[0m\u001b[0;34m.\u001b[0m\u001b[0msqrt\u001b[0m\u001b[0;34m(\u001b[0m \u001b[0;34m(\u001b[0m\u001b[0mfloat\u001b[0m\u001b[0;34m(\u001b[0m\u001b[0mHe6680_emis\u001b[0m\u001b[0;34m[\u001b[0m\u001b[0;36m1\u001b[0m\u001b[0;34m]\u001b[0m\u001b[0;34m.\u001b[0m\u001b[0msplit\u001b[0m\u001b[0;34m(\u001b[0m\u001b[0;34m)\u001b[0m\u001b[0;34m[\u001b[0m\u001b[0;36m2\u001b[0m\u001b[0;34m]\u001b[0m\u001b[0;34m)\u001b[0m\u001b[0;34m/\u001b[0m\u001b[0mfloat\u001b[0m\u001b[0;34m(\u001b[0m\u001b[0mHe6680_emis\u001b[0m\u001b[0;34m[\u001b[0m\u001b[0;36m0\u001b[0m\u001b[0;34m]\u001b[0m\u001b[0;34m.\u001b[0m\u001b[0msplit\u001b[0m\u001b[0;34m(\u001b[0m\u001b[0;34m)\u001b[0m\u001b[0;34m[\u001b[0m\u001b[0;36m1\u001b[0m\u001b[0;34m]\u001b[0m\u001b[0;34m)\u001b[0m\u001b[0;34m)\u001b[0m\u001b[0;34m**\u001b[0m\u001b[0;36m2.\u001b[0m \u001b[0;34m+\u001b[0m \u001b[0;34m(\u001b[0m\u001b[0mfloat\u001b[0m\u001b[0;34m(\u001b[0m\u001b[0mHe6680_cont\u001b[0m\u001b[0;34m[\u001b[0m\u001b[0;36m1\u001b[0m\u001b[0;34m]\u001b[0m\u001b[0;34m.\u001b[0m\u001b[0msplit\u001b[0m\u001b[0;34m(\u001b[0m\u001b[0;34m)\u001b[0m\u001b[0;34m[\u001b[0m\u001b[0;36m2\u001b[0m\u001b[0;34m]\u001b[0m\u001b[0;34m)\u001b[0m\u001b[0;34m/\u001b[0m\u001b[0mfloat\u001b[0m\u001b[0;34m(\u001b[0m\u001b[0mHe6680_cont\u001b[0m\u001b[0;34m[\u001b[0m\u001b[0;36m0\u001b[0m\u001b[0;34m]\u001b[0m\u001b[0;34m.\u001b[0m\u001b[0msplit\u001b[0m\u001b[0;34m(\u001b[0m\u001b[0;34m)\u001b[0m\u001b[0;34m[\u001b[0m\u001b[0;36m1\u001b[0m\u001b[0;34m]\u001b[0m\u001b[0;34m)\u001b[0m\u001b[0;34m)\u001b[0m\u001b[0;34m**\u001b[0m\u001b[0;36m2.\u001b[0m \u001b[0;34m)\u001b[0m\u001b[0;34m,\u001b[0m                                       \u001b[0mfloat\u001b[0m\u001b[0;34m(\u001b[0m\u001b[0mHe7067_emis\u001b[0m\u001b[0;34m[\u001b[0m\u001b[0;36m0\u001b[0m\u001b[0;34m]\u001b[0m\u001b[0;34m.\u001b[0m\u001b[0msplit\u001b[0m\u001b[0;34m(\u001b[0m\u001b[0;34m)\u001b[0m\u001b[0;34m[\u001b[0m\u001b[0;36m1\u001b[0m\u001b[0;34m]\u001b[0m\u001b[0;34m)\u001b[0m\u001b[0;34m/\u001b[0m\u001b[0mfloat\u001b[0m\u001b[0;34m(\u001b[0m\u001b[0mHe7067_cont\u001b[0m\u001b[0;34m[\u001b[0m\u001b[0;36m0\u001b[0m\u001b[0;34m]\u001b[0m\u001b[0;34m.\u001b[0m\u001b[0msplit\u001b[0m\u001b[0;34m(\u001b[0m\u001b[0;34m)\u001b[0m\u001b[0;34m[\u001b[0m\u001b[0;36m1\u001b[0m\u001b[0;34m]\u001b[0m\u001b[0;34m)\u001b[0m \u001b[0;34m*\u001b[0m \u001b[0mnp\u001b[0m\u001b[0;34m.\u001b[0m\u001b[0msqrt\u001b[0m\u001b[0;34m(\u001b[0m \u001b[0;34m(\u001b[0m\u001b[0mfloat\u001b[0m\u001b[0;34m(\u001b[0m\u001b[0mHe7067_emis\u001b[0m\u001b[0;34m[\u001b[0m\u001b[0;36m1\u001b[0m\u001b[0;34m]\u001b[0m\u001b[0;34m.\u001b[0m\u001b[0msplit\u001b[0m\u001b[0;34m(\u001b[0m\u001b[0;34m)\u001b[0m\u001b[0;34m[\u001b[0m\u001b[0;36m2\u001b[0m\u001b[0;34m]\u001b[0m\u001b[0;34m)\u001b[0m\u001b[0;34m/\u001b[0m\u001b[0mfloat\u001b[0m\u001b[0;34m(\u001b[0m\u001b[0mHe7067_emis\u001b[0m\u001b[0;34m[\u001b[0m\u001b[0;36m0\u001b[0m\u001b[0;34m]\u001b[0m\u001b[0;34m.\u001b[0m\u001b[0msplit\u001b[0m\u001b[0;34m(\u001b[0m\u001b[0;34m)\u001b[0m\u001b[0;34m[\u001b[0m\u001b[0;36m1\u001b[0m\u001b[0;34m]\u001b[0m\u001b[0;34m)\u001b[0m\u001b[0;34m)\u001b[0m\u001b[0;34m**\u001b[0m\u001b[0;36m2.\u001b[0m \u001b[0;34m+\u001b[0m \u001b[0;34m(\u001b[0m\u001b[0mfloat\u001b[0m\u001b[0;34m(\u001b[0m\u001b[0mHe7067_cont\u001b[0m\u001b[0;34m[\u001b[0m\u001b[0;36m1\u001b[0m\u001b[0;34m]\u001b[0m\u001b[0;34m.\u001b[0m\u001b[0msplit\u001b[0m\u001b[0;34m(\u001b[0m\u001b[0;34m)\u001b[0m\u001b[0;34m[\u001b[0m\u001b[0;36m2\u001b[0m\u001b[0;34m]\u001b[0m\u001b[0;34m)\u001b[0m\u001b[0;34m/\u001b[0m\u001b[0mfloat\u001b[0m\u001b[0;34m(\u001b[0m\u001b[0mHe7067_cont\u001b[0m\u001b[0;34m[\u001b[0m\u001b[0;36m0\u001b[0m\u001b[0;34m]\u001b[0m\u001b[0;34m.\u001b[0m\u001b[0msplit\u001b[0m\u001b[0;34m(\u001b[0m\u001b[0;34m)\u001b[0m\u001b[0;34m[\u001b[0m\u001b[0;36m1\u001b[0m\u001b[0;34m]\u001b[0m\u001b[0;34m)\u001b[0m\u001b[0;34m)\u001b[0m\u001b[0;34m**\u001b[0m\u001b[0;36m2.\u001b[0m \u001b[0;34m)\u001b[0m\u001b[0;34m]\u001b[0m\u001b[0;34m)\u001b[0m\u001b[0;34m\u001b[0m\u001b[0m\n\u001b[0m\u001b[1;32m    134\u001b[0m \u001b[0;34m\u001b[0m\u001b[0m\n\u001b[1;32m    135\u001b[0m     \u001b[0mtarg_table\u001b[0m\u001b[0;34m.\u001b[0m\u001b[0mwrite\u001b[0m\u001b[0;34m(\u001b[0m\u001b[0;34m'/Users/thsyu/Dropbox/BCDs/primordial_helium/lris_optical_mcmc/'\u001b[0m\u001b[0;34m+\u001b[0m\u001b[0mall_targets\u001b[0m\u001b[0;34m[\u001b[0m\u001b[0mobj\u001b[0m\u001b[0;34m]\u001b[0m\u001b[0;34m.\u001b[0m\u001b[0mstrip\u001b[0m\u001b[0;34m(\u001b[0m\u001b[0;34m'OFF_'\u001b[0m\u001b[0;34m)\u001b[0m\u001b[0;34m.\u001b[0m\u001b[0mstrip\u001b[0m\u001b[0;34m(\u001b[0m\u001b[0;34m'OF_'\u001b[0m\u001b[0;34m)\u001b[0m\u001b[0;34m,\u001b[0m \u001b[0mformat\u001b[0m\u001b[0;34m=\u001b[0m\u001b[0;34m'ascii'\u001b[0m\u001b[0;34m,\u001b[0m \u001b[0moverwrite\u001b[0m\u001b[0;34m=\u001b[0m\u001b[0;32mTrue\u001b[0m\u001b[0;34m)\u001b[0m\u001b[0;34m\u001b[0m\u001b[0m\n",
      "\u001b[0;31mZeroDivisionError\u001b[0m: float division by zero"
     ]
    }
   ],
   "source": [
    "# Loop through targets\n",
    "for obj in range(2,3):#len(all_targets)):\n",
    "    # Red side\n",
    "    Ha_cont = []\n",
    "    Ha_emis = []\n",
    "    He7067_cont = []\n",
    "    He7067_emis = []\n",
    "    He6680_cont = []\n",
    "    He6680_emis = []\n",
    "    He5877_cont = []\n",
    "    He5877_emis = []\n",
    "    # Blue side\n",
    "    Hb_cont = []\n",
    "    Hb_emis = []\n",
    "    Hg_cont = []\n",
    "    Hg_emis = []\n",
    "    Hd_cont = []\n",
    "    Hd_emis = []\n",
    "    H8_He3890_cont = []\n",
    "    H8_He3890_emis = []\n",
    "    He5017_cont = [] = []\n",
    "    He5017_emis = []\n",
    "    He4472_cont = []\n",
    "    He4472_emis = []\n",
    "    He4027_cont = []\n",
    "    He4027_emis = []\n",
    "    \n",
    "    os.chdir('/Users/thsyu/Dropbox/BCDs/science_frames/' + all_targets[obj])\n",
    "    print ('Working on', all_targets[obj].strip('OFF_').strip('OF_'))\n",
    "#    os.chdir('/Users/thsyu/Dropbox/BCDs/papers/lc/newflux/')\n",
    "#    print ('Working on the Little Cub')\n",
    "\n",
    "    # Find the LRISb+LRISr .mod.out files and open them\n",
    "    models = glob.glob('*LRIS*.mod.out')\n",
    "    print ('Model files:', models)\n",
    "    \n",
    "    for k in range(len(models)):\n",
    "        if 'LRISb' in models[k]:\n",
    "            for line in open(models[k], 'r'):\n",
    "                # Pull lines in the .mod.out file associated to each wavelength of interest\n",
    "                # This will only find the emission line flux measurement + error\n",
    "                # Also find the specid corresponding to this wavelength so that we can find continuum levels\n",
    "                if 'wave=4862.721' in line:\n",
    "                    Hb_emis.append(line)\n",
    "                    Hb_spec_idx = line.find('specid=')\n",
    "                    Hb_spec_id = 'specid=' + str(int(line[Hb_spec_idx+7:Hb_spec_idx+9]))\n",
    "                elif 'wave=4341.684' in line:\n",
    "                    Hg_emis.append(line)\n",
    "                    Hg_spec_idx = line.find('specid=')\n",
    "                    Hg_spec_id = 'specid=' + str(int(line[Hg_spec_idx+7:Hg_spec_idx+9]))\n",
    "                elif 'wave=4102.891' in line:\n",
    "                    Hd_emis.append(line)\n",
    "                    Hd_spec_idx = line.find('specid=')\n",
    "                    Hd_spec_id = 'specid=' + str(int(line[Hd_spec_idx+7:Hd_spec_idx+9]))\n",
    "                elif 'wave=3890.151' in line:\n",
    "                    H8_He3890_emis.append(line)\n",
    "                    H8_He3890_spec_idx = line.find('specid=')\n",
    "                    H8_He3890_spec_id = 'specid=' + str(int(line[H8_He3890_spec_idx+7:H8_He3890_spec_idx+9]))\n",
    "                elif 'wave=5017.079' in line:\n",
    "                    He5017_emis.append(line)\n",
    "                    He5017_spec_idx = line.find('specid=')\n",
    "                    He5017_spec_id = 'specid=' + str(int(line[He5017_spec_idx+7:He5017_spec_idx+9]))\n",
    "                elif 'wave=4472.755' in line:\n",
    "                    He4472_emis.append(line)\n",
    "                    He4472_spec_idx = line.find('specid=')\n",
    "                    He4472_spec_id = 'specid=' + str(int(line[He4472_spec_idx+7:He4472_spec_idx+9]))\n",
    "                elif 'wave=4027.328' in line:\n",
    "                    He4027_emis.append(line)\n",
    "                    He4027_spec_idx = line.find('specid=')\n",
    "                    He4027_spec_id = 'specid=' + str(int(line[He4027_spec_idx+7:He4027_spec_idx+9]))\n",
    "        elif 'LRISr' in models[k]:\n",
    "            for line in open(models[k], 'r'):\n",
    "                if 'wave=6564.612' in line:\n",
    "                    Ha_emis.append(line)\n",
    "                    Ha_spec_idx = line.find('specid=')\n",
    "                    Ha_spec_id = 'specid=' + str(int(line[Ha_spec_idx+7:Ha_spec_idx+9]))\n",
    "                elif 'wave=7067.198' in line:\n",
    "                    He7067_emis.append(line)\n",
    "                    He7067_spec_idx = line.find('specid=')\n",
    "                    He7067_spec_id = 'specid=' + str(int(line[He7067_spec_idx+7:He7067_spec_idx+9]))\n",
    "                elif 'wave=6679.994' in line:\n",
    "                    He6680_emis.append(line)\n",
    "                    He6680_spec_idx = line.find('specid=')\n",
    "                    He6680_spec_id = 'specid=' + str(int(line[He6680_spec_idx+7:He6680_spec_idx+9]))\n",
    "                elif 'wave=5877.299' in line:\n",
    "                    He5877_emis.append(line)\n",
    "                    He5877_spec_idx = line.find('specid=')\n",
    "                    He5877_spec_id = 'specid=' + str(int(line[He5877_spec_idx+7:He5877_spec_idx+9]))   \n",
    "    for j in range(len(models)):\n",
    "        if 'LRISb' in models[j]:\n",
    "            for line in open(models[j], 'r'):\n",
    "                # This now searches the .mod.out file for the continuum level\n",
    "                if 'legendre' in line and Hb_spec_id in line:\n",
    "                    Hb_cont.append(line)\n",
    "                elif 'legendre' in line and Hg_spec_id+' ' in line:\n",
    "                    Hg_cont.append(line)\n",
    "                elif 'legendre' in line and Hd_spec_id in line:\n",
    "                    Hd_cont.append(line)\n",
    "                elif 'legendre' in line and H8_He3890_spec_id in line:\n",
    "                    H8_He3890_cont.append(line)\n",
    "                elif 'legendre' in line and He5017_spec_id in line:\n",
    "                    He5017_cont.append(line)\n",
    "                elif 'legendre' in line and He4472_spec_id in line:\n",
    "                    He4472_cont.append(line)\n",
    "                elif 'legendre' in line and He4027_spec_id in line:\n",
    "                    He4027_cont.append(line)\n",
    "        elif 'LRISr' in models[j]:\n",
    "            for line in open(models[j], 'r'):\n",
    "                if 'legendre' in line and Ha_spec_id in line:\n",
    "                    Ha_cont.append(line)\n",
    "                elif 'legendre' in line and He7067_spec_id in line:\n",
    "                    He7067_cont.append(line)\n",
    "                elif 'legendre' in line and He6680_spec_id in line:\n",
    "                    He6680_cont.append(line)\n",
    "                elif 'legendre' in line and He5877_spec_id in line:\n",
    "                    He5877_cont.append(line)\n",
    "                    \n",
    "    # Now fill a table with the continuum level + error, flux + error for each line\n",
    "    targ_table = Table()\n",
    "    targ_table['Wavelength'] = Column([3890.166, 4027.328, 4102.891, 4341.684, 4472.755, 4862.721, 5017.079, 5877.299, 6564.612, 6679.994, 7067.198])\n",
    "    targ_table['Species'] = Column(['hydrogen+helium', 'helium', 'hydrogen', 'hydrogen', 'helium', 'hydrogen', 'helium', 'helium', 'hydrogen', 'helium', 'helium'])\n",
    "    \n",
    "    Hb_flux = float(Hb_emis[0].split()[1])\n",
    "    Hb_continuum = float(Hb_cont[0].split()[1])\n",
    "    Hb_cont_err = float(Hb_cont[1].split()[2])\n",
    "    \n",
    "    targ_table['Flux Ratio'] = Column([float(H8_He3890_emis[0].split()[1])/Hb_flux, float(He4027_emis[0].split()[1])/Hb_flux, \\\n",
    "                                       float(Hd_emis[0].split()[1])/Hb_flux, float(Hg_emis[0].split()[1])/Hb_flux, \\\n",
    "                                       float(He4472_emis[0].split()[1])/Hb_flux, float(Hb_emis[0].split()[1])/Hb_flux, \\\n",
    "                                       float(He5017_emis[0].split()[1])/Hb_flux, float(He5877_emis[0].split()[1])/Hb_flux, \\\n",
    "                                       float(Ha_emis[0].split()[1])/Hb_flux, float(He6680_emis[0].split()[1])/Hb_flux, \\\n",
    "                                       float(He7067_emis[0].split()[1])/Hb_flux])\n",
    "    targ_table['Flux Ratio Errors'] = Column([float(H8_He3890_emis[1].split()[2])/Hb_flux, float(He4027_emis[1].split()[2])/Hb_flux, \\\n",
    "                                       float(Hd_emis[1].split()[2])/Hb_flux, float(Hg_emis[1].split()[2])/Hb_flux, \\\n",
    "                                       float(He4472_emis[1].split()[2])/Hb_flux, float(Hb_emis[1].split()[2])/Hb_flux, \\\n",
    "                                       float(He5017_emis[1].split()[2])/Hb_flux, float(He5877_emis[1].split()[2])/Hb_flux, \\\n",
    "                                       float(Ha_emis[1].split()[2])/Hb_flux, float(He6680_emis[1].split()[2])/Hb_flux, \\\n",
    "                                       float(He7067_emis[1].split()[2])/Hb_flux])\n",
    "    \n",
    "    print(targ_table)\n",
    "    # EW = F_line / F_continuum; \n",
    "    targ_table['EW'] = Column([float(H8_He3890_emis[0].split()[1])/float(H8_He3890_cont[0].split()[1]), float(He4027_emis[0].split()[1])/float(He4027_cont[0].split()[1]), \\\n",
    "                              float(Hd_emis[0].split()[1])/float(Hd_cont[0].split()[1]), float(Hg_emis[0].split()[1])/float(Hg_cont[0].split()[1]), \\\n",
    "                              float(He4472_emis[0].split()[1])/float(He4472_cont[0].split()[1]), float(Hb_emis[0].split()[1])/float(Hb_cont[0].split()[1]), \\\n",
    "                              float(He5017_emis[0].split()[1])/float(He5017_cont[0].split()[1]), float(He5877_emis[0].split()[1])/float(He5877_cont[0].split()[1]), \\\n",
    "                              float(Ha_emis[0].split()[1])/float(Ha_cont[0].split()[1]), float(He6680_emis[0].split()[1])/float(He6680_cont[0].split()[1]), \\\n",
    "                              float(He7067_emis[0].split()[1])/float(He7067_cont[0].split()[1])])\n",
    "    targ_table['EW Errors'] = Column([float(H8_He3890_emis[0].split()[1])/float(H8_He3890_cont[0].split()[1]) * np.sqrt( (float(H8_He3890_emis[1].split()[2])/float(H8_He3890_emis[0].split()[1]))**2. + (float(H8_He3890_cont[1].split()[2])/float(H8_He3890_cont[0].split()[1]))**2. ), \\\n",
    "                                      float(He4027_emis[0].split()[1])/float(He4027_cont[0].split()[1]) * np.sqrt( (float(He4027_emis[1].split()[2])/float(He4027_emis[0].split()[1]))**2. + (float(He4027_cont[1].split()[2])/float(He4027_cont[0].split()[1]))**2. ), \\\n",
    "                                      float(Hd_emis[0].split()[1])/float(Hd_cont[0].split()[1]) * np.sqrt( (float(Hd_emis[1].split()[2])/float(Hd_emis[0].split()[1]))**2. + (float(Hd_cont[1].split()[2])/float(Hd_cont[0].split()[1]))**2. ), \\\n",
    "                                      float(Hg_emis[0].split()[1])/float(Hg_cont[0].split()[1]) * np.sqrt( (float(Hg_emis[1].split()[2])/float(Hg_emis[0].split()[1]))**2. + (float(Hg_cont[1].split()[2])/float(Hg_cont[0].split()[1]))**2. ), \\\n",
    "                                      float(He4472_emis[0].split()[1])/float(He4472_cont[0].split()[1]) * np.sqrt( (float(He4472_emis[1].split()[2])/float(He4472_emis[0].split()[1]))**2. + (float(He4472_cont[1].split()[2])/float(He4472_cont[0].split()[1]))**2. ), \\\n",
    "                                      float(Hb_emis[0].split()[1])/float(Hb_cont[0].split()[1]) * np.sqrt( (float(Hb_emis[1].split()[2])/float(Hb_emis[0].split()[1]))**2. + (float(Hb_cont[1].split()[2])/float(Hb_cont[0].split()[1]))**2. ), \\\n",
    "                                      float(He5017_emis[0].split()[1])/float(He5017_cont[0].split()[1]) * np.sqrt( (float(He5017_emis[1].split()[2])/float(He5017_emis[0].split()[1]))**2. + (float(He5017_cont[1].split()[2])/float(He5017_cont[0].split()[1]))**2. ), \\\n",
    "                                      float(He5877_emis[0].split()[1])/float(He5877_cont[0].split()[1]) * np.sqrt( (float(He5877_emis[1].split()[2])/float(He5877_emis[0].split()[1]))**2. + (float(He5877_cont[1].split()[2])/float(He5877_cont[0].split()[1]))**2. ), \\\n",
    "                                      float(Ha_emis[0].split()[1])/float(Ha_cont[0].split()[1]) * np.sqrt( (float(Ha_emis[1].split()[2])/float(Ha_emis[0].split()[1]))**2. + (float(Ha_cont[1].split()[2])/float(Ha_cont[0].split()[1]))**2. ), \\\n",
    "                                      float(He6680_emis[0].split()[1])/float(He6680_cont[0].split()[1]) * np.sqrt( (float(He6680_emis[1].split()[2])/float(He6680_emis[0].split()[1]))**2. + (float(He6680_cont[1].split()[2])/float(He6680_cont[0].split()[1]))**2. ), \\\n",
    "                                      float(He7067_emis[0].split()[1])/float(He7067_cont[0].split()[1]) * np.sqrt( (float(He7067_emis[1].split()[2])/float(He7067_emis[0].split()[1]))**2. + (float(He7067_cont[1].split()[2])/float(He7067_cont[0].split()[1]))**2. )])\n",
    "\n",
    "    targ_table.write('/Users/thsyu/Dropbox/BCDs/primordial_helium/lris_optical_mcmc/'+all_targets[obj].strip('OFF_').strip('OF_'), format='ascii', overwrite=True)\n",
    "#    targ_table.write('/Users/thsyu/Dropbox/BCDs/primordial_helium/lris_optical_mcmc/LC', format='ascii', overwrite=True)\n",
    "\n"
   ]
  },
  {
   "cell_type": "code",
   "execution_count": 102,
   "metadata": {},
   "outputs": [
    {
     "data": {
      "text/html": [
       "<i>Table length=11</i>\n",
       "<table id=\"table34785697688\" class=\"table-striped table-bordered table-condensed\">\n",
       "<thead><tr><th>Wavelength</th><th>Species</th><th>Flux Ratio</th><th>Flux Ratio Error</th><th>EW</th><th>EW Errors</th></tr></thead>\n",
       "<thead><tr><th>float64</th><th>str15</th><th>float64</th><th>float64</th><th>float64</th><th>float64</th></tr></thead>\n",
       "<tr><td>3890.166</td><td>hydrogen+helium</td><td>0.15275710249300448</td><td>0.0017611481661372365</td><td>15.594927828914603</td><td>0.2794570574789472</td></tr>\n",
       "<tr><td>4027.328</td><td>helium</td><td>0.0009617381076199545</td><td>0.001243966733954682</td><td>0.11050974812018638</td><td>0.14294756285029486</td></tr>\n",
       "<tr><td>4102.891</td><td>hydrogen</td><td>0.22418254613009847</td><td>0.001597632132957763</td><td>26.19810952561418</td><td>0.3980019472418578</td></tr>\n",
       "<tr><td>4341.684</td><td>hydrogen</td><td>0.4362155674767093</td><td>0.001893562180232723</td><td>57.09661849712571</td><td>0.7428005750646092</td></tr>\n",
       "<tr><td>4472.755</td><td>helium</td><td>0.035316564741617366</td><td>0.0009838833474922139</td><td>5.4180170773266845</td><td>0.16737079769195523</td></tr>\n",
       "<tr><td>4862.721</td><td>hydrogen</td><td>1.0</td><td>0.002539537932688387</td><td>156.9118536970829</td><td>2.038931682484717</td></tr>\n",
       "<tr><td>5017.079</td><td>helium</td><td>0.019264210848338476</td><td>0.0009743709415970532</td><td>2.4937565086060567</td><td>0.12943383994770596</td></tr>\n",
       "<tr><td>5877.299</td><td>helium</td><td>0.09740640882622552</td><td>0.006810117997690034</td><td>20.034662799066165</td><td>2.30035673935456</td></tr>\n",
       "<tr><td>6564.612</td><td>hydrogen</td><td>3.291243283417735</td><td>0.01807285495575664</td><td>751.6063227328248</td><td>43.55393847320877</td></tr>\n",
       "<tr><td>6679.994</td><td>helium</td><td>0.03354342683431411</td><td>0.005279443628443738</td><td>11.371933855472777</td><td>2.5223366809958687</td></tr>\n",
       "<tr><td>7067.198</td><td>helium</td><td>0.04908838806949494</td><td>0.0055156442889671515</td><td>15.838339063403378</td><td>3.345088277172767</td></tr>\n",
       "</table>"
      ],
      "text/plain": [
       "<Table length=11>\n",
       "Wavelength     Species     ...          EW              EW Errors     \n",
       " float64        str15      ...       float64             float64      \n",
       "---------- --------------- ... ------------------- -------------------\n",
       "  3890.166 hydrogen+helium ...  15.594927828914603  0.2794570574789472\n",
       "  4027.328          helium ... 0.11050974812018638 0.14294756285029486\n",
       "  4102.891        hydrogen ...   26.19810952561418  0.3980019472418578\n",
       "  4341.684        hydrogen ...   57.09661849712571  0.7428005750646092\n",
       "  4472.755          helium ...  5.4180170773266845 0.16737079769195523\n",
       "  4862.721        hydrogen ...   156.9118536970829   2.038931682484717\n",
       "  5017.079          helium ...  2.4937565086060567 0.12943383994770596\n",
       "  5877.299          helium ...  20.034662799066165    2.30035673935456\n",
       "  6564.612        hydrogen ...   751.6063227328248   43.55393847320877\n",
       "  6679.994          helium ...  11.371933855472777  2.5223366809958687\n",
       "  7067.198          helium ...  15.838339063403378   3.345088277172767"
      ]
     },
     "execution_count": 102,
     "metadata": {},
     "output_type": "execute_result"
    }
   ],
   "source": [
    "targ_table"
   ]
  },
  {
   "cell_type": "markdown",
   "metadata": {},
   "source": [
    "### Check on H-beta"
   ]
  },
  {
   "cell_type": "code",
   "execution_count": 82,
   "metadata": {},
   "outputs": [
    {
     "data": {
      "text/plain": [
       "['  gaussian   145.31339550      0.01412900      30.00000000dh        specid=0  IntFlux=True    wave=4862.721\\n',\n",
       " '# gaussian   0.36902888      0.00000055      0.00000000dh        specid=0  IntFlux=True    wave=4862.721\\n',\n",
       " '#       gaussian 120.618346859   0.014508   30.0dh   wave=4862.721    specid=0    IntFlux=True\\n']"
      ]
     },
     "execution_count": 82,
     "metadata": {},
     "output_type": "execute_result"
    }
   ],
   "source": [
    "Hb_emis"
   ]
  },
  {
   "cell_type": "code",
   "execution_count": 78,
   "metadata": {},
   "outputs": [
    {
     "data": {
      "text/plain": [
       "['  legendre   0.92608297      -0.05696073        scale=1.0,1.0  specid=0  continuum=True\\n',\n",
       " '# legendre   0.01180158      0.03905002        scale=1.0,1.0  specid=0  continuum=True\\n',\n",
       " '#       legendre 0.8951   0.01    scale=[1.0,1.0]   specid=0    continuum=True\\n']"
      ]
     },
     "execution_count": 78,
     "metadata": {},
     "output_type": "execute_result"
    }
   ],
   "source": [
    "Hb_cont"
   ]
  },
  {
   "cell_type": "code",
   "execution_count": 105,
   "metadata": {},
   "outputs": [
    {
     "name": "stdout",
     "output_type": "stream",
     "text": [
      "156.9118536970829\n",
      "156.9118536970829\n"
     ]
    }
   ],
   "source": [
    "# Check that this line calculates the equivalent width correctly\n",
    "print (float(Hb_emis[0].split()[1])/float(Hb_cont[0].split()[1]))\n",
    "print (145.31339550/0.92608297 )"
   ]
  },
  {
   "cell_type": "markdown",
   "metadata": {},
   "source": [
    "# Make def load_ours() for galaxy.py"
   ]
  },
  {
   "cell_type": "code",
   "execution_count": 14,
   "metadata": {},
   "outputs": [],
   "source": [
    "everything_table = Table.read('/Users/thsyu/Dropbox/BCDs/papers/kast_survey/everything_table', format='ascii', delimiter=' ')"
   ]
  },
  {
   "cell_type": "code",
   "execution_count": 32,
   "metadata": {},
   "outputs": [
    {
     "data": {
      "text/html": [
       "<i>Table length=5</i>\n",
       "<table id=\"table4673826376\" class=\"table-striped table-bordered table-condensed\">\n",
       "<thead><tr><th>Target Name</th><th>RA</th><th>DEC</th><th>Observations</th><th>Redshift</th><th>Redshift error</th><th>u</th><th>u error</th><th>g</th><th>g error</th><th>r</th><th>r error</th><th>i</th><th>i error</th><th>z</th><th>z error</th><th>H_alpha</th><th>H_alpha error</th><th>[NII]6550</th><th>[NII]6550 error</th><th>[NII]6585</th><th>[NII]6585 error</th><th>[SII]6718</th><th>[SII]6718 error</th><th>[SII]6733</th><th>[SII]6733 error</th><th>HeI 5876</th><th>HeI 5876 error</th><th>HeI 6678</th><th>HeI 6678 error</th><th>HeI 7065</th><th>HeI 7065 error</th><th>HeI 7283</th><th>HeI 7283 error</th><th>H_beta</th><th>H_beta error</th><th>[OIII]4960</th><th>[OIII]4960 error</th><th>[OIII]5008</th><th>[OIII]5008 error</th><th>[OIII]4363</th><th>[OIII]4363 error</th><th>[OII]3727</th><th>[OII]3727 error</th><th>[OII]3729</th><th>[OII]3729 error</th><th>H_gamma</th><th>H_gamma error</th><th>H_delta</th><th>H_delta error</th><th>H_epsilon</th><th>H_epsilon error</th><th>H8</th><th>H8 error</th><th>H9</th><th>H9 error</th><th>H10</th><th>H10 error</th><th>H11</th><th>H11 error</th><th>H12</th><th>H12 error</th><th>NeIII</th><th>NeIII error</th><th>HeI 4026</th><th>HeI 4026 error</th><th>HeI 4471</th><th>HeI 4471 error</th><th>HeI 4922</th><th>HeI 4922 error</th><th>HeI 5017</th><th>HeI 5017 error</th><th>H_alpha_cont</th><th>H_alpha_cont_err</th><th>H_beta_cont</th><th>H_beta_cont_err</th><th>H_gamma_cont</th><th>H_gamma_cont_err</th><th>H_delta_cont</th><th>H_delta_cont_err</th><th>H_eps_cont</th><th>H_eps_cont_err</th><th>H8_cont</th><th>H8_cont_err</th><th>H9_cont</th><th>H9_cont_err</th><th>H10_cont</th><th>H10_cont_err</th><th>H11_cont</th><th>H11_cont_err</th><th>H12_cont</th><th>H12_cont_err</th><th>c(Hb)</th><th>a(HI)</th><th>EW(Hb)</th><th>EW(Hb)_err</th><th>t3</th><th>t3_error</th><th>t2</th><th>t2_error</th><th>o3</th><th>o3_error</th><th>o2</th><th>o2_error</th><th>12+log(O/H)</th><th>12+log(O/H)_error</th><th>luminosity distance</th><th>Ha luminosity</th><th>SFR</th><th>Mould Distance</th><th>Mould Distance error</th><th>M_B Mould</th><th>M_B Lum</th><th>Berg Z Mould</th><th>Berg error Mould</th><th>Berg Z Lum</th><th>Berg error Lum</th><th>Ha luminosity error factor</th><th>SFR error</th></tr></thead>\n",
       "<thead><tr><th>str13</th><th>str11</th><th>str12</th><th>str10</th><th>float64</th><th>float64</th><th>float64</th><th>float64</th><th>float64</th><th>float64</th><th>float64</th><th>float64</th><th>float64</th><th>float64</th><th>float64</th><th>float64</th><th>float64</th><th>float64</th><th>float64</th><th>float64</th><th>float64</th><th>float64</th><th>float64</th><th>float64</th><th>float64</th><th>float64</th><th>float64</th><th>float64</th><th>float64</th><th>float64</th><th>float64</th><th>float64</th><th>float64</th><th>float64</th><th>float64</th><th>float64</th><th>float64</th><th>float64</th><th>float64</th><th>float64</th><th>float64</th><th>float64</th><th>float64</th><th>float64</th><th>float64</th><th>float64</th><th>float64</th><th>float64</th><th>float64</th><th>float64</th><th>float64</th><th>float64</th><th>float64</th><th>float64</th><th>float64</th><th>float64</th><th>float64</th><th>float64</th><th>float64</th><th>float64</th><th>float64</th><th>float64</th><th>float64</th><th>float64</th><th>float64</th><th>float64</th><th>float64</th><th>float64</th><th>float64</th><th>float64</th><th>float64</th><th>float64</th><th>float64</th><th>float64</th><th>float64</th><th>float64</th><th>float64</th><th>float64</th><th>float64</th><th>float64</th><th>float64</th><th>float64</th><th>float64</th><th>float64</th><th>float64</th><th>float64</th><th>float64</th><th>float64</th><th>float64</th><th>float64</th><th>float64</th><th>float64</th><th>float64</th><th>float64</th><th>float64</th><th>float64</th><th>float64</th><th>float64</th><th>float64</th><th>float64</th><th>float64</th><th>float64</th><th>float64</th><th>float64</th><th>float64</th><th>float64</th><th>float64</th><th>float64</th><th>float64</th><th>float64</th><th>float64</th><th>float64</th><th>float64</th><th>float64</th><th>float64</th><th>float64</th><th>float64</th><th>float64</th><th>float64</th></tr></thead>\n",
       "<tr><td>J1425p4441</td><td>14:25:15.83</td><td>+44:41:47.5</td><td>Shane+Kast</td><td>0.00753836</td><td>3.19e-06</td><td>18.93</td><td>0.26</td><td>18.42</td><td>0.06</td><td>18.46</td><td>0.08</td><td>18.87</td><td>0.08</td><td>18.78</td><td>0.55</td><td>738.7861697645001</td><td>13.502254004498806</td><td>3.061553287081886</td><td>2.174963910155311</td><td>9.21634300344686</td><td>0.0</td><td>17.944914898102528</td><td>6.596204385554401</td><td>29.33073409253332</td><td>6.623043838041502</td><td>0.0</td><td>0.0</td><td>0.0</td><td>0.0</td><td>0.0</td><td>0.0</td><td>0.0</td><td>0.0</td><td>258.316842575</td><td>2.918132600828567</td><td>168.11679416577007</td><td>2.744986741169268</td><td>507.7727880347883</td><td>0.0</td><td>0.0</td><td>0.0</td><td>91.2399671247994</td><td>4.5073696637388165</td><td>109.85707632757006</td><td>0.0</td><td>123.34173050772982</td><td>2.772826522313059</td><td>66.39418024770772</td><td>2.673826589859387</td><td>53.566265365621476</td><td>2.7666556563620928</td><td>56.3556089202913</td><td>3.1328569794925274</td><td>28.56269646405341</td><td>2.9750983178946373</td><td>0.0</td><td>0.0</td><td>0.0</td><td>0.0</td><td>0.0</td><td>0.0</td><td>31.801410333669573</td><td>3.0940552745465673</td><td>0.0</td><td>0.0</td><td>0.0</td><td>0.0</td><td>0.0</td><td>0.0</td><td>0.0</td><td>0.0</td><td>2.15464846</td><td>0.36884833</td><td>3.53600011</td><td>0.12681205</td><td>4.51094209</td><td>0.18321224</td><td>5.35967827</td><td>0.183211</td><td>5.85132937</td><td>0.21691449</td><td>5.95308802</td><td>0.22573853</td><td>6.29987338</td><td>0.24866974</td><td>0.0</td><td>0.0</td><td>0.0</td><td>0.0</td><td>0.0</td><td>0.0</td><td>0.28968355912668187</td><td>4.5</td><td>68.55340343301064</td><td>2.5931048672239485</td><td>0.0</td><td>0.0</td><td>0.0</td><td>0.0</td><td>0.0</td><td>0.0</td><td>0.0</td><td>0.0</td><td>7.372570986778925</td><td>0.2148890912964848</td><td>33.55470292216544</td><td>9.952599027527601e+38</td><td>0.007862553231746805</td><td>41.42063994656327</td><td>1.4472784109362935</td><td>-14.627584022173231</td><td>-14.170266990633351</td><td>7.8790342424390545</td><td>0.06372415977826767</td><td>7.828729368969668</td><td>0.06829733009366648</td><td>0.03943215902941253</td><td>0.00031003744941146143</td></tr>\n",
       "<tr><td>J1655p6337</td><td>16:55:39.20</td><td>+63:37:03.30</td><td>Shane+Kast</td><td>0.02038206</td><td>7.4e-07</td><td>20.79</td><td>0.08</td><td>20.19</td><td>0.02</td><td>20.34</td><td>0.03</td><td>20.93</td><td>0.07</td><td>20.97</td><td>0.27</td><td>1102.0936421938902</td><td>16.060410638061086</td><td>2.586667178684943</td><td>0.4912286162702189</td><td>7.7600769897101864</td><td>0.0</td><td>18.030101552916097</td><td>1.3751010247910458</td><td>4.590171679282836</td><td>1.1798751290610205</td><td>0.0</td><td>0.0</td><td>0.0</td><td>0.0</td><td>0.0</td><td>0.0</td><td>0.0</td><td>0.0</td><td>385.34742734052105</td><td>2.9206895388912097</td><td>336.8532861828399</td><td>3.0782370717310297</td><td>960.0669912231778</td><td>4.750253748393755</td><td>0.0</td><td>0.0</td><td>54.87425666728487</td><td>4.2189505885108245</td><td>100.4842578154542</td><td>0.0</td><td>179.83128583738832</td><td>2.7771942164246335</td><td>99.29987234970939</td><td>2.6785978913950284</td><td>78.14918655348268</td><td>2.7746778307456834</td><td>74.20981274013255</td><td>3.138645023549821</td><td>31.454532591031466</td><td>2.9836240096536546</td><td>0.0</td><td>0.0</td><td>0.0</td><td>0.0</td><td>0.0</td><td>0.0</td><td>74.61558362989642</td><td>3.4336959616865337</td><td>0.0</td><td>0.0</td><td>0.0</td><td>0.0</td><td>0.0</td><td>0.0</td><td>0.0</td><td>0.0</td><td>1.38561329</td><td>0.08600406</td><td>1.9869055</td><td>0.12218636</td><td>2.18885973</td><td>0.15569455</td><td>2.38122123</td><td>0.15980623</td><td>2.86830884</td><td>0.21084009</td><td>2.86627262</td><td>0.19052488</td><td>2.92268061</td><td>0.2253935</td><td>0.0</td><td>0.0</td><td>0.0</td><td>0.0</td><td>0.0</td><td>0.0</td><td>0.001</td><td>2.7865731462925853</td><td>191.15693717189873</td><td>11.862961914151748</td><td>0.0</td><td>0.0</td><td>0.0</td><td>0.0</td><td>0.0</td><td>0.0</td><td>0.0</td><td>0.0</td><td>7.414256607117598</td><td>0.047229456575824946</td><td>91.60553297550834</td><td>1.1065546389466864e+40</td><td>0.08741781647678822</td><td>96.86459781845308</td><td>4.048440097510943</td><td>-14.78062539808241</td><td>-14.659408529265097</td><td>7.895868793789065</td><td>0.06219374601917588</td><td>7.882534938219161</td><td>0.06340591470734902</td><td>0.04426251425432895</td><td>0.0038693323478861505</td></tr>\n",
       "<tr><td>J1705p3527</td><td>17:05:40.13</td><td>+35:27:47.30</td><td>Shane+Kast</td><td>0.00246085</td><td>5.7e-07</td><td>19.04</td><td>0.04</td><td>18.45</td><td>0.01</td><td>18.45</td><td>0.02</td><td>18.88</td><td>0.03</td><td>18.93</td><td>0.12</td><td>1132.1819051077318</td><td>14.37976891234267</td><td>2.538689929979453</td><td>0.600427335914283</td><td>7.622340478060492</td><td>0.0</td><td>29.00833957780584</td><td>2.085060364992021</td><td>23.093649543251043</td><td>1.6977666936643139</td><td>0.0</td><td>0.0</td><td>0.0</td><td>0.0</td><td>0.0</td><td>0.0</td><td>0.0</td><td>0.0</td><td>395.8677989887174</td><td>2.9216150296505443</td><td>498.69773694807685</td><td>3.747247100487311</td><td>1462.538571525648</td><td>6.110364029173638</td><td>0.0</td><td>0.0</td><td>109.5435963345038</td><td>6.164441269728905</td><td>174.95058898992613</td><td>0.0</td><td>185.25229702864382</td><td>2.7794629360825667</td><td>101.9280278627398</td><td>2.681611104020544</td><td>84.44246035255463</td><td>2.7760294772308876</td><td>86.36170417742234</td><td>3.142799792520249</td><td>33.41891012646344</td><td>2.990178446555184</td><td>0.0</td><td>0.0</td><td>0.0</td><td>0.0</td><td>0.0</td><td>0.0</td><td>122.80740758614401</td><td>4.038607899383096</td><td>0.0</td><td>0.0</td><td>0.0</td><td>0.0</td><td>0.0</td><td>0.0</td><td>0.0</td><td>0.0</td><td>2.83042127</td><td>0.11124279</td><td>3.4729635</td><td>0.14260612</td><td>4.02061229</td><td>0.19195648</td><td>4.23171199</td><td>0.20418002</td><td>4.57211113</td><td>0.22793889</td><td>4.79652326</td><td>0.24979528</td><td>3.745073</td><td>0.29992856</td><td>0.0</td><td>0.0</td><td>0.0</td><td>0.0</td><td>0.0</td><td>0.0</td><td>0.06999873318498849</td><td>2.903807615230461</td><td>111.08178393755074</td><td>4.662795676349526</td><td>0.0</td><td>0.0</td><td>0.0</td><td>0.0</td><td>0.0</td><td>0.0</td><td>0.0</td><td>0.0</td><td>7.491962467414274</td><td>0.05904145955920194</td><td>10.911392724759201</td><td>1.6128260837957628e+38</td><td>0.0012741326061986526</td><td>16.933282885887348</td><td>2.8067797835431</td><td>-12.649805818604733</td><td>-11.695500936293929</td><td>7.6614786400465205</td><td>0.08350194181395265</td><td>7.556505102992332</td><td>0.0930449906370607</td><td>0.16624109565196288</td><td>0.00021181320046035495</td></tr>\n",
       "<tr><td>J1732p4452</td><td>17:32:06.56</td><td>+44:52:53.60</td><td>Shane+Kast</td><td>0.02544463</td><td>9.6e-07</td><td>20.26</td><td>0.05</td><td>19.84</td><td>0.02</td><td>20.01</td><td>0.02</td><td>20.35</td><td>0.06</td><td>20.31</td><td>0.19</td><td>470.44867358060003</td><td>18.0783736717894</td><td>0.5837794563682539</td><td>0.40431761361477053</td><td>1.7513555865985657</td><td>0.0</td><td>13.524993368796103</td><td>0.8727580867989604</td><td>9.511069284729217</td><td>0.8176430938014173</td><td>0.0</td><td>0.0</td><td>0.0</td><td>0.0</td><td>0.0</td><td>0.0</td><td>0.0</td><td>0.0</td><td>164.49254321</td><td>2.9193870107449014</td><td>149.75090628623525</td><td>1.7920147211677047</td><td>449.2635398319281</td><td>5.376173654160584</td><td>0.0</td><td>0.0</td><td>64.53779637882253</td><td>2.889909003887723</td><td>95.67236896075671</td><td>0.0</td><td>80.56330480915622</td><td>2.774754656021361</td><td>34.53078842085528</td><td>2.676135681536542</td><td>36.948240939810304</td><td>2.770135309452991</td><td>28.496734069599643</td><td>3.1355687899780205</td><td>21.85872767352242</td><td>2.978785742246285</td><td>0.0</td><td>0.0</td><td>0.0</td><td>0.0</td><td>0.0</td><td>0.0</td><td>31.787915379115994</td><td>1.9472632534466965</td><td>0.0</td><td>0.0</td><td>0.0</td><td>0.0</td><td>0.0</td><td>0.0</td><td>0.0</td><td>0.0</td><td>1.31185211</td><td>0.06133665</td><td>2.04655914</td><td>0.08557244</td><td>1.9587413</td><td>0.10342378</td><td>2.45554621</td><td>0.11114654</td><td>2.4310298</td><td>0.13880242</td><td>2.00822518</td><td>0.13037938</td><td>2.6794291</td><td>0.1481705</td><td>0.0</td><td>0.0</td><td>0.0</td><td>0.0</td><td>0.0</td><td>0.0</td><td>0.001</td><td>4.5</td><td>75.87517215847475</td><td>3.3000848008974355</td><td>0.0</td><td>0.0</td><td>0.0</td><td>0.0</td><td>0.0</td><td>0.0</td><td>0.0</td><td>0.0</td><td>7.147837248304294</td><td>0.19159990507628744</td><td>114.7895393921285</td><td>7.416992319644623e+39</td><td>0.05859423932519252</td><td>120.5658746731439</td><td>3.6858512450476644</td><td>-15.543822005921161</td><td>-15.437211566125644</td><td>7.979820420651327</td><td>0.05456177994078837</td><td>7.968093272273821</td><td>0.05562788433874355</td><td>0.049105079475706685</td><td>0.0028772747788821567</td></tr>\n",
       "<tr><td>J2156p0459</td><td>21:56:40.41</td><td>+04:59:06.43</td><td>Shane+Kast</td><td>0.02674326</td><td>1.85e-06</td><td>19.0</td><td>0.08</td><td>18.62</td><td>0.02</td><td>18.68</td><td>0.04</td><td>18.82</td><td>0.06</td><td>18.74</td><td>0.22</td><td>210.70716904379998</td><td>16.950027264984044</td><td>2.97927389541952</td><td>0.3699095110789474</td><td>8.937909803102093</td><td>0.0</td><td>9.887108067062043</td><td>1.0728087243881468</td><td>15.653057018400377</td><td>1.3498479128702723</td><td>0.0</td><td>0.0</td><td>0.0</td><td>0.0</td><td>0.0</td><td>0.0</td><td>0.0</td><td>0.0</td><td>73.67383532999999</td><td>2.9223008669398243</td><td>67.46565660138542</td><td>2.5834844088020477</td><td>222.05639051299895</td><td>3.257067321941126</td><td>0.0</td><td>0.0</td><td>41.163530802314405</td><td>4.371330428231905</td><td>58.44012001846152</td><td>0.0</td><td>32.01684954398819</td><td>2.7783612411180365</td><td>17.425898796763406</td><td>2.6797266121466845</td><td>13.663915133629013</td><td>2.7751799479557624</td><td>20.331137979829954</td><td>3.13967609486588</td><td>12.306691146340395</td><td>2.9838337040662726</td><td>0.0</td><td>0.0</td><td>0.0</td><td>0.0</td><td>0.0</td><td>0.0</td><td>16.602926753474236</td><td>3.0499708971982726</td><td>0.0</td><td>0.0</td><td>0.0</td><td>0.0</td><td>0.0</td><td>0.0</td><td>0.0</td><td>0.0</td><td>0.74349913</td><td>0.06162825</td><td>1.75105428</td><td>0.15602718</td><td>1.65360831</td><td>0.17528338</td><td>1.83135974</td><td>0.17772474</td><td>2.13508307</td><td>0.21734816</td><td>2.05428845</td><td>0.20681665</td><td>1.30584349</td><td>0.22815252</td><td>0.0</td><td>0.0</td><td>0.0</td><td>0.0</td><td>0.0</td><td>0.0</td><td>0.001</td><td>4.5</td><td>37.57398718102559</td><td>3.6886399533584933</td><td>0.0</td><td>0.0</td><td>0.0</td><td>0.0</td><td>0.0</td><td>0.0</td><td>0.0</td><td>0.0</td><td>7.927388717185238</td><td>0.0432534316870348</td><td>120.76395553144957</td><td>3.676756981800952e+39</td><td>0.029046380156227517</td><td>121.17722794100678</td><td>3.0455529076066417</td><td>-16.691105066611502</td><td>-16.683686647846205</td><td>8.106021557327265</td><td>0.04308894933388496</td><td>8.105205531263081</td><td>0.043163133521537944</td><td>0.08427829271638215</td><td>0.0024479793291578567</td></tr>\n",
       "</table>"
      ],
      "text/plain": [
       "<Table length=5>\n",
       "Target Name      RA     ... Ha luminosity error factor       SFR error       \n",
       "   str13       str11    ...          float64                  float64        \n",
       "----------- ----------- ... -------------------------- ----------------------\n",
       " J1425p4441 14:25:15.83 ...        0.03943215902941253 0.00031003744941146143\n",
       " J1655p6337 16:55:39.20 ...        0.04426251425432895  0.0038693323478861505\n",
       " J1705p3527 17:05:40.13 ...        0.16624109565196288 0.00021181320046035495\n",
       " J1732p4452 17:32:06.56 ...       0.049105079475706685  0.0028772747788821567\n",
       " J2156p0459 21:56:40.41 ...        0.08427829271638215  0.0024479793291578567"
      ]
     },
     "execution_count": 32,
     "metadata": {},
     "output_type": "execute_result"
    }
   ],
   "source": [
    "everything_table[0:5]"
   ]
  },
  {
   "cell_type": "code",
   "execution_count": 31,
   "metadata": {
    "scrolled": false
   },
   "outputs": [
    {
     "name": "stdout",
     "output_type": "stream",
     "text": [
      "elif galaxyname == ' KJ2 ':\n",
      "\tgname = ' KJ2 '\n",
      "\tT_OIII =  17413.404518841133\n",
      "\tfull_tbl = Table.read(os.getcwd() + dir + gname, format='ascii', delimiter=' ')\n",
      "elif galaxyname == ' KJ5 ':\n",
      "\tgname = ' KJ5 '\n",
      "\tT_OIII =  11501.089982360061\n",
      "\tfull_tbl = Table.read(os.getcwd() + dir + gname, format='ascii', delimiter=' ')\n",
      "elif galaxyname == ' KJ29 ':\n",
      "\tgname = ' KJ29 '\n",
      "\tT_OIII =  14212.458597864896\n",
      "\tfull_tbl = Table.read(os.getcwd() + dir + gname, format='ascii', delimiter=' ')\n",
      "elif galaxyname == ' KJ5B ':\n",
      "\tgname = ' KJ5B '\n",
      "\tT_OIII =  13979.130375718989\n",
      "\tfull_tbl = Table.read(os.getcwd() + dir + gname, format='ascii', delimiter=' ')\n",
      "elif galaxyname == ' KJ97 ':\n",
      "\tgname = ' KJ97 '\n",
      "\tT_OIII =  11822.063460125153\n",
      "\tfull_tbl = Table.read(os.getcwd() + dir + gname, format='ascii', delimiter=' ')\n",
      "elif galaxyname == ' J0201p0919 ':\n",
      "\tgname = ' J0201p0919 '\n",
      "\tT_OIII =  14672.599263221606\n",
      "\tfull_tbl = Table.read(os.getcwd() + dir + gname, format='ascii', delimiter=' ')\n",
      "elif galaxyname == ' J0220p2044A ':\n",
      "\tgname = ' J0220p2044A '\n",
      "\tT_OIII =  15798.807188110046\n",
      "\tfull_tbl = Table.read(os.getcwd() + dir + gname, format='ascii', delimiter=' ')\n",
      "elif galaxyname == ' J0220p2044B ':\n",
      "\tgname = ' J0220p2044B '\n",
      "\tT_OIII =  17523.586639214853\n",
      "\tfull_tbl = Table.read(os.getcwd() + dir + gname, format='ascii', delimiter=' ')\n",
      "elif galaxyname == ' J0452m0541 ':\n",
      "\tgname = ' J0452m0541 '\n",
      "\tT_OIII =  15399.829000035199\n",
      "\tfull_tbl = Table.read(os.getcwd() + dir + gname, format='ascii', delimiter=' ')\n",
      "elif galaxyname == ' J1655p6337 ':\n",
      "\tgname = ' J1655p6337 '\n",
      "\tT_OIII =  16513.50413647784\n",
      "\tfull_tbl = Table.read(os.getcwd() + dir + gname, format='ascii', delimiter=' ')\n",
      "elif galaxyname == ' J1705p3527 ':\n",
      "\tgname = ' J1705p3527 '\n",
      "\tT_OIII =  15428.266502581113\n",
      "\tfull_tbl = Table.read(os.getcwd() + dir + gname, format='ascii', delimiter=' ')\n",
      "elif galaxyname == ' J1732p4452 ':\n",
      "\tgname = ' J1732p4452 '\n",
      "\tT_OIII =  15131.086884967399\n",
      "\tfull_tbl = Table.read(os.getcwd() + dir + gname, format='ascii', delimiter=' ')\n",
      "elif galaxyname == ' J2230m0531 ':\n",
      "\tgname = ' J2230m0531 '\n",
      "\tT_OIII =  14795.751597494424\n",
      "\tfull_tbl = Table.read(os.getcwd() + dir + gname, format='ascii', delimiter=' ')\n",
      "elif galaxyname == ' J2339p3230 ':\n",
      "\tgname = ' J2339p3230 '\n",
      "\tT_OIII =  13931.435045664843\n",
      "\tfull_tbl = Table.read(os.getcwd() + dir + gname, format='ascii', delimiter=' ')\n",
      "elif galaxyname == ' J0000p3052A ':\n",
      "\tgname = ' J0000p3052A '\n",
      "\tT_OIII =  15034.028576533961\n",
      "\tfull_tbl = Table.read(os.getcwd() + dir + gname, format='ascii', delimiter=' ')\n",
      "elif galaxyname == ' J0000p3052B ':\n",
      "\tgname = ' J0000p3052B '\n",
      "\tT_OIII =  15110.068679551327\n",
      "\tfull_tbl = Table.read(os.getcwd() + dir + gname, format='ascii', delimiter=' ')\n",
      "elif galaxyname == ' J0118p3512 ':\n",
      "\tgname = ' J0118p3512 '\n",
      "\tT_OIII =  15414.42499005176\n",
      "\tfull_tbl = Table.read(os.getcwd() + dir + gname, format='ascii', delimiter=' ')\n",
      "elif galaxyname == ' J0140p2951 ':\n",
      "\tgname = ' J0140p2951 '\n",
      "\tT_OIII =  12154.766132309507\n",
      "\tfull_tbl = Table.read(os.getcwd() + dir + gname, format='ascii', delimiter=' ')\n",
      "elif galaxyname == ' J0743p4807 ':\n",
      "\tgname = ' J0743p4807 '\n",
      "\tT_OIII =  9390.403459203068\n",
      "\tfull_tbl = Table.read(os.getcwd() + dir + gname, format='ascii', delimiter=' ')\n",
      "elif galaxyname == ' J0812p4836 ':\n",
      "\tgname = ' J0812p4836 '\n",
      "\tT_OIII =  17864.510725965007\n",
      "\tfull_tbl = Table.read(os.getcwd() + dir + gname, format='ascii', delimiter=' ')\n",
      "elif galaxyname == ' J0834p5905 ':\n",
      "\tgname = ' J0834p5905 '\n",
      "\tT_OIII =  25900.258903826118\n",
      "\tfull_tbl = Table.read(os.getcwd() + dir + gname, format='ascii', delimiter=' ')\n",
      "elif galaxyname == ' J0943p3326 ':\n",
      "\tgname = ' J0943p3326 '\n",
      "\tT_OIII =  16412.688803906996\n",
      "\tfull_tbl = Table.read(os.getcwd() + dir + gname, format='ascii', delimiter=' ')\n",
      "elif galaxyname == ' J1414m0208 ':\n",
      "\tgname = ' J1414m0208 '\n",
      "\tT_OIII =  14675.038910218094\n",
      "\tfull_tbl = Table.read(os.getcwd() + dir + gname, format='ascii', delimiter=' ')\n",
      "elif galaxyname == ' J1425p4441 ':\n",
      "\tgname = ' J1425p4441 '\n",
      "\tT_OIII =  14986.196617398991\n",
      "\tfull_tbl = Table.read(os.getcwd() + dir + gname, format='ascii', delimiter=' ')\n",
      "elif galaxyname == ' J1757p6454 ':\n",
      "\tgname = ' J1757p6454 '\n",
      "\tT_OIII =  14424.061263892125\n",
      "\tfull_tbl = Table.read(os.getcwd() + dir + gname, format='ascii', delimiter=' ')\n",
      "elif galaxyname == ' J2030m1343 ':\n",
      "\tgname = ' J2030m1343 '\n",
      "\tT_OIII =  13817.727654937002\n",
      "\tfull_tbl = Table.read(os.getcwd() + dir + gname, format='ascii', delimiter=' ')\n",
      "elif galaxyname == ' J2213p1722 ':\n",
      "\tgname = ' J2213p1722 '\n",
      "\tT_OIII =  15328.109575371638\n",
      "\tfull_tbl = Table.read(os.getcwd() + dir + gname, format='ascii', delimiter=' ')\n",
      "elif galaxyname == ' J2319p1616 ':\n",
      "\tgname = ' J2319p1616 '\n",
      "\tT_OIII =  10576.43370005504\n",
      "\tfull_tbl = Table.read(os.getcwd() + dir + gname, format='ascii', delimiter=' ')\n"
     ]
    }
   ],
   "source": [
    "for obj in range(len(all_targets)):\n",
    "    name = all_targets[obj].strip('OFF_').strip('OF_')\n",
    "    idx = np.where(everything_table['Target Name'] == name)[0][-1]\n",
    "    \n",
    "    #print (idx, everything_table['Target Name'][idx], everything_table['Observations'][idx])\n",
    "    print ('elif galaxyname == \\'', name, '\\':')\n",
    "    print ('\\tgname = \\'', name, '\\'')\n",
    "    print ('\\tT_OIII = ', str(everything_table['t3'][idx]))\n",
    "    print ('\\tfull_tbl = Table.read(os.getcwd() + dir + gname, format=\\'ascii\\', delimiter=\\' \\')')"
   ]
  },
  {
   "cell_type": "markdown",
   "metadata": {},
   "source": [
    "# Testing conditions for SDSS query"
   ]
  },
  {
   "cell_type": "markdown",
   "metadata": {},
   "source": [
    "## Load flux table"
   ]
  },
  {
   "cell_type": "code",
   "execution_count": 3,
   "metadata": {},
   "outputs": [],
   "source": [
    "everything_table = Table.read('/Users/thsyu/Dropbox/BCDs/papers/kast_survey/everything_table', format='ascii', delimiter=' ')"
   ]
  },
  {
   "cell_type": "code",
   "execution_count": 6,
   "metadata": {},
   "outputs": [
    {
     "data": {
      "text/html": [
       "<i>Table length=3</i>\n",
       "<table id=\"table4735070840\" class=\"table-striped table-bordered table-condensed\">\n",
       "<thead><tr><th>Target Name</th><th>RA</th><th>DEC</th><th>Observations</th><th>Redshift</th><th>Redshift error</th><th>u</th><th>u error</th><th>g</th><th>g error</th><th>r</th><th>r error</th><th>i</th><th>i error</th><th>z</th><th>z error</th><th>H_alpha</th><th>H_alpha error</th><th>[NII]6550</th><th>[NII]6550 error</th><th>[NII]6585</th><th>[NII]6585 error</th><th>[SII]6718</th><th>[SII]6718 error</th><th>[SII]6733</th><th>[SII]6733 error</th><th>HeI 5876</th><th>HeI 5876 error</th><th>HeI 6678</th><th>HeI 6678 error</th><th>HeI 7065</th><th>HeI 7065 error</th><th>HeI 7283</th><th>HeI 7283 error</th><th>H_beta</th><th>H_beta error</th><th>[OIII]4960</th><th>[OIII]4960 error</th><th>[OIII]5008</th><th>[OIII]5008 error</th><th>[OIII]4363</th><th>[OIII]4363 error</th><th>[OII]3727</th><th>[OII]3727 error</th><th>[OII]3729</th><th>[OII]3729 error</th><th>H_gamma</th><th>H_gamma error</th><th>H_delta</th><th>H_delta error</th><th>H_epsilon</th><th>H_epsilon error</th><th>H8</th><th>H8 error</th><th>H9</th><th>H9 error</th><th>H10</th><th>H10 error</th><th>H11</th><th>H11 error</th><th>H12</th><th>H12 error</th><th>NeIII</th><th>NeIII error</th><th>HeI 4026</th><th>HeI 4026 error</th><th>HeI 4471</th><th>HeI 4471 error</th><th>HeI 4922</th><th>HeI 4922 error</th><th>HeI 5017</th><th>HeI 5017 error</th><th>H_alpha_cont</th><th>H_alpha_cont_err</th><th>H_beta_cont</th><th>H_beta_cont_err</th><th>H_gamma_cont</th><th>H_gamma_cont_err</th><th>H_delta_cont</th><th>H_delta_cont_err</th><th>H_eps_cont</th><th>H_eps_cont_err</th><th>H8_cont</th><th>H8_cont_err</th><th>H9_cont</th><th>H9_cont_err</th><th>H10_cont</th><th>H10_cont_err</th><th>H11_cont</th><th>H11_cont_err</th><th>H12_cont</th><th>H12_cont_err</th><th>c(Hb)</th><th>a(HI)</th><th>EW(Hb)</th><th>EW(Hb)_err</th><th>t3</th><th>t3_error</th><th>t2</th><th>t2_error</th><th>o3</th><th>o3_error</th><th>o2</th><th>o2_error</th><th>12+log(O/H)</th><th>12+log(O/H)_error</th><th>luminosity distance</th><th>Ha luminosity</th><th>SFR</th><th>Mould Distance</th><th>Mould Distance error</th><th>M_B Mould</th><th>M_B Lum</th><th>Berg Z Mould</th><th>Berg error Mould</th><th>Berg Z Lum</th><th>Berg error Lum</th><th>Ha luminosity error factor</th><th>SFR error</th></tr></thead>\n",
       "<thead><tr><th>str13</th><th>str11</th><th>str12</th><th>str10</th><th>float64</th><th>float64</th><th>float64</th><th>float64</th><th>float64</th><th>float64</th><th>float64</th><th>float64</th><th>float64</th><th>float64</th><th>float64</th><th>float64</th><th>float64</th><th>float64</th><th>float64</th><th>float64</th><th>float64</th><th>float64</th><th>float64</th><th>float64</th><th>float64</th><th>float64</th><th>float64</th><th>float64</th><th>float64</th><th>float64</th><th>float64</th><th>float64</th><th>float64</th><th>float64</th><th>float64</th><th>float64</th><th>float64</th><th>float64</th><th>float64</th><th>float64</th><th>float64</th><th>float64</th><th>float64</th><th>float64</th><th>float64</th><th>float64</th><th>float64</th><th>float64</th><th>float64</th><th>float64</th><th>float64</th><th>float64</th><th>float64</th><th>float64</th><th>float64</th><th>float64</th><th>float64</th><th>float64</th><th>float64</th><th>float64</th><th>float64</th><th>float64</th><th>float64</th><th>float64</th><th>float64</th><th>float64</th><th>float64</th><th>float64</th><th>float64</th><th>float64</th><th>float64</th><th>float64</th><th>float64</th><th>float64</th><th>float64</th><th>float64</th><th>float64</th><th>float64</th><th>float64</th><th>float64</th><th>float64</th><th>float64</th><th>float64</th><th>float64</th><th>float64</th><th>float64</th><th>float64</th><th>float64</th><th>float64</th><th>float64</th><th>float64</th><th>float64</th><th>float64</th><th>float64</th><th>float64</th><th>float64</th><th>float64</th><th>float64</th><th>float64</th><th>float64</th><th>float64</th><th>float64</th><th>float64</th><th>float64</th><th>float64</th><th>float64</th><th>float64</th><th>float64</th><th>float64</th><th>float64</th><th>float64</th><th>float64</th><th>float64</th><th>float64</th><th>float64</th><th>float64</th><th>float64</th><th>float64</th><th>float64</th></tr></thead>\n",
       "<tr><td>J1425p4441</td><td>14:25:15.83</td><td>+44:41:47.5</td><td>Shane+Kast</td><td>0.00753836</td><td>3.19e-06</td><td>18.93</td><td>0.26</td><td>18.42</td><td>0.06</td><td>18.46</td><td>0.08</td><td>18.87</td><td>0.08</td><td>18.78</td><td>0.55</td><td>738.7861697645001</td><td>13.502254004498806</td><td>3.061553287081886</td><td>2.174963910155311</td><td>9.21634300344686</td><td>0.0</td><td>17.944914898102528</td><td>6.596204385554401</td><td>29.33073409253332</td><td>6.623043838041502</td><td>0.0</td><td>0.0</td><td>0.0</td><td>0.0</td><td>0.0</td><td>0.0</td><td>0.0</td><td>0.0</td><td>258.316842575</td><td>2.918132600828567</td><td>168.11679416577007</td><td>2.744986741169268</td><td>507.7727880347883</td><td>0.0</td><td>0.0</td><td>0.0</td><td>91.2399671247994</td><td>4.5073696637388165</td><td>109.85707632757006</td><td>0.0</td><td>123.34173050772982</td><td>2.772826522313059</td><td>66.39418024770772</td><td>2.673826589859387</td><td>53.566265365621476</td><td>2.7666556563620928</td><td>56.3556089202913</td><td>3.1328569794925274</td><td>28.56269646405341</td><td>2.9750983178946373</td><td>0.0</td><td>0.0</td><td>0.0</td><td>0.0</td><td>0.0</td><td>0.0</td><td>31.801410333669573</td><td>3.0940552745465673</td><td>0.0</td><td>0.0</td><td>0.0</td><td>0.0</td><td>0.0</td><td>0.0</td><td>0.0</td><td>0.0</td><td>2.15464846</td><td>0.36884833</td><td>3.53600011</td><td>0.12681205</td><td>4.51094209</td><td>0.18321224</td><td>5.35967827</td><td>0.183211</td><td>5.85132937</td><td>0.21691449</td><td>5.95308802</td><td>0.22573853</td><td>6.29987338</td><td>0.24866974</td><td>0.0</td><td>0.0</td><td>0.0</td><td>0.0</td><td>0.0</td><td>0.0</td><td>0.28968355912668187</td><td>4.5</td><td>68.55340343301064</td><td>2.5931048672239485</td><td>0.0</td><td>0.0</td><td>0.0</td><td>0.0</td><td>0.0</td><td>0.0</td><td>0.0</td><td>0.0</td><td>7.372570986778925</td><td>0.2148890912964848</td><td>33.55470292216544</td><td>9.952599027527601e+38</td><td>0.007862553231746805</td><td>41.42063994656327</td><td>1.4472784109362935</td><td>-14.627584022173231</td><td>-14.170266990633351</td><td>7.8790342424390545</td><td>0.06372415977826767</td><td>7.828729368969668</td><td>0.06829733009366648</td><td>0.03943215902941253</td><td>0.00031003744941146143</td></tr>\n",
       "<tr><td>J1655p6337</td><td>16:55:39.20</td><td>+63:37:03.30</td><td>Shane+Kast</td><td>0.02038206</td><td>7.4e-07</td><td>20.79</td><td>0.08</td><td>20.19</td><td>0.02</td><td>20.34</td><td>0.03</td><td>20.93</td><td>0.07</td><td>20.97</td><td>0.27</td><td>1102.0936421938902</td><td>16.060410638061086</td><td>2.586667178684943</td><td>0.4912286162702189</td><td>7.7600769897101864</td><td>0.0</td><td>18.030101552916097</td><td>1.3751010247910458</td><td>4.590171679282836</td><td>1.1798751290610205</td><td>0.0</td><td>0.0</td><td>0.0</td><td>0.0</td><td>0.0</td><td>0.0</td><td>0.0</td><td>0.0</td><td>385.34742734052105</td><td>2.9206895388912097</td><td>336.8532861828399</td><td>3.0782370717310297</td><td>960.0669912231778</td><td>4.750253748393755</td><td>0.0</td><td>0.0</td><td>54.87425666728487</td><td>4.2189505885108245</td><td>100.4842578154542</td><td>0.0</td><td>179.83128583738832</td><td>2.7771942164246335</td><td>99.29987234970939</td><td>2.6785978913950284</td><td>78.14918655348268</td><td>2.7746778307456834</td><td>74.20981274013255</td><td>3.138645023549821</td><td>31.454532591031466</td><td>2.9836240096536546</td><td>0.0</td><td>0.0</td><td>0.0</td><td>0.0</td><td>0.0</td><td>0.0</td><td>74.61558362989642</td><td>3.4336959616865337</td><td>0.0</td><td>0.0</td><td>0.0</td><td>0.0</td><td>0.0</td><td>0.0</td><td>0.0</td><td>0.0</td><td>1.38561329</td><td>0.08600406</td><td>1.9869055</td><td>0.12218636</td><td>2.18885973</td><td>0.15569455</td><td>2.38122123</td><td>0.15980623</td><td>2.86830884</td><td>0.21084009</td><td>2.86627262</td><td>0.19052488</td><td>2.92268061</td><td>0.2253935</td><td>0.0</td><td>0.0</td><td>0.0</td><td>0.0</td><td>0.0</td><td>0.0</td><td>0.001</td><td>2.7865731462925853</td><td>191.15693717189873</td><td>11.862961914151748</td><td>0.0</td><td>0.0</td><td>0.0</td><td>0.0</td><td>0.0</td><td>0.0</td><td>0.0</td><td>0.0</td><td>7.414256607117598</td><td>0.047229456575824946</td><td>91.60553297550834</td><td>1.1065546389466864e+40</td><td>0.08741781647678822</td><td>96.86459781845308</td><td>4.048440097510943</td><td>-14.78062539808241</td><td>-14.659408529265097</td><td>7.895868793789065</td><td>0.06219374601917588</td><td>7.882534938219161</td><td>0.06340591470734902</td><td>0.04426251425432895</td><td>0.0038693323478861505</td></tr>\n",
       "<tr><td>J1705p3527</td><td>17:05:40.13</td><td>+35:27:47.30</td><td>Shane+Kast</td><td>0.00246085</td><td>5.7e-07</td><td>19.04</td><td>0.04</td><td>18.45</td><td>0.01</td><td>18.45</td><td>0.02</td><td>18.88</td><td>0.03</td><td>18.93</td><td>0.12</td><td>1132.1819051077318</td><td>14.37976891234267</td><td>2.538689929979453</td><td>0.600427335914283</td><td>7.622340478060492</td><td>0.0</td><td>29.00833957780584</td><td>2.085060364992021</td><td>23.093649543251043</td><td>1.6977666936643139</td><td>0.0</td><td>0.0</td><td>0.0</td><td>0.0</td><td>0.0</td><td>0.0</td><td>0.0</td><td>0.0</td><td>395.8677989887174</td><td>2.9216150296505443</td><td>498.69773694807685</td><td>3.747247100487311</td><td>1462.538571525648</td><td>6.110364029173638</td><td>0.0</td><td>0.0</td><td>109.5435963345038</td><td>6.164441269728905</td><td>174.95058898992613</td><td>0.0</td><td>185.25229702864382</td><td>2.7794629360825667</td><td>101.9280278627398</td><td>2.681611104020544</td><td>84.44246035255463</td><td>2.7760294772308876</td><td>86.36170417742234</td><td>3.142799792520249</td><td>33.41891012646344</td><td>2.990178446555184</td><td>0.0</td><td>0.0</td><td>0.0</td><td>0.0</td><td>0.0</td><td>0.0</td><td>122.80740758614401</td><td>4.038607899383096</td><td>0.0</td><td>0.0</td><td>0.0</td><td>0.0</td><td>0.0</td><td>0.0</td><td>0.0</td><td>0.0</td><td>2.83042127</td><td>0.11124279</td><td>3.4729635</td><td>0.14260612</td><td>4.02061229</td><td>0.19195648</td><td>4.23171199</td><td>0.20418002</td><td>4.57211113</td><td>0.22793889</td><td>4.79652326</td><td>0.24979528</td><td>3.745073</td><td>0.29992856</td><td>0.0</td><td>0.0</td><td>0.0</td><td>0.0</td><td>0.0</td><td>0.0</td><td>0.06999873318498849</td><td>2.903807615230461</td><td>111.08178393755074</td><td>4.662795676349526</td><td>0.0</td><td>0.0</td><td>0.0</td><td>0.0</td><td>0.0</td><td>0.0</td><td>0.0</td><td>0.0</td><td>7.491962467414274</td><td>0.05904145955920194</td><td>10.911392724759201</td><td>1.6128260837957628e+38</td><td>0.0012741326061986526</td><td>16.933282885887348</td><td>2.8067797835431</td><td>-12.649805818604733</td><td>-11.695500936293929</td><td>7.6614786400465205</td><td>0.08350194181395265</td><td>7.556505102992332</td><td>0.0930449906370607</td><td>0.16624109565196288</td><td>0.00021181320046035495</td></tr>\n",
       "</table>"
      ],
      "text/plain": [
       "<Table length=3>\n",
       "Target Name      RA     ... Ha luminosity error factor       SFR error       \n",
       "   str13       str11    ...          float64                  float64        \n",
       "----------- ----------- ... -------------------------- ----------------------\n",
       " J1425p4441 14:25:15.83 ...        0.03943215902941253 0.00031003744941146143\n",
       " J1655p6337 16:55:39.20 ...        0.04426251425432895  0.0038693323478861505\n",
       " J1705p3527 17:05:40.13 ...        0.16624109565196288 0.00021181320046035495"
      ]
     },
     "execution_count": 6,
     "metadata": {},
     "output_type": "execute_result"
    }
   ],
   "source": [
    "everything_table[0:3]"
   ]
  },
  {
   "cell_type": "code",
   "execution_count": 4,
   "metadata": {},
   "outputs": [],
   "source": [
    "keck = np.where(everything_table['Observations'] == 'Keck+LRIS')[0]"
   ]
  },
  {
   "cell_type": "markdown",
   "metadata": {},
   "source": [
    "## Typical sigma on [OIII]4363"
   ]
  },
  {
   "cell_type": "code",
   "execution_count": 64,
   "metadata": {},
   "outputs": [],
   "source": [
    "OIII4363_cut = np.where(everything_table[keck]['[OIII]4363']/everything_table[keck]['[OIII]4363 error'] < 100)[0]"
   ]
  },
  {
   "cell_type": "code",
   "execution_count": 65,
   "metadata": {},
   "outputs": [
    {
     "data": {
      "image/png": "[encoded data removed]",
      "text/plain": [
       "<Figure size 720x432 with 1 Axes>"
      ]
     },
     "metadata": {},
     "output_type": "display_data"
    }
   ],
   "source": [
    "plt.subplots(figsize=(10, 6))\n",
    "plt.plot(np.arange(27), everything_table[keck[OIII4363_cut]]['[OIII]4363']/everything_table[keck[OIII4363_cut]]['[OIII]4363 error'], 'o')\n",
    "plt.axhline(5, ls='--', alpha=0.25)\n",
    "plt.xticks(np.arange(27), everything_table[keck[OIII4363_cut]]['Target Name'], rotation=45, ha='right')\n",
    "plt.xlim(-1, 28)\n",
    "plt.show()"
   ]
  },
  {
   "cell_type": "markdown",
   "metadata": {},
   "source": [
    "## HeI/HeI5876 ratio"
   ]
  },
  {
   "cell_type": "code",
   "execution_count": 72,
   "metadata": {},
   "outputs": [
    {
     "name": "stderr",
     "output_type": "stream",
     "text": [
      "/Users/thsyu/.pyenv/versions/anaconda3-5.1.0/lib/python3.6/site-packages/ipykernel_launcher.py:1: RuntimeWarning: divide by zero encountered in true_divide\n",
      "  \"\"\"Entry point for launching an IPython kernel.\n",
      "/Users/thsyu/.pyenv/versions/anaconda3-5.1.0/lib/python3.6/site-packages/ipykernel_launcher.py:1: RuntimeWarning: invalid value encountered in true_divide\n",
      "  \"\"\"Entry point for launching an IPython kernel.\n",
      "/Users/thsyu/.pyenv/versions/anaconda3-5.1.0/lib/python3.6/site-packages/ipykernel_launcher.py:2: RuntimeWarning: divide by zero encountered in true_divide\n",
      "  \n",
      "/Users/thsyu/.pyenv/versions/anaconda3-5.1.0/lib/python3.6/site-packages/ipykernel_launcher.py:2: RuntimeWarning: invalid value encountered in true_divide\n",
      "  \n",
      "/Users/thsyu/.pyenv/versions/anaconda3-5.1.0/lib/python3.6/site-packages/ipykernel_launcher.py:3: RuntimeWarning: divide by zero encountered in true_divide\n",
      "  This is separate from the ipykernel package so we can avoid doing imports until\n",
      "/Users/thsyu/.pyenv/versions/anaconda3-5.1.0/lib/python3.6/site-packages/ipykernel_launcher.py:3: RuntimeWarning: invalid value encountered in true_divide\n",
      "  This is separate from the ipykernel package so we can avoid doing imports until\n",
      "/Users/thsyu/.pyenv/versions/anaconda3-5.1.0/lib/python3.6/site-packages/ipykernel_launcher.py:4: RuntimeWarning: divide by zero encountered in true_divide\n",
      "  after removing the cwd from sys.path.\n",
      "/Users/thsyu/.pyenv/versions/anaconda3-5.1.0/lib/python3.6/site-packages/ipykernel_launcher.py:4: RuntimeWarning: invalid value encountered in true_divide\n",
      "  after removing the cwd from sys.path.\n"
     ]
    }
   ],
   "source": [
    "HeI4026 = everything_table[keck[OIII4363_cut]]['HeI 5876']/everything_table[keck[OIII4363_cut]]['HeI 4026']\n",
    "HeI4471 = everything_table[keck[OIII4363_cut]]['HeI 5876']/everything_table[keck[OIII4363_cut]]['HeI 4471']\n",
    "HeI6678 = everything_table[keck[OIII4363_cut]]['HeI 5876']/everything_table[keck[OIII4363_cut]]['HeI 6678']\n",
    "HeI7065 = everything_table[keck[OIII4363_cut]]['HeI 5876']/everything_table[keck[OIII4363_cut]]['HeI 7065']\n",
    "\n"
   ]
  },
  {
   "cell_type": "code",
   "execution_count": 73,
   "metadata": {},
   "outputs": [
    {
     "name": "stderr",
     "output_type": "stream",
     "text": [
      "/Users/thsyu/.pyenv/versions/anaconda3-5.1.0/lib/python3.6/site-packages/matplotlib/figure.py:2366: UserWarning: This figure includes Axes that are not compatible with tight_layout, so results might be incorrect.\n",
      "  warnings.warn(\"This figure includes Axes that are not compatible \"\n"
     ]
    },
    {
     "data": {
      "image/png": "[encoded data removed]",
      "text/plain": [
       "<Figure size 720x432 with 1 Axes>"
      ]
     },
     "metadata": {},
     "output_type": "display_data"
    }
   ],
   "source": [
    "plt.subplots(figsize=(10, 6))\n",
    "plt.plot(np.arange(27), HeI4026, 'o', color='green', label='4026')\n",
    "plt.plot(np.arange(27), HeI4471, 'o', color='orange', label='4471')\n",
    "plt.plot(np.arange(27), HeI6678, 'o', color='red', label='6678')\n",
    "plt.plot(np.arange(27), HeI7065, 'o', color='magenta', label='7065')\n",
    "plt.xticks(np.arange(27), everything_table[keck[OIII4363_cut]]['Target Name'], rotation=45, ha='right')\n",
    "plt.xlim(-1, 28)\n",
    "plt.ylim(0, 10)\n",
    "plt.legend()\n",
    "plt.show()"
   ]
  },
  {
   "cell_type": "code",
   "execution_count": 78,
   "metadata": {},
   "outputs": [],
   "source": [
    "HeI4026[HeI4026 == 0.0] = np.nan\n",
    "HeI4026[HeI4026 == np.inf] = np.nan\n",
    "HeI4471[HeI4471 == 0.0] = np.nan\n",
    "HeI4471[HeI4471 == np.inf] = np.nan\n",
    "HeI6678[HeI6678 == 0.0] = np.nan\n",
    "HeI6678[HeI6678 == np.inf] = np.nan\n",
    "HeI7065[HeI7065 == 0.0] = np.nan\n",
    "HeI7065[HeI7065 == np.inf] = np.nan"
   ]
  },
  {
   "cell_type": "code",
   "execution_count": 84,
   "metadata": {},
   "outputs": [
    {
     "name": "stdout",
     "output_type": "stream",
     "text": [
      "0.297864529180474 0.11083974216089969 0.5645423438130326 1.9835471136853546\n"
     ]
    }
   ],
   "source": [
    "print (np.nanmin(HeI4026), np.nanmin(HeI4471), np.nanmin(HeI6678), np.nanmin(HeI7065))"
   ]
  },
  {
   "cell_type": "code",
   "execution_count": 87,
   "metadata": {},
   "outputs": [
    {
     "name": "stdout",
     "output_type": "stream",
     "text": [
      "4.167313810312715\n",
      "17.587175291479127\n"
     ]
    },
    {
     "name": "stderr",
     "output_type": "stream",
     "text": [
      "/Users/thsyu/.pyenv/versions/anaconda3-5.1.0/lib/python3.6/site-packages/ipykernel_launcher.py:1: RuntimeWarning: invalid value encountered in true_divide\n",
      "  \"\"\"Entry point for launching an IPython kernel.\n",
      "/Users/thsyu/.pyenv/versions/anaconda3-5.1.0/lib/python3.6/site-packages/ipykernel_launcher.py:2: RuntimeWarning: invalid value encountered in true_divide\n",
      "  \n"
     ]
    }
   ],
   "source": [
    "print (np.nanmin(everything_table[keck[OIII4363_cut]]['HeI 5876']/everything_table[keck[OIII4363_cut]]['HeI 5876 error']))\n",
    "print (np.nanmedian(everything_table[keck[OIII4363_cut]]['HeI 5876']/everything_table[keck[OIII4363_cut]]['HeI 5876 error']))\n"
   ]
  },
  {
   "cell_type": "code",
   "execution_count": null,
   "metadata": {},
   "outputs": [],
   "source": []
  }
 ],
 "metadata": {
  "kernelspec": {
   "display_name": "Python 3",
   "language": "python",
   "name": "python3"
  },
  "language_info": {
   "codemirror_mode": {
    "name": "ipython",
    "version": 3
   },
   "file_extension": ".py",
   "mimetype": "text/x-python",
   "name": "python",
   "nbconvert_exporter": "python",
   "pygments_lexer": "ipython3",
   "version": "3.6.4"
  }
 },
 "nbformat": 4,
 "nbformat_minor": 2
}
