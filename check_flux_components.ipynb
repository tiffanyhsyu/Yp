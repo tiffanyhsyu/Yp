{
 "cells": [
  {
   "cell_type": "markdown",
   "metadata": {},
   "source": [
    "# Imports"
   ]
  },
  {
   "cell_type": "code",
   "execution_count": 62,
   "metadata": {},
   "outputs": [],
   "source": [
    "import numpy as np\n",
    "import os\n",
    "import scipy.interpolate as interp\n",
    "from astropy.table import Table"
   ]
  },
  {
   "cell_type": "markdown",
   "metadata": {},
   "source": [
    "# Load in Tables"
   ]
  },
  {
   "cell_type": "code",
   "execution_count": 2,
   "metadata": {},
   "outputs": [],
   "source": [
    "# Load in tables we'll need\n",
    "path = os.getcwd()\n",
    "\n",
    "hydrogen_emis_coeff = Table.read(path+'/tables/hydrogen_emissivity_coeff', format='ascii', delimiter='\\t')\n",
    "helium_emis = Table.read(path+'/tables/helium_emissivity', format='ascii', delimiter='\\t')\n",
    "helium_emis_coeff = Table.read(path+'/tables/helium_emissivity_coeff', format='ascii', delimiter='\\t')\n",
    "helium_optical_depth = Table.read(path+'/tables/helium_optical_depth', format='ascii', delimiter='\\t')\n",
    "hydrogen_CR_coeff = Table.read(path+'/tables/hydrogen_CR_coeff', format='ascii', delimiter='\\t')\n",
    "helium_CR_coeff = Table.read(path+'/tables/helium_CR_coeff', format='ascii', delimiter='\\t')"
   ]
  },
  {
   "cell_type": "markdown",
   "metadata": {},
   "source": [
    "# Set emission line wavelengths"
   ]
  },
  {
   "cell_type": "code",
   "execution_count": 3,
   "metadata": {},
   "outputs": [],
   "source": [
    "# Vacuum wavelengths of Balmer lines Ha, Hb, Hg, Hd, Heps, H8, H9, H10, H11, H12\n",
    "#balmer_lines = np.array([6564.612, 4862.721, 4341.684, 4102.891, 3971.195, 3890.166, 3836.472, 3798.976, 3771.701, 3751.217])\n",
    "# Vacuum wavelengths of Balmer lines Ha, Hb, Hg, Hd, H8 for MCMC\n",
    "balmer_lines = np.array([6564.612, 4862.721, 4341.684, 4102.891, 3890.166])\n",
    "\n",
    "# Vacuum wavelengths of Helium lines for MCMC\n",
    "#helium_lines = np.array([7283.356, 7067.198, 6679.994, 5877.299, 5017.079, 4923.304, 4472.755, 4027.328, 3890.151])\n",
    "helium_lines = np.array([7067.198, 6679.994, 5877.299, 5017.079, 4472.755, 4027.328, 3890.151])"
   ]
  },
  {
   "cell_type": "markdown",
   "metadata": {},
   "source": [
    "# Emissivity"
   ]
  },
  {
   "cell_type": "markdown",
   "metadata": {},
   "source": [
    "## Hydrogen"
   ]
  },
  {
   "cell_type": "code",
   "execution_count": 4,
   "metadata": {},
   "outputs": [],
   "source": [
    "def hydrogen_emissivity(wave, temp, dens):\n",
    "    '''\n",
    "    Calculate the emissivity of a Balmer line\n",
    "    relative to H(beta).\n",
    "\n",
    "    Parameters\n",
    "    ----------\n",
    "    wave : float\n",
    "        Wavelength of the Balmer line (in Angstroms)\n",
    "    temp : float\n",
    "        Temperature of the gas (in Kelvin)\n",
    "\n",
    "\n",
    "    Returns\n",
    "    -------\n",
    "    emissivity : float\n",
    "        The E(lambda)/E(H(beta)) ratio\n",
    "    '''\n",
    "    # Redefine the temperature\n",
    "    T4 = temp / 10000.\n",
    "\n",
    "    # Match Balmer line of interest to relevant rows in Table 3 of AOS 2010\n",
    "    idx = np.where(np.abs(wave - balmer_lines) < 3)[0]\n",
    "\n",
    "    if idx == 0:\n",
    "        line = str('Ha')\n",
    "    elif idx == 1:\n",
    "        line = str('Hb')\n",
    "    elif idx == 2:\n",
    "        line = str('Hg')\n",
    "    elif idx == 3:\n",
    "        line = str('Hd')\n",
    "    elif idx == 4:\n",
    "        line = str('H8')\n",
    "\n",
    "    if line == 'Hb':\n",
    "        Xt = 1.\n",
    "    elif line == 'H8':\n",
    "        Xt = 0.105\n",
    "    else:\n",
    "        cij = np.array(hydrogen_emis_coeff[line]).reshape((3, 3))\n",
    "        Xt = 0.\n",
    "\n",
    "        for i in range(cij.shape[0]):\n",
    "            for j in range(cij.shape[1]):\n",
    "                # Balmer emissivity; from Equation in Section 3.1 Hydrogen emission of AOS 2010 Citaion (3)\n",
    "                Xt += cij[i][j] * (np.log10(T4) ** i) * (np.log10(dens) ** j)\n",
    "\n",
    "    return Xt"
   ]
  },
  {
   "cell_type": "markdown",
   "metadata": {},
   "source": [
    "## Helium"
   ]
  },
  {
   "cell_type": "code",
   "execution_count": 5,
   "metadata": {},
   "outputs": [],
   "source": [
    "# Interpolated He emissivities\n",
    "HeI_emis_3889 = interp.RectBivariateSpline(np.logspace(1, 14, num=14), np.linspace(5e3, 25e3, num=21), helium_emis['3889A'].reshape((14, 21)), kx=1, ky=2)\n",
    "HeI_emis_4026 = interp.RectBivariateSpline(np.logspace(1, 14, num=14), np.linspace(5e3, 25e3, num=21), helium_emis['4026A'].reshape((14, 21)), kx=1, ky=2)\n",
    "HeI_emis_4471 = interp.RectBivariateSpline(np.logspace(1, 14, num=14), np.linspace(5e3, 25e3, num=21), helium_emis['4471A'].reshape((14, 21)), kx=1, ky=2)\n",
    "HeI_emis_5016 = interp.RectBivariateSpline(np.logspace(1, 14, num=14), np.linspace(5e3, 25e3, num=21), helium_emis['5016A'].reshape((14, 21)), kx=1, ky=2)\n",
    "HeI_emis_5876 = interp.RectBivariateSpline(np.logspace(1, 14, num=14), np.linspace(5e3, 25e3, num=21), helium_emis['5876A'].reshape((14, 21)), kx=1, ky=2)\n",
    "HeI_emis_6678 = interp.RectBivariateSpline(np.logspace(1, 14, num=14), np.linspace(5e3, 25e3, num=21), helium_emis['6678A'].reshape((14, 21)), kx=1, ky=2)\n",
    "HeI_emis_7065 = interp.RectBivariateSpline(np.logspace(1, 14, num=14), np.linspace(5e3, 25e3, num=21), helium_emis['7065A'].reshape((14, 21)), kx=1, ky=2)"
   ]
  },
  {
   "cell_type": "code",
   "execution_count": 6,
   "metadata": {},
   "outputs": [],
   "source": [
    "def helium_emissivity(wave, temp, dens, ratio=True):\n",
    "    '''\n",
    "    Calculate the emissivity of a HeI line.\n",
    "    Defaults to returning the emissivity as\n",
    "    a ratio relative to H(beta).\n",
    "\n",
    "    Parameters\n",
    "    ----------\n",
    "    wavelength : float\n",
    "        Wavelength of the HeI line (in Angstroms)\n",
    "    temp : float\n",
    "        Temperature of the gas (in Kelvin)\n",
    "    dens : float\n",
    "        Density of the gas (cm^-3), not in log!\n",
    "    ratio : True/False (optional)\n",
    "        If False, returns the HeI emissivity value\n",
    "\n",
    "    Returns\n",
    "    -------\n",
    "    emissivity : float\n",
    "        The E(HeI)/E(H(beta)) ratio (default).\n",
    "        Units of emissivity are in ergs*cm^3*s^-1\n",
    "    '''\n",
    "    # Helium lines, in format of column names\n",
    "    #HeI_lines = np.array([3889, 4026, 4471, 4922, 5016, 5876, 6678, 7065, 7281])\n",
    "    HeI_lines = np.array([3889, 4026, 4471, 5016, 5876, 6678, 7065])\n",
    "\n",
    "    # Find column in Porter's 2013 emissivities corresponding to HeI wavelength of interest\n",
    "    HeI_line = str(HeI_lines[np.where(np.abs(HeI_lines - wave) < 3)[0]][0])\n",
    "\n",
    "    if HeI_line == '3889':\n",
    "        HeI_emis = 10 ** HeI_emis_3889(dens, temp)[0][0]\n",
    "    elif HeI_line == '4026':\n",
    "        HeI_emis = 10 ** HeI_emis_4026(dens, temp)[0][0]\n",
    "    elif HeI_line == '4471':\n",
    "        HeI_emis = 10 ** HeI_emis_4471(dens, temp)[0][0]\n",
    "    #elif HeI_line == '4922':\n",
    "    #    HeI_emis = 10 ** HeI_emis_4922(dens, temp)[0][0]\n",
    "    elif HeI_line == '5016':\n",
    "        HeI_emis = 10 ** HeI_emis_5016(dens, temp)[0][0]\n",
    "    elif HeI_line == '5876':\n",
    "        HeI_emis = 10 ** HeI_emis_5876(dens, temp)[0][0]\n",
    "    elif HeI_line == '6678':\n",
    "        HeI_emis = 10 ** HeI_emis_6678(dens, temp)[0][0]\n",
    "    elif HeI_line == '7065':\n",
    "        HeI_emis = 10 ** HeI_emis_7065(dens, temp)[0][0]\n",
    "    #elif HeI_line == '7281':\n",
    "    #    HeI_emis = 10 ** HeI_emis_7281(dens, temp)[0][0]\n",
    "\n",
    "    # H beta emissivity; from Equation 3.1 of Citation (3) AOS 2010\n",
    "    Hbeta_emis = (-2.6584e5 - (1420.9 * (np.log(temp) ** 2.)) + (35546 * np.log(temp)) + (6.5669e5 / np.log(temp))) \\\n",
    "                 * (1 / temp) * 1e-25\n",
    "\n",
    "    return HeI_emis / Hbeta_emis"
   ]
  },
  {
   "cell_type": "markdown",
   "metadata": {},
   "source": [
    "### Old"
   ]
  },
  {
   "cell_type": "code",
   "execution_count": 7,
   "metadata": {},
   "outputs": [],
   "source": [
    "def helium_emissivity_2007(wave, temp, ratio=True):\n",
    "    '''\n",
    "    Calculate the emissivity of a HeI line.\n",
    "    Defaults to returning the emissivity as\n",
    "    a ratio relative to H(beta).\n",
    "    \n",
    "    Parameters\n",
    "    ----------\n",
    "    wavelength : float\n",
    "        Wavelength of the HeI line (in Angstroms)\n",
    "    temp : float\n",
    "        Temperature of the gas (in Kelvin)\n",
    "    ratio : True/False (optional)\n",
    "        If False, returns the HeI emissivity value\n",
    "        \n",
    "    Returns\n",
    "    -------\n",
    "    emissivity : float\n",
    "        The E(HeI)/E(H(beta)) ratio (default).\n",
    "        Units of emissivity are in ergs*cm^3*s^-1\n",
    "    '''\n",
    "    # Find the row in Porter's 2007 emissivities corresponding to HeI wavelength of interest\n",
    "    idx = np.abs(helium_emis_coeff['Wavelength'] - wave).argmin()\n",
    "\n",
    "    a = helium_emis_coeff['a'][idx]\n",
    "    b = helium_emis_coeff['b'][idx]\n",
    "    c = helium_emis_coeff['c'][idx]\n",
    "    d = helium_emis_coeff['d'][idx]\n",
    "    \n",
    "    # HeI emissivity; from Equation A1 of Citation (2) PFM 2007\n",
    "    HeI_emis = ( a + ( b*(np.log(temp)**2.) ) + ( c*np.log(temp) ) + ( d / np.log(temp) ) ) * (1./temp) * 1e-25\n",
    "    \n",
    "    # H beta emissivity; from Equation 3.1 of Citation (3) AOS 2010\n",
    "    Hbeta_emis = ( -2.6584e5 - ( 1420.9*(np.log(temp)**2.) ) + ( 35546*np.log(temp) ) + ( 6.5669e5 / np.log(temp) ) ) \\\n",
    "                                                                * (1./temp) * 1e-25\n",
    "    \n",
    "    #print ('Emissivity for HeI', helium_emis_coeff['Wavelength'].flat[idx], 'is', HeI_emis/Hbeta_emis)\n",
    "\n",
    "    return HeI_emis / Hbeta_emis"
   ]
  },
  {
   "cell_type": "markdown",
   "metadata": {},
   "source": [
    "### Old + Re-parameterized to BSS as to avoid unphysical solutions"
   ]
  },
  {
   "cell_type": "code",
   "execution_count": 58,
   "metadata": {},
   "outputs": [],
   "source": [
    "def helium_emissivity_2007_BSS(wave, temp, dens):\n",
    "    '''\n",
    "    Calculate the emissivity of a HeI line using\n",
    "    Porter 2005/2007 data, but re-parameterized\n",
    "    to the form of BSS as given in AOS 2010.\n",
    "    \n",
    "    Returns the emissivity as a ratio relative\n",
    "    to H(beta) and includes the collisional\n",
    "    correction for helium.\n",
    "    \n",
    "    Re-parameterized \n",
    "    \n",
    "    Parameters\n",
    "    ----------\n",
    "    wavelength : float\n",
    "        Wavelength of the HeI line (in Angstroms)\n",
    "    temp : float\n",
    "        Temperature of the gas (in Kelvin)\n",
    "    dens : float\n",
    "        Density of the gas (cm^-3), not in log!\n",
    "        \n",
    "    Returns\n",
    "    -------\n",
    "    phi : float\n",
    "        E(HeI)/E(H(beta)) * (1+C/R(HeI))\n",
    "        Units of emissivity are in ergs*cm^3*s^-1\n",
    "    '''\n",
    "    # Redefine the temperature (checked with new HeI emis to confirm that temp needs to be in T4)\n",
    "    T4 = temp / 1e4\n",
    "    \n",
    "    # Find which Helium line we are working with\n",
    "    HeI_lines = np.array([3889, 4026, 4471, 5016, 5876, 6678, 7065])\n",
    "    HeI_line = str(HeI_lines[np.where(np.abs(HeI_lines - wave) < 3)[0]][0])\n",
    "\n",
    "    if HeI_line == '3889':\n",
    "        phi = 0.8799 * ( T4**(-0.128 - 0.00041*dens) )\n",
    "    elif HeI_line == '4026':\n",
    "        phi = 4.233 * ( T4**(0.085 - 0.00012*dens) )\n",
    "    elif HeI_line == '4471':\n",
    "        phi = 2.021 * ( T4**(0.121 - 0.00020*dens) )\n",
    "    elif HeI_line == '5876':\n",
    "        phi = 0.754 * ( T4**(0.212 - 0.00051*dens) )\n",
    "    elif HeI_line == '6678':\n",
    "        phi = 2.639 * ( T4**(0.244 - 0.00054*dens) )\n",
    "    elif HeI_line == '7065':\n",
    "        phi = 5.903 * (T4**-0.519) / ( 1.462 - ((0.127 - 0.00076*dens + 0.000000255*dens**2)*T4) )\n",
    "\n",
    "    return 1. / phi"
   ]
  },
  {
   "cell_type": "markdown",
   "metadata": {},
   "source": [
    "### Test"
   ]
  },
  {
   "cell_type": "code",
   "execution_count": 59,
   "metadata": {},
   "outputs": [],
   "source": [
    "w = 5876\n",
    "t = 15000\n",
    "d = 100\n",
    "\n",
    "collisional_to_recomb_Hbeta = hydrogen_collision_to_recomb(1e-4, balmer_lines[1], t)\n",
    "collisional_to_recomb_ratio = helium_collision_to_recomb(w, t, d)   "
   ]
  },
  {
   "cell_type": "code",
   "execution_count": 60,
   "metadata": {},
   "outputs": [
    {
     "data": {
      "text/plain": [
       "1.2424471893398157"
      ]
     },
     "execution_count": 60,
     "metadata": {},
     "output_type": "execute_result"
    }
   ],
   "source": [
    "helium_emissivity_2007_BSS(w, t, d) / (1 + collisional_to_recomb_Hbeta)"
   ]
  },
  {
   "cell_type": "code",
   "execution_count": 61,
   "metadata": {},
   "outputs": [
    {
     "name": "stdout",
     "output_type": "stream",
     "text": [
      "1.2414154970809648\n",
      "1.3037947426351022\n"
     ]
    }
   ],
   "source": [
    "print (helium_emissivity_2007(w, t) * (1 + collisional_to_recomb_ratio) / (1 + collisional_to_recomb_Hbeta))\n",
    "print (helium_emissivity(w, t, d) * (1 + collisional_to_recomb_ratio) / (1 + collisional_to_recomb_Hbeta))\n"
   ]
  },
  {
   "cell_type": "markdown",
   "metadata": {},
   "source": [
    "# Underlying Stellar Absorption"
   ]
  },
  {
   "cell_type": "code",
   "execution_count": 9,
   "metadata": {},
   "outputs": [],
   "source": [
    "# Linear fit to normalizations to Hb from Equation 5.1 of AOS 2010, excluding downward trend of Ha\n",
    "fit_balmer_factor = np.polyfit(np.array([4862.721, 4341.684, 4102.891]), np.array([1.00, 0.959, 0.896]), deg=1) # Fit to Hb, Hg, Hd\n",
    "a_HI_balmer_fit = (fit_balmer_factor[0] * balmer_lines) + fit_balmer_factor[1]\n",
    "\n",
    "# Linear fit to normalizations to HeI4472 from Equation 5.2 of AOS 2010\n",
    "fit_he_factor = np.polyfit(np.array([7067.198, 6679.994, 5877.299, 4472.755, 4027.328, 3890.151]), np.array([0.4, 0.525, 0.874, 1.0, 1.347, 1.4]), deg=1)\n",
    "a_He_fit = (fit_he_factor[0] * helium_lines) + fit_he_factor[1]"
   ]
  },
  {
   "cell_type": "code",
   "execution_count": 10,
   "metadata": {},
   "outputs": [],
   "source": [
    "def stellar_absorption(wave, a_default, ion=None):\n",
    "    '''\n",
    "    Calculate the amount of underlying hydrogen\n",
    "    or helium stellar absorption at the\n",
    "    wavelength of interest\n",
    "\n",
    "    Parameters\n",
    "    ----------\n",
    "    wave : float\n",
    "        Wavelength of the Balmer line (in Angstroms)\n",
    "    a_default : float\n",
    "        The amount of stellar absorption (in Angstroms)\n",
    "        at the 'default' wavelength. Default\n",
    "        wavelength for hydrogen is at Hb and\n",
    "        at HeI4472 for helium\n",
    "    ion : str\n",
    "        Ion of interest, hydrogen or helium\n",
    "        Accepted formats:\n",
    "        hydrogen, Hydrogen, H\n",
    "        helium, Helium, He\n",
    "\n",
    "    Returns\n",
    "    -------\n",
    "    a_at_wave : float\n",
    "        Amount of stellar absorption at\n",
    "        the input wavelength\n",
    "    '''\n",
    "    # Normalizations for stellar absorption given in Equations 5.1, 5.2 of AOS 2010\n",
    "    # Underlying HI stellar absorption\n",
    "    if ion in ['hydrogen', 'Hydrogen', 'H']:\n",
    "        # Match to closest Balmer line\n",
    "        H_idx = np.where(np.abs(balmer_lines - wave) < 3)[0]\n",
    "\n",
    "        if H_idx == 0: # Ha\n",
    "            a_at_wave = 0.942 * a_default\n",
    "        elif H_idx == 1: # Hb\n",
    "            a_at_wave = a_default\n",
    "        elif H_idx == 2: # Hg\n",
    "            a_at_wave = 0.959 * a_default\n",
    "        elif H_idx == 3: # Hd\n",
    "            a_at_wave = 0.896 * a_default\n",
    "        elif H_idx == 4: # H8\n",
    "            a_at_wave = a_HI_balmer_fit[4]*a_default\n",
    "\n",
    "    # Underlying HeI stellar absorption\n",
    "    elif ion in ['helium', 'Helium', 'He']:\n",
    "        # Match to closest Helium line\n",
    "        He_idx = np.where(np.abs(helium_lines - wave) < 3)[0]\n",
    "\n",
    "        # Multiply underlying stellar absorption by normalization\n",
    "        if He_idx == 0:  # HeI7067\n",
    "            a_at_wave = 0.400 * a_default\n",
    "\n",
    "        elif He_idx == 1:  # HeI6679\n",
    "            a_at_wave = 0.525 * a_default\n",
    "\n",
    "        elif He_idx == 2:  # HeI5877\n",
    "            a_at_wave = 0.874 * a_default\n",
    "\n",
    "        elif He_idx == 3:  # HeI5017\n",
    "            a_at_wave = a_He_fit[3] * a_default\n",
    "\n",
    "        elif He_idx == 4:  # HeI4472\n",
    "            a_at_wave = a_default\n",
    "\n",
    "        elif He_idx == 5:  # HeI4027\n",
    "            a_at_wave = 1.347 * a_default\n",
    "\n",
    "        elif He_idx == 6:  # HeI3890\n",
    "            a_at_wave = 1.400 * a_default\n",
    "    else:\n",
    "        print ('Please supply ion of interest, either hydrogen or helium')\n",
    "\n",
    "    return a_at_wave\n",
    "\n"
   ]
  },
  {
   "cell_type": "markdown",
   "metadata": {},
   "source": [
    "# Optical Depth Function"
   ]
  },
  {
   "cell_type": "code",
   "execution_count": 11,
   "metadata": {},
   "outputs": [],
   "source": [
    "def optical_depth_function(wave, temp, dens, tau):\n",
    "    '''\n",
    "    Determine the wavelength-dependent\n",
    "    expression for calculating the\n",
    "    helium optical depth\n",
    "\n",
    "    Parameters\n",
    "    ----------\n",
    "    wave : float\n",
    "        Wavelength of the Balmer line (in Angstroms)\n",
    "    temp : float\n",
    "        Temperature of the gas (in Kelvin)\n",
    "    dens : float\n",
    "        Density of the gas (cm^-3)\n",
    "    tau : float\n",
    "        Optical depth at HeI3889\n",
    "\n",
    "    Returns\n",
    "    -------\n",
    "    f_tau : float\n",
    "        Optical depth function\n",
    "    '''\n",
    "    # Redefine the temperature\n",
    "    T4 = temp / 10000.\n",
    "\n",
    "    # Match wavelength to relevant column in optical depth table\n",
    "    idx = np.where(np.abs(helium_optical_depth['Wave'] - wave) < 3)[0]\n",
    "\n",
    "    # HeI5017 is not on the helium_optical_depth table, but its optical depth is 1\n",
    "    if len(idx) == 0:\n",
    "        if np.abs(5017.079 - wave) < 3:\n",
    "            f_tau = 1\n",
    "        else:\n",
    "            print ('No expression for optical depth at this wavelength')\n",
    "\n",
    "    # HeI7067 requires a different functional form, given in BSS 2002 Section 3.2, paragraph 4 (before Eq 5)\n",
    "    elif idx == 9: # 9th index corresponds to the row in Table helium_optial_depth that HeI7067 is in\n",
    "        f_tau = 1 + ((tau/2) * (0.359 + ((-3.46e-2 - (1.84e-4 * dens) + (3.039e-7 * dens ** 2)) * T4)))\n",
    "\n",
    "    else:\n",
    "        a = helium_optical_depth['a'][idx][0]\n",
    "        b0 = helium_optical_depth['b0'][idx][0]\n",
    "        b1 = helium_optical_depth['b1'][idx][0]\n",
    "        b2 = helium_optical_depth['b2'][idx][0]\n",
    "\n",
    "        f_tau = 1 + ((tau/2) * (a + ((b0 + (b1 * dens) + (b2 * dens ** 2)) * T4)))\n",
    "\n",
    "    return f_tau"
   ]
  },
  {
   "cell_type": "markdown",
   "metadata": {},
   "source": [
    "# Collisional contribution to emission"
   ]
  },
  {
   "cell_type": "markdown",
   "metadata": {},
   "source": [
    "## Hydrogen"
   ]
  },
  {
   "cell_type": "code",
   "execution_count": 12,
   "metadata": {},
   "outputs": [],
   "source": [
    "def hydrogen_collision_to_recomb(xi, wave, temp):\n",
    "    '''\n",
    "    Calculate the factor that corrects the\n",
    "    measured hydrogen flux for emission due\n",
    "    to collisional excitation of neutral\n",
    "    hydrogen\n",
    "\n",
    "    Assumes that at these densities\n",
    "    and temperatures, all neutral hydrogen is\n",
    "    excited from the ground state\n",
    "\n",
    "    Parameters\n",
    "    ----------\n",
    "    xi : float\n",
    "        n(HI)/n(HII); ratio of neutral hydrogen\n",
    "        to ionized hydrogen densities\n",
    "    wave : float\n",
    "        Wavelength of the Balmer line (in Angstroms)\n",
    "    temp : float\n",
    "        Temperature of the gas (in Kelvin)\n",
    "\n",
    "    Returns\n",
    "    -------\n",
    "    hydrogen_CR : float\n",
    "        Relative amount of collisional to\n",
    "        recombination emission for a given\n",
    "        Balmer line\n",
    "        C/R(wavelength) = xi*K_eff/alpha_eff\n",
    "    '''\n",
    "    # Redefine the temperature\n",
    "    T4 = temp / 10000.\n",
    "\n",
    "    # Match Balmer line of interest to relevant rows in Table 3 of AOS 2010\n",
    "    idx = np.where(np.abs(balmer_lines - wave) < 3)[0]\n",
    "\n",
    "    if idx == 0:\n",
    "        line = str('Ha')\n",
    "    elif idx == 1:\n",
    "        line = str('Hb')\n",
    "    elif idx == 2:\n",
    "        line = str('Hg')\n",
    "    elif idx == 3:\n",
    "        line = str('Hd')\n",
    "    #    print ('Hydrogen C/R for', line)\n",
    "\n",
    "    rows = np.where(line == hydrogen_CR_coeff['Line'])[0]\n",
    "\n",
    "    # Calculate the total K_eff/alpha_eff for relevant energy levels -- collisional sum includes an infinite\n",
    "    # number of levels, but probabilities fall off quickly. This sum excludes terms contributing < 1%\n",
    "    Keff_alphaeff = 0.\n",
    "    for i in range(1, 9): # 1-9 here is to grab the 'Term1', 'Term2', etc. column names\n",
    "        a, b, c = hydrogen_CR_coeff['Term ' + str(i)][rows]\n",
    "        Keff_alphaeff += (a * np.exp(b / T4) * (T4 ** c))\n",
    "    #    print (Keff_alphaeff)\n",
    "\n",
    "    # Amount of collisional to recombination emission; from Equation 6.1 of AOS 2010\n",
    "    hydrogen_CR = xi * Keff_alphaeff\n",
    "\n",
    "    return hydrogen_CR"
   ]
  },
  {
   "cell_type": "markdown",
   "metadata": {},
   "source": [
    "## Helium"
   ]
  },
  {
   "cell_type": "code",
   "execution_count": 13,
   "metadata": {},
   "outputs": [],
   "source": [
    "def helium_collision_to_recomb(wave, temp, dens):\n",
    "    '''\n",
    "    Calculate the factor that corrects the\n",
    "    measured helium flux for emission due\n",
    "    to collisional excitation of neutral\n",
    "    helium\n",
    "\n",
    "    Assumes that at these densities\n",
    "    and temperatures, all neutral helium is\n",
    "    excited from the ground state\n",
    "\n",
    "    Parameters\n",
    "    ----------\n",
    "    wave : float\n",
    "        Wavelength of the Balmer line (in Angstroms)\n",
    "    temp : float\n",
    "        Temperature of the gas (in Kelvin)\n",
    "    dens : float\n",
    "        Density of the gas (cm^-3)\n",
    "\n",
    "    Returns\n",
    "    -------\n",
    "    helium_CR : float\n",
    "        Relative amount of collisional to\n",
    "        recombination emission for a given\n",
    "        helium line\n",
    "    '''\n",
    "    # Redefine the temperature\n",
    "    T4 = temp / 10000.\n",
    "\n",
    "    # Find which Upper Level this wavelength comes from\n",
    "    wave_idx = np.where(np.abs(helium_emis_coeff['Wavelength'] - wave) < 3)[0]\n",
    "    upper_level = helium_emis_coeff['Upper Level'][wave_idx]\n",
    "    #    print ('Upper Level of HeI', wave, 'is', upper_level)\n",
    "\n",
    "    # Match coefficients for C/R calculation\n",
    "    idx = np.where(helium_CR_coeff['n 2S+1L (Upper)'] == upper_level)[0]\n",
    "\n",
    "    # Calculate the summation term in Equation A2 of PFM 2007 Citation (2)\n",
    "    sum_upper_lev = np.sum(\n",
    "        helium_CR_coeff['ai'][idx] * (T4 ** helium_CR_coeff['bi'][idx]) * np.exp(helium_CR_coeff['ci'][idx] / T4))\n",
    "\n",
    "    # Amount of collisional to recombination emission; from Equation A2 of PFM 2007\n",
    "    helium_CR = ((1 + (3552. * (T4 ** -0.55) / dens))**-1) * sum_upper_lev\n",
    "\n",
    "    return helium_CR"
   ]
  },
  {
   "cell_type": "markdown",
   "metadata": {},
   "source": [
    "# Reddening"
   ]
  },
  {
   "cell_type": "code",
   "execution_count": 14,
   "metadata": {},
   "outputs": [],
   "source": [
    "# Seaton 1979 extinction curve + interpolation over it\n",
    "f_lambda_avg = Table.read(path+'/tables/average_extinction_curve', format='ascii', delimiter=' ')\n",
    "f_lambda_avg_interp = interp.interp1d(f_lambda_avg['wavelength'], f_lambda_avg['X(x)'])"
   ]
  },
  {
   "cell_type": "code",
   "execution_count": 15,
   "metadata": {},
   "outputs": [],
   "source": [
    "def reddening_coefficient(wave):\n",
    "    '''\n",
    "    Calculate the reddening coefficient\n",
    "    at a given wavelength\n",
    "    \n",
    "    Parameters\n",
    "    ----------\n",
    "    wave : float\n",
    "        Wavelength of interest (in Angstroms)\n",
    "    '''\n",
    "    \n",
    "    x = 1 / (wave * 0.0001) # change Angstrom wavelength to microns; 10000A = 1micron\n",
    "    \n",
    "    y = x - 1.82\n",
    "    a = 1 + 0.17699*y - 0.50447*y**2 - 0.02427*y**3 + 0.72085*y**4 + 0.01979*y**5 - 0.77530*y**6 + 0.32999*y**7\n",
    "    b = 1.41338*y + 2.28305*y**2 + 1.07233*y**3 - 5.38434*y**4 - 0.62251*y**5 + 5.30260*y**6 - 2.09002*y**7\n",
    "    \n",
    "    Rv = 3.1\n",
    "    \n",
    "    Alambda_AV = a + (b/Rv)\n",
    "    \n",
    "    return Alambda_AV"
   ]
  },
  {
   "cell_type": "code",
   "execution_count": 16,
   "metadata": {},
   "outputs": [
    {
     "name": "stdout",
     "output_type": "stream",
     "text": [
      "-0.35443498323310574\n"
     ]
    }
   ],
   "source": [
    "print ( (reddening_coefficient(6993.006993006994)/reddening_coefficient(balmer_lines[1])) - 1)"
   ]
  },
  {
   "cell_type": "code",
   "execution_count": 17,
   "metadata": {},
   "outputs": [
    {
     "data": {
      "text/plain": [
       "-0.3743855025856787"
      ]
     },
     "execution_count": 17,
     "metadata": {},
     "output_type": "execute_result"
    }
   ],
   "source": [
    "(f_lambda_avg_interp(6993.006993006994) / f_lambda_avg_interp(balmer_lines[1])) - 1"
   ]
  },
  {
   "cell_type": "markdown",
   "metadata": {},
   "source": [
    "# Generate model flux ratios"
   ]
  },
  {
   "cell_type": "code",
   "execution_count": 18,
   "metadata": {},
   "outputs": [],
   "source": [
    "def generate_emission_line_ratio(filename, waves, EWs, EW_Hb, y_plus, temp, dens, c_Hb, a_H, a_He, tau_He, xi):\n",
    "    '''\n",
    "    Generate the predicted flux ratio\n",
    "    F(λ)/F(Hβ)\n",
    "    \n",
    "    Parameters\n",
    "    ----------\n",
    "    waves : array or float\n",
    "        Wavelength of line(s) of interest (in Angstroms)\n",
    "    EWs : array or float\n",
    "        Equivalent width of line(s) of interest (in Angstroms)\n",
    "    EW_Hb : float\n",
    "        Equivalent width of Hβ (in Angstroms)\n",
    "    y_plus : float\n",
    "        He+/H+ ratio; abundance of\n",
    "        singly ionized helium\n",
    "    temp : float\n",
    "        Temperature of the gas (in Kelvin)\n",
    "    dens : float\n",
    "        Density of the gas (cm^-3)\n",
    "    c_Hb : float\n",
    "        Amount of reddening, in both\n",
    "        the system and in the line\n",
    "        of sight\n",
    "    a_H : float\n",
    "        Underlying hydrogen stellar\n",
    "        absorption (in Angstroms) at Hβ\n",
    "    a_He : float\n",
    "        Underlying helium stellar\n",
    "        absorption (in Angstroms) at HeI λ4472\n",
    "    tau_He : float\n",
    "        Optical depth at HeI λ3889\n",
    "    xi : float\n",
    "        Ratio of density of neutral hydrogen\n",
    "        to singly ionized hydrogen\n",
    "        \n",
    "    Returns\n",
    "    -------\n",
    "    flux_ratio : float\n",
    "    '''\n",
    "    emis_lines = np.sort(np.concatenate((balmer_lines, helium_lines)))[1:] # 1: to remove the duplicate HeI+H8 3890 line\n",
    "\n",
    "    species = []\n",
    "    wavelength = []\n",
    "    flux_ratio = []\n",
    "    \n",
    "    collisional_to_recomb_Hbeta = hydrogen_collision_to_recomb(xi, balmer_lines[1], temp)\n",
    "    f_lambda_at_Hbeta = f_lambda_avg_interp(balmer_lines[1])\n",
    "    AHbeta_AV = reddening_coefficient(balmer_lines[1])\n",
    "\n",
    "    for w in range(len(waves)):\n",
    "        # Determine if working with hydrogen or helium line; within 3 Angstroms is arbitrary but should cover difference in vacuum vs air wavelength\n",
    "        nearest_wave = emis_lines[np.where(np.abs(emis_lines - waves[w]) < 3)[0]][0]\n",
    "        \n",
    "        # Any Balmer line besides the blended HeI+H8 line (H8 at 3890.166)\n",
    "        if nearest_wave in balmer_lines and nearest_wave != 3890.166:\n",
    "            line_species = 'hydrogen'\n",
    "            \n",
    "            emissivity_ratio = hydrogen_emissivity(waves[w], temp, dens)\n",
    "            a_H_at_wave = stellar_absorption(waves[w], a_H, ion=line_species)            \n",
    "            collisional_to_recomb_ratio = hydrogen_collision_to_recomb(xi, waves[w], temp)            \n",
    "            #reddening_function = ( f_lambda_avg_interp(waves[w]) / f_lambda_at_Hbeta ) - 1.            \n",
    "            reddening_function = ( reddening_coefficient(waves[w]) / AHbeta_AV ) - 1.\n",
    "            \n",
    "            flux = emissivity_ratio * ( ( (EW_Hb + a_H)/(EW_Hb) ) / ( (EWs[w] + a_H_at_wave)/(EWs[w]) ) ) * \\\n",
    "                    ( (1 + collisional_to_recomb_ratio) / (1 + collisional_to_recomb_Hbeta) ) * \\\n",
    "                    10**-(reddening_function * c_Hb)\n",
    "                    \n",
    "        # Any HeI line besides the blended HeI+H8 line (HeI at 3890.151)\n",
    "        elif nearest_wave in helium_lines and nearest_wave != 3890.151:\n",
    "            line_species = 'helium'\n",
    "            \n",
    "            emissivity_ratio = helium_emissivity_2007(waves[w], temp, dens)            \n",
    "            a_He_at_wave = stellar_absorption(waves[w], a_He, ion=line_species)            \n",
    "            optical_depth_at_wave = optical_depth_function(waves[w], temp, dens, tau_He)            \n",
    "            collisional_to_recomb_ratio = helium_collision_to_recomb(waves[w], temp, dens)            \n",
    "            #reddening_function = ( f_lambda_avg_interp(waves[w]) / f_lambda_at_Hbeta ) - 1.\n",
    "            reddening_function = ( reddening_coefficient(waves[w]) / AHbeta_AV ) - 1.\n",
    "\n",
    "            flux = y_plus * emissivity_ratio * ( ( (EW_Hb + a_H)/(EW_Hb) ) / ( (EWs[w] + a_He_at_wave)/(EWs[w]) ) ) * \\\n",
    "                    optical_depth_at_wave * ( (1 + collisional_to_recomb_ratio) / (1 + collisional_to_recomb_Hbeta) ) * \\\n",
    "                    10**-(reddening_function * c_Hb)\n",
    "        \n",
    "        # The blended HeI+H8 line\n",
    "        elif nearest_wave == 3890.151 or nearest_wave == 3890.166:\n",
    "            # HeI 3890.151 contribution:\n",
    "            line_species = 'helium'\n",
    "            \n",
    "            emissivity_ratio = helium_emissivity_2007(waves[w], temp, dens)\n",
    "            a_He_at_wave = stellar_absorption(waves[w], a_He, ion=line_species)            \n",
    "            optical_depth_at_wave = optical_depth_function(waves[w], temp, dens, tau_He)            \n",
    "            collisional_to_recomb_ratio = helium_collision_to_recomb(waves[w], temp, dens)            \n",
    "            #reddening_function = ( f_lambda_avg_interp(waves[w]) / f_lambda_at_Hbeta ) - 1.\n",
    "            reddening_function = ( reddening_coefficient(waves[w]) / AHbeta_AV ) - 1.\n",
    "\n",
    "            flux = y_plus * emissivity_ratio * ( ( (EW_Hb + a_H)/(EW_Hb) ) / ( (EWs[w] + a_He_at_wave)/(EWs[w]) ) ) * \\\n",
    "                    optical_depth_at_wave * ( (1 + collisional_to_recomb_ratio) / (1 + collisional_to_recomb_Hbeta) ) * \\\n",
    "                    10**-(reddening_function * c_Hb)\n",
    "                    \n",
    "            # H8 contribution:\n",
    "            line_species = 'hydrogen'\n",
    "\n",
    "            emissivity_ratio = hydrogen_emissivity(waves[w], temp, dens)\n",
    "            a_H_at_wave = stellar_absorption(waves[w], a_H, ion=line_species)            \n",
    "            collisional_to_recomb_factor = np.exp(( -13.6 * ((1/5**2)-(1/8**2)) ) / (8.6173303e-5 * temp)) # scale factor for C/R(Hg) to C/R(H8)\n",
    "            collisional_to_recomb_ratio = collisional_to_recomb_factor * hydrogen_collision_to_recomb(xi, 4341.684, temp) # Calculate C/R(Hg) and multiply by above scale factor\n",
    "            #reddening_function = ( f_lambda_avg_interp(waves[w]) / f_lambda_at_Hbeta ) - 1.            \n",
    "            reddening_function = ( reddening_coefficient(waves[w]) / AHbeta_AV ) - 1.\n",
    "            \n",
    "            flux += emissivity_ratio * ( ( (EW_Hb + a_H)/(EW_Hb) ) / ( (EWs[w] + a_H_at_wave)/(EWs[w]) ) ) * \\\n",
    "                    ( (1 + collisional_to_recomb_ratio) / (1 + collisional_to_recomb_Hbeta) ) * \\\n",
    "                    10**-(reddening_function * c_Hb)\n",
    "\n",
    "        flux_ratio.append(flux)\n",
    "        species.append(line_species)\n",
    "        wavelength.append(waves[w])\n",
    "        \n",
    "    flux_table = Table([wavelength, species, np.array(flux_ratio), EWs], names=('Wavelength', 'Species', 'Flux Ratio', 'EW'))\n",
    "    #flux_table.write(path+'/'+filename, format='ascii', overwrite=True)\n",
    "    \n",
    "    return flux_table"
   ]
  },
  {
   "cell_type": "markdown",
   "metadata": {},
   "source": [
    "# Test by parts"
   ]
  },
  {
   "cell_type": "markdown",
   "metadata": {},
   "source": [
    "filename, EWs, EW_Hb, y_plus, temp, dens, c_Hb, a_H, a_He, tau_He, xi"
   ]
  },
  {
   "cell_type": "code",
   "execution_count": null,
   "metadata": {},
   "outputs": [],
   "source": [
    "generate_emission_line_ratio('Hg', [4341.684], [54.6], 183.2, 0.0837, 17100, 1, 0.10, 0.94, 0.5, 0.0, 0.0)"
   ]
  },
  {
   "cell_type": "code",
   "execution_count": null,
   "metadata": {},
   "outputs": [],
   "source": [
    "generate_emission_line_ratio('LeoP', [3890.166, 4027.328, 4102.891, 4341.684, 4472.755, 4862.721, 5017.079, 5877.299, 6564.612, 6679.994, 7067.198], [16.3, 1.0, 26.5, 54.6, 4.5, 183.2, 5.0, 30.2, 1222.0, 14.3, 12.8], 183.2, 0.0837, 17100, 1, 0.1, 0.94, 0.50, 0.0, 0)"
   ]
  },
  {
   "cell_type": "code",
   "execution_count": null,
   "metadata": {},
   "outputs": [],
   "source": [
    "orig_input = Table.read('LeoP', format='ascii', delimiter=' ')\n",
    "orig_input"
   ]
  },
  {
   "cell_type": "code",
   "execution_count": null,
   "metadata": {},
   "outputs": [],
   "source": []
  }
 ],
 "metadata": {
  "kernelspec": {
   "display_name": "Python 3",
   "language": "python",
   "name": "python3"
  },
  "language_info": {
   "codemirror_mode": {
    "name": "ipython",
    "version": 3
   },
   "file_extension": ".py",
   "mimetype": "text/x-python",
   "name": "python",
   "nbconvert_exporter": "python",
   "pygments_lexer": "ipython3",
   "version": "3.6.4"
  }
 },
 "nbformat": 4,
 "nbformat_minor": 2
}
