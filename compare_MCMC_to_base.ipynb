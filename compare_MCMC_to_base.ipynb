{
 "cells": [
  {
   "cell_type": "markdown",
   "metadata": {},
   "source": [
    "# Imports"
   ]
  },
  {
   "cell_type": "code",
   "execution_count": 127,
   "metadata": {},
   "outputs": [],
   "source": [
    "%matplotlib inline\n",
    "    \n",
    "import numpy as np\n",
    "\n",
    "from astropy.table import Column\n",
    "from astropy.table import Table\n",
    "from matplotlib import pyplot as plt\n",
    "from matplotlib.ticker import MaxNLocator\n",
    "import matplotlib.cm as cm\n",
    "\n",
    "import corner\n",
    "import model_flux_ratio as mfr"
   ]
  },
  {
   "cell_type": "code",
   "execution_count": 128,
   "metadata": {},
   "outputs": [
    {
     "data": {
      "text/plain": [
       "<module 'model_flux_ratio' from '/Users/thsyu/Software/Yp/model_flux_ratio.py'>"
      ]
     },
     "execution_count": 128,
     "metadata": {},
     "output_type": "execute_result"
    }
   ],
   "source": [
    "import importlib\n",
    "importlib.reload(mfr)"
   ]
  },
  {
   "cell_type": "code",
   "execution_count": 129,
   "metadata": {},
   "outputs": [
    {
     "name": "stdout",
     "output_type": "stream",
     "text": [
      "/Users/thsyu/Software/Yp\n"
     ]
    }
   ],
   "source": [
    "import os\n",
    "\n",
    "print (os.getcwd())"
   ]
  },
  {
   "cell_type": "markdown",
   "metadata": {},
   "source": [
    "We have our version of the MCMC that should the *best* we can do to reproduce Erik's 2013 primordial helium abundance analysis work (AOS 2013) using only optical data -- this is called 'ours_base'. It includes:\n",
    "\n",
    "- hydrogen emissivities from Hummer & Storey 1987, using the reparameterization from AOS 2010\n",
    "- helium emissivities from Porter 2012, assuming linear interpolation with RectBivariateSpline\n",
    "- reddening curve from SMC\n",
    "\n",
    "We want to then make tweaks to the above components and compare the results of those MCMCs with 'ours_base':\n",
    "- 'ours_CCMred': reddening curve from Cardelli, Clayton, & Mathis 1989\n",
    "- 'ours_S2018_11': hydrogen emissivities from Storey 2018, using linear interpolation with RBS\n",
    "- 'ours_S2018_33': hydrogen emissivities from Storey 2018, using cubic interpolation with RBS\n",
    "\n",
    "And maybe/eventually:\n",
    "- 'ours_P2012_33': helium emissivities from Porter 2012, using cubic interpolation with RBS\n",
    "- hydrogen emissivities using a PCA then RBS\n",
    "- adding HeI10830"
   ]
  },
  {
   "cell_type": "markdown",
   "metadata": {},
   "source": [
    "# Read in MCMC results"
   ]
  },
  {
   "cell_type": "code",
   "execution_count": 130,
   "metadata": {},
   "outputs": [],
   "source": [
    "# Names of systems in AOS2015 that \"qualified\" for helium abundance measurements\n",
    "qualifying = ['CGCG 007-025 (No.  2)', 'I Zw 18 SE 1', 'Mrk  209', 'Mrk  450 (No.  1)', 'Mrk  71 (No.  1)', \\\n",
    "             'SBS 0335-052E1', 'SBS 0335-052E3', 'SBS 0940+544 2', 'SBS 1030+583', 'SBS 1135+581', \\\n",
    "             'SBS 1152+579', 'Mrk  59', 'SBS 1415+437 (No.  2)', 'SBS 1415+437 (No.  1) 3', 'Tol 65']\n",
    "\n",
    "qualifying.remove('SBS 1415+437 (No.  2)') # No HeI4027 for this system (they're measured to be 0)"
   ]
  },
  {
   "cell_type": "markdown",
   "metadata": {},
   "source": [
    "## For a batch.sh file"
   ]
  },
  {
   "cell_type": "markdown",
   "metadata": {},
   "source": [
    "Can paste this into a batch.sh file and run 'source batch.sh' to run the MCMCs in sucession. Takes ~5 mins each"
   ]
  },
  {
   "cell_type": "code",
   "execution_count": 131,
   "metadata": {
    "scrolled": true
   },
   "outputs": [
    {
     "name": "stdout",
     "output_type": "stream",
     "text": [
      "python  CGCG007025No2.py\n",
      "python  IZw18SE1.py\n",
      "python  Mrk209.py\n",
      "python  Mrk450No1.py\n",
      "python  Mrk71No1.py\n",
      "python  SBS0335052E1.py\n",
      "python  SBS0335052E3.py\n",
      "python  SBS0940+5442.py\n",
      "python  SBS1030+583.py\n",
      "python  SBS1135+581.py\n",
      "python  SBS1152+579.py\n",
      "python  Mrk59.py\n",
      "python  SBS1415+437No13.py\n",
      "python  Tol65.py\n"
     ]
    }
   ],
   "source": [
    "for obj in range(len(qualifying)):\n",
    "    name = str(qualifying[obj].replace(' ', '').replace('(','').replace('-', '').replace(')','').replace('.', ''))\n",
    "    print ('python ', name+'.py')"
   ]
  },
  {
   "cell_type": "markdown",
   "metadata": {},
   "source": [
    "## Find optical Te[OIII] on these systems for temperature prior"
   ]
  },
  {
   "cell_type": "code",
   "execution_count": 132,
   "metadata": {},
   "outputs": [],
   "source": [
    "hebcd = Table.read('/Users/thsyu/Software/Yp/test_data/HeBCD', format='ascii', delimiter=' ')"
   ]
  },
  {
   "cell_type": "code",
   "execution_count": 133,
   "metadata": {},
   "outputs": [
    {
     "name": "stdout",
     "output_type": "stream",
     "text": [
      "CGCG007025No2 16500\n",
      "IZw18SE1 19000\n",
      "Mrk59 13500\n",
      "Mrk71No1 15600\n",
      "Mrk209 16100\n",
      "Mrk450No1 11700\n",
      "SBS0335052E1 20099\n",
      "SBS0335052E3 20800\n",
      "SBS0940+5442 18700\n",
      "SBS1030+583 15500\n",
      "SBS1135+581 12600\n",
      "SBS1152+579 15400\n",
      "SBS1415+437No13 17000\n",
      "Tol65 17200\n"
     ]
    }
   ],
   "source": [
    "for r in range(len(hebcd)):\n",
    "    hebcd_name = hebcd['Name'][r].replace('()', '').replace('(','').replace('-', '').replace(')','').replace('.', '')\n",
    "    for obj in range(len(qualifying)):\n",
    "        name = str(qualifying[obj].replace(' ', '').replace('(','').replace('-', '').replace(')','').replace('.', ''))\n",
    "        if name == hebcd_name:\n",
    "            print (hebcd_name, int(hebcd['TeOIII'][r]*1e4))"
   ]
  },
  {
   "cell_type": "markdown",
   "metadata": {},
   "source": [
    "## Store MCMC recovered parameters"
   ]
  },
  {
   "cell_type": "markdown",
   "metadata": {},
   "source": [
    "### Optical"
   ]
  },
  {
   "cell_type": "code",
   "execution_count": 134,
   "metadata": {},
   "outputs": [],
   "source": [
    "# Different versions of the MCMC results so far\n",
    "diffs = ['ours_base', 'ours_CCMred', 'ours_S2018_11', 'ours_S2018_33']\n",
    "\n",
    "nwalkers = 500\n",
    "nmbr = 1000\n",
    "burnin = int(0.8*nmbr) #int(0.1*nmbr)\n",
    "\n",
    "num = nwalkers * ( nmbr-burnin )"
   ]
  },
  {
   "cell_type": "code",
   "execution_count": 135,
   "metadata": {},
   "outputs": [],
   "source": [
    "base_yplus = np.zeros((len(qualifying),num))\n",
    "base_temp = np.zeros((len(qualifying),num))\n",
    "base_dens = np.zeros((len(qualifying),num))\n",
    "base_cHb = np.zeros((len(qualifying),num))\n",
    "base_aH = np.zeros((len(qualifying),num))\n",
    "base_aHe = np.zeros((len(qualifying),num))\n",
    "base_tauHe = np.zeros((len(qualifying),num))\n",
    "base_xi = np.zeros((len(qualifying),num))"
   ]
  },
  {
   "cell_type": "code",
   "execution_count": 136,
   "metadata": {},
   "outputs": [],
   "source": [
    "CCMred_yplus = np.zeros((len(qualifying),num))\n",
    "CCMred_temp = np.zeros((len(qualifying),num))\n",
    "CCMred_dens = np.zeros((len(qualifying),num))\n",
    "CCMred_cHb = np.zeros((len(qualifying),num))\n",
    "CCMred_aH = np.zeros((len(qualifying),num))\n",
    "CCMred_aHe = np.zeros((len(qualifying),num))\n",
    "CCMred_tauHe = np.zeros((len(qualifying),num))\n",
    "CCMred_xi = np.zeros((len(qualifying),num))"
   ]
  },
  {
   "cell_type": "code",
   "execution_count": 137,
   "metadata": {},
   "outputs": [],
   "source": [
    "S2018_11_yplus = np.zeros((len(qualifying),num))\n",
    "S2018_11_temp = np.zeros((len(qualifying),num))\n",
    "S2018_11_dens = np.zeros((len(qualifying),num))\n",
    "S2018_11_cHb = np.zeros((len(qualifying),num))\n",
    "S2018_11_aH = np.zeros((len(qualifying),num))\n",
    "S2018_11_aHe = np.zeros((len(qualifying),num))\n",
    "S2018_11_tauHe = np.zeros((len(qualifying),num))\n",
    "S2018_11_xi = np.zeros((len(qualifying),num))"
   ]
  },
  {
   "cell_type": "code",
   "execution_count": 138,
   "metadata": {},
   "outputs": [],
   "source": [
    "S2018_33_yplus = np.zeros((len(qualifying),num))\n",
    "S2018_33_temp = np.zeros((len(qualifying),num))\n",
    "S2018_33_dens = np.zeros((len(qualifying),num))\n",
    "S2018_33_cHb = np.zeros((len(qualifying),num))\n",
    "S2018_33_aH = np.zeros((len(qualifying),num))\n",
    "S2018_33_aHe = np.zeros((len(qualifying),num))\n",
    "S2018_33_tauHe = np.zeros((len(qualifying),num))\n",
    "S2018_33_xi = np.zeros((len(qualifying),num))"
   ]
  },
  {
   "cell_type": "code",
   "execution_count": 139,
   "metadata": {
    "scrolled": true
   },
   "outputs": [
    {
     "name": "stdout",
     "output_type": "stream",
     "text": [
      "Working on  3890.166\n",
      "Working on  4027.328\n",
      "Working on  4102.891\n",
      "Working on  4341.684\n",
      "Working on  4472.755\n",
      "Working on  4862.721\n",
      "Working on  5877.299\n",
      "Working on  6564.612\n",
      "Working on  6679.994\n",
      "Working on  7067.198\n",
      "CGCG007025No2 [4.49787165e-01 1.80441465e-01 2.16994306e+00 1.97001353e+00\n",
      " 1.44056567e-01 0.00000000e+00 5.65519638e-01 8.72532574e-01\n",
      " 1.30790913e-01 1.36586249e-03] 6.484450784356661 \n",
      "\n",
      "Working on  3890.166\n",
      "Working on  4027.328\n",
      "Working on  4102.891\n",
      "Working on  4341.684\n",
      "Working on  4472.755\n",
      "Working on  4862.721\n",
      "Working on  5877.299\n",
      "Working on  6564.612\n",
      "Working on  6679.994\n",
      "Working on  7067.198\n",
      "IZw18SE1 [0.75161118 0.05441803 0.01713053 0.11354363 0.05549173 0.\n",
      " 0.30048235 0.26086077 0.01404437 0.00398215] 1.5715647363016203 \n",
      "\n",
      "Working on  3890.166\n",
      "Working on  4027.328\n",
      "Working on  4102.891\n",
      "Working on  4341.684\n",
      "Working on  4472.755\n",
      "Working on  4862.721\n",
      "Working on  5877.299\n",
      "Working on  6564.612\n",
      "Working on  6679.994\n",
      "Working on  7067.198\n",
      "Mrk209 [7.63916640e-03 3.22399672e-04 2.20994823e-02 1.51959245e-01\n",
      " 2.36016452e-03 0.00000000e+00 3.25784676e-01 4.55492147e-01\n",
      " 1.05007262e-01 1.73370813e-04] 1.0708379130561725 \n",
      "\n",
      "Working on  3890.166\n",
      "Working on  4027.328\n",
      "Working on  4102.891\n",
      "Working on  4341.684\n",
      "Working on  4472.755\n",
      "Working on  4862.721\n",
      "Working on  5877.299\n",
      "Working on  6564.612\n",
      "Working on  6679.994\n",
      "Working on  7067.198\n",
      "Mrk450No1 [0.4773226  0.01909539 1.12014991 3.02493057 0.26724024 0.\n",
      " 0.35300001 0.02722356 0.00524438 1.10931574] 6.40352239475887 \n",
      "\n",
      "Working on  3890.166\n",
      "Working on  4027.328\n",
      "Working on  4102.891\n",
      "Working on  4341.684\n",
      "Working on  4472.755\n",
      "Working on  4862.721\n",
      "Working on  5877.299\n",
      "Working on  6564.612\n",
      "Working on  6679.994\n",
      "Working on  7067.198\n",
      "Mrk71No1 [0.03841518 0.06982208 0.22769464 0.4139371  0.38748289 0.\n",
      " 0.52502533 0.20452389 0.61983402 0.31970414] 2.806439269102714 \n",
      "\n",
      "Working on  3890.166\n",
      "Working on  4027.328\n",
      "Working on  4102.891\n",
      "Working on  4341.684\n",
      "Working on  4472.755\n",
      "Working on  4862.721\n",
      "Working on  5877.299\n",
      "Working on  6564.612\n",
      "Working on  6679.994\n",
      "Working on  7067.198\n",
      "SBS0335052E1 [0.00740132 0.01800542 0.13055636 0.53138245 0.14878519 0.\n",
      " 0.43183019 0.1826311  0.00847041 0.13906183] 1.5981242785719987 \n",
      "\n",
      "Working on  3890.166\n",
      "Working on  4027.328\n",
      "Working on  4102.891\n",
      "Working on  4341.684\n",
      "Working on  4472.755\n",
      "Working on  4862.721\n",
      "Working on  5877.299\n",
      "Working on  6564.612\n",
      "Working on  6679.994\n",
      "Working on  7067.198\n",
      "SBS0335052E3 [0.04117589 0.01995718 0.01798765 5.12563425 0.15270452 0.\n",
      " 1.23819683 0.92987995 0.0315476  0.52871219] 8.085796068608866 \n",
      "\n",
      "Working on  3890.166\n",
      "Working on  4027.328\n",
      "Working on  4102.891\n",
      "Working on  4341.684\n",
      "Working on  4472.755\n",
      "Working on  4862.721\n",
      "Working on  5877.299\n",
      "Working on  6564.612\n",
      "Working on  6679.994\n",
      "Working on  7067.198\n",
      "SBS0940+5442 [5.45174088e-02 7.11901678e-02 2.53716019e-01 2.53913785e-01\n",
      " 1.57289733e-01 0.00000000e+00 2.79247976e-02 2.36123846e-01\n",
      " 4.80989470e-06 5.97213693e-02] 1.1144019370792044 \n",
      "\n",
      "Working on  3890.166\n",
      "Working on  4027.328\n",
      "Working on  4102.891\n",
      "Working on  4341.684\n",
      "Working on  4472.755\n",
      "Working on  4862.721\n",
      "Working on  5877.299\n",
      "Working on  6564.612\n",
      "Working on  6679.994\n",
      "Working on  7067.198\n",
      "SBS1030+583 [4.12628130e-04 1.34161755e-01 1.13603355e-02 4.69591862e-05\n",
      " 6.70716365e-01 0.00000000e+00 8.74445843e-01 8.02659370e-01\n",
      " 1.11789159e-02 9.12742180e-02] 2.596256390384021 \n",
      "\n",
      "Working on  3890.166\n",
      "Working on  4027.328\n",
      "Working on  4102.891\n",
      "Working on  4341.684\n",
      "Working on  4472.755\n",
      "Working on  4862.721\n",
      "Working on  5877.299\n",
      "Working on  6564.612\n",
      "Working on  6679.994\n",
      "Working on  7067.198\n",
      "SBS1135+581 [1.35274643 0.12473243 0.12995069 0.73736772 0.6861553  0.\n",
      " 0.89954841 0.18376782 0.04602463 0.34512198] 4.505415407831694 \n",
      "\n",
      "Working on  3890.166\n",
      "Working on  4027.328\n",
      "Working on  4102.891\n",
      "Working on  4341.684\n",
      "Working on  4472.755\n",
      "Working on  4862.721\n",
      "Working on  5877.299\n",
      "Working on  6564.612\n",
      "Working on  6679.994\n",
      "Working on  7067.198\n",
      "SBS1152+579 [1.62574079e-01 3.19110807e-06 5.39670984e-02 1.93960426e+00\n",
      " 3.06529675e-02 0.00000000e+00 9.44821255e-02 4.45316721e-02\n",
      " 7.71140518e-01 6.63367027e-01] 3.760322933064676 \n",
      "\n",
      "Working on  3890.166\n",
      "Working on  4027.328\n",
      "Working on  4102.891\n",
      "Working on  4341.684\n",
      "Working on  4472.755\n",
      "Working on  4862.721\n",
      "Working on  5877.299\n",
      "Working on  6564.612\n",
      "Working on  6679.994\n",
      "Working on  7067.198\n",
      "Mrk59 [1.25531033e-01 3.44529986e-02 1.86761944e-02 3.32868864e-01\n",
      " 1.41308658e-01 0.00000000e+00 1.51519553e-02 3.74435197e-06\n",
      " 1.55462259e-01 4.73398174e-01] 1.2968538804911318 \n",
      "\n",
      "Working on  3890.166\n",
      "Working on  4027.328\n",
      "Working on  4102.891\n",
      "Working on  4341.684\n",
      "Working on  4472.755\n",
      "Working on  4862.721\n",
      "Working on  5877.299\n",
      "Working on  6564.612\n",
      "Working on  6679.994\n",
      "Working on  7067.198\n",
      "SBS1415+437No13 [4.16087708e-05 4.99811620e-02 1.60968272e-01 5.63672029e-02\n",
      " 1.59915266e-01 0.00000000e+00 1.13176347e-01 2.23237872e-02\n",
      " 2.02218104e+00 4.12715948e-01] 2.997670630802147 \n",
      "\n",
      "Working on  3890.166\n",
      "Working on  4027.328\n",
      "Working on  4102.891\n",
      "Working on  4341.684\n",
      "Working on  4472.755\n",
      "Working on  4862.721\n",
      "Working on  5877.299\n",
      "Working on  6564.612\n",
      "Working on  6679.994\n",
      "Working on  7067.198\n",
      "Tol65 [0.15026488 0.01266854 0.19427314 0.69591336 0.24027177 0.\n",
      " 1.79583    0.03773129 0.47159241 0.8800697 ] 4.478615084959879 \n",
      "\n",
      "Working on  3890.166\n",
      "Working on  4027.328\n",
      "Working on  4102.891\n",
      "Working on  4341.684\n",
      "Working on  4472.755\n",
      "Working on  4862.721\n",
      "Working on  5877.299\n",
      "Working on  6564.612\n",
      "Working on  6679.994\n",
      "Working on  7067.198\n",
      "CGCG007025No2 [1.56406932 0.05809931 1.32066992 1.41774993 0.40613339 0.\n",
      " 0.15867513 1.99355036 0.0833663  0.01125129] 7.013564950770775 \n",
      "\n",
      "Working on  3890.166\n",
      "Working on  4027.328\n",
      "Working on  4102.891\n",
      "Working on  4341.684\n",
      "Working on  4472.755\n",
      "Working on  4862.721\n",
      "Working on  5877.299\n",
      "Working on  6564.612\n",
      "Working on  6679.994\n",
      "Working on  7067.198\n",
      "IZw18SE1 [9.62995353e-01 4.49474657e-02 4.66860495e-04 1.38544306e-01\n",
      " 5.17671520e-02 0.00000000e+00 2.73589127e-01 3.14588134e-01\n",
      " 9.10831744e-03 4.49160390e-06] 1.7960112074108827 \n",
      "\n",
      "Working on  3890.166\n",
      "Working on  4027.328\n",
      "Working on  4102.891\n",
      "Working on  4341.684\n",
      "Working on  4472.755\n",
      "Working on  4862.721\n",
      "Working on  5877.299\n",
      "Working on  6564.612\n",
      "Working on  6679.994\n",
      "Working on  7067.198\n",
      "Mrk209 [0.00959718 0.00100829 0.07282093 0.18084525 0.0012633  0.\n",
      " 0.36586427 0.5229762  0.10615868 0.00184196] 1.2623760414243426 \n",
      "\n",
      "Working on  3890.166\n",
      "Working on  4027.328\n",
      "Working on  4102.891\n",
      "Working on  4341.684\n",
      "Working on  4472.755\n",
      "Working on  4862.721\n",
      "Working on  5877.299\n",
      "Working on  6564.612\n",
      "Working on  6679.994\n",
      "Working on  7067.198\n",
      "Mrk450No1 [0.60483238 0.03259549 5.29106072 1.8360578  0.37953731 0.\n",
      " 0.08336328 0.02672568 0.05449925 0.58286891] 8.891540815454727 \n",
      "\n",
      "Working on  3890.166\n",
      "Working on  4027.328\n",
      "Working on  4102.891\n",
      "Working on  4341.684\n",
      "Working on  4472.755\n",
      "Working on  4862.721\n",
      "Working on  5877.299\n",
      "Working on  6564.612\n",
      "Working on  6679.994\n",
      "Working on  7067.198\n",
      "Mrk71No1 [0.86485121 0.16511412 0.0452486  0.87088081 0.2164296  0.\n",
      " 0.295664   0.13732984 0.87415406 0.09624594] 3.5659181849073707 \n",
      "\n",
      "Working on  3890.166\n",
      "Working on  4027.328\n",
      "Working on  4102.891\n",
      "Working on  4341.684\n",
      "Working on  4472.755\n",
      "Working on  4862.721\n",
      "Working on  5877.299\n",
      "Working on  6564.612\n",
      "Working on  6679.994\n",
      "Working on  7067.198\n",
      "SBS0335052E1 [0.49884593 0.00575413 0.01930376 0.30776432 0.1088576  0.\n",
      " 0.14461186 0.04958915 0.04500626 0.05556605] 1.23529906496598 \n",
      "\n",
      "Working on  3890.166\n",
      "Working on  4027.328\n",
      "Working on  4102.891\n",
      "Working on  4341.684\n",
      "Working on  4472.755\n",
      "Working on  4862.721\n",
      "Working on  5877.299\n",
      "Working on  6564.612\n",
      "Working on  6679.994\n",
      "Working on  7067.198\n",
      "SBS0335052E3 [4.43989463 0.04905205 0.19352983 3.80534195 0.9840835  0.\n",
      " 0.25583041 2.28813919 0.2639375  0.18066491] 12.460473975540157 \n",
      "\n",
      "Working on  3890.166\n",
      "Working on  4027.328\n",
      "Working on  4102.891\n",
      "Working on  4341.684\n",
      "Working on  4472.755\n",
      "Working on  4862.721\n",
      "Working on  5877.299\n",
      "Working on  6564.612\n",
      "Working on  6679.994\n",
      "Working on  7067.198\n",
      "SBS0940+5442 [0.23913162 0.14216267 1.01124739 0.11596975 0.14005538 0.\n",
      " 0.00304096 0.13538391 0.01141105 0.040585  ] 1.8389877224617976 \n",
      "\n",
      "Working on  3890.166\n",
      "Working on  4027.328\n",
      "Working on  4102.891\n",
      "Working on  4341.684\n",
      "Working on  4472.755\n",
      "Working on  4862.721\n",
      "Working on  5877.299\n",
      "Working on  6564.612\n",
      "Working on  6679.994\n",
      "Working on  7067.198\n",
      "SBS1030+583 [0.02965162 0.1275312  0.04608388 0.00308762 0.68248601 0.\n",
      " 0.77388613 0.82647795 0.0041741  0.12466948] 2.6180480010694263 \n",
      "\n",
      "Working on  3890.166\n",
      "Working on  4027.328\n",
      "Working on  4102.891\n",
      "Working on  4341.684\n",
      "Working on  4472.755\n",
      "Working on  4862.721\n",
      "Working on  5877.299\n",
      "Working on  6564.612\n",
      "Working on  6679.994\n",
      "Working on  7067.198\n",
      "SBS1135+581 [3.26413551 0.0105165  0.38922188 1.28689393 0.71837188 0.\n",
      " 0.66681635 0.60545239 0.18346878 0.16820677] 7.2930839923823685 \n",
      "\n"
     ]
    },
    {
     "name": "stdout",
     "output_type": "stream",
     "text": [
      "Working on  3890.166\n",
      "Working on  4027.328\n",
      "Working on  4102.891\n",
      "Working on  4341.684\n",
      "Working on  4472.755\n",
      "Working on  4862.721\n",
      "Working on  5877.299\n",
      "Working on  6564.612\n",
      "Working on  6679.994\n",
      "Working on  7067.198\n",
      "SBS1152+579 [3.36309830e+00 1.97016731e-01 3.30682664e+00 8.23077449e-01\n",
      " 2.72193475e-03 0.00000000e+00 6.95953643e-02 3.59283020e-02\n",
      " 1.46549410e-01 1.10984029e-01] 8.055798161867708 \n",
      "\n",
      "Working on  3890.166\n",
      "Working on  4027.328\n",
      "Working on  4102.891\n",
      "Working on  4341.684\n",
      "Working on  4472.755\n",
      "Working on  4862.721\n",
      "Working on  5877.299\n",
      "Working on  6564.612\n",
      "Working on  6679.994\n",
      "Working on  7067.198\n",
      "Mrk59 [1.09013379 0.14747436 1.54210789 0.79899429 0.1227668  0.\n",
      " 0.08159507 0.07289975 0.04466645 0.32161761] 4.2222560110493275 \n",
      "\n",
      "Working on  3890.166\n",
      "Working on  4027.328\n",
      "Working on  4102.891\n",
      "Working on  4341.684\n",
      "Working on  4472.755\n",
      "Working on  4862.721\n",
      "Working on  5877.299\n",
      "Working on  6564.612\n",
      "Working on  6679.994\n",
      "Working on  7067.198\n",
      "SBS1415+437No13 [1.73429714e+00 8.50813099e-06 8.88544149e-02 1.48031629e-05\n",
      " 3.13127070e-01 0.00000000e+00 1.82382980e-03 1.06446345e-01\n",
      " 1.41024966e+00 2.17417079e-01] 3.872238853920534 \n",
      "\n",
      "Working on  3890.166\n",
      "Working on  4027.328\n",
      "Working on  4102.891\n",
      "Working on  4341.684\n",
      "Working on  4472.755\n",
      "Working on  4862.721\n",
      "Working on  5877.299\n",
      "Working on  6564.612\n",
      "Working on  6679.994\n",
      "Working on  7067.198\n",
      "Tol65 [0.99035134 0.0051566  2.66009804 0.29496147 0.29480975 0.\n",
      " 1.26327907 0.02216047 0.82343607 0.38543537] 6.739688202628098 \n",
      "\n",
      "Working on  3890.166\n",
      "Working on  4027.328\n",
      "Working on  4102.891\n",
      "Working on  4341.684\n",
      "Working on  4472.755\n",
      "Working on  4862.721\n",
      "Working on  5877.299\n",
      "Working on  6564.612\n",
      "Working on  6679.994\n",
      "Working on  7067.198\n",
      "CGCG007025No2 [0.25344922 0.18524476 2.27426501 2.04983875 0.12898531 0.\n",
      " 0.53320153 0.72015624 0.12397008 0.00232855] 6.271439448704445 \n",
      "\n",
      "Working on  3890.166\n",
      "Working on  4027.328\n",
      "Working on  4102.891\n",
      "Working on  4341.684\n",
      "Working on  4472.755\n",
      "Working on  4862.721\n",
      "Working on  5877.299\n",
      "Working on  6564.612\n",
      "Working on  6679.994\n",
      "Working on  7067.198\n",
      "IZw18SE1 [6.82229654e-01 4.62063550e-02 2.59440646e-02 1.05848999e-01\n",
      " 5.68662119e-02 0.00000000e+00 3.70725763e-01 2.55755802e-01\n",
      " 1.97101954e-02 1.89207390e-05] 1.5633059659684414 \n",
      "\n",
      "Working on  3890.166\n",
      "Working on  4027.328\n",
      "Working on  4102.891\n",
      "Working on  4341.684\n",
      "Working on  4472.755\n",
      "Working on  4862.721\n",
      "Working on  5877.299\n",
      "Working on  6564.612\n",
      "Working on  6679.994\n",
      "Working on  7067.198\n",
      "Mrk209 [6.48742738e-02 1.16296980e-03 2.11027812e-02 1.50090525e-01\n",
      " 1.07983324e-03 0.00000000e+00 3.25842149e-01 4.66132123e-01\n",
      " 1.08587199e-01 9.95382969e-05] 1.1389713922921618 \n",
      "\n",
      "Working on  3890.166\n",
      "Working on  4027.328\n",
      "Working on  4102.891\n",
      "Working on  4341.684\n",
      "Working on  4472.755\n",
      "Working on  4862.721\n",
      "Working on  5877.299\n",
      "Working on  6564.612\n",
      "Working on  6679.994\n",
      "Working on  7067.198\n",
      "Mrk450No1 [0.87611977 0.01910901 1.06238621 3.11096442 0.21923001 0.\n",
      " 0.45132668 0.00776459 0.01268234 1.28024844] 7.039831487054029 \n",
      "\n",
      "Working on  3890.166\n",
      "Working on  4027.328\n",
      "Working on  4102.891\n",
      "Working on  4341.684\n",
      "Working on  4472.755\n",
      "Working on  4862.721\n",
      "Working on  5877.299\n",
      "Working on  6564.612\n",
      "Working on  6679.994\n",
      "Working on  7067.198\n",
      "Mrk71No1 [0.10674377 0.06803174 0.22091552 0.40700921 0.39641483 0.\n",
      " 0.46383244 0.16886305 0.66037682 0.21933675] 2.711524125575107 \n",
      "\n",
      "Working on  3890.166\n",
      "Working on  4027.328\n",
      "Working on  4102.891\n",
      "Working on  4341.684\n",
      "Working on  4472.755\n",
      "Working on  4862.721\n",
      "Working on  5877.299\n",
      "Working on  6564.612\n",
      "Working on  6679.994\n",
      "Working on  7067.198\n",
      "SBS0335052E1 [0.01051748 0.04006946 0.1376721  0.54490115 0.1513961  0.\n",
      " 0.33644984 0.15929392 0.00072402 0.15968654] 1.5407106159127604 \n",
      "\n",
      "Working on  3890.166\n",
      "Working on  4027.328\n",
      "Working on  4102.891\n",
      "Working on  4341.684\n",
      "Working on  4472.755\n",
      "Working on  4862.721\n",
      "Working on  5877.299\n",
      "Working on  6564.612\n",
      "Working on  6679.994\n",
      "Working on  7067.198\n",
      "SBS0335052E3 [0.07396082 0.02995174 0.01289244 5.11470413 0.11633813 0.\n",
      " 1.2438541  0.88529321 0.0354521  0.58369328] 8.096139956258954 \n",
      "\n",
      "Working on  3890.166\n",
      "Working on  4027.328\n",
      "Working on  4102.891\n",
      "Working on  4341.684\n",
      "Working on  4472.755\n",
      "Working on  4862.721\n",
      "Working on  5877.299\n",
      "Working on  6564.612\n",
      "Working on  6679.994\n",
      "Working on  7067.198\n",
      "SBS0940+5442 [0.08761365 0.04314753 0.23540643 0.26010259 0.2152188  0.\n",
      " 0.05880753 0.2402812  0.00247462 0.03651572] 1.179568070942516 \n",
      "\n",
      "Working on  3890.166\n",
      "Working on  4027.328\n",
      "Working on  4102.891\n",
      "Working on  4341.684\n",
      "Working on  4472.755\n",
      "Working on  4862.721\n",
      "Working on  5877.299\n",
      "Working on  6564.612\n",
      "Working on  6679.994\n",
      "Working on  7067.198\n",
      "SBS1030+583 [9.87719166e-03 1.37234742e-01 2.55139037e-03 4.14224718e-04\n",
      " 6.65268383e-01 0.00000000e+00 8.28917740e-01 8.09407352e-01\n",
      " 8.81819856e-03 1.37499513e-01] 2.5999887348800694 \n",
      "\n",
      "Working on  3890.166\n",
      "Working on  4027.328\n",
      "Working on  4102.891\n",
      "Working on  4341.684\n",
      "Working on  4472.755\n",
      "Working on  4862.721\n",
      "Working on  5877.299\n",
      "Working on  6564.612\n",
      "Working on  6679.994\n",
      "Working on  7067.198\n",
      "SBS1135+581 [0.40173773 0.13203828 0.1055576  0.67856205 0.43583813 0.\n",
      " 1.16669996 0.43806498 0.03387648 0.27614851] 3.6685237041201866 \n",
      "\n",
      "Working on  3890.166\n",
      "Working on  4027.328\n",
      "Working on  4102.891\n",
      "Working on  4341.684\n",
      "Working on  4472.755\n",
      "Working on  4862.721\n",
      "Working on  5877.299\n",
      "Working on  6564.612\n",
      "Working on  6679.994\n",
      "Working on  7067.198\n",
      "SBS1152+579 [2.04332578e-01 1.27612843e-04 5.76487494e-02 1.94404933e+00\n",
      " 1.24798270e-02 0.00000000e+00 3.90130064e-02 3.44063864e-02\n",
      " 6.70189122e-01 5.63584134e-01] 3.5258307494740753 \n",
      "\n",
      "Working on  3890.166\n",
      "Working on  4027.328\n",
      "Working on  4102.891\n",
      "Working on  4341.684\n",
      "Working on  4472.755\n",
      "Working on  4862.721\n",
      "Working on  5877.299\n",
      "Working on  6564.612\n",
      "Working on  6679.994\n",
      "Working on  7067.198\n",
      "Mrk59 [1.91850683e-01 4.12188870e-02 6.09070280e-03 3.07634724e-01\n",
      " 1.51403843e-01 0.00000000e+00 6.20848368e-03 5.91191193e-05\n",
      " 1.72975417e-01 5.22063415e-01] 1.3995052744250063 \n",
      "\n",
      "Working on  3890.166\n",
      "Working on  4027.328\n",
      "Working on  4102.891\n",
      "Working on  4341.684\n",
      "Working on  4472.755\n",
      "Working on  4862.721\n",
      "Working on  5877.299\n",
      "Working on  6564.612\n",
      "Working on  6679.994\n",
      "Working on  7067.198\n",
      "SBS1415+437No13 [0.02508114 0.05700208 0.23937458 0.08384158 0.09613044 0.\n",
      " 0.18837443 0.06003085 2.13423364 0.4428717 ] 3.3269404407278245 \n",
      "\n",
      "Working on  3890.166\n",
      "Working on  4027.328\n",
      "Working on  4102.891\n",
      "Working on  4341.684\n",
      "Working on  4472.755\n",
      "Working on  4862.721\n",
      "Working on  5877.299\n",
      "Working on  6564.612\n",
      "Working on  6679.994\n",
      "Working on  7067.198\n",
      "Tol65 [0.07545555 0.01020663 0.19571736 0.67773615 0.24727287 0.\n",
      " 1.81300462 0.06288459 0.45072009 0.89735184] 4.430349707515977 \n",
      "\n",
      "Working on  3890.166\n",
      "Working on  4027.328\n",
      "Working on  4102.891\n",
      "Working on  4341.684\n",
      "Working on  4472.755\n",
      "Working on  4862.721\n",
      "Working on  5877.299\n",
      "Working on  6564.612\n",
      "Working on  6679.994\n",
      "Working on  7067.198\n",
      "CGCG007025No2 [0.33325197 0.18469614 2.25467678 2.02571555 0.14295838 0.\n",
      " 0.51409447 0.77845447 0.12254151 0.00633623] 6.362725497876232 \n",
      "\n",
      "Working on  3890.166\n",
      "Working on  4027.328\n",
      "Working on  4102.891\n",
      "Working on  4341.684\n",
      "Working on  4472.755\n",
      "Working on  4862.721\n",
      "Working on  5877.299\n",
      "Working on  6564.612\n",
      "Working on  6679.994\n",
      "Working on  7067.198\n",
      "IZw18SE1 [0.74435059 0.04682671 0.02454862 0.10549031 0.04968696 0.\n",
      " 0.29578189 0.26869547 0.01292426 0.0036606 ] 1.5519654275962678 \n",
      "\n",
      "Working on  3890.166\n",
      "Working on  4027.328\n",
      "Working on  4102.891\n",
      "Working on  4341.684\n",
      "Working on  4472.755\n",
      "Working on  4862.721\n",
      "Working on  5877.299\n",
      "Working on  6564.612\n",
      "Working on  6679.994\n",
      "Working on  7067.198\n",
      "Mrk209 [6.12180044e-02 8.43410730e-04 2.16701660e-02 1.45696481e-01\n",
      " 2.02207338e-04 0.00000000e+00 4.29981099e-01 5.11778676e-01\n",
      " 1.35959120e-01 1.94453263e-03] 1.3092936978996832 \n",
      "\n",
      "Working on  3890.166\n",
      "Working on  4027.328\n",
      "Working on  4102.891\n",
      "Working on  4341.684\n",
      "Working on  4472.755\n",
      "Working on  4862.721\n",
      "Working on  5877.299\n",
      "Working on  6564.612\n",
      "Working on  6679.994\n",
      "Working on  7067.198\n",
      "Mrk450No1 [0.70098169 0.03223888 1.1097285  3.06144106 0.20442778 0.\n",
      " 0.4266357  0.01429894 0.01110245 1.08291638] 6.643771371992381 \n",
      "\n",
      "Working on  3890.166\n",
      "Working on  4027.328\n",
      "Working on  4102.891\n",
      "Working on  4341.684\n",
      "Working on  4472.755\n",
      "Working on  4862.721\n",
      "Working on  5877.299\n",
      "Working on  6564.612\n",
      "Working on  6679.994\n",
      "Working on  7067.198\n",
      "Mrk71No1 [0.11540457 0.07331056 0.27932464 0.36992789 0.42202947 0.\n",
      " 0.56175362 0.15699475 0.60978389 0.3092641 ] 2.897793493904451 \n",
      "\n",
      "Working on  3890.166\n",
      "Working on  4027.328\n",
      "Working on  4102.891\n",
      "Working on  4341.684\n",
      "Working on  4472.755\n",
      "Working on  4862.721\n",
      "Working on  5877.299\n",
      "Working on  6564.612\n",
      "Working on  6679.994\n",
      "Working on  7067.198\n",
      "SBS0335052E1 [0.00323813 0.03148058 0.12514064 0.5402945  0.16274437 0.\n",
      " 0.35728217 0.14124856 0.00078535 0.13827187] 1.5004861589472769 \n",
      "\n"
     ]
    },
    {
     "name": "stdout",
     "output_type": "stream",
     "text": [
      "Working on  3890.166\n",
      "Working on  4027.328\n",
      "Working on  4102.891\n",
      "Working on  4341.684\n",
      "Working on  4472.755\n",
      "Working on  4862.721\n",
      "Working on  5877.299\n",
      "Working on  6564.612\n",
      "Working on  6679.994\n",
      "Working on  7067.198\n",
      "SBS0335052E3 [0.06570446 0.02193363 0.01954986 5.11564767 0.12801652 0.\n",
      " 1.17233387 0.97354572 0.04452618 0.61835079] 8.159608700649285 \n",
      "\n",
      "Working on  3890.166\n",
      "Working on  4027.328\n",
      "Working on  4102.891\n",
      "Working on  4341.684\n",
      "Working on  4472.755\n",
      "Working on  4862.721\n",
      "Working on  5877.299\n",
      "Working on  6564.612\n",
      "Working on  6679.994\n",
      "Working on  7067.198\n",
      "SBS0940+5442 [1.02120372e-01 6.09722809e-02 2.52526119e-01 2.59806055e-01\n",
      " 1.85825324e-01 0.00000000e+00 3.38343715e-02 2.10199160e-01\n",
      " 9.46556376e-05 5.56526518e-02] 1.1610309902035898 \n",
      "\n",
      "Working on  3890.166\n",
      "Working on  4027.328\n",
      "Working on  4102.891\n",
      "Working on  4341.684\n",
      "Working on  4472.755\n",
      "Working on  4862.721\n",
      "Working on  5877.299\n",
      "Working on  6564.612\n",
      "Working on  6679.994\n",
      "Working on  7067.198\n",
      "SBS1030+583 [6.05178239e-03 1.04459203e-01 3.99036884e-03 1.04636009e-04\n",
      " 6.88197658e-01 0.00000000e+00 9.80118309e-01 7.72700477e-01\n",
      " 1.84278616e-02 1.49445589e-01] 2.7234958856254643 \n",
      "\n",
      "Working on  3890.166\n",
      "Working on  4027.328\n",
      "Working on  4102.891\n",
      "Working on  4341.684\n",
      "Working on  4472.755\n",
      "Working on  4862.721\n",
      "Working on  5877.299\n",
      "Working on  6564.612\n",
      "Working on  6679.994\n",
      "Working on  7067.198\n",
      "SBS1135+581 [0.51051563 0.13009101 0.10194925 0.72381429 0.51445413 0.\n",
      " 1.07951133 0.29742502 0.03276479 0.40418578] 3.7947112296767047 \n",
      "\n",
      "Working on  3890.166\n",
      "Working on  4027.328\n",
      "Working on  4102.891\n",
      "Working on  4341.684\n",
      "Working on  4472.755\n",
      "Working on  4862.721\n",
      "Working on  5877.299\n",
      "Working on  6564.612\n",
      "Working on  6679.994\n",
      "Working on  7067.198\n",
      "SBS1152+579 [0.27174681 0.00240901 0.0523136  1.94089541 0.01134688 0.\n",
      " 0.05344625 0.04440306 0.70719004 0.72532326] 3.80907431704034 \n",
      "\n",
      "Working on  3890.166\n",
      "Working on  4027.328\n",
      "Working on  4102.891\n",
      "Working on  4341.684\n",
      "Working on  4472.755\n",
      "Working on  4862.721\n",
      "Working on  5877.299\n",
      "Working on  6564.612\n",
      "Working on  6679.994\n",
      "Working on  7067.198\n",
      "Mrk59 [0.27738016 0.03821227 0.00816887 0.29707918 0.18276944 0.\n",
      " 0.00739164 0.00522283 0.15979884 0.5454389 ] 1.5214621308392684 \n",
      "\n",
      "Working on  3890.166\n",
      "Working on  4027.328\n",
      "Working on  4102.891\n",
      "Working on  4341.684\n",
      "Working on  4472.755\n",
      "Working on  4862.721\n",
      "Working on  5877.299\n",
      "Working on  6564.612\n",
      "Working on  6679.994\n",
      "Working on  7067.198\n",
      "SBS1415+437No13 [0.04758521 0.06172519 0.2588693  0.08965232 0.1131723  0.\n",
      " 0.13498938 0.06700661 2.03060308 0.45178916] 3.2553925575489817 \n",
      "\n",
      "Working on  3890.166\n",
      "Working on  4027.328\n",
      "Working on  4102.891\n",
      "Working on  4341.684\n",
      "Working on  4472.755\n",
      "Working on  4862.721\n",
      "Working on  5877.299\n",
      "Working on  6564.612\n",
      "Working on  6679.994\n",
      "Working on  7067.198\n",
      "Tol65 [0.07091914 0.00816029 0.18257531 0.71936803 0.24501459 0.\n",
      " 1.69907936 0.01984234 0.51279341 0.79805821] 4.255810679957315 \n",
      "\n"
     ]
    }
   ],
   "source": [
    "chisq = np.zeros((len(qualifying), 10)) # 10 is number of emission lines used in analysis\n",
    "# Also equal to len(input_vals) which comes on later in this block\n",
    "\n",
    "for d in range(len(diffs)):\n",
    "    \n",
    "    for obj in range(len(qualifying)):\n",
    "        name = str(qualifying[obj].replace(' ', '').replace('(','').replace('-', '').replace(')','').replace('.', ''))\n",
    "        \n",
    "        # Load .npy file\n",
    "        ndim = 8\n",
    "        onevar = -1\n",
    "\n",
    "#        nwalkers = 500\n",
    "#        nmbr = 1000\n",
    "#        burnin = int(0.8*nmbr) #int(0.1*nmbr)\n",
    "\n",
    "        chains = np.load('test_data/optical/'+diffs[d]+'/'+name+'_500walkers_1000steps.npy')\n",
    "        samples = chains[:, burnin:, :].reshape((-1, ndim))\n",
    "\n",
    "#        prenams = ['y+', 'temperature', '$log(n_{e})$', 'c(H\\\\beta)', '$a_{H}$', '$a_{He}$', '$\\\\tau_{He}', '$log(\\\\xi)$'] #'$n_{HI}$']\n",
    "\n",
    "        y_plus_mcmc, temp_mcmc, log_dens_mcmc, c_Hb_mcmc, a_H_mcmc, a_He_mcmc, tau_He_mcmc, log_xi_mcmc = map(\n",
    "            lambda v: (v[1], v[2] - v[1], v[1] - v[0]), zip(*np.percentile(samples, [16, 50, 84], axis=0)))\n",
    "\n",
    "        # Save our MCMC parameters into an array\n",
    "        if diffs[d] == 'ours_base':\n",
    "            base_yplus[obj] = chains[:,burnin:,0].reshape(-1)\n",
    "            base_temp[obj] = chains[:,burnin:,1].reshape(-1)\n",
    "            base_dens[obj] = chains[:,burnin:,2].reshape(-1)\n",
    "            base_cHb[obj] = chains[:,burnin:,3].reshape(-1)\n",
    "            base_aH[obj] = chains[:,burnin:,4].reshape(-1)\n",
    "            base_aHe[obj] = chains[:,burnin:,5].reshape(-1)\n",
    "            base_tauHe[obj] = chains[:,burnin:,6].reshape(-1)\n",
    "            base_xi[obj] = chains[:,burnin:,7].reshape(-1)\n",
    "        elif diffs[d] == 'ours_CCMred':\n",
    "            CCMred_yplus[obj] = chains[:,burnin:,0].reshape(-1)\n",
    "            CCMred_temp[obj] = chains[:,burnin:,1].reshape(-1)\n",
    "            CCMred_dens[obj] = chains[:,burnin:,2].reshape(-1)\n",
    "            CCMred_cHb[obj] = chains[:,burnin:,3].reshape(-1)\n",
    "            CCMred_aH[obj] = chains[:,burnin:,4].reshape(-1)\n",
    "            CCMred_aHe[obj] = chains[:,burnin:,5].reshape(-1)\n",
    "            CCMred_tauHe[obj] = chains[:,burnin:,6].reshape(-1)\n",
    "            CCMred_xi[obj] = chains[:,burnin:,7].reshape(-1)\n",
    "        elif diffs[d] == 'ours_S2018_11':\n",
    "            S2018_11_yplus[obj] = chains[:,burnin:,0].reshape(-1)\n",
    "            S2018_11_temp[obj] = chains[:,burnin:,1].reshape(-1)\n",
    "            S2018_11_dens[obj] = chains[:,burnin:,2].reshape(-1)\n",
    "            S2018_11_cHb[obj] = chains[:,burnin:,3].reshape(-1)\n",
    "            S2018_11_aH[obj] = chains[:,burnin:,4].reshape(-1)\n",
    "            S2018_11_aHe[obj] = chains[:,burnin:,5].reshape(-1)\n",
    "            S2018_11_tauHe[obj] = chains[:,burnin:,6].reshape(-1)\n",
    "            S2018_11_xi[obj] = chains[:,burnin:,7].reshape(-1)\n",
    "        elif diffs[d] == 'ours_S2018_33':\n",
    "            S2018_33_yplus[obj] = chains[:,burnin:,0].reshape(-1)\n",
    "            S2018_33_temp[obj] = chains[:,burnin:,1].reshape(-1)\n",
    "            S2018_33_dens[obj] = chains[:,burnin:,2].reshape(-1)\n",
    "            S2018_33_cHb[obj] = chains[:,burnin:,3].reshape(-1)\n",
    "            S2018_33_aH[obj] = chains[:,burnin:,4].reshape(-1)\n",
    "            S2018_33_aHe[obj] = chains[:,burnin:,5].reshape(-1)\n",
    "            S2018_33_tauHe[obj] = chains[:,burnin:,6].reshape(-1)\n",
    "            S2018_33_xi[obj] = chains[:,burnin:,7].reshape(-1)\n",
    "        \n",
    "        # Compare input versus output emission line flux ratios and their relative errors\n",
    "        input_vals = Table.read('test_data/optical/'+name, format='ascii', delimiter=' ')\n",
    "\n",
    "        # Generate emission line ratios based on our MCMC parameters\n",
    "        mfr.generate_emission_line_ratio('test_data/optical/'+diffs[d]+'/'+name+'_MCMCoutput', [3890.166, 4027.328, 4102.891, 4341.684, 4472.755, 4862.721, 5877.299, 6564.612, 6679.994, 7067.198], \\\n",
    "                input_vals['EW'], input_vals['EW'][np.where(input_vals['Wavelength']==4862.721)[0]][0], \\\n",
    "                y_plus_mcmc[0], temp_mcmc[0], log_dens_mcmc[0], c_Hb_mcmc[0], a_H_mcmc[0], a_He_mcmc[0], tau_He_mcmc[0], log_xi_mcmc[0])\n",
    "\n",
    "        # Output values\n",
    "        output_vals = Table.read('test_data/optical/'+diffs[d]+'/'+name+'_MCMCoutput', format='ascii', delimiter=' ')\n",
    "\n",
    "        # Calculate chi-squared value\n",
    "        for emline in range(len(input_vals['Flux Ratio'])):\n",
    "            chisq[obj][emline] = ( (output_vals['Flux Ratio'][emline] - input_vals['Flux Ratio'][emline])**2 ) \\\n",
    "                            / (input_vals['Flux Ratio Errors'][emline]**2)\n",
    "\n",
    "        print (name, chisq[obj], np.sum(chisq[obj]), '\\n')"
   ]
  },
  {
   "cell_type": "markdown",
   "metadata": {},
   "source": [
    "### Optical+NIR"
   ]
  },
  {
   "cell_type": "markdown",
   "metadata": {},
   "source": [
    "NIR sample set is smaller than those that qualified for optical"
   ]
  },
  {
   "cell_type": "code",
   "execution_count": 140,
   "metadata": {},
   "outputs": [],
   "source": [
    "# Names of systems in AOS2015 that \"qualified\" for helium abundance measurements\n",
    "nir_qualifying = ['CGCG 007-025 (No.  2)', 'I Zw 18 SE 1', 'Mrk  209', 'Mrk  450 (No.  1)', 'Mrk  71 (No.  1)', \\\n",
    "             'SBS 0335-052E1', 'SBS 0335-052E3', 'SBS 0940+544 2', 'SBS 1030+583', 'SBS 1135+581', \\\n",
    "             'SBS 1152+579', 'Mrk  59', 'SBS 1415+437 (No.  2)', 'SBS 1415+437 (No.  1) 3', 'Tol 65']\n",
    "\n",
    "nir_qualifying.remove('SBS 1415+437 (No.  2)') # No HeI4027 for this system (they're measured to be 0)\n",
    "nir_qualifying.remove('SBS 0335-052E1') # Need to weight combine\n",
    "nir_qualifying.remove('SBS 0335-052E3')\n",
    "nir_qualifying.remove('SBS 1415+437 (No.  1) 3')"
   ]
  },
  {
   "cell_type": "code",
   "execution_count": 206,
   "metadata": {},
   "outputs": [],
   "source": [
    "# Different MCMC runs for NIR sample set\n",
    "nir_diffs = ['ours_nir_CCMred', 'ours_nir_S2018_11', 'ours_nir_S2018_33']"
   ]
  },
  {
   "cell_type": "code",
   "execution_count": 207,
   "metadata": {},
   "outputs": [],
   "source": [
    "nir_CCMred_yplus = np.zeros((len(nir_qualifying),num))\n",
    "nir_CCMred_temp = np.zeros((len(nir_qualifying),num))\n",
    "nir_CCMred_dens = np.zeros((len(nir_qualifying),num))\n",
    "nir_CCMred_cHb = np.zeros((len(nir_qualifying),num))\n",
    "nir_CCMred_aH = np.zeros((len(nir_qualifying),num))\n",
    "nir_CCMred_aHe = np.zeros((len(nir_qualifying),num))\n",
    "nir_CCMred_tauHe = np.zeros((len(nir_qualifying),num))\n",
    "nir_CCMred_xi = np.zeros((len(nir_qualifying),num))"
   ]
  },
  {
   "cell_type": "code",
   "execution_count": 208,
   "metadata": {},
   "outputs": [],
   "source": [
    "nir_S2018_11_yplus = np.zeros((len(nir_qualifying),num))\n",
    "nir_S2018_11_temp = np.zeros((len(nir_qualifying),num))\n",
    "nir_S2018_11_dens = np.zeros((len(nir_qualifying),num))\n",
    "nir_S2018_11_cHb = np.zeros((len(nir_qualifying),num))\n",
    "nir_S2018_11_aH = np.zeros((len(nir_qualifying),num))\n",
    "nir_S2018_11_aHe = np.zeros((len(nir_qualifying),num))\n",
    "nir_S2018_11_tauHe = np.zeros((len(nir_qualifying),num))\n",
    "nir_S2018_11_xi = np.zeros((len(nir_qualifying),num))"
   ]
  },
  {
   "cell_type": "code",
   "execution_count": 209,
   "metadata": {},
   "outputs": [],
   "source": [
    "nir_S2018_33_yplus = np.zeros((len(nir_qualifying),num))\n",
    "nir_S2018_33_temp = np.zeros((len(nir_qualifying),num))\n",
    "nir_S2018_33_dens = np.zeros((len(nir_qualifying),num))\n",
    "nir_S2018_33_cHb = np.zeros((len(nir_qualifying),num))\n",
    "nir_S2018_33_aH = np.zeros((len(nir_qualifying),num))\n",
    "nir_S2018_33_aHe = np.zeros((len(nir_qualifying),num))\n",
    "nir_S2018_33_tauHe = np.zeros((len(nir_qualifying),num))\n",
    "nir_S2018_33_xi = np.zeros((len(nir_qualifying),num))"
   ]
  },
  {
   "cell_type": "code",
   "execution_count": 210,
   "metadata": {},
   "outputs": [],
   "source": [
    "chisq = np.zeros((len(nir_qualifying), 11)) # 11 is number of emission lines used in analysis\n",
    "# Also equal to len(input_vals) which comes on later in this block\n",
    "\n",
    "for d in range(len(nir_diffs)):\n",
    "    \n",
    "    for obj in range(len(nir_qualifying)):\n",
    "        name = str(nir_qualifying[obj].replace(' ', '').replace('(','').replace('-', '').replace(')','').replace('.', ''))\n",
    "        \n",
    "        # Load .npy file\n",
    "        ndim = 8\n",
    "        onevar = -1\n",
    "\n",
    "#        nwalkers = 500\n",
    "#        nmbr = 1000\n",
    "#        burnin = int(0.8*nmbr) #int(0.1*nmbr)\n",
    "\n",
    "        chains = np.load('test_data/optical+nir/'+nir_diffs[d]+'/'+name+'_500walkers_1000steps.npy')\n",
    "        samples = chains[:, burnin:, :].reshape((-1, ndim))\n",
    "        \n",
    "        #print ('Working on ', nir_diffs[d], ' run of ', name)\n",
    "#        prenams = ['y+', 'temperature', '$log(n_{e})$', 'c(H\\\\beta)', '$a_{H}$', '$a_{He}$', '$\\\\tau_{He}', '$log(\\\\xi)$'] #'$n_{HI}$']\n",
    "\n",
    "        y_plus_mcmc, temp_mcmc, log_dens_mcmc, c_Hb_mcmc, a_H_mcmc, a_He_mcmc, tau_He_mcmc, log_xi_mcmc = map(\n",
    "            lambda v: (v[1], v[2] - v[1], v[1] - v[0]), zip(*np.percentile(samples, [16, 50, 84], axis=0)))\n",
    "\n",
    "        # Save our MCMC parameters into an array\n",
    "        if nir_diffs[d] == 'ours_nir_CCMred':\n",
    "            nir_CCMred_yplus[obj] = chains[:,burnin:,0].reshape(-1)\n",
    "            nir_CCMred_temp[obj] = chains[:,burnin:,1].reshape(-1)\n",
    "            nir_CCMred_dens[obj] = chains[:,burnin:,2].reshape(-1)\n",
    "            nir_CCMred_cHb[obj] = chains[:,burnin:,3].reshape(-1)\n",
    "            nir_CCMred_aH[obj] = chains[:,burnin:,4].reshape(-1)\n",
    "            nir_CCMred_aHe[obj] = chains[:,burnin:,5].reshape(-1)\n",
    "            nir_CCMred_tauHe[obj] = chains[:,burnin:,6].reshape(-1)\n",
    "            nir_CCMred_xi[obj] = chains[:,burnin:,7].reshape(-1)\n",
    "        elif nir_diffs[d] == 'ours_nir_S2018_11':\n",
    "            nir_S2018_11_yplus[obj] = chains[:,burnin:,0].reshape(-1)\n",
    "            nir_S2018_11_temp[obj] = chains[:,burnin:,1].reshape(-1)\n",
    "            nir_S2018_11_dens[obj] = chains[:,burnin:,2].reshape(-1)\n",
    "            nir_S2018_11_cHb[obj] = chains[:,burnin:,3].reshape(-1)\n",
    "            nir_S2018_11_aH[obj] = chains[:,burnin:,4].reshape(-1)\n",
    "            nir_S2018_11_aHe[obj] = chains[:,burnin:,5].reshape(-1)\n",
    "            nir_S2018_11_tauHe[obj] = chains[:,burnin:,6].reshape(-1)\n",
    "            nir_S2018_11_xi[obj] = chains[:,burnin:,7].reshape(-1)\n",
    "        elif nir_diffs[d] == 'ours_nir_S2018_33':\n",
    "            nir_S2018_33_yplus[obj] = chains[:,burnin:,0].reshape(-1)\n",
    "            nir_S2018_33_temp[obj] = chains[:,burnin:,1].reshape(-1)\n",
    "            nir_S2018_33_dens[obj] = chains[:,burnin:,2].reshape(-1)\n",
    "            nir_S2018_33_cHb[obj] = chains[:,burnin:,3].reshape(-1)\n",
    "            nir_S2018_33_aH[obj] = chains[:,burnin:,4].reshape(-1)\n",
    "            nir_S2018_33_aHe[obj] = chains[:,burnin:,5].reshape(-1)\n",
    "            nir_S2018_33_tauHe[obj] = chains[:,burnin:,6].reshape(-1)\n",
    "            nir_S2018_33_xi[obj] = chains[:,burnin:,7].reshape(-1)\n",
    "        \n",
    "############\n",
    "# Not calculating chi-sq for NIR yet because mfr.generate_emission_line_ratio calculates F(HeI10830)/F(Hbeta)\n",
    "# but the input file for HeI10830 is F(HeI10830)/F(Pg)!!!!\n",
    "############\n",
    "        # Compare input versus output emission line flux ratios and their relative errors\n",
    "#        input_vals = Table.read('test_data/optical+nir/'+name+'_nir', format='ascii', delimiter=' ')[:-1]\n",
    "\n",
    "        # Generate emission line ratios based on our MCMC parameters\n",
    "#        mfr.generate_emission_line_ratio('test_data/optical+nir/'+nir_diffs[d]+'/'+name+'_MCMCoutput', [3890.166, 4027.328, 4102.891, 4341.684, 4472.755, 4862.721, 5877.299, 6564.612, 6679.994, 7067.198, 10833.306], \\\n",
    "#                input_vals['EW'], input_vals['EW'][np.where(input_vals['Wavelength']==4862.721)[0]][0], \\\n",
    "#                y_plus_mcmc[0], temp_mcmc[0], log_dens_mcmc[0], c_Hb_mcmc[0], a_H_mcmc[0], a_He_mcmc[0], tau_He_mcmc[0], log_xi_mcmc[0])\n",
    "\n",
    "        # Output values\n",
    "#        output_vals = Table.read('test_data/optical+nir/'+nir_diffs[d]+'/'+name+'_MCMCoutput', format='ascii', delimiter=' ')\n",
    "\n",
    "        # Calculate chi-squared value\n",
    "#        for emline in range(len(input_vals['Flux Ratio'])):\n",
    "#            chisq[obj][emline] = ( (output_vals['Flux Ratio'][emline] - input_vals['Flux Ratio'][emline])**2 ) \\\n",
    "#                            / (input_vals['Flux Ratio Errors'][emline]**2)\n",
    "\n",
    "#        print (name, chisq[obj], np.sum(chisq[obj]), '\\n')"
   ]
  },
  {
   "cell_type": "code",
   "execution_count": 211,
   "metadata": {},
   "outputs": [
    {
     "name": "stderr",
     "output_type": "stream",
     "text": [
      "/Users/thsyu/.pyenv/versions/anaconda3-5.1.0/lib/python3.6/site-packages/matplotlib/figure.py:2366: UserWarning: This figure includes Axes that are not compatible with tight_layout, so results might be incorrect.\n",
      "  warnings.warn(\"This figure includes Axes that are not compatible \"\n"
     ]
    },
    {
     "data": {
      "image/png": "[encoded data removed]",
      "text/plain": [
       "<Figure size 576x432 with 1 Axes>"
      ]
     },
     "metadata": {},
     "output_type": "display_data"
    }
   ],
   "source": [
    "plt.subplots(figsize=(8,6))\n",
    "for i in range(len(qualifying)):\n",
    "    for j in range(len(nir_qualifying)):\n",
    "        idx = np.where(qualifying[i] == nir_qualifying[j])[0]\n",
    "        if idx.size != 0:\n",
    "            #print (i, j, qualifying[i], nir_qualifying[j])\n",
    "            plt.errorbar(j, np.percentile(S2018_11_yplus[i],50), yerr=[[np.percentile(S2018_11_yplus[i],50)-np.percentile(S2018_11_yplus[i],16)], [np.percentile(S2018_11_yplus[i],84)-np.percentile(S2018_11_yplus[i],50)]], marker='^', markersize=8, color=color[i], label='_nolabel_')\n",
    "            plt.errorbar(j+0.2, np.percentile(nir_S2018_11_yplus[j],50), yerr=[[np.percentile(nir_S2018_11_yplus[j],50)-np.percentile(nir_S2018_11_yplus[j],16)], [np.percentile(nir_S2018_11_yplus[j],84)-np.percentile(nir_S2018_11_yplus[j],50)]], marker='*', markersize=10, color=color[i], label=nir_qualifying[j])\n",
    "plt.xlim(-0.5, 10.5)\n",
    "#plt.ylim(0.06, 0.1)\n",
    "plt.xticks(np.arange(0, len(nir_qualifying)), nir_qualifying, rotation=60, ha='right')\n",
    "plt.ylabel('y+')\n",
    "plt.title('Optical vs NIR, S2018 linear')\n",
    "#plt.legend(loc='center left', bbox_to_anchor=(1, 0.5))\n",
    "plt.savefig('/Users/thsyu/Dropbox/BCDs/primordial_helium/opt_vs_nir_y+.pdf', overwrite=True)\n",
    "plt.show()"
   ]
  },
  {
   "cell_type": "markdown",
   "metadata": {},
   "source": [
    "# Calculate Yp from the recovered y+ values"
   ]
  },
  {
   "cell_type": "markdown",
   "metadata": {},
   "source": [
    "To get a set of Y values for the systems, we use our recovered y+ values but AOS2015's reported y++ values."
   ]
  },
  {
   "cell_type": "markdown",
   "metadata": {},
   "source": [
    "## Load Erik's work"
   ]
  },
  {
   "cell_type": "code",
   "execution_count": 231,
   "metadata": {},
   "outputs": [],
   "source": [
    "aops2013_mcmcout = Table.read('/Users/thsyu/Software/Yp/test_data/aops2013_mcmcoutput', format='ascii', delimiter=' ')\n",
    "aos2015_mcmcout = Table.read('/Users/thsyu/Software/Yp/test_data/aos2015_mcmcoutput', format='ascii', delimiter=' ')\n",
    "aos2015_mcmcout_cut = Table.read('/Users/thsyu/Software/Yp/test_data/aos2015_mcmcoutput', format='ascii', delimiter=' ')\n",
    "# SBS03350521+3 are in rows 1,2 and combined for a final OH vs Y\n",
    "# Their 8 MCMC parameters in aos2015_mcmcout are distinct, but OH and Y are the same\n",
    "# Removing one when doing OH vs Y regression allows us to reproduce Erik's regression\n",
    "aos2015_mcmcout_cut.remove_rows([1,2,3,6,7])"
   ]
  },
  {
   "cell_type": "code",
   "execution_count": 229,
   "metadata": {},
   "outputs": [],
   "source": [
    "# SBS03350521+3 are in rows 1,2 and combined for a final OH vs Y\n",
    "# Their 8 MCMC parameters in aos2015_mcmcout are distinct, but OH and Y are the same\n",
    "# Removing one when doing OH vs Y regression allows us to reproduce Erik's regression\n",
    "#aos2015_mcmcout_cut.remove_row(1)\n",
    "aos2015_mcmcout_cut.remove_rows([1,2,3,6,7])"
   ]
  },
  {
   "cell_type": "markdown",
   "metadata": {},
   "source": [
    "## Plots of system vs y+, Y"
   ]
  },
  {
   "cell_type": "markdown",
   "metadata": {},
   "source": [
    "### System vs y+ (compare our 4 methods)"
   ]
  },
  {
   "cell_type": "code",
   "execution_count": 40,
   "metadata": {},
   "outputs": [],
   "source": [
    "color = cm.jet(np.linspace(0,1,len(qualifying)))"
   ]
  },
  {
   "cell_type": "code",
   "execution_count": 192,
   "metadata": {},
   "outputs": [
    {
     "name": "stderr",
     "output_type": "stream",
     "text": [
      "/Users/thsyu/.pyenv/versions/anaconda3-5.1.0/lib/python3.6/site-packages/matplotlib/figure.py:445: UserWarning: Matplotlib is currently using module://ipykernel.pylab.backend_inline, which is a non-GUI backend, so cannot show the figure.\n",
      "  % get_backend())\n",
      "/Users/thsyu/.pyenv/versions/anaconda3-5.1.0/lib/python3.6/site-packages/matplotlib/figure.py:2366: UserWarning: This figure includes Axes that are not compatible with tight_layout, so results might be incorrect.\n",
      "  warnings.warn(\"This figure includes Axes that are not compatible \"\n"
     ]
    },
    {
     "data": {
      "image/png": "[encoded data removed]",
      "text/plain": [
       "<Figure size 864x576 with 2 Axes>"
      ]
     },
     "metadata": {},
     "output_type": "display_data"
    }
   ],
   "source": [
    "f, (ax1, ax2) = plt.subplots(2, 1, figsize=(12,8), sharex=True, gridspec_kw = {'height_ratios':[1.5,3]})\n",
    "\n",
    "for obj in range(len(qualifying)):\n",
    "    name = str(qualifying[obj].replace(' ', '').replace('(','').replace(')','').replace('.', ''))    \n",
    "    \n",
    "    ax1.plot(obj+0.25, ((np.mean(CCMred_yplus[obj]))-(np.mean(base_yplus[obj])))/(np.mean(base_yplus[obj])), marker='*', markersize=10, color=color[obj], label='_nolabel')\n",
    "    ax1.plot(obj+0.5, ((np.mean(S2018_11_yplus[obj]))-(np.mean(base_yplus[obj])))/(np.mean(base_yplus[obj])), marker='^', markersize=8, color=color[obj], label='_nolabel')\n",
    "    ax1.plot(obj+0.75, ((np.mean(S2018_33_yplus[obj]))-(np.mean(base_yplus[obj])))/(np.mean(base_yplus[obj])), marker='s', markersize=6, color=color[obj], label='_nolabel')\n",
    "\n",
    "    if obj == 3:\n",
    "        ax2.plot(obj, np.mean(base_yplus[obj]), marker='o', color=color[obj], label='Base')\n",
    "        ax2.plot(obj+0.25, np.mean(CCMred_yplus[obj]), marker='*', markersize=10, color=color[obj], label='CCM1989 Reddening')\n",
    "        ax2.plot(obj+0.5, np.mean(S2018_11_yplus[obj]), marker='^', markersize=8, color=color[obj], label='S2018 Linear RBS')\n",
    "        ax2.plot(obj+0.75, np.mean(S2018_33_yplus[obj]),  marker='s', markersize=6, color=color[obj], label='S2018 Cubic RBS')\n",
    "\n",
    "    ax2.errorbar(obj, np.mean(base_yplus[obj]), yerr = np.std(base_yplus[obj]), marker='o', color=color[obj], label='_nolabel_')\n",
    "    ax2.errorbar(obj+0.25, np.mean(CCMred_yplus[obj]), yerr = np.std(CCMred_yplus[obj]), marker='*', markersize=10, color=color[obj], label='_nolabel_')\n",
    "    ax2.errorbar(obj+0.5, np.mean(S2018_11_yplus[obj]), yerr = np.std(S2018_11_yplus[obj]), marker='^', markersize=8, color=color[obj], label='_nolabel_')\n",
    "    ax2.errorbar(obj+0.75, np.mean(S2018_33_yplus[obj]), yerr = np.std(S2018_33_yplus[obj]), marker='s', markersize=6, color=color[obj], label='_nolabel_')\n",
    "\n",
    "ax1.set_ylabel(r'$\\frac{Diff-Our Base}{Our Base}$')\n",
    "\n",
    "ax2.set_xlim(-0.5, 14.5)\n",
    "ax2.set_ylabel('y+')\n",
    "ax2.set_xticks(np.arange(0, len(qualifying)))\n",
    "ax2.set_xticklabels(qualifying, rotation=60, ha='right')\n",
    "ax2.legend(loc='center left', bbox_to_anchor=(1, 0.5))\n",
    "\n",
    "#f.savefig('/Users/thsyu/Software/Yp/test_data/system_vs_y+.pdf', overwrite=True)\n",
    "f.show()"
   ]
  },
  {
   "cell_type": "markdown",
   "metadata": {},
   "source": [
    "Y = Y_primordial + dY/d(O/H) * (O/H)\n",
    "\n",
    "Y = 4y(1-Z)/1+4y\n",
    "\n",
    "y = (y_plus + y_plusplus) * ICF(He+ + He2+) (ICF is for He)\n",
    "\n",
    "y_plusplus = ????\n",
    "\n",
    "Z = ????; AOS2010 takes Z=20(O/H), stated in footnote 6"
   ]
  },
  {
   "cell_type": "markdown",
   "metadata": {},
   "source": [
    "### System vs y+ (AOS2015 and 4 of our methods)"
   ]
  },
  {
   "cell_type": "code",
   "execution_count": 193,
   "metadata": {},
   "outputs": [
    {
     "name": "stderr",
     "output_type": "stream",
     "text": [
      "/Users/thsyu/.pyenv/versions/anaconda3-5.1.0/lib/python3.6/site-packages/matplotlib/figure.py:2366: UserWarning: This figure includes Axes that are not compatible with tight_layout, so results might be incorrect.\n",
      "  warnings.warn(\"This figure includes Axes that are not compatible \"\n"
     ]
    },
    {
     "data": {
      "image/png": "[encoded data removed]",
      "text/plain": [
       "<Figure size 1152x576 with 1 Axes>"
      ]
     },
     "metadata": {},
     "output_type": "display_data"
    }
   ],
   "source": [
    "OH = np.zeros((len(qualifying), num))\n",
    "y_pp = np.zeros((len(qualifying), num))\n",
    "base_y = np.zeros((len(qualifying), num))\n",
    "base_Y = np.zeros((len(qualifying), num))\n",
    "CCMred_y = np.zeros((len(qualifying), num))\n",
    "CCMred_Y = np.zeros((len(qualifying), num))\n",
    "S2018_11_y = np.zeros((len(qualifying), num))\n",
    "S2018_11_Y = np.zeros((len(qualifying), num))\n",
    "S2018_33_y = np.zeros((len(qualifying), num))\n",
    "S2018_33_Y = np.zeros((len(qualifying), num))\n",
    "\n",
    "plt.subplots(figsize=(16,8))\n",
    "\n",
    "for obj in range(len(qualifying)):\n",
    "    name = str(qualifying[obj].replace(' ', '').replace('(','').replace(')','').replace('.', ''))\n",
    "    aosidx = np.where(aos2015_mcmcout['Object'] == name)[0]\n",
    "    aopsidx = np.where(aops2013_mcmcout['Object'] == name)[0]\n",
    "\n",
    "    OH[obj] = np.random.normal(aos2015_mcmcout['OH'][aosidx], aos2015_mcmcout['OH_err'][aosidx], num)\n",
    "    # Need to take absolute values to avoid negative y++ abundances\n",
    "    y_pp[obj] = np.abs(np.random.normal(aos2015_mcmcout['y++'][aosidx], aos2015_mcmcout['y++_err'][aosidx], num))\n",
    "    \n",
    "    base_y[obj] = base_yplus[obj] + y_pp[obj]\n",
    "    base_Y[obj] = ( 4*base_y[obj]*(1 - 20*1e-5*OH[obj] )) / (1 + 4*base_y[obj])\n",
    "    CCMred_y[obj] = CCMred_yplus[obj] + y_pp[obj]\n",
    "    CCMred_Y[obj] = ( 4*CCMred_y[obj]*(1 - 20*1e-5*OH[obj] )) / (1 + 4*CCMred_y[obj])\n",
    "    S2018_11_y[obj] = S2018_11_yplus[obj] + y_pp[obj]\n",
    "    S2018_11_Y[obj] = ( 4*S2018_11_y[obj]*(1 - 20*1e-5*OH[obj] )) / (1 + 4*S2018_11_y[obj])\n",
    "    S2018_33_y[obj] = S2018_33_yplus[obj] + y_pp[obj]\n",
    "    S2018_33_Y[obj] = ( 4*S2018_33_y[obj]*(1 - 20*1e-5*OH[obj] )) / (1 + 4*S2018_33_y[obj])\n",
    "        \n",
    "    plt.errorbar(obj, aos2015_mcmcout['Y'][aosidx], yerr=aos2015_mcmcout['Y_err'][aosidx], marker='X', markersize=8, color=color[obj], label=qualifying[obj])\n",
    "    #plt.errorbar(obj, aops2013_mcmcout['Y'][aopsidx], yerr=aops2013_mcmcout['Y_err'][aopsidx], marker='X', markersize=8, color=color[obj], label=qualifying[obj])\n",
    "    plt.errorbar(obj+0.2, np.mean(base_Y[obj]), yerr=np.std(base_Y[obj]), marker='o', color=color[obj], linestyle='None', label='_nolabel_')\n",
    "    plt.errorbar(obj+0.4, np.mean(CCMred_Y[obj]), yerr=np.std(CCMred_Y[obj]), marker='*', markersize=10, color=color[obj], linestyle='None', label='_nolabel_')\n",
    "    plt.errorbar(obj+0.6, np.mean(S2018_11_Y[obj]), yerr=np.std(S2018_11_Y[obj]), marker='^', markersize=8, color=color[obj], linestyle='None', label='_nolabel_')\n",
    "    plt.errorbar(obj+0.8, np.mean(S2018_33_Y[obj]), yerr=np.std(S2018_33_Y[obj]), marker='s', markersize=6, color=color[obj], linestyle='None', label='_nolabel_')\n",
    "\n",
    "plt.xlim(-0.25, len(qualifying)+0.25)\n",
    "plt.xticks(np.arange(0, len(qualifying)), qualifying, rotation=60, ha='right')\n",
    "plt.ylabel(r'Y')\n",
    "plt.legend(loc='center left', bbox_to_anchor=(1, 0.5))\n",
    "#plt.savefig('/Users/thsyu/Dropbox/BCDs/primordial_helium/system_vs_diff_Y.pdf', overwrite=True)\n",
    "plt.show()"
   ]
  },
  {
   "cell_type": "markdown",
   "metadata": {},
   "source": [
    "### O/H vs Y for AOS2015 and our 4 methods"
   ]
  },
  {
   "cell_type": "code",
   "execution_count": 20,
   "metadata": {},
   "outputs": [
    {
     "name": "stderr",
     "output_type": "stream",
     "text": [
      "/Users/thsyu/.pyenv/versions/anaconda3-5.1.0/lib/python3.6/site-packages/matplotlib/font_manager.py:1241: UserWarning: findfont: Font family ['serif'] not found. Falling back to DejaVu Sans.\n",
      "  (prop.get_family(), self.defaultFamily[fontext]))\n",
      "/Users/thsyu/.pyenv/versions/anaconda3-5.1.0/lib/python3.6/site-packages/matplotlib/figure.py:2366: UserWarning: This figure includes Axes that are not compatible with tight_layout, so results might be incorrect.\n",
      "  warnings.warn(\"This figure includes Axes that are not compatible \"\n"
     ]
    },
    {
     "data": {
      "image/png": "[encoded data removed]",
      "text/plain": [
       "<Figure size 864x432 with 1 Axes>"
      ]
     },
     "metadata": {},
     "output_type": "display_data"
    }
   ],
   "source": [
    "plt.subplots(figsize=(12,6))\n",
    "\n",
    "for obj in range(len(qualifying)):\n",
    "    name = str(qualifying[obj].replace(' ', '').replace('(','').replace(')','').replace('.', ''))\n",
    "    aosidx = np.where(aos2015_mcmcout['Object'] == name)[0]\n",
    "    \n",
    "    plt.errorbar(aos2015_mcmcout[aosidx]['OH'], aos2015_mcmcout[aosidx]['Y'], xerr=aos2015_mcmcout[aosidx]['OH_err'], yerr=aos2015_mcmcout[aosidx]['Y_err'], marker='X', markersize=8, color=color[obj])\n",
    "    plt.errorbar(np.mean(OH[obj]), np.mean(base_Y[obj]), xerr=np.std(OH[obj]), yerr=np.std(base_Y[obj]), marker='o', color=color[obj])\n",
    "    plt.errorbar(np.mean(OH[obj]), np.mean(CCMred_Y[obj]), xerr=np.std(OH[obj]), yerr=np.std(CCMred_Y[obj]), marker='*', markersize=10, color=color[obj])\n",
    "    plt.errorbar(np.mean(OH[obj]), np.mean(S2018_11_Y[obj]), xerr=np.std(OH[obj]), yerr=np.std(S2018_11_Y[obj]), marker='^', markersize=8, color=color[obj])\n",
    "    plt.errorbar(np.mean(OH[obj]), np.mean(S2018_33_Y[obj]), xerr=np.std(OH[obj]), yerr=np.std(S2018_33_Y[obj]), marker='s', markersize=6, color=color[obj])\n",
    "\n",
    "plt.title('AOS2015 Systems, MCMC from different implementations')\n",
    "plt.xlabel(r'(O/H)$\\times10^{5}$')\n",
    "plt.ylabel(r'$Y_{P}$')\n",
    "plt.show()"
   ]
  },
  {
   "cell_type": "markdown",
   "metadata": {},
   "source": [
    "## Linear Regression to Yp"
   ]
  },
  {
   "cell_type": "markdown",
   "metadata": {},
   "source": [
    "Comparison of linear regressions to the primordial helium abundance measurement, Yp, for different MCMC methods. All our values of O/H use those reported in AOS2015, and Y values include our y+ value from MCMC but y++ value from AOS2015.\n",
    "\n",
    "(1) Linear regression on AOS2015's reported O/H, Y values (MCed, weighted)\n",
    "\n",
    "(2) Base, using SMC reddening\n",
    "\n",
    "(3) CCMred\n",
    "\n",
    "(4) Storey's 2018 hydrogen emissivities, linear interpolation\n",
    "\n",
    "(5) Storey's 2018 hydrogen emissivities, cubic interpolation\n",
    "\n",
    "\n",
    "and of course, AOPS 2013 and AOS 2015's linear extrapolations to Yp."
   ]
  },
  {
   "cell_type": "code",
   "execution_count": 65,
   "metadata": {},
   "outputs": [],
   "source": [
    "# Range of OH (x 10^5) values\n",
    "OH_vals = np.arange(0, 16.5, 0.5 )"
   ]
  },
  {
   "cell_type": "markdown",
   "metadata": {},
   "source": [
    "### On AOS2015's O/H, Y values"
   ]
  },
  {
   "cell_type": "code",
   "execution_count": 66,
   "metadata": {},
   "outputs": [
    {
     "name": "stdout",
     "output_type": "stream",
     "text": [
      "Slope, dY/dOH 0.0007877819628230455 [0.00035524 0.00078619 0.00122001]\n",
      "Intercept, Yp 0.24488542610008954 [0.2409035  0.24489807 0.24885996]\n"
     ]
    },
    {
     "name": "stderr",
     "output_type": "stream",
     "text": [
      "/Users/thsyu/.pyenv/versions/anaconda3-5.1.0/lib/python3.6/site-packages/matplotlib/figure.py:445: UserWarning: Matplotlib is currently using module://ipykernel.pylab.backend_inline, which is a non-GUI backend, so cannot show the figure.\n",
      "  % get_backend())\n",
      "/Users/thsyu/.pyenv/versions/anaconda3-5.1.0/lib/python3.6/site-packages/matplotlib/figure.py:2366: UserWarning: This figure includes Axes that are not compatible with tight_layout, so results might be incorrect.\n",
      "  warnings.warn(\"This figure includes Axes that are not compatible \"\n"
     ]
    },
    {
     "data": {
      "image/png": "[encoded data removed]",
      "text/plain": [
       "<Figure size 720x360 with 2 Axes>"
      ]
     },
     "metadata": {},
     "output_type": "display_data"
    }
   ],
   "source": [
    "# Do a np.polyfit to AOS2015 reported values of O/H vs Y, MCed, and weighted according to error in Y\n",
    "our_Yp = np.zeros(num)\n",
    "our_dYdOH = np.zeros(num)\n",
    "\n",
    "our_OH = np.array([np.random.normal(m, s, num) for m, s in zip(aos2015_mcmcout_cut['OH'], aos2015_mcmcout_cut['OH_err'])])\n",
    "our_Y = np.array([np.random.normal(m, s, num) for m, s in zip(aos2015_mcmcout_cut['Y'], aos2015_mcmcout_cut['Y_err'])])\n",
    "\n",
    "for n in range(num):\n",
    "    our_linfit = np.polyfit(our_OH[:,n], our_Y[:,n], deg=1, w=1/aos2015_mcmcout_cut['Y_err'])\n",
    "    our_Yp[n] = our_linfit[1]\n",
    "    our_dYdOH[n] = our_linfit[0]\n",
    "\n",
    "print ('Slope, dY/dOH', np.mean(our_dYdOH), np.percentile(our_dYdOH, [16, 50, 84], axis=0))\n",
    "print ('Intercept, Yp', np.mean(our_Yp), np.percentile(our_Yp, [16, 50, 84], axis=0))\n",
    "\n",
    "f, (ax1, ax2) = plt.subplots(1, 2, figsize=(10,5))\n",
    "ax1.hist(our_dYdOH*1e5, 30)\n",
    "ax1.set_xlabel(r'$\\frac{d(Y)}{d(O/H)}$')\n",
    "ax1.set_ylabel('Number')\n",
    "ax2.hist(our_Yp, 30)\n",
    "ax2.set_xlabel(r'$Y_{P}$')\n",
    "f.show()"
   ]
  },
  {
   "cell_type": "code",
   "execution_count": 67,
   "metadata": {},
   "outputs": [
    {
     "name": "stderr",
     "output_type": "stream",
     "text": [
      "/Users/thsyu/.pyenv/versions/anaconda3-5.1.0/lib/python3.6/site-packages/matplotlib/font_manager.py:1241: UserWarning: findfont: Font family ['serif'] not found. Falling back to DejaVu Sans.\n",
      "  (prop.get_family(), self.defaultFamily[fontext]))\n",
      "/Users/thsyu/.pyenv/versions/anaconda3-5.1.0/lib/python3.6/site-packages/matplotlib/font_manager.py:1241: UserWarning: findfont: Font family ['serif'] not found. Falling back to DejaVu Sans.\n",
      "  (prop.get_family(), self.defaultFamily[fontext]))\n",
      "/Users/thsyu/.pyenv/versions/anaconda3-5.1.0/lib/python3.6/site-packages/matplotlib/figure.py:2366: UserWarning: This figure includes Axes that are not compatible with tight_layout, so results might be incorrect.\n",
      "  warnings.warn(\"This figure includes Axes that are not compatible \"\n"
     ]
    },
    {
     "data": {
      "image/png": "[encoded data removed]",
      "text/plain": [
       "<Figure size 720x432 with 1 Axes>"
      ]
     },
     "metadata": {},
     "output_type": "display_data"
    }
   ],
   "source": [
    "plt.subplots(figsize=(10, 6))\n",
    "plt.errorbar(aos2015_mcmcout['OH'], aos2015_mcmcout['Y'], xerr=aos2015_mcmcout['OH_err'], yerr=aos2015_mcmcout['Y_err'], marker='X', markersize=8, linestyle='None', color='black', label='_nolabel_')\n",
    "plt.plot(OH_vals, np.mean(our_Yp)+np.mean(our_dYdOH)*OH_vals, label=r'$\\frac{d(Y)}{d(O/H)}_{ours} =\\,$'+str(\"{:.2f}\".format(np.mean(our_dYdOH)*1e5))+r'$~\\pm~$'+str(\"{:.2f}\".format(np.std(our_dYdOH)*1e5)))\n",
    "plt.plot(OH_vals, 0.2449 + 1e-5*79*OH_vals, ls='--', label=r'$\\frac{d(Y)}{d(O/H)}_{AOS2015} = 79\\pm43$')\n",
    "plt.text(12, 0.235, r'$Y_{P, ours} = $'+str('{:.4f}'.format(our_linfit[1])), fontsize=16)\n",
    "plt.text(12, 0.232, r'$Y_{P, AOS2015} = $'+str(0.2449), fontsize=16)\n",
    "\n",
    "plt.title('AOS 2015 Sample')\n",
    "plt.xlabel(r'(O/H)$\\times10^{5}$')\n",
    "plt.ylabel(r'Y')\n",
    "plt.legend(fontsize=12)\n",
    "#plt.savefig('/Users/thsyu/Dropbox/BCDs/primordial_helium/aos2015_regression.pdf', overwrite=True)\n",
    "plt.show()"
   ]
  },
  {
   "cell_type": "markdown",
   "metadata": {},
   "source": [
    "### On AOS2015's O/H values, our base Y values"
   ]
  },
  {
   "cell_type": "code",
   "execution_count": 68,
   "metadata": {},
   "outputs": [
    {
     "name": "stdout",
     "output_type": "stream",
     "text": [
      "Slope, dY/dOH 0.0008384267981263186 [0.00038623 0.00083856 0.0012822 ]\n",
      "Intercept, Yp 0.24198390394471353 [0.23813318 0.24211919 0.24586031]\n"
     ]
    },
    {
     "name": "stderr",
     "output_type": "stream",
     "text": [
      "/Users/thsyu/.pyenv/versions/anaconda3-5.1.0/lib/python3.6/site-packages/matplotlib/figure.py:445: UserWarning: Matplotlib is currently using module://ipykernel.pylab.backend_inline, which is a non-GUI backend, so cannot show the figure.\n",
      "  % get_backend())\n",
      "/Users/thsyu/.pyenv/versions/anaconda3-5.1.0/lib/python3.6/site-packages/matplotlib/figure.py:2366: UserWarning: This figure includes Axes that are not compatible with tight_layout, so results might be incorrect.\n",
      "  warnings.warn(\"This figure includes Axes that are not compatible \"\n"
     ]
    },
    {
     "data": {
      "image/png": "[encoded data removed]",
      "text/plain": [
       "<Figure size 720x360 with 2 Axes>"
      ]
     },
     "metadata": {},
     "output_type": "display_data"
    }
   ],
   "source": [
    "base_Yp = np.zeros(num)\n",
    "base_dYdOH = np.zeros(num)\n",
    "\n",
    "for n in range(num):\n",
    "    base_linfit = np.polyfit(OH[:,n], base_Y[:,n], deg=1)#,w=np.std(base_Y[:,n])\n",
    "    base_Yp[n] = base_linfit[1]\n",
    "    base_dYdOH[n] = base_linfit[0]\n",
    "    \n",
    "print ('Slope, dY/dOH', np.mean(base_dYdOH), np.percentile(base_dYdOH, [16, 50, 84], axis=0))\n",
    "print ('Intercept, Yp', np.mean(base_Yp), np.percentile(base_Yp, [16, 50, 84], axis=0))\n",
    "\n",
    "f, (ax1, ax2) = plt.subplots(1, 2, figsize=(10,5))\n",
    "ax1.hist(base_dYdOH*1e5, 30)\n",
    "ax1.set_xlabel(r'$\\frac{d(Y)}{d(O/H)}$')\n",
    "ax1.set_ylabel('Number')\n",
    "ax2.hist(base_Yp, 30)\n",
    "ax2.set_xlabel(r'$Y_{P}$')\n",
    "f.show()"
   ]
  },
  {
   "cell_type": "markdown",
   "metadata": {},
   "source": [
    "### On AOS2015's O/H, our CCMreddening Y values"
   ]
  },
  {
   "cell_type": "code",
   "execution_count": 69,
   "metadata": {},
   "outputs": [
    {
     "name": "stdout",
     "output_type": "stream",
     "text": [
      "Slope, dY/dOH 0.0008109062968029056 [0.00039081 0.00080701 0.00122942]\n",
      "Intercept, Yp 0.24239458676496178 [0.23874882 0.24253134 0.24603654]\n"
     ]
    },
    {
     "name": "stderr",
     "output_type": "stream",
     "text": [
      "/Users/thsyu/.pyenv/versions/anaconda3-5.1.0/lib/python3.6/site-packages/matplotlib/figure.py:445: UserWarning: Matplotlib is currently using module://ipykernel.pylab.backend_inline, which is a non-GUI backend, so cannot show the figure.\n",
      "  % get_backend())\n",
      "/Users/thsyu/.pyenv/versions/anaconda3-5.1.0/lib/python3.6/site-packages/matplotlib/figure.py:2366: UserWarning: This figure includes Axes that are not compatible with tight_layout, so results might be incorrect.\n",
      "  warnings.warn(\"This figure includes Axes that are not compatible \"\n"
     ]
    },
    {
     "data": {
      "image/png": "[encoded data removed]",
      "text/plain": [
       "<Figure size 720x360 with 2 Axes>"
      ]
     },
     "metadata": {},
     "output_type": "display_data"
    }
   ],
   "source": [
    "CCMred_Yp = np.zeros(num)\n",
    "CCMred_dYdOH = np.zeros(num)\n",
    "\n",
    "for n in range(num):\n",
    "    CCMred_linfit = np.polyfit(OH[:,n], CCMred_Y[:,n], deg=1)\n",
    "    CCMred_Yp[n] = CCMred_linfit[1]\n",
    "    CCMred_dYdOH[n] = CCMred_linfit[0]\n",
    "    \n",
    "print ('Slope, dY/dOH', np.mean(CCMred_dYdOH), np.percentile(CCMred_dYdOH, [16, 50, 84], axis=0))\n",
    "print ('Intercept, Yp', np.mean(CCMred_Yp), np.percentile(CCMred_Yp, [16, 50, 84], axis=0))\n",
    "\n",
    "f, (ax1, ax2) = plt.subplots(1, 2, figsize=(10,5))\n",
    "ax1.hist(CCMred_dYdOH*1e5, 30)\n",
    "ax1.set_xlabel(r'$\\frac{d(Y)}{d(O/H)}$')\n",
    "ax1.set_ylabel('Number')\n",
    "ax2.hist(CCMred_Yp, 30)\n",
    "ax2.set_xlabel(r'$Y_{P}$')\n",
    "f.show()"
   ]
  },
  {
   "cell_type": "markdown",
   "metadata": {},
   "source": [
    "### On AOS2015's O/H values, our S2018 linear interpolation Y values"
   ]
  },
  {
   "cell_type": "code",
   "execution_count": 70,
   "metadata": {},
   "outputs": [
    {
     "name": "stdout",
     "output_type": "stream",
     "text": [
      "Slope, dY/dOH 0.0008220296348505933 [0.00037609 0.00081821 0.0012725 ]\n",
      "Intercept, Yp 0.24180207612448332 [0.23786904 0.24193881 0.24567651]\n"
     ]
    },
    {
     "name": "stderr",
     "output_type": "stream",
     "text": [
      "/Users/thsyu/.pyenv/versions/anaconda3-5.1.0/lib/python3.6/site-packages/matplotlib/figure.py:445: UserWarning: Matplotlib is currently using module://ipykernel.pylab.backend_inline, which is a non-GUI backend, so cannot show the figure.\n",
      "  % get_backend())\n",
      "/Users/thsyu/.pyenv/versions/anaconda3-5.1.0/lib/python3.6/site-packages/matplotlib/figure.py:2366: UserWarning: This figure includes Axes that are not compatible with tight_layout, so results might be incorrect.\n",
      "  warnings.warn(\"This figure includes Axes that are not compatible \"\n"
     ]
    },
    {
     "data": {
      "image/png": "[encoded data removed]",
      "text/plain": [
       "<Figure size 720x360 with 2 Axes>"
      ]
     },
     "metadata": {},
     "output_type": "display_data"
    }
   ],
   "source": [
    "S2018_11_Yp = np.zeros(num)\n",
    "S2018_11_dYdOH = np.zeros(num)\n",
    "\n",
    "for n in range(num):\n",
    "    S2018_11_linfit = np.polyfit(OH[:,n], S2018_11_Y[:,n], deg=1)\n",
    "    S2018_11_Yp[n] = S2018_11_linfit[1]\n",
    "    S2018_11_dYdOH[n] = S2018_11_linfit[0]\n",
    "    \n",
    "print ('Slope, dY/dOH', np.mean(S2018_11_dYdOH), np.percentile(S2018_11_dYdOH, [16, 50, 84], axis=0))\n",
    "print ('Intercept, Yp', np.mean(S2018_11_Yp), np.percentile(S2018_11_Yp, [16, 50, 84], axis=0))\n",
    "\n",
    "f, (ax1, ax2) = plt.subplots(1, 2, figsize=(10,5))\n",
    "ax1.hist(S2018_11_dYdOH*1e5, 30)\n",
    "ax1.set_xlabel(r'$\\frac{d(Y)}{d(O/H)}$')\n",
    "ax1.set_ylabel('Number')\n",
    "ax2.hist(S2018_11_Yp, 30)\n",
    "ax2.set_xlabel(r'$Y_{P}$')\n",
    "f.show()"
   ]
  },
  {
   "cell_type": "markdown",
   "metadata": {},
   "source": [
    "### On AOS2015's O/H values, our S2018 cubic interpolation Y values"
   ]
  },
  {
   "cell_type": "code",
   "execution_count": 71,
   "metadata": {},
   "outputs": [
    {
     "name": "stdout",
     "output_type": "stream",
     "text": [
      "Slope, dY/dOH 0.0008126940169428085 [0.00034094 0.00080909 0.00127859]\n",
      "Intercept, Yp 0.24178742964172986 [0.23780439 0.24192955 0.24579815]\n"
     ]
    },
    {
     "name": "stderr",
     "output_type": "stream",
     "text": [
      "/Users/thsyu/.pyenv/versions/anaconda3-5.1.0/lib/python3.6/site-packages/matplotlib/figure.py:445: UserWarning: Matplotlib is currently using module://ipykernel.pylab.backend_inline, which is a non-GUI backend, so cannot show the figure.\n",
      "  % get_backend())\n",
      "/Users/thsyu/.pyenv/versions/anaconda3-5.1.0/lib/python3.6/site-packages/matplotlib/figure.py:2366: UserWarning: This figure includes Axes that are not compatible with tight_layout, so results might be incorrect.\n",
      "  warnings.warn(\"This figure includes Axes that are not compatible \"\n"
     ]
    },
    {
     "data": {
      "image/png": "[encoded data removed]",
      "text/plain": [
       "<Figure size 720x360 with 2 Axes>"
      ]
     },
     "metadata": {},
     "output_type": "display_data"
    }
   ],
   "source": [
    "S2018_33_Yp = np.zeros(num)\n",
    "S2018_33_dYdOH = np.zeros(num)\n",
    "\n",
    "for n in range(num):\n",
    "    S2018_33_linfit = np.polyfit(OH[:,n], S2018_33_Y[:,n], deg=1)\n",
    "    S2018_33_Yp[n] = S2018_33_linfit[1]\n",
    "    S2018_33_dYdOH[n] = S2018_33_linfit[0]\n",
    "    \n",
    "print ('Slope, dY/dOH', np.mean(S2018_33_dYdOH), np.percentile(S2018_33_dYdOH, [16, 50, 84], axis=0))\n",
    "print ('Intercept, Yp', np.mean(S2018_33_Yp), np.percentile(S2018_33_Yp, [16, 50, 84], axis=0))\n",
    "\n",
    "f, (ax1, ax2) = plt.subplots(1, 2, figsize=(10,5))\n",
    "#f.suptitle('Storey 2018 Hydrogen Emissivities, cubic', fontsize=16)\n",
    "ax1.hist(S2018_33_dYdOH*1e5, 30)\n",
    "ax1.set_xlabel(r'$\\frac{d(Y)}{d(O/H)}$')\n",
    "ax1.set_ylabel('Number')\n",
    "ax2.hist(S2018_33_Yp, 30)\n",
    "ax2.set_xlabel(r'$Y_{P}$')\n",
    "#f.savefig('/Users/thsyu/Dropbox/BCDs/primordial_helium/S2018_33_dYdOH_Yp')\n",
    "f.show()"
   ]
  },
  {
   "cell_type": "markdown",
   "metadata": {},
   "source": [
    "### Plot of Linear Extrapolation to Yp"
   ]
  },
  {
   "cell_type": "code",
   "execution_count": 72,
   "metadata": {},
   "outputs": [
    {
     "name": "stderr",
     "output_type": "stream",
     "text": [
      "/Users/thsyu/.pyenv/versions/anaconda3-5.1.0/lib/python3.6/site-packages/matplotlib/figure.py:2366: UserWarning: This figure includes Axes that are not compatible with tight_layout, so results might be incorrect.\n",
      "  warnings.warn(\"This figure includes Axes that are not compatible \"\n"
     ]
    },
    {
     "data": {
      "image/png": "[encoded data removed]",
      "text/plain": [
       "<Figure size 864x432 with 1 Axes>"
      ]
     },
     "metadata": {},
     "output_type": "display_data"
    }
   ],
   "source": [
    "plt.subplots(figsize=(12, 6))\n",
    "#plt.errorbar(aos2015_mcmcout['OH'], aos2015_mcmcout['Y'], xerr=aos2015_mcmcout['OH_err'], yerr=aos2015_mcmcout['Y_err'], marker='X', markersize=8, linestyle='None', color='black', label='_nolabel_')\n",
    "plt.plot(OH_vals, np.mean(our_Yp)+np.mean(our_dYdOH)*OH_vals, label=r'$\\frac{d(Y)}{d(O/H)}_{ours} =\\, $'+str(int(np.mean(our_dYdOH*1e5)))+' $\\pm$ '+str(int(np.std(our_dYdOH*1e5))), color='black', ls='--')\n",
    "plt.plot(OH_vals, np.mean(base_Yp)+np.mean(base_dYdOH)*OH_vals, label=r'$\\frac{d(Y)}{d(O/H)}_{base} =\\,$'+str(int(np.mean(base_dYdOH*1e5)))+' $\\pm$ '+str(int(np.std(base_dYdOH*1e5))), color='blue')\n",
    "plt.plot(OH_vals, np.mean(CCMred_Yp)+np.mean(CCMred_dYdOH)*OH_vals, label=r'$\\frac{d(Y)}{d(O/H)}_{CCMred} =\\,$'+str(int(np.mean(CCMred_dYdOH*1e5)))+' $\\pm$ '+str(int(np.std(CCMred_dYdOH*1e5))), color='red')\n",
    "plt.plot(OH_vals, np.mean(S2018_11_Yp)+np.mean(S2018_11_dYdOH)*OH_vals, label=r'$\\frac{d(Y)}{d(O/H)}_{S2018_{11}} =\\,$'+str(int(np.mean(S2018_11_dYdOH*1e5)))+' $\\pm$ '+str(int(np.std(S2018_11_dYdOH*1e5))), color='green')\n",
    "plt.plot(OH_vals, np.mean(S2018_33_Yp)+np.mean(S2018_33_dYdOH)*OH_vals, label=r'$\\frac{d(Y)}{d(O/H)}_{S2018_{33}} =\\,$'+str(int(np.mean(S2018_33_dYdOH*1e5)))+' $\\pm$ '+str(int(np.std(S2018_33_dYdOH*1e5))), color='orange')\n",
    "plt.plot(OH_vals, 0.2449 + 1e-5*79*OH_vals, label=r'$\\frac{d(Y)}{d(O/H)}_{AOS2015} = 79\\pm43$', color='black')\n",
    "\n",
    "plt.text(10, 0.243, r'$Y_{P, ours} = $'+str('{:.4f}'.format(np.mean(our_Yp)))+' $\\pm$ '+str('{:.4f}'.format(np.std(our_Yp))), fontsize=16, color='black')\n",
    "plt.text(10, 0.241, r'$Y_{P, base} = $'+str('{:.4f}'.format(np.mean(base_Yp)))+' $\\pm$ '+str('{:.4f}'.format(np.std(base_Yp))), fontsize=16, color='blue')\n",
    "plt.text(10, 0.239, r'$Y_{P, CCMred} = $'+str('{:.4f}'.format(np.mean(CCMred_Yp)))+' $\\pm$ '+str('{:.4f}'.format(np.std(CCMred_Yp))), fontsize=16, color='red')\n",
    "plt.text(10, 0.237, r'$Y_{P, S2018_{11}} = $'+str('{:.4f}'.format(np.mean(S2018_11_Yp)))+' $\\pm$ '+str('{:.4f}'.format(np.std(S2018_11_Yp))), fontsize=16, color='green')\n",
    "plt.text(10, 0.235, r'$Y_{P, S2018_{33}} = $'+str('{:.4f}'.format(np.mean(S2018_33_Yp)))+' $\\pm$ '+str('{:.4f}'.format(np.std(S2018_33_Yp))), fontsize=16, color='orange')\n",
    "plt.text(10, 0.233, r'$Y_{P, AOS2015} = $'+str(0.2449)+ ' $\\pm$ '+str(0.0040), fontsize=16)\n",
    "plt.errorbar(0, 0.2449, yerr=0.004, marker='o', color='black')\n",
    "plt.errorbar(0, np.mean(base_Yp), yerr=[[np.percentile(base_Yp,50)-np.percentile(base_Yp,15.865),np.percentile(base_Yp,84.135)-np.percentile(base_Yp,50)]], color='blue')\n",
    "plt.errorbar(0, np.mean(CCMred_Yp), yerr=[[np.percentile(CCMred_Yp,50)-np.percentile(CCMred_Yp,15.865),np.percentile(CCMred_Yp,84.135)-np.percentile(CCMred_Yp,50)]], color='red')\n",
    "plt.errorbar(0, np.mean(S2018_11_Yp), yerr=[[np.percentile(S2018_11_Yp,50)-np.percentile(S2018_11_Yp,15.865),np.percentile(S2018_11_Yp,84.135)-np.percentile(S2018_11_Yp,50)]], color='green')\n",
    "plt.errorbar(0, np.mean(S2018_33_Yp), yerr=[[np.percentile(S2018_33_Yp,50)-np.percentile(S2018_33_Yp,15.865),np.percentile(S2018_33_Yp,84.135)-np.percentile(S2018_33_Yp,50)]], color='orange')\n",
    "\n",
    "plt.xlim(-0.2, 16)\n",
    "plt.ylim(0.23, 0.26)\n",
    "plt.title('AOS 2015 Sample')\n",
    "plt.xlabel(r'(O/H)$\\times10^{5}$')\n",
    "plt.ylabel(r'$Y_{P}$')\n",
    "plt.legend(fontsize=12, loc='center left', bbox_to_anchor=(1, 0.5))\n",
    "#plt.savefig('/Users/thsyu/Dropbox/BCDs/primordial_helium/Yp_linear_regression.pdf', overwrite=True)\n",
    "plt.show()"
   ]
  },
  {
   "cell_type": "code",
   "execution_count": 73,
   "metadata": {},
   "outputs": [
    {
     "name": "stderr",
     "output_type": "stream",
     "text": [
      "/Users/thsyu/.pyenv/versions/anaconda3-5.1.0/lib/python3.6/site-packages/matplotlib/figure.py:2366: UserWarning: This figure includes Axes that are not compatible with tight_layout, so results might be incorrect.\n",
      "  warnings.warn(\"This figure includes Axes that are not compatible \"\n"
     ]
    },
    {
     "data": {
      "image/png": "[encoded data removed]",
      "text/plain": [
       "<Figure size 432x432 with 1 Axes>"
      ]
     },
     "metadata": {},
     "output_type": "display_data"
    }
   ],
   "source": [
    "plt.subplots(figsize=(6,6))\n",
    "plt.errorbar(0.2465, -1, xerr=0.0097, marker='X', color='black') # AOS2013\n",
    "plt.errorbar(0.2449, 0, xerr=0.004, marker='X', color='black') # AOS 2015\n",
    "plt.errorbar(np.mean(our_Yp), 1, xerr=[[np.percentile(our_Yp,50)-np.percentile(our_Yp,15.865),np.percentile(our_Yp,84.135)-np.percentile(our_Yp,50)]], marker='X', color='black')\n",
    "plt.errorbar(np.mean(base_Yp), 2, xerr=[[np.percentile(base_Yp,50)-np.percentile(base_Yp,15.865),np.percentile(base_Yp,84.135)-np.percentile(base_Yp,50)]], marker='o', color='blue')\n",
    "plt.errorbar(np.mean(CCMred_Yp), 3, xerr=[[np.percentile(CCMred_Yp,50)-np.percentile(CCMred_Yp,15.865),np.percentile(CCMred_Yp,84.135)-np.percentile(CCMred_Yp,50)]], marker='*', markersize=10, color='red')\n",
    "plt.errorbar(np.mean(S2018_11_Yp), 4, xerr=[[np.percentile(S2018_11_Yp,50)-np.percentile(S2018_11_Yp,15.865),np.percentile(S2018_11_Yp,84.135)-np.percentile(S2018_11_Yp,50)]], marker='^', markersize=8, color='green')\n",
    "plt.errorbar(np.mean(S2018_33_Yp), 5, xerr=[[np.percentile(S2018_33_Yp,50)-np.percentile(S2018_33_Yp,15.865),np.percentile(S2018_33_Yp,84.135)-np.percentile(S2018_33_Yp,50)]], marker='s', markersize=6, color='orange')\n",
    "\n",
    "plt.ylim(-1.5, 5.5)\n",
    "plt.xlabel(r'$Y_{P}$')\n",
    "plt.ylabel('Model')\n",
    "plt.yticks(np.arange(-1,6),['AOS2013 \\n (Optical)', 'AOS2015 \\n (+NIR)', 'Ours on AOS2015 \\n (Linear fit, weighted)', 'Base', 'CCMred', r'$S2018_{11}$', r'$S2018_{33}$'])\n",
    "#plt.savefig('/Users/thsyu/Dropbox/BCDs/primordial_helium/Yp_vs_model.pdf', overwrite=True)\n",
    "plt.show()\n"
   ]
  },
  {
   "cell_type": "markdown",
   "metadata": {},
   "source": [
    "# Linear regression to y_p, then convert to Yp"
   ]
  },
  {
   "cell_type": "markdown",
   "metadata": {},
   "source": [
    "I have 100000 realizations of OH (perturbed 1e6 times by its measured error) and y (from 1e6 y+ chains and 1e6 perturbed y++ values).\n",
    "\n",
    "I can fit a linear regression to OH vs y to get y_p, then convert y_p to Yp."
   ]
  },
  {
   "cell_type": "markdown",
   "metadata": {},
   "source": [
    "## Optical"
   ]
  },
  {
   "cell_type": "markdown",
   "metadata": {},
   "source": [
    "### Our fit on AOS2015's Y, O/H values"
   ]
  },
  {
   "cell_type": "code",
   "execution_count": 74,
   "metadata": {},
   "outputs": [
    {
     "name": "stdout",
     "output_type": "stream",
     "text": [
      "Slope, dY/dOH 0.00032183448412495444 [5.70356276e-05 3.21941816e-04 5.88878569e-04]\n",
      "Intercept, Yp 0.08192709042362806 [0.08000129 0.08192187 0.08385415]\n",
      "$Y_{P}$ 0.24679697259113495 0.004389308156223604\n"
     ]
    }
   ],
   "source": [
    "# Do a np.polyfit to AOS2015 reported values of O/H vs Y, MCed, and weighted according to error in Y\n",
    "our_yp = np.zeros(num)\n",
    "our_dydOH = np.zeros(num)\n",
    "\n",
    "our_OH = np.array([np.random.normal(m, s, num) for m, s in zip(aos2015_mcmcout['OH'], aos2015_mcmcout['OH_err'])])\n",
    "our_y = np.array([np.random.normal(m, s, num) for m, s in zip(aos2015_mcmcout['y+'], aos2015_mcmcout['y+_p'])]) + \\\n",
    "        np.array([np.random.normal(m, s, num) for m, s in zip(aos2015_mcmcout['y++'], aos2015_mcmcout['y++_err'])])\n",
    "\n",
    "for n in range(num):\n",
    "    our_linfit = np.polyfit(our_OH[:,n], our_y[:,n], deg=1)#, w=1/aos2015_mcmcout['Y_err'])\n",
    "    our_yp[n] = our_linfit[1]\n",
    "    our_dydOH[n] = our_linfit[0]\n",
    "\n",
    "print ('Slope, dY/dOH', np.mean(our_dydOH), np.percentile(our_dydOH, [16, 50, 84], axis=0))\n",
    "print ('Intercept, Yp', np.mean(our_yp), np.percentile(our_yp, [16, 50, 84], axis=0))\n",
    "\n",
    "our_Yp2 = 4*our_yp / (1 + 4*our_yp)\n",
    "print (r'$Y_{P}$', np.mean(our_Yp2), np.std(our_Yp2))"
   ]
  },
  {
   "cell_type": "markdown",
   "metadata": {},
   "source": [
    "### Our 'base'"
   ]
  },
  {
   "cell_type": "code",
   "execution_count": 75,
   "metadata": {},
   "outputs": [
    {
     "name": "stdout",
     "output_type": "stream",
     "text": [
      "Slope, dy/dOH 0.0003859798053178465 [0.00018674 0.00038651 0.00058156]\n",
      "Intercept, yp 0.07986131834761538 [0.07817581 0.07991358 0.08155516]\n",
      "$Y_{P}$ 0.24208523758132403 0.003944265786849888\n"
     ]
    }
   ],
   "source": [
    "base_yp = np.zeros(num)\n",
    "base_dydOH = np.zeros(num)\n",
    "\n",
    "for n in range(num):\n",
    "    base_linfit = np.polyfit(OH[:,n], base_y[:,n], deg=1)#,w=np.std(base_y[:,n])\n",
    "    base_yp[n] = base_linfit[1]\n",
    "    base_dydOH[n] = base_linfit[0]\n",
    "    \n",
    "print ('Slope, dy/dOH', np.mean(base_dydOH), np.percentile(base_dydOH, [16, 50, 84], axis=0))\n",
    "print ('Intercept, yp', np.mean(base_yp), np.percentile(base_yp, [16, 50, 84], axis=0))\n",
    "\n",
    "base_Yp2 = 4*base_yp / (1 + 4*base_yp)\n",
    "\n",
    "print (r'$Y_{P}$', np.mean(base_Yp2), np.std(base_Yp2))"
   ]
  },
  {
   "cell_type": "markdown",
   "metadata": {},
   "source": [
    "#### Are 100%-68% of our objects not within 1-sigma of the best linear regression?"
   ]
  },
  {
   "cell_type": "code",
   "execution_count": 76,
   "metadata": {},
   "outputs": [
    {
     "name": "stderr",
     "output_type": "stream",
     "text": [
      "/Users/thsyu/.pyenv/versions/anaconda3-5.1.0/lib/python3.6/site-packages/matplotlib/figure.py:2366: UserWarning: This figure includes Axes that are not compatible with tight_layout, so results might be incorrect.\n",
      "  warnings.warn(\"This figure includes Axes that are not compatible \"\n"
     ]
    },
    {
     "data": {
      "image/png": "[encoded data removed]",
      "text/plain": [
       "<Figure size 576x432 with 1 Axes>"
      ]
     },
     "metadata": {},
     "output_type": "display_data"
    }
   ],
   "source": [
    "plt.subplots(figsize=(8, 6))\n",
    "plt.errorbar(np.mean(OH, axis=1), np.mean(base_y, axis=1), xerr=np.std(OH, axis=1), yerr=np.std(base_y, axis=1), marker='o', linestyle='None', color='black')\n",
    "plt.errorbar(np.mean(OH[5]), np.mean(base_y[5]), xerr=np.std(OH[5]), yerr=np.std(base_y[5]), marker='o', linestyle='None', color='red', label='E1')\n",
    "plt.errorbar(np.mean(OH[6]), np.mean(base_y[6]), xerr=np.std(OH[6]), yerr=np.std(base_y[6]), marker='o', linestyle='None', color='blue', label='E3')\n",
    "plt.plot(OH_vals, np.mean(base_yp)+(np.mean(base_dydOH) * OH_vals))\n",
    "plt.legend()\n",
    "plt.xlabel(r'O/H $\\times$ 10$^{5}$')\n",
    "plt.ylabel(r'y$_{P}$')\n",
    "plt.title('Base')\n",
    "#plt.savefig('/Users/thsyu/Dropbox/BCDs/primordial_helium/base_to_yP.pdf', overwrite=True)\n",
    "plt.show()"
   ]
  },
  {
   "cell_type": "markdown",
   "metadata": {},
   "source": [
    "### Our CCMred"
   ]
  },
  {
   "cell_type": "code",
   "execution_count": 77,
   "metadata": {},
   "outputs": [
    {
     "name": "stdout",
     "output_type": "stream",
     "text": [
      "Slope, dy/dOH 0.0003738995438598341 [0.00018873 0.00037255 0.00055828]\n",
      "Intercept, yp 0.08004085492623139 [0.07844439 0.08009399 0.08163621]\n",
      "$Y_{P}$ 0.24249951829665442 0.0037458313894395277\n"
     ]
    }
   ],
   "source": [
    "CCMred_yp = np.zeros(num)\n",
    "CCMred_dydOH = np.zeros(num)\n",
    "\n",
    "for n in range(num):\n",
    "    CCMred_linfit = np.polyfit(OH[:,n], CCMred_y[:,n], deg=1)#,w=np.std(CCMred_y[:,n])\n",
    "    CCMred_yp[n] = CCMred_linfit[1]\n",
    "    CCMred_dydOH[n] = CCMred_linfit[0]\n",
    "    \n",
    "print ('Slope, dy/dOH', np.mean(CCMred_dydOH), np.percentile(CCMred_dydOH, [16, 50, 84], axis=0))\n",
    "print ('Intercept, yp', np.mean(CCMred_yp), np.percentile(CCMred_yp, [16, 50, 84], axis=0))\n",
    "\n",
    "CCMred_Yp2 = 4*CCMred_yp / (1 + 4*CCMred_yp)\n",
    "\n",
    "print (r'$Y_{P}$', np.mean(CCMred_Yp2), np.std(CCMred_Yp2))"
   ]
  },
  {
   "cell_type": "markdown",
   "metadata": {},
   "source": [
    "### Our S2018, linear"
   ]
  },
  {
   "cell_type": "code",
   "execution_count": 78,
   "metadata": {},
   "outputs": [
    {
     "name": "stdout",
     "output_type": "stream",
     "text": [
      "Slope, dy/dOH 0.0003781551856905177 [0.0001819  0.00037692 0.00057654]\n",
      "Intercept, yp 0.07978432906580957 [0.07806477 0.07983766 0.08147854]\n",
      "$Y_{P}$ 0.24190887798950286 0.0038883684218675033\n"
     ]
    }
   ],
   "source": [
    "S2018_11_yp = np.zeros(num)\n",
    "S2018_11_dydOH = np.zeros(num)\n",
    "\n",
    "for n in range(num):\n",
    "    S2018_11_linfit = np.polyfit(OH[:,n], S2018_11_y[:,n], deg=1)#,w=np.std(S2018_11_y[:,n])\n",
    "    S2018_11_yp[n] = S2018_11_linfit[1]\n",
    "    S2018_11_dydOH[n] = S2018_11_linfit[0]\n",
    "    \n",
    "print ('Slope, dy/dOH', np.mean(S2018_11_dydOH), np.percentile(S2018_11_dydOH, [16, 50, 84], axis=0))\n",
    "print ('Intercept, yp', np.mean(S2018_11_yp), np.percentile(S2018_11_yp, [16, 50, 84], axis=0))\n",
    "\n",
    "S2018_11_Yp2 = 4*S2018_11_yp / (1 + 4*S2018_11_yp)\n",
    "\n",
    "print (r'$Y_{P}$', np.mean(S2018_11_Yp2), np.std(S2018_11_Yp2))"
   ]
  },
  {
   "cell_type": "markdown",
   "metadata": {},
   "source": [
    "### Our S2018, cubic"
   ]
  },
  {
   "cell_type": "code",
   "execution_count": 79,
   "metadata": {},
   "outputs": [
    {
     "name": "stdout",
     "output_type": "stream",
     "text": [
      "Slope, dy/dOH 0.0003740858258665094 [0.00016627 0.00037309 0.0005793 ]\n",
      "Intercept, yp 0.07977741056767533 [0.07803412 0.07983276 0.08153113]\n",
      "$Y_{P}$ 0.2418913229501217 0.004047027266192532\n"
     ]
    }
   ],
   "source": [
    "S2018_33_yp = np.zeros(num)\n",
    "S2018_33_dydOH = np.zeros(num)\n",
    "\n",
    "for n in range(num):\n",
    "    S2018_33_linfit = np.polyfit(OH[:,n], S2018_33_y[:,n], deg=1)#,w=np.std(S2018_33_y[:,n])\n",
    "    S2018_33_yp[n] = S2018_33_linfit[1]\n",
    "    S2018_33_dydOH[n] = S2018_33_linfit[0]\n",
    "    \n",
    "print ('Slope, dy/dOH', np.mean(S2018_33_dydOH), np.percentile(S2018_33_dydOH, [16, 50, 84], axis=0))\n",
    "print ('Intercept, yp', np.mean(S2018_33_yp), np.percentile(S2018_33_yp, [16, 50, 84], axis=0))\n",
    "\n",
    "S2018_33_Yp2 = 4*S2018_33_yp / (1 + 4*S2018_33_yp)\n",
    "\n",
    "print (r'$Y_{P}$', np.mean(S2018_33_Yp2), np.std(S2018_33_Yp2))"
   ]
  },
  {
   "cell_type": "markdown",
   "metadata": {},
   "source": [
    "## Optical+NIR"
   ]
  },
  {
   "cell_type": "code",
   "execution_count": 220,
   "metadata": {},
   "outputs": [
    {
     "name": "stderr",
     "output_type": "stream",
     "text": [
      "/Users/thsyu/.pyenv/versions/anaconda3-5.1.0/lib/python3.6/site-packages/matplotlib/figure.py:2366: UserWarning: This figure includes Axes that are not compatible with tight_layout, so results might be incorrect.\n",
      "  warnings.warn(\"This figure includes Axes that are not compatible \"\n"
     ]
    },
    {
     "data": {
      "image/png": "[encoded data removed]",
      "text/plain": [
       "<Figure size 576x432 with 1 Axes>"
      ]
     },
     "metadata": {},
     "output_type": "display_data"
    }
   ],
   "source": [
    "plt.subplots(figsize=(8,6))\n",
    "\n",
    "nir_OH = np.zeros((len(nir_qualifying), num))\n",
    "nir_y_pp = np.zeros((len(nir_qualifying), num))\n",
    "\n",
    "nir_CCMred_y = np.zeros((len(nir_qualifying), num))\n",
    "nir_S2018_11_y = np.zeros((len(nir_qualifying), num))\n",
    "nir_S2018_33_y = np.zeros((len(nir_qualifying), num))\n",
    "\n",
    "for obj in range(len(nir_qualifying)):\n",
    "    name = str(nir_qualifying[obj].replace(' ', '').replace('(','').replace(')','').replace('.', ''))\n",
    "    aosidx = np.where(aos2015_mcmcout['Object'] == name)[0]\n",
    "\n",
    "    nir_OH[obj] = np.random.normal(aos2015_mcmcout['OH'][aosidx], aos2015_mcmcout['OH_err'][aosidx], num)\n",
    "    # Need to take absolute values to avoid negative y++ abundances\n",
    "    y_pp[obj] = np.abs(np.random.normal(aos2015_mcmcout['y++'][aosidx], aos2015_mcmcout['y++_err'][aosidx], num))\n",
    "    \n",
    "    nir_CCMred_y[obj] = nir_CCMred_yplus[obj] + nir_y_pp[obj]\n",
    "    nir_S2018_11_y[obj] = nir_S2018_11_yplus[obj] + nir_y_pp[obj]\n",
    "    nir_S2018_33_y[obj] = nir_S2018_33_yplus[obj] + nir_y_pp[obj]\n",
    "        \n",
    "    plt.errorbar(obj, np.mean(nir_CCMred_y[obj]), yerr=np.std(nir_CCMred_y[obj]), marker='*', markersize=10, color=color[obj], linestyle='None', label='_nolabel_')\n",
    "    plt.errorbar(obj+0.2, np.mean(nir_S2018_11_y[obj]), yerr=np.std(nir_S2018_11_y[obj]), marker='^', markersize=8, color=color[obj], linestyle='None', label='_nolabel_')\n",
    "    plt.errorbar(obj+0.4, np.mean(nir_S2018_33_y[obj]), yerr=np.std(nir_S2018_33_y[obj]), marker='s', markersize=6, color=color[obj], linestyle='None', label='_nolabel_')\n",
    "\n",
    "plt.xlim(-0.25, len(nir_qualifying)+0.25)\n",
    "plt.xticks(np.arange(0, len(nir_qualifying)), nir_qualifying, rotation=60, ha='right')\n",
    "plt.ylabel(r'y')\n",
    "#plt.legend(loc='center left', bbox_to_anchor=(1, 0.5))\n",
    "#plt.savefig('/Users/thsyu/Dropbox/BCDs/primordial_helium/system_vs_diff_Y.pdf', overwrite=True)\n",
    "plt.show()"
   ]
  },
  {
   "cell_type": "code",
   "execution_count": 233,
   "metadata": {},
   "outputs": [
    {
     "name": "stdout",
     "output_type": "stream",
     "text": [
      "Slope, dY/dOH 0.0005380791190126103 [0.00024045 0.00053654 0.00083579]\n",
      "Intercept, Yp 0.07984649975401231 [0.07751689 0.07984287 0.08216767]\n",
      "$Y_{P}$ 0.24203376637076912 0.005362049062291122\n"
     ]
    }
   ],
   "source": [
    "# Do a np.polyfit to AOS2015 reported values of O/H vs Y, MCed, and weighted according to error in Y\n",
    "our_yp = np.zeros(num)\n",
    "our_dydOH = np.zeros(num)\n",
    "\n",
    "our_OH = np.array([np.random.normal(m, s, num) for m, s in zip(aos2015_mcmcout_cut['OH'], aos2015_mcmcout_cut['OH_err'])])\n",
    "our_y = np.array([np.random.normal(m, s, num) for m, s in zip(aos2015_mcmcout_cut['y+'], aos2015_mcmcout_cut['y+_p'])]) + \\\n",
    "        np.array([np.random.normal(m, s, num) for m, s in zip(aos2015_mcmcout_cut['y++'], aos2015_mcmcout_cut['y++_err'])])\n",
    "\n",
    "for n in range(num):\n",
    "    our_linfit = np.polyfit(our_OH[:,n], our_y[:,n], deg=1)#, w=1/aos2015_mcmcout_cut['Y_err'])\n",
    "    our_yp[n] = our_linfit[1]\n",
    "    our_dydOH[n] = our_linfit[0]\n",
    "\n",
    "print ('Slope, dY/dOH', np.mean(our_dydOH), np.percentile(our_dydOH, [16, 50, 84], axis=0))\n",
    "print ('Intercept, Yp', np.mean(our_yp), np.percentile(our_yp, [16, 50, 84], axis=0))\n",
    "\n",
    "our_Yp2 = 4*our_yp / (1 + 4*our_yp)\n",
    "print (r'$Y_{P}$', np.mean(our_Yp2), np.std(our_Yp2))"
   ]
  },
  {
   "cell_type": "markdown",
   "metadata": {},
   "source": [
    "### Our NIR CCMred"
   ]
  },
  {
   "cell_type": "code",
   "execution_count": 213,
   "metadata": {},
   "outputs": [
    {
     "name": "stdout",
     "output_type": "stream",
     "text": [
      "Slope, dy/dOH 0.0007794023196900114 [0.0005744  0.00075588 0.00095264]\n",
      "Intercept, yp 0.07433334608655434 [0.07249952 0.07422649 0.07620386]\n",
      "$Y_{P}$ 0.22915478536383088 0.005063958570170186\n"
     ]
    }
   ],
   "source": [
    "nir_CCMred_yp = np.zeros(num)\n",
    "nir_CCMred_dydOH = np.zeros(num)\n",
    "\n",
    "for n in range(num):\n",
    "    nir_CCMred_linfit = np.polyfit(nir_OH[:,n], nir_CCMred_y[:,n], deg=1)#,w=np.std(CCMred_y[:,n])\n",
    "    nir_CCMred_yp[n] = nir_CCMred_linfit[1]\n",
    "    nir_CCMred_dydOH[n] = nir_CCMred_linfit[0]\n",
    "    \n",
    "print ('Slope, dy/dOH', np.mean(nir_CCMred_dydOH), np.percentile(nir_CCMred_dydOH, [16, 50, 84], axis=0))\n",
    "print ('Intercept, yp', np.mean(nir_CCMred_yp), np.percentile(nir_CCMred_yp, [16, 50, 84], axis=0))\n",
    "\n",
    "nir_CCMred_Yp2 = 4*nir_CCMred_yp / (1 + 4*nir_CCMred_yp)\n",
    "\n",
    "print (r'$Y_{P}$', np.mean(nir_CCMred_Yp2), np.std(nir_CCMred_Yp2))"
   ]
  },
  {
   "cell_type": "markdown",
   "metadata": {},
   "source": [
    "### Our NIR S2018, linear"
   ]
  },
  {
   "cell_type": "code",
   "execution_count": 216,
   "metadata": {},
   "outputs": [
    {
     "name": "stdout",
     "output_type": "stream",
     "text": [
      "Slope, dy/dOH 0.0008054247048767178 [0.00057789 0.00077809 0.00101046]\n",
      "Intercept, yp 0.0743194528122478 [0.07222717 0.07415783 0.07643938]\n",
      "$Y_{P}$ 0.22911662142730468 0.005437876820952784\n"
     ]
    }
   ],
   "source": [
    "nir_S2018_11_yp = np.zeros(num)\n",
    "nir_S2018_11_dydOH = np.zeros(num)\n",
    "\n",
    "for n in range(num):\n",
    "    nir_S2018_11_linfit = np.polyfit(nir_OH[:,n], nir_S2018_11_y[:,n], deg=1)#,w=np.std(S2018_11_y[:,n])\n",
    "    nir_S2018_11_yp[n] = nir_S2018_11_linfit[1]\n",
    "    nir_S2018_11_dydOH[n] = nir_S2018_11_linfit[0]\n",
    "    \n",
    "print ('Slope, dy/dOH', np.mean(nir_S2018_11_dydOH), np.percentile(nir_S2018_11_dydOH, [16, 50, 84], axis=0))\n",
    "print ('Intercept, yp', np.mean(nir_S2018_11_yp), np.percentile(nir_S2018_11_yp, [16, 50, 84], axis=0))\n",
    "\n",
    "nir_S2018_11_Yp2 = 4*nir_S2018_11_yp / (1 + 4*nir_S2018_11_yp)\n",
    "\n",
    "print (r'$Y_{P}$', np.mean(nir_S2018_11_Yp2), np.std(nir_S2018_11_Yp2))"
   ]
  },
  {
   "cell_type": "markdown",
   "metadata": {},
   "source": [
    "### Our NIR S2018, cubic"
   ]
  },
  {
   "cell_type": "code",
   "execution_count": 217,
   "metadata": {},
   "outputs": [
    {
     "name": "stdout",
     "output_type": "stream",
     "text": [
      "Slope, dy/dOH 0.0007797507847523481 [0.00059603 0.00077368 0.00094905]\n",
      "Intercept, yp 0.07404156637871138 [0.07225383 0.07390818 0.07577388]\n",
      "$Y_{P}$ 0.22846571638151694 0.004665070781350241\n"
     ]
    }
   ],
   "source": [
    "nir_S2018_33_yp = np.zeros(num)\n",
    "nir_S2018_33_dydOH = np.zeros(num)\n",
    "\n",
    "for n in range(num):\n",
    "    nir_S2018_33_linfit = np.polyfit(nir_OH[:,n], nir_S2018_33_y[:,n], deg=1)#,w=np.std(S2018_33_y[:,n])\n",
    "    nir_S2018_33_yp[n] = nir_S2018_33_linfit[1]\n",
    "    nir_S2018_33_dydOH[n] = nir_S2018_33_linfit[0]\n",
    "    \n",
    "print ('Slope, dy/dOH', np.mean(nir_S2018_33_dydOH), np.percentile(nir_S2018_33_dydOH, [16, 50, 84], axis=0))\n",
    "print ('Intercept, yp', np.mean(nir_S2018_33_yp), np.percentile(nir_S2018_33_yp, [16, 50, 84], axis=0))\n",
    "\n",
    "nir_S2018_33_Yp2 = 4*nir_S2018_33_yp / (1 + 4*nir_S2018_33_yp)\n",
    "\n",
    "print (r'$Y_{P}$', np.mean(nir_S2018_33_Yp2), np.std(nir_S2018_33_Yp2))"
   ]
  },
  {
   "cell_type": "markdown",
   "metadata": {},
   "source": [
    "# Plot of Yp vs Model"
   ]
  },
  {
   "cell_type": "markdown",
   "metadata": {},
   "source": [
    "Lower point for each model is a fit to O/H vs Y, extrapolated to Yp\n",
    "\n",
    "Upper point for each model is a fit to O/H vs y, extrapolated to y_P, converted to Yp"
   ]
  },
  {
   "cell_type": "code",
   "execution_count": 218,
   "metadata": {},
   "outputs": [
    {
     "name": "stderr",
     "output_type": "stream",
     "text": [
      "/Users/thsyu/.pyenv/versions/anaconda3-5.1.0/lib/python3.6/site-packages/matplotlib/figure.py:2366: UserWarning: This figure includes Axes that are not compatible with tight_layout, so results might be incorrect.\n",
      "  warnings.warn(\"This figure includes Axes that are not compatible \"\n"
     ]
    },
    {
     "data": {
      "image/png": "[encoded data removed]",
      "text/plain": [
       "<Figure size 432x432 with 1 Axes>"
      ]
     },
     "metadata": {},
     "output_type": "display_data"
    }
   ],
   "source": [
    "plt.subplots(figsize=(6,6))\n",
    "plt.errorbar(0.2465, -1, xerr=0.0097, marker='X', color='black') # AOS2013\n",
    "plt.errorbar(0.2449, 0, xerr=0.004, marker='X', color='black') # AOS 2015\n",
    "plt.errorbar(np.mean(our_Yp), 1, xerr=[[np.percentile(our_Yp,50)-np.percentile(our_Yp,15.865),np.percentile(our_Yp,84.135)-np.percentile(our_Yp,50)]], marker='X', color='black')\n",
    "plt.errorbar(np.mean(base_Yp), 2, xerr=[[np.percentile(base_Yp,50)-np.percentile(base_Yp,15.865),np.percentile(base_Yp,84.135)-np.percentile(base_Yp,50)]], marker='o', color='blue')\n",
    "plt.errorbar(np.mean(CCMred_Yp), 3, xerr=[[np.percentile(CCMred_Yp,50)-np.percentile(CCMred_Yp,15.865),np.percentile(CCMred_Yp,84.135)-np.percentile(CCMred_Yp,50)]], marker='*', markersize=10, color='red')\n",
    "plt.errorbar(np.mean(S2018_11_Yp), 4, xerr=[[np.percentile(S2018_11_Yp,50)-np.percentile(S2018_11_Yp,15.865),np.percentile(S2018_11_Yp,84.135)-np.percentile(S2018_11_Yp,50)]], marker='^', markersize=8, color='green')\n",
    "plt.errorbar(np.mean(S2018_33_Yp), 5, xerr=[[np.percentile(S2018_33_Yp,50)-np.percentile(S2018_33_Yp,15.865),np.percentile(S2018_33_Yp,84.135)-np.percentile(S2018_33_Yp,50)]], marker='s', markersize=6, color='orange')\n",
    "# Extrapolate to y_p, then convert to Yp, using O/H=0\n",
    "plt.errorbar(np.mean(our_Yp2), 1.25, xerr=[[np.percentile(our_Yp2,50)-np.percentile(our_Yp2,15.865),np.percentile(our_Yp2,84.135)-np.percentile(our_Yp2,50)]], marker='X', color='black')\n",
    "plt.errorbar(np.mean(base_Yp2), 2.25, xerr=[[np.percentile(base_Yp2,50)-np.percentile(base_Yp2,15.865),np.percentile(base_Yp2,84.135)-np.percentile(base_Yp2,50)]], marker='o', color='blue')\n",
    "plt.errorbar(np.mean(CCMred_Yp2), 3.25, xerr=[[np.percentile(CCMred_Yp2,50)-np.percentile(CCMred_Yp2,15.865),np.percentile(CCMred_Yp2,84.135)-np.percentile(CCMred_Yp2,50)]], marker='*', markersize=10, color='red')\n",
    "plt.errorbar(np.mean(S2018_11_Yp2), 4.25, xerr=[[np.percentile(S2018_11_Yp2,50)-np.percentile(S2018_11_Yp2,15.865),np.percentile(S2018_11_Yp2,84.135)-np.percentile(S2018_11_Yp2,50)]], marker='^', markersize=8, color='green')\n",
    "plt.errorbar(np.mean(S2018_33_Yp2), 5.25, xerr=[[np.percentile(S2018_33_Yp2,50)-np.percentile(S2018_33_Yp2,15.865),np.percentile(S2018_33_Yp2,84.135)-np.percentile(S2018_33_Yp2,50)]], marker='s', markersize=6, color='orange')\n",
    "# Extrapolate to y_p, then convert to Yp, using O/H=0\n",
    "plt.errorbar(np.mean(nir_CCMred_Yp2), 3.5, xerr=[[np.percentile(nir_CCMred_Yp2,50)-np.percentile(nir_CCMred_Yp2,15.865),np.percentile(nir_CCMred_Yp2,84.135)-np.percentile(nir_CCMred_Yp2,50)]], marker='*', markersize=10, color='red')\n",
    "plt.errorbar(np.mean(nir_S2018_11_Yp2), 4.5, xerr=[[np.percentile(nir_S2018_11_Yp2,50)-np.percentile(nir_S2018_11_Yp2,15.865),np.percentile(nir_S2018_11_Yp2,84.135)-np.percentile(nir_S2018_11_Yp2,50)]], marker='^', markersize=8, color='green')\n",
    "plt.errorbar(np.mean(nir_S2018_33_Yp2), 5.5, xerr=[[np.percentile(nir_S2018_33_Yp2,50)-np.percentile(nir_S2018_33_Yp2,15.865),np.percentile(nir_S2018_33_Yp2,84.135)-np.percentile(nir_S2018_33_Yp2,50)]], marker='s', markersize=6, color='orange')\n",
    "\n",
    "\n",
    "\n",
    "plt.ylim(-1.5, 5.5)\n",
    "plt.xlabel(r'$Y_{P}$')\n",
    "plt.ylabel('Model')\n",
    "plt.yticks(np.arange(-1,6),['AOS2013 \\n (Optical)', 'AOS2015 \\n (+NIR)', 'Ours on AOS2015 \\n (Linear fit, unweighted on top)', 'Base', 'CCMred', r'$S2018_{11}$', r'$S2018_{33}$'])\n",
    "#plt.savefig('/Users/thsyu/Dropbox/BCDs/primordial_helium/Yp_vs_model.pdf', overwrite=True)\n",
    "plt.show()"
   ]
  },
  {
   "cell_type": "markdown",
   "metadata": {},
   "source": [
    "# Compare reddening curves"
   ]
  },
  {
   "cell_type": "code",
   "execution_count": 9,
   "metadata": {},
   "outputs": [],
   "source": [
    "waves = np.linspace(3750, 11000)"
   ]
  },
  {
   "cell_type": "code",
   "execution_count": 14,
   "metadata": {},
   "outputs": [],
   "source": [
    "CCM = np.zeros(len(waves))\n",
    "CCMtest = np.zeros(len(waves))"
   ]
  },
  {
   "cell_type": "code",
   "execution_count": 15,
   "metadata": {},
   "outputs": [],
   "source": [
    "f_lambda_at_Hbeta = mfr.f_lambda_avg_interp(4862.721)\n",
    "AHbeta_AV = mfr.reddening_coefficient(4862.721)\n",
    "SMC = (mfr.f_lambda_avg_interp(waves) / f_lambda_at_Hbeta ) - 1.           \n",
    "for w in range(len(waves)):\n",
    "    CCM[w] = mfr.reddening_coefficient(waves[w]) - 1.  \n",
    "    CCMtest[w] = (mfr.reddening_coefficient(waves[w]) / AHbeta_AV ) - 1.   "
   ]
  },
  {
   "cell_type": "code",
   "execution_count": 16,
   "metadata": {},
   "outputs": [
    {
     "name": "stderr",
     "output_type": "stream",
     "text": [
      "/Users/thsyu/.pyenv/versions/anaconda3-5.1.0/lib/python3.6/site-packages/matplotlib/font_manager.py:1241: UserWarning: findfont: Font family ['serif'] not found. Falling back to DejaVu Sans.\n",
      "  (prop.get_family(), self.defaultFamily[fontext]))\n",
      "/Users/thsyu/.pyenv/versions/anaconda3-5.1.0/lib/python3.6/site-packages/matplotlib/font_manager.py:1241: UserWarning: findfont: Font family ['serif'] not found. Falling back to DejaVu Sans.\n",
      "  (prop.get_family(), self.defaultFamily[fontext]))\n",
      "/Users/thsyu/.pyenv/versions/anaconda3-5.1.0/lib/python3.6/site-packages/matplotlib/font_manager.py:1241: UserWarning: findfont: Font family ['serif'] not found. Falling back to DejaVu Sans.\n",
      "  (prop.get_family(), self.defaultFamily[fontext]))\n",
      "/Users/thsyu/.pyenv/versions/anaconda3-5.1.0/lib/python3.6/site-packages/matplotlib/figure.py:2366: UserWarning: This figure includes Axes that are not compatible with tight_layout, so results might be incorrect.\n",
      "  warnings.warn(\"This figure includes Axes that are not compatible \"\n"
     ]
    },
    {
     "data": {
      "image/png": "[encoded data removed]",
      "text/plain": [
       "<Figure size 432x288 with 1 Axes>"
      ]
     },
     "metadata": {},
     "output_type": "display_data"
    }
   ],
   "source": [
    "plt.plot(waves, SMC, label='SMC')\n",
    "plt.plot(waves, CCM, label=r'CCM, to A$_{V}$')\n",
    "plt.plot(waves, CCMtest, label='CCM, to Hbeta')\n",
    "plt.xlabel(r'Wavelength ($\\textnormal{\\AA}$)')\n",
    "plt.ylabel(r'$f(\\lambda)$')\n",
    "plt.legend()\n",
    "#plt.savefig('/Users/thsyu/Dropbox/BCDs/primordial_helium/reddening_curves.pdf', overwrite=True)\n",
    "plt.show()"
   ]
  },
  {
   "cell_type": "code",
   "execution_count": null,
   "metadata": {},
   "outputs": [],
   "source": []
  }
 ],
 "metadata": {
  "kernelspec": {
   "display_name": "Python 3",
   "language": "python",
   "name": "python3"
  },
  "language_info": {
   "codemirror_mode": {
    "name": "ipython",
    "version": 3
   },
   "file_extension": ".py",
   "mimetype": "text/x-python",
   "name": "python",
   "nbconvert_exporter": "python",
   "pygments_lexer": "ipython3",
   "version": "3.6.4"
  }
 },
 "nbformat": 4,
 "nbformat_minor": 2
}
