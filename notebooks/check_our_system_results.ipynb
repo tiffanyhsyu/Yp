{
 "cells": [
  {
   "cell_type": "markdown",
   "metadata": {},
   "source": [
    "# Imports"
   ]
  },
  {
   "cell_type": "code",
   "execution_count": 2,
   "metadata": {},
   "outputs": [
    {
     "name": "stderr",
     "output_type": "stream",
     "text": [
      "/Users/thsyu/.pyenv/versions/anaconda3-5.1.0/lib/python3.6/site-packages/matplotlib/__init__.py:846: MatplotlibDeprecationWarning: \n",
      "The backend.qt4 rcparam was deprecated in Matplotlib 2.2 and will be removed in 3.1. In order to force the use of a specific Qt binding, either import that binding first, or set the QT_API environment variable.\n",
      "  \"2.2\", name=key, obj_type=\"rcparam\", addendum=addendum)\n"
     ]
    }
   ],
   "source": [
    "import numpy as np\n",
    "import corner\n",
    "import os\n",
    "import matplotlib.pyplot as plt\n",
    "from matplotlib.ticker import MaxNLocator\n",
    "from astropy.table import Table\n",
    "\n",
    "import model_flux_ratio as mfr"
   ]
  },
  {
   "cell_type": "markdown",
   "metadata": {},
   "source": [
    "# Compare measured vs recovered fluxes"
   ]
  },
  {
   "cell_type": "markdown",
   "metadata": {},
   "source": [
    "## Load input fluxes"
   ]
  },
  {
   "cell_type": "code",
   "execution_count": 33,
   "metadata": {},
   "outputs": [],
   "source": [
    "input_flux = Table.read('/Users/thsyu/Google Drive File Stream/My Drive/BCDs/mcmc_science_frames/mcmc_input/no_HaHb/J0018p2345', format='ascii', delimiter=' ')"
   ]
  },
  {
   "cell_type": "code",
   "execution_count": 34,
   "metadata": {},
   "outputs": [
    {
     "data": {
      "text/html": [
       "<i>Table length=12</i>\n",
       "<table id=\"table4466601040\" class=\"table-striped table-bordered table-condensed\">\n",
       "<thead><tr><th>Wavelength</th><th>Species</th><th>Flux Ratio</th><th>Flux Ratio Errors</th><th>EW</th><th>EW Errors</th></tr></thead>\n",
       "<thead><tr><th>float64</th><th>str15</th><th>float64</th><th>float64</th><th>float64</th><th>float64</th></tr></thead>\n",
       "<tr><td>3890.166</td><td>hydrogen+helium</td><td>0.1582759169114265</td><td>0.0030554803931143668</td><td>6.822265363694296</td><td>0.14761453064714286</td></tr>\n",
       "<tr><td>4102.891</td><td>hydrogen</td><td>0.23136232164173728</td><td>0.0030316403149170273</td><td>10.925457067384784</td><td>0.17181518952902328</td></tr>\n",
       "<tr><td>4341.684</td><td>hydrogen</td><td>0.4366140112629308</td><td>0.0031533709118451887</td><td>30.74620729948228</td><td>0.42968047048167984</td></tr>\n",
       "<tr><td>4472.755</td><td>helium</td><td>0.029599718856275718</td><td>0.0021317915279604775</td><td>1.6469645723243258</td><td>0.1195894136518671</td></tr>\n",
       "<tr><td>4862.721</td><td>hydrogen</td><td>1.0</td><td>0.004123510451148708</td><td>70.75069575133098</td><td>0.8381573928261268</td></tr>\n",
       "<tr><td>5017.079</td><td>helium</td><td>0.023561825367207453</td><td>0.0021374364487258208</td><td>1.6592155734967964</td><td>0.15182092555246632</td></tr>\n",
       "<tr><td>5877.299</td><td>helium</td><td>0.030227269327079212</td><td>0.0004549480919844391</td><td>10.233905311190775</td><td>0.1748648726025513</td></tr>\n",
       "<tr><td>6564.612</td><td>hydrogen</td><td>1.0</td><td>0.001477663103393201</td><td>406.62683240131093</td><td>2.9797764325930807</td></tr>\n",
       "<tr><td>6679.994</td><td>helium</td><td>0.009914750708883022</td><td>0.00036235299269081207</td><td>4.3337488919533795</td><td>0.1635144439650765</td></tr>\n",
       "<tr><td>7067.198</td><td>helium</td><td>0.007091455334318981</td><td>0.00033698624953056174</td><td>3.735194223930453</td><td>0.1816278172430596</td></tr>\n",
       "<tr><td>10833.306</td><td>helium</td><td>2.698682304202837</td><td>0.08205863514794083</td><td>129.64982822966246</td><td>18.227534135167193</td></tr>\n",
       "<tr><td>10940.082</td><td>hydrogen</td><td>1.0</td><td>0.06675492320392909</td><td>47.242381554983076</td><td>6.5840158023420985</td></tr>\n",
       "</table>"
      ],
      "text/plain": [
       "<Table length=12>\n",
       "Wavelength     Species     ...         EW              EW Errors     \n",
       " float64        str15      ...      float64             float64      \n",
       "---------- --------------- ... ------------------ -------------------\n",
       "  3890.166 hydrogen+helium ...  6.822265363694296 0.14761453064714286\n",
       "  4102.891        hydrogen ... 10.925457067384784 0.17181518952902328\n",
       "  4341.684        hydrogen ...  30.74620729948228 0.42968047048167984\n",
       "  4472.755          helium ... 1.6469645723243258  0.1195894136518671\n",
       "  4862.721        hydrogen ...  70.75069575133098  0.8381573928261268\n",
       "  5017.079          helium ... 1.6592155734967964 0.15182092555246632\n",
       "  5877.299          helium ... 10.233905311190775  0.1748648726025513\n",
       "  6564.612        hydrogen ... 406.62683240131093  2.9797764325930807\n",
       "  6679.994          helium ... 4.3337488919533795  0.1635144439650765\n",
       "  7067.198          helium ...  3.735194223930453  0.1816278172430596\n",
       " 10833.306          helium ... 129.64982822966246  18.227534135167193\n",
       " 10940.082        hydrogen ... 47.242381554983076  6.5840158023420985"
      ]
     },
     "execution_count": 34,
     "metadata": {},
     "output_type": "execute_result"
    }
   ],
   "source": [
    "input_flux"
   ]
  },
  {
   "cell_type": "markdown",
   "metadata": {},
   "source": [
    "## Load MCMC best recovered parameters"
   ]
  },
  {
   "cell_type": "code",
   "execution_count": 3,
   "metadata": {},
   "outputs": [],
   "source": [
    "ndim = 8\n",
    "onevar = -1\n",
    "\n",
    "nwalkers = 500\n",
    "nmbr = 1000\n",
    "burnin = int(0.8*nmbr) #int(0.1*nmbr)\n",
    "\n",
    "chains = np.load('/Users/thsyu/Software/Yp/J0018p2345_500walkers_1000steps.npy')\n",
    "samples = chains[:, burnin:, :].reshape((-1, ndim))"
   ]
  },
  {
   "cell_type": "code",
   "execution_count": 4,
   "metadata": {},
   "outputs": [
    {
     "name": "stdout",
     "output_type": "stream",
     "text": [
      "Best parameter values:\n",
      "y+ (0.06976619559292947, 0.0024517940648641073, 0.0015629234692768196)\n",
      "T (13939.314093393736, 1236.6516700792217, 1215.491886859887)\n",
      "log(n_e) (2.100950915603529, 0.10925326788958722, 0.11527890722692113)\n",
      "c(Hb) (0.20020395523646378, 0.022819948944960006, 0.025608164106587034)\n",
      "a_H (0.27582676732883754, 0.25411818196477237, 0.1877053996571012)\n",
      "a_He (0.06778488638862307, 0.07648951651109775, 0.04825451876846334)\n",
      "tau_He (0.18220965049941165, 0.25453510700476634, 0.13565140590494984)\n",
      "log(xi) (-3.620561275241675, 1.3513323541941196, 1.598683680334072)\n",
      "\n",
      " Input parameter values:\n",
      "[ 8.0e-02  1.8e+04  2.0e+00  1.0e-01  1.0e+00  1.0e+00  1.0e+00 -4.0e+00]\n"
     ]
    }
   ],
   "source": [
    "prenams = ['y+', 'temperature', '$log(n_{e})$', 'c(H\\\\beta)', '$a_{H}$', '$a_{He}$', '$\\\\tau_{He}', '$log(\\\\xi)$'] #'$n_{HI}$']\n",
    "input_vals = np.array([0.08, 18000, 2, 0.1, 1.0, 1.0, 1.0, -4]) #test_MCMC\n",
    "y_plus_mcmc, temp_mcmc, log_dens_mcmc, c_Hb_mcmc, a_H_mcmc, a_He_mcmc, tau_He_mcmc, log_xi_mcmc = map(\n",
    "    lambda v: (v[1], v[2] - v[1], v[1] - v[0]), zip(*np.percentile(samples, [16, 50, 84], axis=0)))\n",
    "\n",
    "print ('Best parameter values:')\n",
    "print ('y+', y_plus_mcmc)\n",
    "print ('T', temp_mcmc)\n",
    "print ('log(n_e)', log_dens_mcmc)\n",
    "print ('c(Hb)', c_Hb_mcmc)\n",
    "print ('a_H', a_H_mcmc)\n",
    "print ('a_He', a_He_mcmc)\n",
    "print ('tau_He', tau_He_mcmc)\n",
    "print ('log(xi)', log_xi_mcmc)\n",
    "print ('\\n Input parameter values:')\n",
    "print (input_vals)"
   ]
  },
  {
   "cell_type": "markdown",
   "metadata": {},
   "source": [
    "### Generate fluxes from recovered parameters"
   ]
  },
  {
   "cell_type": "code",
   "execution_count": 10,
   "metadata": {},
   "outputs": [
    {
     "data": {
      "text/plain": [
       "47.242381554983076"
      ]
     },
     "execution_count": 10,
     "metadata": {},
     "output_type": "execute_result"
    }
   ],
   "source": [
    "input_flux['EW'][np.where(input_flux['Wavelength'] == 10940.082)[0][0]]"
   ]
  },
  {
   "cell_type": "code",
   "execution_count": 11,
   "metadata": {},
   "outputs": [
    {
     "name": "stdout",
     "output_type": "stream",
     "text": [
      "Working on  3890.166\n",
      "Working on  4102.891\n",
      "Working on  4341.684\n",
      "Working on  4472.755\n",
      "Working on  4862.721\n",
      "Working on  5017.079\n",
      "Working on  5877.299\n",
      "Working on  6564.612\n",
      "Working on  6679.994\n",
      "Working on  7067.198\n",
      "Working on  10833.306\n"
     ]
    }
   ],
   "source": [
    "mfr.generate_emission_line_ratio('J0018p2345_recovered', input_flux['Wavelength'][:-1], input_flux['EW'][:-1], \\\n",
    "                                 input_flux['EW'][np.where(input_flux['Wavelength'] == 4862.721)[0][0]], \\\n",
    "                                 y_plus_mcmc[0], temp_mcmc[0], log_dens_mcmc[0], c_Hb_mcmc[0], \\\n",
    "                                 a_H_mcmc[0], a_He_mcmc[0], tau_He_mcmc[0], log_xi_mcmc[0], \\\n",
    "                                 input_flux['EW'][np.where(input_flux['Wavelength'] == 10940.082)[0][0]])\n"
   ]
  },
  {
   "cell_type": "markdown",
   "metadata": {},
   "source": [
    "## Load recovered fluxes"
   ]
  },
  {
   "cell_type": "code",
   "execution_count": 13,
   "metadata": {},
   "outputs": [],
   "source": [
    "output_flux = Table.read('J0018p2345_recovered', format='ascii', delimiter=' ')"
   ]
  },
  {
   "cell_type": "code",
   "execution_count": 15,
   "metadata": {},
   "outputs": [
    {
     "data": {
      "text/html": [
       "<i>Table length=11</i>\n",
       "<table id=\"table4772629920\" class=\"table-striped table-bordered table-condensed\">\n",
       "<thead><tr><th>Wavelength</th><th>Species</th><th>Flux Ratio</th><th>EW</th></tr></thead>\n",
       "<thead><tr><th>float64</th><th>str8</th><th>float64</th><th>float64</th></tr></thead>\n",
       "<tr><td>3890.166</td><td>hydrogen</td><td>0.1592231804925618</td><td>6.822265363694296</td></tr>\n",
       "<tr><td>4102.891</td><td>hydrogen</td><td>0.23120269445699526</td><td>10.925457067384784</td></tr>\n",
       "<tr><td>4341.684</td><td>hydrogen</td><td>0.43718560354906805</td><td>30.74620729948228</td></tr>\n",
       "<tr><td>4472.755</td><td>helium</td><td>0.030542437435206203</td><td>1.6469645723243258</td></tr>\n",
       "<tr><td>4862.721</td><td>hydrogen</td><td>1.0</td><td>70.75069575133098</td></tr>\n",
       "<tr><td>5017.079</td><td>helium</td><td>0.020487144315560212</td><td>1.6592155734967964</td></tr>\n",
       "<tr><td>5877.299</td><td>helium</td><td>0.09883837873692664</td><td>10.233905311190775</td></tr>\n",
       "<tr><td>6564.612</td><td>hydrogen</td><td>3.224630666591622</td><td>406.62683240131093</td></tr>\n",
       "<tr><td>6679.994</td><td>helium</td><td>0.029348320335349374</td><td>4.3337488919533795</td></tr>\n",
       "<tr><td>7067.198</td><td>helium</td><td>0.023898594354868682</td><td>3.735194223930453</td></tr>\n",
       "<tr><td>10833.306</td><td>helium</td><td>2.6766644939690774</td><td>129.64982822966246</td></tr>\n",
       "</table>"
      ],
      "text/plain": [
       "<Table length=11>\n",
       "Wavelength Species       Flux Ratio              EW        \n",
       " float64     str8         float64             float64      \n",
       "---------- -------- -------------------- ------------------\n",
       "  3890.166 hydrogen   0.1592231804925618  6.822265363694296\n",
       "  4102.891 hydrogen  0.23120269445699526 10.925457067384784\n",
       "  4341.684 hydrogen  0.43718560354906805  30.74620729948228\n",
       "  4472.755   helium 0.030542437435206203 1.6469645723243258\n",
       "  4862.721 hydrogen                  1.0  70.75069575133098\n",
       "  5017.079   helium 0.020487144315560212 1.6592155734967964\n",
       "  5877.299   helium  0.09883837873692664 10.233905311190775\n",
       "  6564.612 hydrogen    3.224630666591622 406.62683240131093\n",
       "  6679.994   helium 0.029348320335349374 4.3337488919533795\n",
       "  7067.198   helium 0.023898594354868682  3.735194223930453\n",
       " 10833.306   helium   2.6766644939690774 129.64982822966246"
      ]
     },
     "execution_count": 15,
     "metadata": {},
     "output_type": "execute_result"
    }
   ],
   "source": [
    "output_flux"
   ]
  },
  {
   "cell_type": "code",
   "execution_count": 25,
   "metadata": {},
   "outputs": [
    {
     "name": "stdout",
     "output_type": "stream",
     "text": [
      "[0.15922318 0.23120269 0.4371856  0.03054244 1.         0.02048714\n",
      " 0.09883838 3.22463067 0.02934832 0.02389859 2.67666449]\n"
     ]
    }
   ],
   "source": [
    "output_flux_noHaHb = np.array(output_flux['Flux Ratio'])\n",
    "\n",
    "print (output_flux_noHaHb)"
   ]
  },
  {
   "cell_type": "code",
   "execution_count": 26,
   "metadata": {},
   "outputs": [],
   "source": [
    "output_flux_noHaHb[6] = output_flux_noHaHb[6] / output_flux['Flux Ratio'][7]\n",
    "output_flux_noHaHb[7] = output_flux_noHaHb[7] / output_flux['Flux Ratio'][7]\n",
    "output_flux_noHaHb[8] = output_flux_noHaHb[8] / output_flux['Flux Ratio'][7]\n",
    "output_flux_noHaHb[9] = output_flux_noHaHb[9] / output_flux['Flux Ratio'][7]"
   ]
  },
  {
   "cell_type": "code",
   "execution_count": 27,
   "metadata": {},
   "outputs": [
    {
     "data": {
      "text/plain": [
       "array([0.15922318, 0.23120269, 0.4371856 , 0.03054244, 1.        ,\n",
       "       0.02048714, 0.03065107, 1.        , 0.0091013 , 0.00741127,\n",
       "       2.67666449])"
      ]
     },
     "execution_count": 27,
     "metadata": {},
     "output_type": "execute_result"
    }
   ],
   "source": [
    "output_flux_noHaHb"
   ]
  },
  {
   "cell_type": "code",
   "execution_count": 39,
   "metadata": {},
   "outputs": [
    {
     "data": {
      "image/png": "[encoded data removed]",
      "text/plain": [
       "<Figure size 864x288 with 2 Axes>"
      ]
     },
     "metadata": {},
     "output_type": "display_data"
    }
   ],
   "source": [
    "f, (ax1, ax2) = plt.subplots(1, 2, figsize=(12,4))\n",
    "\n",
    "ax1.plot(input_flux['Flux Ratio'][:-1], 'o', label='Measured')\n",
    "ax1.plot(output_flux_noHaHb, marker='*', markersize=8, linestyle='None', label='MCMC Predicted')\n",
    "ax1.set_xticks(np.arange(0, len(output_flux_noHaHb), 1))\n",
    "ax1.set_xticklabels(['HeI 3890', r'H$\\delta$', r'H$\\gamma$', \\\n",
    "                     'HeI 4472', r'H$\\beta$', 'HeI 5877', r'H$\\alpha$', \\\n",
    "                     'HeI 6679', 'HeI 7067', 'HeI 10830'], rotation=45)\n",
    "ax1.set_xlim(-1, len(output_flux_noHaHb)+1)\n",
    "#ax1.set_ylim(-0.5, 4.0)\n",
    "ax1.set_ylabel('Flux Ratio')\n",
    "\n",
    "ax2.plot(100*(input_flux['Flux Ratio'][:-1]-output_flux_noHaHb)/input_flux['Flux Ratio'][:-1], 'o')\n",
    "ax2.axhline(0.0, ls='--', color='black', alpha=0.25)\n",
    "ax2.set_xticks(np.arange(0, len(output_flux_noHaHb), 1))\n",
    "ax2.set_xticklabels(['HeI 3890', r'H$\\delta$', r'H$\\gamma$', \\\n",
    "                     'HeI 4472', r'H$\\beta$', 'HeI 5877', r'H$\\alpha$', \\\n",
    "                     'HeI 6679', 'HeI 7067', 'HeI 10830'], rotation=45)\n",
    "ax2.set_xlim(-1, len(output_flux_noHaHb)+1)\n",
    "ax2.set_ylabel(r'\\% Difference in Flux Ratio')\n",
    "\n",
    "#f.savefig('/Users/thsyu/Software/Yp/Tol.pdf', overwrite=True)\n",
    "f.show()"
   ]
  },
  {
   "cell_type": "code",
   "execution_count": 35,
   "metadata": {},
   "outputs": [
    {
     "data": {
      "text/html": [
       "&lt;Column name=&apos;Flux Ratio&apos; dtype=&apos;float64&apos; length=11&gt;\n",
       "<table>\n",
       "<tr><td>-0.0009472635811352825</td></tr>\n",
       "<tr><td>0.00015962718474202275</td></tr>\n",
       "<tr><td>-0.0005715922861372347</td></tr>\n",
       "<tr><td>-0.0009427185789304855</td></tr>\n",
       "<tr><td>0.0</td></tr>\n",
       "<tr><td>0.0030746810516472413</td></tr>\n",
       "<tr><td>-0.0004238001925805611</td></tr>\n",
       "<tr><td>0.0</td></tr>\n",
       "<tr><td>0.0008134540427534916</td></tr>\n",
       "<tr><td>-0.0003198102727680705</td></tr>\n",
       "<tr><td>0.022017810233759594</td></tr>\n",
       "</table>"
      ],
      "text/plain": [
       "<Column name='Flux Ratio' dtype='float64' length=11>\n",
       "-0.0009472635811352825\n",
       "0.00015962718474202275\n",
       "-0.0005715922861372347\n",
       "-0.0009427185789304855\n",
       "                   0.0\n",
       " 0.0030746810516472413\n",
       "-0.0004238001925805611\n",
       "                   0.0\n",
       " 0.0008134540427534916\n",
       "-0.0003198102727680705\n",
       "  0.022017810233759594"
      ]
     },
     "execution_count": 35,
     "metadata": {},
     "output_type": "execute_result"
    }
   ],
   "source": [
    "input_flux['Flux Ratio'][:-1]-output_flux_noHaHb"
   ]
  },
  {
   "cell_type": "code",
   "execution_count": null,
   "metadata": {},
   "outputs": [],
   "source": []
  }
 ],
 "metadata": {
  "kernelspec": {
   "display_name": "Python 3",
   "language": "python",
   "name": "python3"
  },
  "language_info": {
   "codemirror_mode": {
    "name": "ipython",
    "version": 3
   },
   "file_extension": ".py",
   "mimetype": "text/x-python",
   "name": "python",
   "nbconvert_exporter": "python",
   "pygments_lexer": "ipython3",
   "version": "3.6.4"
  }
 },
 "nbformat": 4,
 "nbformat_minor": 2
}
