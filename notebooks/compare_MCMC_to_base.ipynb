{
 "cells": [
  {
   "cell_type": "markdown",
   "metadata": {},
   "source": [
    "# Imports"
   ]
  },
  {
   "cell_type": "code",
   "execution_count": 129,
   "metadata": {},
   "outputs": [],
   "source": [
    "%matplotlib inline\n",
    "    \n",
    "import numpy as np\n",
    "\n",
    "from astropy.table import Column\n",
    "from astropy.table import Table\n",
    "from matplotlib import pyplot as plt\n",
    "from matplotlib.ticker import MaxNLocator\n",
    "import matplotlib.cm as cm\n",
    "\n",
    "import corner\n",
    "import model_flux_ratio as mfr"
   ]
  },
  {
   "cell_type": "code",
   "execution_count": 130,
   "metadata": {},
   "outputs": [
    {
     "data": {
      "text/plain": [
       "<module 'model_flux_ratio' from '/Users/thsyu/Software/Yp/model_flux_ratio.py'>"
      ]
     },
     "execution_count": 130,
     "metadata": {},
     "output_type": "execute_result"
    }
   ],
   "source": [
    "import importlib\n",
    "importlib.reload(mfr)"
   ]
  },
  {
   "cell_type": "code",
   "execution_count": 131,
   "metadata": {},
   "outputs": [
    {
     "name": "stdout",
     "output_type": "stream",
     "text": [
      "/Users/thsyu/Software/Yp\n"
     ]
    }
   ],
   "source": [
    "import os\n",
    "\n",
    "print (os.getcwd())"
   ]
  },
  {
   "cell_type": "markdown",
   "metadata": {},
   "source": [
    "We have our version of the MCMC that should the *best* we can do to reproduce Erik's 2013 primordial helium abundance analysis work (AOS 2013) using only optical data -- this is called 'ours_base'. It includes:\n",
    "\n",
    "- hydrogen emissivities from Hummer & Storey 1987, using the reparameterization from AOS 2010\n",
    "- helium emissivities from Porter 2012, assuming linear interpolation with RectBivariateSpline\n",
    "- reddening curve from SMC\n",
    "\n",
    "We want to then make tweaks to the above components and compare the results of those MCMCs with 'ours_base':\n",
    "- 'ours_CCMred': reddening curve from Cardelli, Clayton, & Mathis 1989\n",
    "- 'ours_S2018_11': hydrogen emissivities from Storey 2018, using linear interpolation with RBS\n",
    "- 'ours_S2018_33': hydrogen emissivities from Storey 2018, using cubic interpolation with RBS\n",
    "\n",
    "And maybe/eventually:\n",
    "- 'ours_P2012_33': helium emissivities from Porter 2012, using cubic interpolation with RBS\n",
    "- hydrogen emissivities using a PCA then RBS\n",
    "- adding HeI10830"
   ]
  },
  {
   "cell_type": "markdown",
   "metadata": {},
   "source": [
    "# Read in MCMC results"
   ]
  },
  {
   "cell_type": "code",
   "execution_count": 133,
   "metadata": {},
   "outputs": [],
   "source": [
    "# Names of systems in AOS2015 that \"qualified\" for helium abundance measurements\n",
    "qualifying = ['CGCG 007-025 (No.  2)', 'I Zw 18 SE 1', 'Mrk  209', 'Mrk  450 (No.  1)', 'Mrk  71 (No.  1)', \\\n",
    "             'SBS 0335-052E1', 'SBS 0335-052E3', 'SBS 0940+544 2', 'SBS 1030+583', 'SBS 1135+581', \\\n",
    "             'SBS 1152+579', 'Mrk  59', 'SBS 1415+437 (No.  2)', 'SBS 1415+437 (No.  1) 3', 'Tol 65']\n",
    "\n",
    "qualifying.remove('SBS 1415+437 (No.  2)') # No HeI4027 for this system (they're measured to be 0)"
   ]
  },
  {
   "cell_type": "markdown",
   "metadata": {},
   "source": [
    "## For a batch.sh file"
   ]
  },
  {
   "cell_type": "markdown",
   "metadata": {},
   "source": [
    "Can paste this into a batch.sh file and run 'source batch.sh' to run the MCMCs in sucession. Takes ~5 mins each"
   ]
  },
  {
   "cell_type": "code",
   "execution_count": 134,
   "metadata": {
    "scrolled": true
   },
   "outputs": [
    {
     "name": "stdout",
     "output_type": "stream",
     "text": [
      "python  CGCG007025No2.py\n",
      "python  IZw18SE1.py\n",
      "python  Mrk209.py\n",
      "python  Mrk450No1.py\n",
      "python  Mrk71No1.py\n",
      "python  SBS0335052E1.py\n",
      "python  SBS0335052E3.py\n",
      "python  SBS0940+5442.py\n",
      "python  SBS1030+583.py\n",
      "python  SBS1135+581.py\n",
      "python  SBS1152+579.py\n",
      "python  Mrk59.py\n",
      "python  SBS1415+437No13.py\n",
      "python  Tol65.py\n"
     ]
    }
   ],
   "source": [
    "for obj in range(len(qualifying)):\n",
    "    name = str(qualifying[obj].replace(' ', '').replace('(','').replace('-', '').replace(')','').replace('.', ''))\n",
    "    print ('python ', name+'.py')"
   ]
  },
  {
   "cell_type": "markdown",
   "metadata": {},
   "source": [
    "## Find optical Te[OIII] on these systems for temperature prior"
   ]
  },
  {
   "cell_type": "code",
   "execution_count": 135,
   "metadata": {},
   "outputs": [],
   "source": [
    "hebcd = Table.read('/Users/thsyu/Software/Yp/test_data/HeBCD', format='ascii', delimiter=' ')"
   ]
  },
  {
   "cell_type": "code",
   "execution_count": 136,
   "metadata": {},
   "outputs": [
    {
     "name": "stdout",
     "output_type": "stream",
     "text": [
      "CGCG007025No2 16500\n",
      "IZw18SE1 19000\n",
      "Mrk59 13500\n",
      "Mrk71No1 15600\n",
      "Mrk209 16100\n",
      "Mrk450No1 11700\n",
      "SBS0335052E1 20099\n",
      "SBS0335052E3 20800\n",
      "SBS0940+5442 18700\n",
      "SBS1030+583 15500\n",
      "SBS1135+581 12600\n",
      "SBS1152+579 15400\n",
      "SBS1415+437No13 17000\n",
      "Tol65 17200\n"
     ]
    }
   ],
   "source": [
    "for r in range(len(hebcd)):\n",
    "    hebcd_name = hebcd['Name'][r].replace('()', '').replace('(','').replace('-', '').replace(')','').replace('.', '')\n",
    "    for obj in range(len(qualifying)):\n",
    "        name = str(qualifying[obj].replace(' ', '').replace('(','').replace('-', '').replace(')','').replace('.', ''))\n",
    "        if name == hebcd_name:\n",
    "            print (hebcd_name, int(hebcd['TeOIII'][r]*1e4))"
   ]
  },
  {
   "cell_type": "markdown",
   "metadata": {},
   "source": [
    "## Store MCMC recovered parameters"
   ]
  },
  {
   "cell_type": "markdown",
   "metadata": {},
   "source": [
    "### Optical"
   ]
  },
  {
   "cell_type": "code",
   "execution_count": 177,
   "metadata": {},
   "outputs": [],
   "source": [
    "# Different versions of the MCMC results so far\n",
    "diffs = ['ours_base', 'ours_CCMred', 'ours_S2018_11', 'ours_S2018_33']\n",
    "\n",
    "nwalkers = 500\n",
    "nmbr = 1000\n",
    "burnin = int(0.8*nmbr) #int(0.1*nmbr)\n",
    "\n",
    "num = nwalkers * ( nmbr-burnin )"
   ]
  },
  {
   "cell_type": "code",
   "execution_count": 178,
   "metadata": {},
   "outputs": [],
   "source": [
    "base_yplus = np.zeros((len(qualifying),num))\n",
    "base_temp = np.zeros((len(qualifying),num))\n",
    "base_dens = np.zeros((len(qualifying),num))\n",
    "base_cHb = np.zeros((len(qualifying),num))\n",
    "base_aH = np.zeros((len(qualifying),num))\n",
    "base_aHe = np.zeros((len(qualifying),num))\n",
    "base_tauHe = np.zeros((len(qualifying),num))\n",
    "base_xi = np.zeros((len(qualifying),num))"
   ]
  },
  {
   "cell_type": "code",
   "execution_count": 179,
   "metadata": {},
   "outputs": [],
   "source": [
    "CCMred_yplus = np.zeros((len(qualifying),num))\n",
    "CCMred_temp = np.zeros((len(qualifying),num))\n",
    "CCMred_dens = np.zeros((len(qualifying),num))\n",
    "CCMred_cHb = np.zeros((len(qualifying),num))\n",
    "CCMred_aH = np.zeros((len(qualifying),num))\n",
    "CCMred_aHe = np.zeros((len(qualifying),num))\n",
    "CCMred_tauHe = np.zeros((len(qualifying),num))\n",
    "CCMred_xi = np.zeros((len(qualifying),num))"
   ]
  },
  {
   "cell_type": "code",
   "execution_count": 180,
   "metadata": {},
   "outputs": [],
   "source": [
    "S2018_11_yplus = np.zeros((len(qualifying),num))\n",
    "S2018_11_temp = np.zeros((len(qualifying),num))\n",
    "S2018_11_dens = np.zeros((len(qualifying),num))\n",
    "S2018_11_cHb = np.zeros((len(qualifying),num))\n",
    "S2018_11_aH = np.zeros((len(qualifying),num))\n",
    "S2018_11_aHe = np.zeros((len(qualifying),num))\n",
    "S2018_11_tauHe = np.zeros((len(qualifying),num))\n",
    "S2018_11_xi = np.zeros((len(qualifying),num))"
   ]
  },
  {
   "cell_type": "code",
   "execution_count": 181,
   "metadata": {},
   "outputs": [],
   "source": [
    "S2018_33_yplus = np.zeros((len(qualifying),num))\n",
    "S2018_33_temp = np.zeros((len(qualifying),num))\n",
    "S2018_33_dens = np.zeros((len(qualifying),num))\n",
    "S2018_33_cHb = np.zeros((len(qualifying),num))\n",
    "S2018_33_aH = np.zeros((len(qualifying),num))\n",
    "S2018_33_aHe = np.zeros((len(qualifying),num))\n",
    "S2018_33_tauHe = np.zeros((len(qualifying),num))\n",
    "S2018_33_xi = np.zeros((len(qualifying),num))"
   ]
  },
  {
   "cell_type": "code",
   "execution_count": 182,
   "metadata": {
    "scrolled": true
   },
   "outputs": [
    {
     "name": "stdout",
     "output_type": "stream",
     "text": [
      "Working on  3890.166\n",
      "Working on  4027.328\n",
      "Working on  4102.891\n",
      "Working on  4341.684\n",
      "Working on  4472.755\n",
      "Working on  4862.721\n",
      "Working on  5877.299\n",
      "Working on  6564.612\n",
      "Working on  6679.994\n",
      "Working on  7067.198\n",
      "CGCG007025No2 [3.71545954e-01 1.92506598e-01 2.31381440e+00 2.05337449e+00\n",
      " 1.45703444e-01 0.00000000e+00 4.49131993e-01 7.63009049e-01\n",
      " 1.11570265e-01 2.22620926e-03] 6.402882399493268 \n",
      "\n",
      "Working on  3890.166\n",
      "Working on  4027.328\n",
      "Working on  4102.891\n",
      "Working on  4341.684\n",
      "Working on  4472.755\n",
      "Working on  4862.721\n",
      "Working on  5877.299\n",
      "Working on  6564.612\n",
      "Working on  6679.994\n",
      "Working on  7067.198\n",
      "IZw18SE1 [1.2259227  0.05148978 0.01371526 0.118673   0.05105821 0.\n",
      " 0.29913701 0.25054944 0.01269401 0.00277002] 2.0260094418356873 \n",
      "\n",
      "Working on  3890.166\n",
      "Working on  4027.328\n",
      "Working on  4102.891\n",
      "Working on  4341.684\n",
      "Working on  4472.755\n",
      "Working on  4862.721\n",
      "Working on  5877.299\n",
      "Working on  6564.612\n",
      "Working on  6679.994\n",
      "Working on  7067.198\n",
      "Mrk209 [5.06306131e-03 2.17665890e-06 4.86374168e-02 1.67588818e-01\n",
      " 9.44911740e-03 0.00000000e+00 2.40955104e-01 5.07386755e-01\n",
      " 7.34151125e-02 1.81442464e-03] 1.0543119872185553 \n",
      "\n",
      "Working on  3890.166\n",
      "Working on  4027.328\n",
      "Working on  4102.891\n",
      "Working on  4341.684\n",
      "Working on  4472.755\n",
      "Working on  4862.721\n",
      "Working on  5877.299\n",
      "Working on  6564.612\n",
      "Working on  6679.994\n",
      "Working on  7067.198\n",
      "Mrk450No1 [0.29383454 0.01881202 1.06750789 3.05655671 0.23108365 0.\n",
      " 0.49750175 0.02871473 0.01543869 1.81394395] 7.023393945003191 \n",
      "\n",
      "Working on  3890.166\n",
      "Working on  4027.328\n",
      "Working on  4102.891\n",
      "Working on  4341.684\n",
      "Working on  4472.755\n",
      "Working on  4862.721\n",
      "Working on  5877.299\n",
      "Working on  6564.612\n",
      "Working on  6679.994\n",
      "Working on  7067.198\n",
      "Mrk71No1 [0.0031787  0.07488379 0.28696565 0.3585394  0.33944534 0.\n",
      " 0.4167098  0.13788477 0.72967521 0.27349437] 2.6207770314687058 \n",
      "\n",
      "Working on  3890.166\n",
      "Working on  4027.328\n",
      "Working on  4102.891\n",
      "Working on  4341.684\n",
      "Working on  4472.755\n",
      "Working on  4862.721\n",
      "Working on  5877.299\n",
      "Working on  6564.612\n",
      "Working on  6679.994\n",
      "Working on  7067.198\n",
      "SBS0335052E1 [0.00176619 0.04312964 0.12793329 0.53706637 0.13968959 0.\n",
      " 0.26451018 0.15788592 0.00150308 0.1505324 ] 1.4240166403770684 \n",
      "\n",
      "Working on  3890.166\n",
      "Working on  4027.328\n",
      "Working on  4102.891\n",
      "Working on  4341.684\n",
      "Working on  4472.755\n",
      "Working on  4862.721\n",
      "Working on  5877.299\n",
      "Working on  6564.612\n",
      "Working on  6679.994\n",
      "Working on  7067.198\n",
      "SBS0335052E3 [0.11605984 0.02405221 0.01514745 5.04377707 0.18017286 0.\n",
      " 1.02661823 1.07205479 0.05432411 0.46515538] 7.997361936731612 \n",
      "\n",
      "Working on  3890.166\n",
      "Working on  4027.328\n",
      "Working on  4102.891\n",
      "Working on  4341.684\n",
      "Working on  4472.755\n",
      "Working on  4862.721\n",
      "Working on  5877.299\n",
      "Working on  6564.612\n",
      "Working on  6679.994\n",
      "Working on  7067.198\n",
      "SBS0940+5442 [0.00432214 0.03131715 0.32648553 0.23450555 0.17694784 0.\n",
      " 0.00991856 0.20838559 0.00155201 0.01150275] 1.0049371241569225 \n",
      "\n",
      "Working on  3890.166\n",
      "Working on  4027.328\n",
      "Working on  4102.891\n",
      "Working on  4341.684\n",
      "Working on  4472.755\n",
      "Working on  4862.721\n",
      "Working on  5877.299\n",
      "Working on  6564.612\n",
      "Working on  6679.994\n",
      "Working on  7067.198\n",
      "SBS1030+583 [0.05386509 0.12973893 0.04438564 0.00456115 0.74828252 0.\n",
      " 0.64326191 0.70686307 0.00131808 0.10036849] 2.432644869915272 \n",
      "\n",
      "Working on  3890.166\n",
      "Working on  4027.328\n",
      "Working on  4102.891\n",
      "Working on  4341.684\n",
      "Working on  4472.755\n",
      "Working on  4862.721\n",
      "Working on  5877.299\n",
      "Working on  6564.612\n",
      "Working on  6679.994\n",
      "Working on  7067.198\n",
      "SBS1135+581 [2.64598198 0.14174234 0.07796347 0.7520152  0.59593658 0.\n",
      " 0.98137734 0.26595884 0.0527013  0.45746616] 5.971143206004292 \n",
      "\n",
      "Working on  3890.166\n",
      "Working on  4027.328\n",
      "Working on  4102.891\n",
      "Working on  4341.684\n",
      "Working on  4472.755\n",
      "Working on  4862.721\n",
      "Working on  5877.299\n",
      "Working on  6564.612\n",
      "Working on  6679.994\n",
      "Working on  7067.198\n",
      "SBS1152+579 [1.68210680e-02 1.35523569e-03 7.00743077e-02 1.89726696e+00\n",
      " 3.52078018e-03 0.00000000e+00 3.47975490e-02 5.35825424e-02\n",
      " 6.49072198e-01 5.68103642e-01] 3.2945942802261614 \n",
      "\n",
      "Working on  3890.166\n",
      "Working on  4027.328\n",
      "Working on  4102.891\n",
      "Working on  4341.684\n",
      "Working on  4472.755\n",
      "Working on  4862.721\n",
      "Working on  5877.299\n",
      "Working on  6564.612\n",
      "Working on  6679.994\n",
      "Working on  7067.198\n",
      "Mrk59 [6.09211412e-03 3.35253137e-02 4.88533902e-02 3.64356209e-01\n",
      " 1.51040958e-01 0.00000000e+00 1.49526349e-02 1.01072705e-05\n",
      " 1.43443136e-01 4.29471931e-01] 1.1917457943491137 \n",
      "\n",
      "Working on  3890.166\n",
      "Working on  4027.328\n",
      "Working on  4102.891\n",
      "Working on  4341.684\n",
      "Working on  4472.755\n",
      "Working on  4862.721\n",
      "Working on  5877.299\n",
      "Working on  6564.612\n",
      "Working on  6679.994\n",
      "Working on  7067.198\n",
      "SBS1415+437No13 [2.35700844e-04 6.87417390e-02 1.51249304e-01 6.30805094e-02\n",
      " 1.31015756e-01 0.00000000e+00 1.10504514e-01 6.10020012e-02\n",
      " 1.98253903e+00 2.94675722e-01] 2.863044279906238 \n",
      "\n",
      "Working on  3890.166\n",
      "Working on  4027.328\n",
      "Working on  4102.891\n",
      "Working on  4341.684\n",
      "Working on  4472.755\n",
      "Working on  4862.721\n",
      "Working on  5877.299\n",
      "Working on  6564.612\n",
      "Working on  6679.994\n",
      "Working on  7067.198\n",
      "Tol65 [0.45348694 0.00555915 0.28528874 0.64010927 0.30068438 0.\n",
      " 1.92880086 0.05105509 0.43286299 0.86677972] 4.96462713312048 \n",
      "\n",
      "Working on  3890.166\n",
      "Working on  4027.328\n",
      "Working on  4102.891\n",
      "Working on  4341.684\n",
      "Working on  4472.755\n",
      "Working on  4862.721\n",
      "Working on  5877.299\n",
      "Working on  6564.612\n",
      "Working on  6679.994\n",
      "Working on  7067.198\n",
      "CGCG007025No2 [1.56406932 0.05809931 1.32066992 1.41774993 0.40613339 0.\n",
      " 0.15867513 1.99355036 0.0833663  0.01125129] 7.013564950770775 \n",
      "\n",
      "Working on  3890.166\n",
      "Working on  4027.328\n",
      "Working on  4102.891\n",
      "Working on  4341.684\n",
      "Working on  4472.755\n",
      "Working on  4862.721\n",
      "Working on  5877.299\n",
      "Working on  6564.612\n",
      "Working on  6679.994\n",
      "Working on  7067.198\n",
      "IZw18SE1 [9.62995353e-01 4.49474657e-02 4.66860495e-04 1.38544306e-01\n",
      " 5.17671520e-02 0.00000000e+00 2.73589127e-01 3.14588134e-01\n",
      " 9.10831744e-03 4.49160390e-06] 1.7960112074108827 \n",
      "\n",
      "Working on  3890.166\n",
      "Working on  4027.328\n",
      "Working on  4102.891\n",
      "Working on  4341.684\n",
      "Working on  4472.755\n",
      "Working on  4862.721\n",
      "Working on  5877.299\n",
      "Working on  6564.612\n",
      "Working on  6679.994\n",
      "Working on  7067.198\n",
      "Mrk209 [0.00959718 0.00100829 0.07282093 0.18084525 0.0012633  0.\n",
      " 0.36586427 0.5229762  0.10615868 0.00184196] 1.2623760414243426 \n",
      "\n",
      "Working on  3890.166\n",
      "Working on  4027.328\n",
      "Working on  4102.891\n",
      "Working on  4341.684\n",
      "Working on  4472.755\n",
      "Working on  4862.721\n",
      "Working on  5877.299\n",
      "Working on  6564.612\n",
      "Working on  6679.994\n",
      "Working on  7067.198\n",
      "Mrk450No1 [0.60483238 0.03259549 5.29106072 1.8360578  0.37953731 0.\n",
      " 0.08336328 0.02672568 0.05449925 0.58286891] 8.891540815454727 \n",
      "\n",
      "Working on  3890.166\n",
      "Working on  4027.328\n",
      "Working on  4102.891\n",
      "Working on  4341.684\n",
      "Working on  4472.755\n",
      "Working on  4862.721\n",
      "Working on  5877.299\n",
      "Working on  6564.612\n",
      "Working on  6679.994\n",
      "Working on  7067.198\n",
      "Mrk71No1 [0.86485121 0.16511412 0.0452486  0.87088081 0.2164296  0.\n",
      " 0.295664   0.13732984 0.87415406 0.09624594] 3.5659181849073707 \n",
      "\n",
      "Working on  3890.166\n",
      "Working on  4027.328\n",
      "Working on  4102.891\n",
      "Working on  4341.684\n",
      "Working on  4472.755\n",
      "Working on  4862.721\n",
      "Working on  5877.299\n",
      "Working on  6564.612\n",
      "Working on  6679.994\n",
      "Working on  7067.198\n",
      "SBS0335052E1 [0.49884593 0.00575413 0.01930376 0.30776432 0.1088576  0.\n",
      " 0.14461186 0.04958915 0.04500626 0.05556605] 1.23529906496598 \n",
      "\n",
      "Working on  3890.166\n",
      "Working on  4027.328\n",
      "Working on  4102.891\n",
      "Working on  4341.684\n",
      "Working on  4472.755\n",
      "Working on  4862.721\n",
      "Working on  5877.299\n",
      "Working on  6564.612\n",
      "Working on  6679.994\n",
      "Working on  7067.198\n",
      "SBS0335052E3 [4.43989463 0.04905205 0.19352983 3.80534195 0.9840835  0.\n",
      " 0.25583041 2.28813919 0.2639375  0.18066491] 12.460473975540157 \n",
      "\n",
      "Working on  3890.166\n",
      "Working on  4027.328\n",
      "Working on  4102.891\n",
      "Working on  4341.684\n",
      "Working on  4472.755\n",
      "Working on  4862.721\n",
      "Working on  5877.299\n",
      "Working on  6564.612\n",
      "Working on  6679.994\n",
      "Working on  7067.198\n",
      "SBS0940+5442 [0.23913162 0.14216267 1.01124739 0.11596975 0.14005538 0.\n",
      " 0.00304096 0.13538391 0.01141105 0.040585  ] 1.8389877224617976 \n",
      "\n",
      "Working on  3890.166\n",
      "Working on  4027.328\n",
      "Working on  4102.891\n",
      "Working on  4341.684\n",
      "Working on  4472.755\n",
      "Working on  4862.721\n",
      "Working on  5877.299\n",
      "Working on  6564.612\n",
      "Working on  6679.994\n",
      "Working on  7067.198\n",
      "SBS1030+583 [0.02965162 0.1275312  0.04608388 0.00308762 0.68248601 0.\n",
      " 0.77388613 0.82647795 0.0041741  0.12466948] 2.6180480010694263 \n",
      "\n",
      "Working on  3890.166\n",
      "Working on  4027.328\n",
      "Working on  4102.891\n",
      "Working on  4341.684\n",
      "Working on  4472.755\n",
      "Working on  4862.721\n",
      "Working on  5877.299\n",
      "Working on  6564.612\n",
      "Working on  6679.994\n",
      "Working on  7067.198\n"
     ]
    },
    {
     "name": "stdout",
     "output_type": "stream",
     "text": [
      "SBS1135+581 [3.26413551 0.0105165  0.38922188 1.28689393 0.71837188 0.\n",
      " 0.66681635 0.60545239 0.18346878 0.16820677] 7.2930839923823685 \n",
      "\n",
      "Working on  3890.166\n",
      "Working on  4027.328\n",
      "Working on  4102.891\n",
      "Working on  4341.684\n",
      "Working on  4472.755\n",
      "Working on  4862.721\n",
      "Working on  5877.299\n",
      "Working on  6564.612\n",
      "Working on  6679.994\n",
      "Working on  7067.198\n",
      "SBS1152+579 [3.36309830e+00 1.97016731e-01 3.30682664e+00 8.23077449e-01\n",
      " 2.72193475e-03 0.00000000e+00 6.95953643e-02 3.59283020e-02\n",
      " 1.46549410e-01 1.10984029e-01] 8.055798161867708 \n",
      "\n",
      "Working on  3890.166\n",
      "Working on  4027.328\n",
      "Working on  4102.891\n",
      "Working on  4341.684\n",
      "Working on  4472.755\n",
      "Working on  4862.721\n",
      "Working on  5877.299\n",
      "Working on  6564.612\n",
      "Working on  6679.994\n",
      "Working on  7067.198\n",
      "Mrk59 [1.09013379 0.14747436 1.54210789 0.79899429 0.1227668  0.\n",
      " 0.08159507 0.07289975 0.04466645 0.32161761] 4.2222560110493275 \n",
      "\n",
      "Working on  3890.166\n",
      "Working on  4027.328\n",
      "Working on  4102.891\n",
      "Working on  4341.684\n",
      "Working on  4472.755\n",
      "Working on  4862.721\n",
      "Working on  5877.299\n",
      "Working on  6564.612\n",
      "Working on  6679.994\n",
      "Working on  7067.198\n",
      "SBS1415+437No13 [1.73429714e+00 8.50813099e-06 8.88544149e-02 1.48031629e-05\n",
      " 3.13127070e-01 0.00000000e+00 1.82382980e-03 1.06446345e-01\n",
      " 1.41024966e+00 2.17417079e-01] 3.872238853920534 \n",
      "\n",
      "Working on  3890.166\n",
      "Working on  4027.328\n",
      "Working on  4102.891\n",
      "Working on  4341.684\n",
      "Working on  4472.755\n",
      "Working on  4862.721\n",
      "Working on  5877.299\n",
      "Working on  6564.612\n",
      "Working on  6679.994\n",
      "Working on  7067.198\n",
      "Tol65 [0.99035134 0.0051566  2.66009804 0.29496147 0.29480975 0.\n",
      " 1.26327907 0.02216047 0.82343607 0.38543537] 6.739688202628098 \n",
      "\n",
      "Working on  3890.166\n",
      "Working on  4027.328\n",
      "Working on  4102.891\n",
      "Working on  4341.684\n",
      "Working on  4472.755\n",
      "Working on  4862.721\n",
      "Working on  5877.299\n",
      "Working on  6564.612\n",
      "Working on  6679.994\n",
      "Working on  7067.198\n",
      "CGCG007025No2 [0.25344922 0.18524476 2.27426501 2.04983875 0.12898531 0.\n",
      " 0.53320153 0.72015624 0.12397008 0.00232855] 6.271439448704445 \n",
      "\n",
      "Working on  3890.166\n",
      "Working on  4027.328\n",
      "Working on  4102.891\n",
      "Working on  4341.684\n",
      "Working on  4472.755\n",
      "Working on  4862.721\n",
      "Working on  5877.299\n",
      "Working on  6564.612\n",
      "Working on  6679.994\n",
      "Working on  7067.198\n",
      "IZw18SE1 [6.82229654e-01 4.62063550e-02 2.59440646e-02 1.05848999e-01\n",
      " 5.68662119e-02 0.00000000e+00 3.70725763e-01 2.55755802e-01\n",
      " 1.97101954e-02 1.89207390e-05] 1.5633059659684414 \n",
      "\n",
      "Working on  3890.166\n",
      "Working on  4027.328\n",
      "Working on  4102.891\n",
      "Working on  4341.684\n",
      "Working on  4472.755\n",
      "Working on  4862.721\n",
      "Working on  5877.299\n",
      "Working on  6564.612\n",
      "Working on  6679.994\n",
      "Working on  7067.198\n",
      "Mrk209 [6.48742738e-02 1.16296980e-03 2.11027812e-02 1.50090525e-01\n",
      " 1.07983324e-03 0.00000000e+00 3.25842149e-01 4.66132123e-01\n",
      " 1.08587199e-01 9.95382969e-05] 1.1389713922921618 \n",
      "\n",
      "Working on  3890.166\n",
      "Working on  4027.328\n",
      "Working on  4102.891\n",
      "Working on  4341.684\n",
      "Working on  4472.755\n",
      "Working on  4862.721\n",
      "Working on  5877.299\n",
      "Working on  6564.612\n",
      "Working on  6679.994\n",
      "Working on  7067.198\n",
      "Mrk450No1 [0.87611977 0.01910901 1.06238621 3.11096442 0.21923001 0.\n",
      " 0.45132668 0.00776459 0.01268234 1.28024844] 7.039831487054029 \n",
      "\n",
      "Working on  3890.166\n",
      "Working on  4027.328\n",
      "Working on  4102.891\n",
      "Working on  4341.684\n",
      "Working on  4472.755\n",
      "Working on  4862.721\n",
      "Working on  5877.299\n",
      "Working on  6564.612\n",
      "Working on  6679.994\n",
      "Working on  7067.198\n",
      "Mrk71No1 [0.10674377 0.06803174 0.22091552 0.40700921 0.39641483 0.\n",
      " 0.46383244 0.16886305 0.66037682 0.21933675] 2.711524125575107 \n",
      "\n",
      "Working on  3890.166\n",
      "Working on  4027.328\n",
      "Working on  4102.891\n",
      "Working on  4341.684\n",
      "Working on  4472.755\n",
      "Working on  4862.721\n",
      "Working on  5877.299\n",
      "Working on  6564.612\n",
      "Working on  6679.994\n",
      "Working on  7067.198\n",
      "SBS0335052E1 [0.01051748 0.04006946 0.1376721  0.54490115 0.1513961  0.\n",
      " 0.33644984 0.15929392 0.00072402 0.15968654] 1.5407106159127604 \n",
      "\n",
      "Working on  3890.166\n",
      "Working on  4027.328\n",
      "Working on  4102.891\n",
      "Working on  4341.684\n",
      "Working on  4472.755\n",
      "Working on  4862.721\n",
      "Working on  5877.299\n",
      "Working on  6564.612\n",
      "Working on  6679.994\n",
      "Working on  7067.198\n",
      "SBS0335052E3 [0.07396082 0.02995174 0.01289244 5.11470413 0.11633813 0.\n",
      " 1.2438541  0.88529321 0.0354521  0.58369328] 8.096139956258954 \n",
      "\n",
      "Working on  3890.166\n",
      "Working on  4027.328\n",
      "Working on  4102.891\n",
      "Working on  4341.684\n",
      "Working on  4472.755\n",
      "Working on  4862.721\n",
      "Working on  5877.299\n",
      "Working on  6564.612\n",
      "Working on  6679.994\n",
      "Working on  7067.198\n",
      "SBS0940+5442 [0.08761365 0.04314753 0.23540643 0.26010259 0.2152188  0.\n",
      " 0.05880753 0.2402812  0.00247462 0.03651572] 1.179568070942516 \n",
      "\n",
      "Working on  3890.166\n",
      "Working on  4027.328\n",
      "Working on  4102.891\n",
      "Working on  4341.684\n",
      "Working on  4472.755\n",
      "Working on  4862.721\n",
      "Working on  5877.299\n",
      "Working on  6564.612\n",
      "Working on  6679.994\n",
      "Working on  7067.198\n",
      "SBS1030+583 [9.87719166e-03 1.37234742e-01 2.55139037e-03 4.14224718e-04\n",
      " 6.65268383e-01 0.00000000e+00 8.28917740e-01 8.09407352e-01\n",
      " 8.81819856e-03 1.37499513e-01] 2.5999887348800694 \n",
      "\n",
      "Working on  3890.166\n",
      "Working on  4027.328\n",
      "Working on  4102.891\n",
      "Working on  4341.684\n",
      "Working on  4472.755\n",
      "Working on  4862.721\n",
      "Working on  5877.299\n",
      "Working on  6564.612\n",
      "Working on  6679.994\n",
      "Working on  7067.198\n",
      "SBS1135+581 [0.40173773 0.13203828 0.1055576  0.67856205 0.43583813 0.\n",
      " 1.16669996 0.43806498 0.03387648 0.27614851] 3.6685237041201866 \n",
      "\n",
      "Working on  3890.166\n",
      "Working on  4027.328\n",
      "Working on  4102.891\n",
      "Working on  4341.684\n",
      "Working on  4472.755\n",
      "Working on  4862.721\n",
      "Working on  5877.299\n",
      "Working on  6564.612\n",
      "Working on  6679.994\n",
      "Working on  7067.198\n",
      "SBS1152+579 [2.04332578e-01 1.27612843e-04 5.76487494e-02 1.94404933e+00\n",
      " 1.24798270e-02 0.00000000e+00 3.90130064e-02 3.44063864e-02\n",
      " 6.70189122e-01 5.63584134e-01] 3.5258307494740753 \n",
      "\n",
      "Working on  3890.166\n",
      "Working on  4027.328\n",
      "Working on  4102.891\n",
      "Working on  4341.684\n",
      "Working on  4472.755\n",
      "Working on  4862.721\n",
      "Working on  5877.299\n",
      "Working on  6564.612\n",
      "Working on  6679.994\n",
      "Working on  7067.198\n",
      "Mrk59 [1.91850683e-01 4.12188870e-02 6.09070280e-03 3.07634724e-01\n",
      " 1.51403843e-01 0.00000000e+00 6.20848368e-03 5.91191193e-05\n",
      " 1.72975417e-01 5.22063415e-01] 1.3995052744250063 \n",
      "\n",
      "Working on  3890.166\n",
      "Working on  4027.328\n",
      "Working on  4102.891\n",
      "Working on  4341.684\n",
      "Working on  4472.755\n",
      "Working on  4862.721\n",
      "Working on  5877.299\n",
      "Working on  6564.612\n",
      "Working on  6679.994\n",
      "Working on  7067.198\n",
      "SBS1415+437No13 [0.02508114 0.05700208 0.23937458 0.08384158 0.09613044 0.\n",
      " 0.18837443 0.06003085 2.13423364 0.4428717 ] 3.3269404407278245 \n",
      "\n",
      "Working on  3890.166\n",
      "Working on  4027.328\n",
      "Working on  4102.891\n",
      "Working on  4341.684\n",
      "Working on  4472.755\n",
      "Working on  4862.721\n",
      "Working on  5877.299\n",
      "Working on  6564.612\n",
      "Working on  6679.994\n",
      "Working on  7067.198\n",
      "Tol65 [0.07545555 0.01020663 0.19571736 0.67773615 0.24727287 0.\n",
      " 1.81300462 0.06288459 0.45072009 0.89735184] 4.430349707515977 \n",
      "\n",
      "Working on  3890.166\n",
      "Working on  4027.328\n",
      "Working on  4102.891\n",
      "Working on  4341.684\n",
      "Working on  4472.755\n",
      "Working on  4862.721\n",
      "Working on  5877.299\n",
      "Working on  6564.612\n",
      "Working on  6679.994\n",
      "Working on  7067.198\n",
      "CGCG007025No2 [0.33325197 0.18469614 2.25467678 2.02571555 0.14295838 0.\n",
      " 0.51409447 0.77845447 0.12254151 0.00633623] 6.362725497876232 \n",
      "\n",
      "Working on  3890.166\n",
      "Working on  4027.328\n",
      "Working on  4102.891\n",
      "Working on  4341.684\n",
      "Working on  4472.755\n",
      "Working on  4862.721\n",
      "Working on  5877.299\n",
      "Working on  6564.612\n",
      "Working on  6679.994\n",
      "Working on  7067.198\n",
      "IZw18SE1 [0.74435059 0.04682671 0.02454862 0.10549031 0.04968696 0.\n",
      " 0.29578189 0.26869547 0.01292426 0.0036606 ] 1.5519654275962678 \n",
      "\n",
      "Working on  3890.166\n",
      "Working on  4027.328\n",
      "Working on  4102.891\n",
      "Working on  4341.684\n",
      "Working on  4472.755\n",
      "Working on  4862.721\n",
      "Working on  5877.299\n",
      "Working on  6564.612\n",
      "Working on  6679.994\n",
      "Working on  7067.198\n",
      "Mrk209 [6.12180044e-02 8.43410730e-04 2.16701660e-02 1.45696481e-01\n",
      " 2.02207338e-04 0.00000000e+00 4.29981099e-01 5.11778676e-01\n",
      " 1.35959120e-01 1.94453263e-03] 1.3092936978996832 \n",
      "\n",
      "Working on  3890.166\n",
      "Working on  4027.328\n",
      "Working on  4102.891\n",
      "Working on  4341.684\n",
      "Working on  4472.755\n",
      "Working on  4862.721\n",
      "Working on  5877.299\n",
      "Working on  6564.612\n",
      "Working on  6679.994\n",
      "Working on  7067.198\n",
      "Mrk450No1 [0.70098169 0.03223888 1.1097285  3.06144106 0.20442778 0.\n",
      " 0.4266357  0.01429894 0.01110245 1.08291638] 6.643771371992381 \n",
      "\n",
      "Working on  3890.166\n",
      "Working on  4027.328\n",
      "Working on  4102.891\n",
      "Working on  4341.684\n",
      "Working on  4472.755\n",
      "Working on  4862.721\n",
      "Working on  5877.299\n",
      "Working on  6564.612\n",
      "Working on  6679.994\n",
      "Working on  7067.198\n",
      "Mrk71No1 [0.11540457 0.07331056 0.27932464 0.36992789 0.42202947 0.\n",
      " 0.56175362 0.15699475 0.60978389 0.3092641 ] 2.897793493904451 \n",
      "\n"
     ]
    },
    {
     "name": "stdout",
     "output_type": "stream",
     "text": [
      "Working on  3890.166\n",
      "Working on  4027.328\n",
      "Working on  4102.891\n",
      "Working on  4341.684\n",
      "Working on  4472.755\n",
      "Working on  4862.721\n",
      "Working on  5877.299\n",
      "Working on  6564.612\n",
      "Working on  6679.994\n",
      "Working on  7067.198\n",
      "SBS0335052E1 [0.00323813 0.03148058 0.12514064 0.5402945  0.16274437 0.\n",
      " 0.35728217 0.14124856 0.00078535 0.13827187] 1.5004861589472769 \n",
      "\n",
      "Working on  3890.166\n",
      "Working on  4027.328\n",
      "Working on  4102.891\n",
      "Working on  4341.684\n",
      "Working on  4472.755\n",
      "Working on  4862.721\n",
      "Working on  5877.299\n",
      "Working on  6564.612\n",
      "Working on  6679.994\n",
      "Working on  7067.198\n",
      "SBS0335052E3 [0.06570446 0.02193363 0.01954986 5.11564767 0.12801652 0.\n",
      " 1.17233387 0.97354572 0.04452618 0.61835079] 8.159608700649285 \n",
      "\n",
      "Working on  3890.166\n",
      "Working on  4027.328\n",
      "Working on  4102.891\n",
      "Working on  4341.684\n",
      "Working on  4472.755\n",
      "Working on  4862.721\n",
      "Working on  5877.299\n",
      "Working on  6564.612\n",
      "Working on  6679.994\n",
      "Working on  7067.198\n",
      "SBS0940+5442 [1.02120372e-01 6.09722809e-02 2.52526119e-01 2.59806055e-01\n",
      " 1.85825324e-01 0.00000000e+00 3.38343715e-02 2.10199160e-01\n",
      " 9.46556376e-05 5.56526518e-02] 1.1610309902035898 \n",
      "\n",
      "Working on  3890.166\n",
      "Working on  4027.328\n",
      "Working on  4102.891\n",
      "Working on  4341.684\n",
      "Working on  4472.755\n",
      "Working on  4862.721\n",
      "Working on  5877.299\n",
      "Working on  6564.612\n",
      "Working on  6679.994\n",
      "Working on  7067.198\n",
      "SBS1030+583 [6.05178239e-03 1.04459203e-01 3.99036884e-03 1.04636009e-04\n",
      " 6.88197658e-01 0.00000000e+00 9.80118309e-01 7.72700477e-01\n",
      " 1.84278616e-02 1.49445589e-01] 2.7234958856254643 \n",
      "\n",
      "Working on  3890.166\n",
      "Working on  4027.328\n",
      "Working on  4102.891\n",
      "Working on  4341.684\n",
      "Working on  4472.755\n",
      "Working on  4862.721\n",
      "Working on  5877.299\n",
      "Working on  6564.612\n",
      "Working on  6679.994\n",
      "Working on  7067.198\n",
      "SBS1135+581 [0.51051563 0.13009101 0.10194925 0.72381429 0.51445413 0.\n",
      " 1.07951133 0.29742502 0.03276479 0.40418578] 3.7947112296767047 \n",
      "\n",
      "Working on  3890.166\n",
      "Working on  4027.328\n",
      "Working on  4102.891\n",
      "Working on  4341.684\n",
      "Working on  4472.755\n",
      "Working on  4862.721\n",
      "Working on  5877.299\n",
      "Working on  6564.612\n",
      "Working on  6679.994\n",
      "Working on  7067.198\n",
      "SBS1152+579 [0.27174681 0.00240901 0.0523136  1.94089541 0.01134688 0.\n",
      " 0.05344625 0.04440306 0.70719004 0.72532326] 3.80907431704034 \n",
      "\n",
      "Working on  3890.166\n",
      "Working on  4027.328\n",
      "Working on  4102.891\n",
      "Working on  4341.684\n",
      "Working on  4472.755\n",
      "Working on  4862.721\n",
      "Working on  5877.299\n",
      "Working on  6564.612\n",
      "Working on  6679.994\n",
      "Working on  7067.198\n",
      "Mrk59 [0.27738016 0.03821227 0.00816887 0.29707918 0.18276944 0.\n",
      " 0.00739164 0.00522283 0.15979884 0.5454389 ] 1.5214621308392684 \n",
      "\n",
      "Working on  3890.166\n",
      "Working on  4027.328\n",
      "Working on  4102.891\n",
      "Working on  4341.684\n",
      "Working on  4472.755\n",
      "Working on  4862.721\n",
      "Working on  5877.299\n",
      "Working on  6564.612\n",
      "Working on  6679.994\n",
      "Working on  7067.198\n",
      "SBS1415+437No13 [0.04758521 0.06172519 0.2588693  0.08965232 0.1131723  0.\n",
      " 0.13498938 0.06700661 2.03060308 0.45178916] 3.2553925575489817 \n",
      "\n",
      "Working on  3890.166\n",
      "Working on  4027.328\n",
      "Working on  4102.891\n",
      "Working on  4341.684\n",
      "Working on  4472.755\n",
      "Working on  4862.721\n",
      "Working on  5877.299\n",
      "Working on  6564.612\n",
      "Working on  6679.994\n",
      "Working on  7067.198\n",
      "Tol65 [0.07091914 0.00816029 0.18257531 0.71936803 0.24501459 0.\n",
      " 1.69907936 0.01984234 0.51279341 0.79805821] 4.255810679957315 \n",
      "\n"
     ]
    }
   ],
   "source": [
    "chisq = np.zeros((len(qualifying), 10)) # 10 is number of emission lines used in analysis\n",
    "# Also equal to len(input_vals) which comes on later in this block\n",
    "\n",
    "for d in range(len(diffs)):\n",
    "    \n",
    "    for obj in range(len(qualifying)):\n",
    "        name = str(qualifying[obj].replace(' ', '').replace('(','').replace('-', '').replace(')','').replace('.', ''))\n",
    "        \n",
    "        # Load .npy file\n",
    "        ndim = 8\n",
    "        onevar = -1\n",
    "\n",
    "#        nwalkers = 500\n",
    "#        nmbr = 1000\n",
    "#        burnin = int(0.8*nmbr) #int(0.1*nmbr)\n",
    "\n",
    "        chains = np.load('test_data/optical/'+diffs[d]+'/'+name+'_500walkers_1000steps.npy')\n",
    "        samples = chains[:, burnin:, :].reshape((-1, ndim))\n",
    "\n",
    "#        prenams = ['y+', 'temperature', '$log(n_{e})$', 'c(H\\\\beta)', '$a_{H}$', '$a_{He}$', '$\\\\tau_{He}', '$log(\\\\xi)$'] #'$n_{HI}$']\n",
    "\n",
    "        y_plus_mcmc, temp_mcmc, log_dens_mcmc, c_Hb_mcmc, a_H_mcmc, a_He_mcmc, tau_He_mcmc, log_xi_mcmc = map(\n",
    "            lambda v: (v[1], v[2] - v[1], v[1] - v[0]), zip(*np.percentile(samples, [16, 50, 84], axis=0)))\n",
    "\n",
    "        # Save our MCMC parameters into an array\n",
    "        if diffs[d] == 'ours_base':\n",
    "            base_yplus[obj] = chains[:,burnin:,0].reshape(-1)\n",
    "            base_temp[obj] = chains[:,burnin:,1].reshape(-1)\n",
    "            base_dens[obj] = chains[:,burnin:,2].reshape(-1)\n",
    "            base_cHb[obj] = chains[:,burnin:,3].reshape(-1)\n",
    "            base_aH[obj] = chains[:,burnin:,4].reshape(-1)\n",
    "            base_aHe[obj] = chains[:,burnin:,5].reshape(-1)\n",
    "            base_tauHe[obj] = chains[:,burnin:,6].reshape(-1)\n",
    "            base_xi[obj] = chains[:,burnin:,7].reshape(-1)\n",
    "        elif diffs[d] == 'ours_CCMred':\n",
    "            CCMred_yplus[obj] = chains[:,burnin:,0].reshape(-1)\n",
    "            CCMred_temp[obj] = chains[:,burnin:,1].reshape(-1)\n",
    "            CCMred_dens[obj] = chains[:,burnin:,2].reshape(-1)\n",
    "            CCMred_cHb[obj] = chains[:,burnin:,3].reshape(-1)\n",
    "            CCMred_aH[obj] = chains[:,burnin:,4].reshape(-1)\n",
    "            CCMred_aHe[obj] = chains[:,burnin:,5].reshape(-1)\n",
    "            CCMred_tauHe[obj] = chains[:,burnin:,6].reshape(-1)\n",
    "            CCMred_xi[obj] = chains[:,burnin:,7].reshape(-1)\n",
    "        elif diffs[d] == 'ours_S2018_11':\n",
    "            S2018_11_yplus[obj] = chains[:,burnin:,0].reshape(-1)\n",
    "            S2018_11_temp[obj] = chains[:,burnin:,1].reshape(-1)\n",
    "            S2018_11_dens[obj] = chains[:,burnin:,2].reshape(-1)\n",
    "            S2018_11_cHb[obj] = chains[:,burnin:,3].reshape(-1)\n",
    "            S2018_11_aH[obj] = chains[:,burnin:,4].reshape(-1)\n",
    "            S2018_11_aHe[obj] = chains[:,burnin:,5].reshape(-1)\n",
    "            S2018_11_tauHe[obj] = chains[:,burnin:,6].reshape(-1)\n",
    "            S2018_11_xi[obj] = chains[:,burnin:,7].reshape(-1)\n",
    "        elif diffs[d] == 'ours_S2018_33':\n",
    "            S2018_33_yplus[obj] = chains[:,burnin:,0].reshape(-1)\n",
    "            S2018_33_temp[obj] = chains[:,burnin:,1].reshape(-1)\n",
    "            S2018_33_dens[obj] = chains[:,burnin:,2].reshape(-1)\n",
    "            S2018_33_cHb[obj] = chains[:,burnin:,3].reshape(-1)\n",
    "            S2018_33_aH[obj] = chains[:,burnin:,4].reshape(-1)\n",
    "            S2018_33_aHe[obj] = chains[:,burnin:,5].reshape(-1)\n",
    "            S2018_33_tauHe[obj] = chains[:,burnin:,6].reshape(-1)\n",
    "            S2018_33_xi[obj] = chains[:,burnin:,7].reshape(-1)\n",
    "        \n",
    "        # Compare input versus output emission line flux ratios and their relative errors\n",
    "        input_vals = Table.read('test_data/optical/'+name, format='ascii', delimiter=' ')\n",
    "\n",
    "        # Generate emission line ratios based on our MCMC parameters\n",
    "        mfr.generate_optical_emission_line_ratio('test_data/optical/'+diffs[d]+'/'+name+'_MCMCoutput', [3890.166, 4027.328, 4102.891, 4341.684, 4472.755, 4862.721, 5877.299, 6564.612, 6679.994, 7067.198], \\\n",
    "                input_vals['EW'], input_vals['EW'][np.where(input_vals['Wavelength']==4862.721)[0]][0], \\\n",
    "                y_plus_mcmc[0], temp_mcmc[0], log_dens_mcmc[0], c_Hb_mcmc[0], a_H_mcmc[0], a_He_mcmc[0], tau_He_mcmc[0], log_xi_mcmc[0])\n",
    "\n",
    "        # Output values\n",
    "        output_vals = Table.read('test_data/optical/'+diffs[d]+'/'+name+'_MCMCoutput', format='ascii', delimiter=' ')\n",
    "\n",
    "        # Calculate chi-squared value\n",
    "        for emline in range(len(input_vals['Flux Ratio'])):\n",
    "            chisq[obj][emline] = ( (output_vals['Flux Ratio'][emline] - input_vals['Flux Ratio'][emline])**2 ) \\\n",
    "                            / (input_vals['Flux Ratio Errors'][emline]**2)\n",
    "\n",
    "        print (name, chisq[obj], np.sum(chisq[obj]), '\\n')"
   ]
  },
  {
   "cell_type": "markdown",
   "metadata": {},
   "source": [
    "### Optical+NIR"
   ]
  },
  {
   "cell_type": "markdown",
   "metadata": {},
   "source": [
    "NIR sample set is smaller than those that qualified for optical"
   ]
  },
  {
   "cell_type": "code",
   "execution_count": 187,
   "metadata": {},
   "outputs": [],
   "source": [
    "# Names of systems in AOS2015 that \"qualified\" for helium abundance measurements\n",
    "nir_qualifying = ['CGCG 007-025 (No.  2)', 'I Zw 18 SE 1', 'Mrk  209', 'Mrk  450 (No.  1)', 'Mrk  71 (No.  1)', \\\n",
    "             'SBS 0335-052E1', 'SBS 0335-052E3', 'SBS 0940+544 2', 'SBS 1030+583', 'SBS 1135+581', \\\n",
    "             'SBS 1152+579', 'Mrk  59', 'SBS 1415+437 (No.  2)', 'SBS 1415+437 (No.  1) 3', 'Tol 65']\n",
    "\n",
    "nir_qualifying.remove('SBS 1415+437 (No.  2)') # No HeI4027 for this system (they're measured to be 0)\n",
    "nir_qualifying.remove('SBS 0335-052E1') # Need to weight combine\n",
    "nir_qualifying.remove('SBS 0335-052E3')\n",
    "nir_qualifying.remove('SBS 1415+437 (No.  1) 3')"
   ]
  },
  {
   "cell_type": "code",
   "execution_count": 188,
   "metadata": {},
   "outputs": [],
   "source": [
    "# Different MCMC runs for NIR sample set\n",
    "nir_diffs = ['ours_nir_S2018_11', 'ours_nir_S2018_33', 'ours_nir_CCMred']"
   ]
  },
  {
   "cell_type": "code",
   "execution_count": 189,
   "metadata": {},
   "outputs": [],
   "source": [
    "nir_CCMred_yplus = np.zeros((len(nir_qualifying),num))\n",
    "nir_CCMred_temp = np.zeros((len(nir_qualifying),num))\n",
    "nir_CCMred_dens = np.zeros((len(nir_qualifying),num))\n",
    "nir_CCMred_cHb = np.zeros((len(nir_qualifying),num))\n",
    "nir_CCMred_aH = np.zeros((len(nir_qualifying),num))\n",
    "nir_CCMred_aHe = np.zeros((len(nir_qualifying),num))\n",
    "nir_CCMred_tauHe = np.zeros((len(nir_qualifying),num))\n",
    "nir_CCMred_xi = np.zeros((len(nir_qualifying),num))"
   ]
  },
  {
   "cell_type": "code",
   "execution_count": 190,
   "metadata": {},
   "outputs": [],
   "source": [
    "nir_S2018_11_yplus = np.zeros((len(nir_qualifying),num))\n",
    "nir_S2018_11_temp = np.zeros((len(nir_qualifying),num))\n",
    "nir_S2018_11_dens = np.zeros((len(nir_qualifying),num))\n",
    "nir_S2018_11_cHb = np.zeros((len(nir_qualifying),num))\n",
    "nir_S2018_11_aH = np.zeros((len(nir_qualifying),num))\n",
    "nir_S2018_11_aHe = np.zeros((len(nir_qualifying),num))\n",
    "nir_S2018_11_tauHe = np.zeros((len(nir_qualifying),num))\n",
    "nir_S2018_11_xi = np.zeros((len(nir_qualifying),num))"
   ]
  },
  {
   "cell_type": "code",
   "execution_count": 191,
   "metadata": {},
   "outputs": [],
   "source": [
    "nir_S2018_33_yplus = np.zeros((len(nir_qualifying),num))\n",
    "nir_S2018_33_temp = np.zeros((len(nir_qualifying),num))\n",
    "nir_S2018_33_dens = np.zeros((len(nir_qualifying),num))\n",
    "nir_S2018_33_cHb = np.zeros((len(nir_qualifying),num))\n",
    "nir_S2018_33_aH = np.zeros((len(nir_qualifying),num))\n",
    "nir_S2018_33_aHe = np.zeros((len(nir_qualifying),num))\n",
    "nir_S2018_33_tauHe = np.zeros((len(nir_qualifying),num))\n",
    "nir_S2018_33_xi = np.zeros((len(nir_qualifying),num))"
   ]
  },
  {
   "cell_type": "code",
   "execution_count": 192,
   "metadata": {},
   "outputs": [
    {
     "name": "stdout",
     "output_type": "stream",
     "text": [
      "Working on  3890.166\n",
      "Working on  4027.328\n",
      "Working on  4102.891\n",
      "Working on  4341.684\n",
      "Working on  4472.755\n",
      "Working on  4862.721\n",
      "Working on  5877.299\n",
      "Working on  6564.612\n",
      "Working on  6679.994\n",
      "Working on  7067.198\n",
      "Working on  10833.306\n",
      "CGCG007025No2 [6.12138744e-01 2.65742033e-01 2.55074091e+00 2.15115212e+00\n",
      " 6.43835723e-03 0.00000000e+00 4.07347310e-01 7.30700798e-01\n",
      " 7.79308254e-02 5.15726802e-03 9.72434021e+01] 104.05075043292386 \n",
      "\n",
      "Working on  3890.166\n",
      "Working on  4027.328\n",
      "Working on  4102.891\n",
      "Working on  4341.684\n",
      "Working on  4472.755\n",
      "Working on  4862.721\n",
      "Working on  5877.299\n",
      "Working on  6564.612\n",
      "Working on  6679.994\n",
      "Working on  7067.198\n",
      "Working on  10833.306\n",
      "IZw18SE1 [1.44685121 0.05946851 0.02717955 0.10812223 0.05744998 0.\n",
      " 0.02563632 0.22159622 0.00598473 0.26231274 0.66233349] 2.8769349797205868 \n",
      "\n",
      "Working on  3890.166\n",
      "Working on  4027.328\n",
      "Working on  4102.891\n",
      "Working on  4341.684\n",
      "Working on  4472.755\n",
      "Working on  4862.721\n",
      "Working on  5877.299\n",
      "Working on  6564.612\n",
      "Working on  6679.994\n",
      "Working on  7067.198\n",
      "Working on  10833.306\n",
      "Mrk209 [2.42519626e-02 1.03945944e-03 6.40238862e-03 1.35990030e-01\n",
      " 1.20569306e-04 0.00000000e+00 9.82261258e-03 4.14552345e-01\n",
      " 2.46918355e-05            inf 5.46382122e-01] inf \n",
      "\n"
     ]
    },
    {
     "name": "stderr",
     "output_type": "stream",
     "text": [
      "/Users/thsyu/.pyenv/versions/anaconda3-5.1.0/lib/python3.6/site-packages/ipykernel_launcher.py:66: RuntimeWarning: divide by zero encountered in double_scalars\n"
     ]
    },
    {
     "name": "stdout",
     "output_type": "stream",
     "text": [
      "Working on  3890.166\n",
      "Working on  4027.328\n",
      "Working on  4102.891\n",
      "Working on  4341.684\n",
      "Working on  4472.755\n",
      "Working on  4862.721\n",
      "Working on  5877.299\n",
      "Working on  6564.612\n",
      "Working on  6679.994\n",
      "Working on  7067.198\n",
      "Working on  10833.306\n",
      "Mrk450No1 [0.25607297 0.03712642 1.20261728 3.0086774  0.34101109 0.\n",
      " 0.04066339 0.01506251 0.02693652 0.0204995  0.18955986] 5.138226927666179 \n",
      "\n",
      "Working on  3890.166\n",
      "Working on  4027.328\n",
      "Working on  4102.891\n",
      "Working on  4341.684\n",
      "Working on  4472.755\n",
      "Working on  4862.721\n",
      "Working on  5877.299\n",
      "Working on  6564.612\n",
      "Working on  6679.994\n",
      "Working on  7067.198\n",
      "Working on  10833.306\n",
      "Mrk71No1 [1.20159938e-02            inf 6.77402107e-01 2.59947284e-01\n",
      " 7.38514419e-01 0.00000000e+00 2.49157647e-01 3.17932195e-01\n",
      " 9.97224080e-01 1.19301168e-01 9.72547305e+02] inf \n",
      "\n",
      "Working on  3890.166\n",
      "Working on  4027.328\n",
      "Working on  4102.891\n",
      "Working on  4341.684\n",
      "Working on  4472.755\n",
      "Working on  4862.721\n",
      "Working on  5877.299\n",
      "Working on  6564.612\n",
      "Working on  6679.994\n",
      "Working on  7067.198\n",
      "Working on  10833.306\n",
      "SBS0940+5442 [0.01457003 0.11010374 0.34568825 0.19284371 0.36265162 0.\n",
      " 0.0234116  0.44279225 0.06241699 0.14904562 0.42953411] 2.1330579235812754 \n",
      "\n",
      "Working on  3890.166\n",
      "Working on  4027.328\n",
      "Working on  4102.891\n",
      "Working on  4341.684\n",
      "Working on  4472.755\n",
      "Working on  4862.721\n",
      "Working on  5877.299\n",
      "Working on  6564.612\n",
      "Working on  6679.994\n",
      "Working on  7067.198\n",
      "Working on  10833.306\n",
      "SBS1030+583 [5.45849807e-02 1.40888973e-01 7.79343405e-04 3.13370736e-04\n",
      " 7.20998461e-01 0.00000000e+00 3.96622152e-01 6.75018572e-01\n",
      " 5.60471346e-03 3.06624810e-02 1.03539950e+00] 3.060872545350058 \n",
      "\n",
      "Working on  3890.166\n",
      "Working on  4027.328\n",
      "Working on  4102.891\n",
      "Working on  4341.684\n",
      "Working on  4472.755\n",
      "Working on  4862.721\n",
      "Working on  5877.299\n",
      "Working on  6564.612\n",
      "Working on  6679.994\n",
      "Working on  7067.198\n",
      "Working on  10833.306\n",
      "SBS1135+581 [4.32930560e-02 8.19224119e-05 4.15805817e-01 1.13566890e+00\n",
      " 3.83558459e-01 0.00000000e+00 1.05562896e+00 1.40608144e+00\n",
      " 1.31839578e-01 1.55709080e-01 5.35677298e+00] 10.084440201697879 \n",
      "\n",
      "Working on  3890.166\n",
      "Working on  4027.328\n",
      "Working on  4102.891\n",
      "Working on  4341.684\n",
      "Working on  4472.755\n",
      "Working on  4862.721\n",
      "Working on  5877.299\n",
      "Working on  6564.612\n",
      "Working on  6679.994\n",
      "Working on  7067.198\n",
      "Working on  10833.306\n",
      "SBS1152+579 [1.41888380e-01 6.15191399e-02 2.95994562e-01 2.52443912e+00\n",
      " 8.12983786e-01 0.00000000e+00 3.73230317e-02 4.20462469e-01\n",
      " 4.34129630e-01 2.00688902e+00 1.03201063e+02] 109.93669235885744 \n",
      "\n",
      "Working on  3890.166\n",
      "Working on  4027.328\n",
      "Working on  4102.891\n",
      "Working on  4341.684\n",
      "Working on  4472.755\n",
      "Working on  4862.721\n",
      "Working on  5877.299\n",
      "Working on  6564.612\n",
      "Working on  6679.994\n",
      "Working on  7067.198\n",
      "Working on  10833.306\n",
      "Mrk59 [5.26267735e-02 5.54143465e-03 1.90273528e-02 2.60743332e-01\n",
      " 2.68432306e-02 0.00000000e+00 2.52960865e-01 2.06957893e-02\n",
      " 4.50712276e-02 2.71085520e-04 9.53407703e-01] 1.6371887930904894 \n",
      "\n",
      "Working on  3890.166\n",
      "Working on  4027.328\n",
      "Working on  4102.891\n",
      "Working on  4341.684\n",
      "Working on  4472.755\n",
      "Working on  4862.721\n",
      "Working on  5877.299\n",
      "Working on  6564.612\n",
      "Working on  6679.994\n",
      "Working on  7067.198\n",
      "Working on  10833.306\n",
      "Tol65 [3.23141889e-01 6.05911499e-05 2.12560981e-01 5.72964643e-01\n",
      " 1.07098167e-01 0.00000000e+00 2.06435890e+00 3.42477335e-01\n",
      " 6.17781118e-01 1.75219421e+00 1.44273847e+02] 150.26648442762806 \n",
      "\n",
      "Working on  3890.166\n",
      "Working on  4027.328\n",
      "Working on  4102.891\n",
      "Working on  4341.684\n",
      "Working on  4472.755\n",
      "Working on  4862.721\n",
      "Working on  5877.299\n",
      "Working on  6564.612\n",
      "Working on  6679.994\n",
      "Working on  7067.198\n",
      "Working on  10833.306\n",
      "CGCG007025No2 [1.05143700e+00 2.74598187e-01 2.63656705e+00 2.13046186e+00\n",
      " 6.56347954e-04 0.00000000e+00 8.96532145e-02 9.27834647e-01\n",
      " 2.80093915e-02 6.30752639e-01 2.30135010e-02] 7.792983836833208 \n",
      "\n",
      "Working on  3890.166\n",
      "Working on  4027.328\n",
      "Working on  4102.891\n",
      "Working on  4341.684\n",
      "Working on  4472.755\n",
      "Working on  4862.721\n",
      "Working on  5877.299\n",
      "Working on  6564.612\n",
      "Working on  6679.994\n",
      "Working on  7067.198\n",
      "Working on  10833.306\n",
      "IZw18SE1 [1.48468476 0.06546104 0.01008555 0.13585027 0.06978074 0.\n",
      " 0.03377965 0.16023721 0.00442894 0.2188837  0.09465279] 2.277844642376831 \n",
      "\n",
      "Working on  3890.166\n",
      "Working on  4027.328\n",
      "Working on  4102.891\n",
      "Working on  4341.684\n",
      "Working on  4472.755\n",
      "Working on  4862.721\n",
      "Working on  5877.299\n",
      "Working on  6564.612\n",
      "Working on  6679.994\n",
      "Working on  7067.198\n",
      "Working on  10833.306\n",
      "Mrk209 [1.44070902e-02 4.74906124e-06 2.16298208e-02 1.40136615e-01\n",
      " 1.58696779e-02 0.00000000e+00 1.59988635e-02 5.56647186e-01\n",
      " 5.85531413e-08            inf 9.43741765e-02] inf \n",
      "\n",
      "Working on  3890.166\n",
      "Working on  4027.328\n",
      "Working on  4102.891\n",
      "Working on  4341.684\n",
      "Working on  4472.755\n",
      "Working on  4862.721\n",
      "Working on  5877.299\n",
      "Working on  6564.612\n",
      "Working on  6679.994\n",
      "Working on  7067.198\n",
      "Working on  10833.306\n",
      "Mrk450No1 [0.47942483 0.04504853 1.14744668 3.05300565 0.27618959 0.\n",
      " 0.05097305 0.01006251 0.02174984 0.05231733 0.00699495] 5.143212956389382 \n",
      "\n",
      "Working on  3890.166\n",
      "Working on  4027.328\n",
      "Working on  4102.891\n",
      "Working on  4341.684\n",
      "Working on  4472.755\n",
      "Working on  4862.721\n",
      "Working on  5877.299\n",
      "Working on  6564.612\n",
      "Working on  6679.994\n",
      "Working on  7067.198\n",
      "Working on  10833.306\n",
      "Mrk71No1 [0.00851311        inf 0.95279633 0.25522587 0.79906159 0.\n",
      " 0.04785263 0.75925381 1.27353191 0.39132556 0.21972858] inf \n",
      "\n",
      "Working on  3890.166\n",
      "Working on  4027.328\n",
      "Working on  4102.891\n",
      "Working on  4341.684\n",
      "Working on  4472.755\n",
      "Working on  4862.721\n",
      "Working on  5877.299\n",
      "Working on  6564.612\n",
      "Working on  6679.994\n",
      "Working on  7067.198\n",
      "Working on  10833.306\n",
      "SBS0940+5442 [1.13114249e-01 9.15407873e-02 4.01404690e-01 1.89530930e-01\n",
      " 4.67546896e-01 0.00000000e+00 3.03216236e-02 3.56326597e-01\n",
      " 7.35609533e-02 5.81113113e-02 1.21367767e-07] 1.7814581580407494 \n",
      "\n",
      "Working on  3890.166\n",
      "Working on  4027.328\n",
      "Working on  4102.891\n",
      "Working on  4341.684\n",
      "Working on  4472.755\n",
      "Working on  4862.721\n",
      "Working on  5877.299\n",
      "Working on  6564.612\n",
      "Working on  6679.994\n",
      "Working on  7067.198\n",
      "Working on  10833.306\n",
      "SBS1030+583 [6.24877512e-02 1.76127793e-01 2.56581833e-03 6.56946129e-09\n",
      " 6.55615983e-01 0.00000000e+00 4.28954755e-01 6.18721092e-01\n",
      " 2.92742258e-03 7.70010441e-02 2.90848177e-02] 2.053486484725175 \n",
      "\n",
      "Working on  3890.166\n",
      "Working on  4027.328\n",
      "Working on  4102.891\n",
      "Working on  4341.684\n",
      "Working on  4472.755\n",
      "Working on  4862.721\n",
      "Working on  5877.299\n",
      "Working on  6564.612\n",
      "Working on  6679.994\n",
      "Working on  7067.198\n",
      "Working on  10833.306\n",
      "SBS1135+581 [0.02759053 0.00285512 0.99180882 1.38743441 0.37667409 0.\n",
      " 0.81957912 1.59199958 0.1952272  0.34791185 0.10553908] 5.846619807216116 \n",
      "\n",
      "Working on  3890.166\n",
      "Working on  4027.328\n",
      "Working on  4102.891\n",
      "Working on  4341.684\n",
      "Working on  4472.755\n",
      "Working on  4862.721\n",
      "Working on  5877.299\n",
      "Working on  6564.612\n",
      "Working on  6679.994\n",
      "Working on  7067.198\n",
      "Working on  10833.306\n",
      "SBS1152+579 [0.3965895  0.0380274  0.41074642 2.58026563 0.92277326 0.\n",
      " 0.0632653  0.53955771 0.16846634 0.01342371 0.01111563] 5.1442309000614 \n",
      "\n",
      "Working on  3890.166\n",
      "Working on  4027.328\n",
      "Working on  4102.891\n",
      "Working on  4341.684\n",
      "Working on  4472.755\n",
      "Working on  4862.721\n",
      "Working on  5877.299\n",
      "Working on  6564.612\n",
      "Working on  6679.994\n",
      "Working on  7067.198\n",
      "Working on  10833.306\n",
      "Mrk59 [0.12616737 0.00595414 0.03103039 0.24067623 0.01479404 0.\n",
      " 0.31372108 0.01257456 0.03043632 0.00427555 3.53029578] 4.309925460923784 \n",
      "\n",
      "Working on  3890.166\n",
      "Working on  4027.328\n",
      "Working on  4102.891\n",
      "Working on  4341.684\n",
      "Working on  4472.755\n",
      "Working on  4862.721\n",
      "Working on  5877.299\n",
      "Working on  6564.612\n",
      "Working on  6679.994\n",
      "Working on  7067.198\n",
      "Working on  10833.306\n",
      "Tol65 [0.82985477 0.00979205 0.2119506  0.5169989  0.10561779 0.\n",
      " 0.25685117 0.62464407 1.81409071 0.04351223 0.00526861] 4.418580893103124 \n",
      "\n",
      "Working on  3890.166\n",
      "Working on  4027.328\n",
      "Working on  4102.891\n",
      "Working on  4341.684\n",
      "Working on  4472.755\n",
      "Working on  4862.721\n",
      "Working on  5877.299\n",
      "Working on  6564.612\n",
      "Working on  6679.994\n",
      "Working on  7067.198\n",
      "Working on  10833.306\n",
      "CGCG007025No2 [3.29123585 0.13250371 1.4594417  1.42554419 0.09107868 0.\n",
      " 0.00336977 2.36556923 0.00998311 0.56309631 0.0566232 ] 9.398445743073573 \n",
      "\n",
      "Working on  3890.166\n",
      "Working on  4027.328\n",
      "Working on  4102.891\n",
      "Working on  4341.684\n",
      "Working on  4472.755\n",
      "Working on  4862.721\n",
      "Working on  5877.299\n",
      "Working on  6564.612\n",
      "Working on  6679.994\n",
      "Working on  7067.198\n",
      "Working on  10833.306\n",
      "IZw18SE1 [1.81472137e+00 5.60509307e-02 8.58537265e-04 1.68693111e-01\n",
      " 7.10963078e-02 0.00000000e+00 4.21719403e-02 2.10638576e-01\n",
      " 4.73877634e-03 2.39088729e-01 9.90221554e-02] 2.7070804370365535 \n",
      "\n",
      "Working on  3890.166\n",
      "Working on  4027.328\n",
      "Working on  4102.891\n",
      "Working on  4341.684\n",
      "Working on  4472.755\n",
      "Working on  4862.721\n",
      "Working on  5877.299\n",
      "Working on  6564.612\n",
      "Working on  6679.994\n",
      "Working on  7067.198\n",
      "Working on  10833.306\n",
      "Mrk209 [2.78288448e-02 8.73148913e-04 5.81074109e-02 1.72159616e-01\n",
      " 9.76016700e-03 0.00000000e+00 1.47356639e-02 5.11388842e-01\n",
      " 6.87435795e-05            inf 1.01950021e-01] inf \n",
      "\n"
     ]
    },
    {
     "name": "stdout",
     "output_type": "stream",
     "text": [
      "Working on  3890.166\n",
      "Working on  4027.328\n",
      "Working on  4102.891\n",
      "Working on  4341.684\n",
      "Working on  4472.755\n",
      "Working on  4862.721\n",
      "Working on  5877.299\n",
      "Working on  6564.612\n",
      "Working on  6679.994\n",
      "Working on  7067.198\n",
      "Working on  10833.306\n",
      "Mrk450No1 [1.10522411e+00 2.01671208e-02 5.01673960e+00 1.84789371e+00\n",
      " 4.91113030e-01 0.00000000e+00 8.95892676e-03 5.15093425e-03\n",
      " 2.02048026e-01 1.39903139e-03 3.53463707e-02] 8.734040853184757 \n",
      "\n",
      "Working on  3890.166\n",
      "Working on  4027.328\n",
      "Working on  4102.891\n",
      "Working on  4341.684\n",
      "Working on  4472.755\n",
      "Working on  4862.721\n",
      "Working on  5877.299\n",
      "Working on  6564.612\n",
      "Working on  6679.994\n",
      "Working on  7067.198\n",
      "Working on  10833.306\n",
      "Mrk71No1 [1.17209406        inf 0.06946509 0.71467659 0.58015007 0.\n",
      " 0.00192835 0.90322753 1.50618145 0.50345755 1.61516043] inf \n",
      "\n",
      "Working on  3890.166\n",
      "Working on  4027.328\n",
      "Working on  4102.891\n",
      "Working on  4341.684\n",
      "Working on  4472.755\n",
      "Working on  4862.721\n",
      "Working on  5877.299\n",
      "Working on  6564.612\n",
      "Working on  6679.994\n",
      "Working on  7067.198\n",
      "Working on  10833.306\n",
      "SBS0940+5442 [0.20697831 0.21190937 1.29149555 0.07939738 0.42111473 0.\n",
      " 0.09994139 0.18440135 0.16885912 0.09708157 0.04160916] 2.8027879222729863 \n",
      "\n",
      "Working on  3890.166\n",
      "Working on  4027.328\n",
      "Working on  4102.891\n",
      "Working on  4341.684\n",
      "Working on  4472.755\n",
      "Working on  4862.721\n",
      "Working on  5877.299\n",
      "Working on  6564.612\n",
      "Working on  6679.994\n",
      "Working on  7067.198\n",
      "Working on  10833.306\n",
      "SBS1030+583 [2.23563973e-01 1.49103426e-01 1.42443529e-02 6.96115949e-04\n",
      " 7.34316026e-01 0.00000000e+00 2.94639719e-01 6.65746041e-01\n",
      " 1.74210022e-02 1.03661552e-01 4.20452589e-02] 2.2454374682060565 \n",
      "\n",
      "Working on  3890.166\n",
      "Working on  4027.328\n",
      "Working on  4102.891\n",
      "Working on  4341.684\n",
      "Working on  4472.755\n",
      "Working on  4862.721\n",
      "Working on  5877.299\n",
      "Working on  6564.612\n",
      "Working on  6679.994\n",
      "Working on  7067.198\n",
      "Working on  10833.306\n",
      "SBS1135+581 [1.6470382  0.07348988 3.49752887 1.94091233 0.442708   0.\n",
      " 0.45581599 2.71729905 0.53649987 0.13789938 0.1320538 ] 11.581245373896296 \n",
      "\n",
      "Working on  3890.166\n",
      "Working on  4027.328\n",
      "Working on  4102.891\n",
      "Working on  4341.684\n",
      "Working on  4472.755\n",
      "Working on  4862.721\n",
      "Working on  5877.299\n",
      "Working on  6564.612\n",
      "Working on  6679.994\n",
      "Working on  7067.198\n",
      "Working on  10833.306\n",
      "SBS1152+579 [5.06823283 0.39429382 0.5055634  1.34374633 0.32787674 0.\n",
      " 0.47149999 0.22454426 0.00559464 0.26382683 0.03469356] 8.639872393771578 \n",
      "\n",
      "Working on  3890.166\n",
      "Working on  4027.328\n",
      "Working on  4102.891\n",
      "Working on  4341.684\n",
      "Working on  4472.755\n",
      "Working on  4862.721\n",
      "Working on  5877.299\n",
      "Working on  6564.612\n",
      "Working on  6679.994\n",
      "Working on  7067.198\n",
      "Working on  10833.306\n",
      "Mrk59 [3.40990262e+00 7.99675293e-02 7.28298334e-01 6.50180895e-01\n",
      " 1.06359722e-04 0.00000000e+00 6.82918981e-01 2.82491020e-03\n",
      " 2.64946188e-03 9.93711283e-02 1.53528668e+00] 7.191506905779111 \n",
      "\n",
      "Working on  3890.166\n",
      "Working on  4027.328\n",
      "Working on  4102.891\n",
      "Working on  4341.684\n",
      "Working on  4472.755\n",
      "Working on  4862.721\n",
      "Working on  5877.299\n",
      "Working on  6564.612\n",
      "Working on  6679.994\n",
      "Working on  7067.198\n",
      "Working on  10833.306\n",
      "Tol65 [2.323575   0.05425788 1.74655128 0.25182351 0.06859427 0.\n",
      " 0.12441148 0.32094529 2.23263842 0.06376292 0.00444804] 7.1910080911356316 \n",
      "\n"
     ]
    }
   ],
   "source": [
    "chisq = np.zeros((len(nir_qualifying), 11)) # 11 is number of emission lines used in analysis\n",
    "# Also equal to len(input_vals) which comes on later in this block\n",
    "\n",
    "for d in range(len(nir_diffs)):\n",
    "    \n",
    "    for obj in range(len(nir_qualifying)):\n",
    "        name = str(nir_qualifying[obj].replace(' ', '').replace('(','').replace('-', '').replace(')','').replace('.', ''))\n",
    "        \n",
    "        # Load .npy file\n",
    "        ndim = 8\n",
    "        onevar = -1\n",
    "\n",
    "#        nwalkers = 500\n",
    "#        nmbr = 1000\n",
    "#        burnin = int(0.8*nmbr) #int(0.1*nmbr)\n",
    "\n",
    "        chains = np.load('test_data/optical+nir/'+nir_diffs[d]+'/'+name+'_500walkers_1000steps.npy')\n",
    "        samples = chains[:, burnin:, :].reshape((-1, ndim))\n",
    "        \n",
    "        #print ('Working on ', nir_diffs[d], ' run of ', name)\n",
    "#        prenams = ['y+', 'temperature', '$log(n_{e})$', 'c(H\\\\beta)', '$a_{H}$', '$a_{He}$', '$\\\\tau_{He}', '$log(\\\\xi)$'] #'$n_{HI}$']\n",
    "\n",
    "        y_plus_mcmc, temp_mcmc, log_dens_mcmc, c_Hb_mcmc, a_H_mcmc, a_He_mcmc, tau_He_mcmc, log_xi_mcmc = map(\n",
    "            lambda v: (v[1], v[2] - v[1], v[1] - v[0]), zip(*np.percentile(samples, [16, 50, 84], axis=0)))\n",
    "\n",
    "        # Save our MCMC parameters into an array\n",
    "        if nir_diffs[d] == 'ours_nir_CCMred':\n",
    "            nir_CCMred_yplus[obj] = chains[:,burnin:,0].reshape(-1)\n",
    "            nir_CCMred_temp[obj] = chains[:,burnin:,1].reshape(-1)\n",
    "            nir_CCMred_dens[obj] = chains[:,burnin:,2].reshape(-1)\n",
    "            nir_CCMred_cHb[obj] = chains[:,burnin:,3].reshape(-1)\n",
    "            nir_CCMred_aH[obj] = chains[:,burnin:,4].reshape(-1)\n",
    "            nir_CCMred_aHe[obj] = chains[:,burnin:,5].reshape(-1)\n",
    "            nir_CCMred_tauHe[obj] = chains[:,burnin:,6].reshape(-1)\n",
    "            nir_CCMred_xi[obj] = chains[:,burnin:,7].reshape(-1)\n",
    "        elif nir_diffs[d] == 'ours_nir_S2018_11':\n",
    "            nir_S2018_11_yplus[obj] = chains[:,burnin:,0].reshape(-1)\n",
    "            nir_S2018_11_temp[obj] = chains[:,burnin:,1].reshape(-1)\n",
    "            nir_S2018_11_dens[obj] = chains[:,burnin:,2].reshape(-1)\n",
    "            nir_S2018_11_cHb[obj] = chains[:,burnin:,3].reshape(-1)\n",
    "            nir_S2018_11_aH[obj] = chains[:,burnin:,4].reshape(-1)\n",
    "            nir_S2018_11_aHe[obj] = chains[:,burnin:,5].reshape(-1)\n",
    "            nir_S2018_11_tauHe[obj] = chains[:,burnin:,6].reshape(-1)\n",
    "            nir_S2018_11_xi[obj] = chains[:,burnin:,7].reshape(-1)\n",
    "        elif nir_diffs[d] == 'ours_nir_S2018_33':\n",
    "            nir_S2018_33_yplus[obj] = chains[:,burnin:,0].reshape(-1)\n",
    "            nir_S2018_33_temp[obj] = chains[:,burnin:,1].reshape(-1)\n",
    "            nir_S2018_33_dens[obj] = chains[:,burnin:,2].reshape(-1)\n",
    "            nir_S2018_33_cHb[obj] = chains[:,burnin:,3].reshape(-1)\n",
    "            nir_S2018_33_aH[obj] = chains[:,burnin:,4].reshape(-1)\n",
    "            nir_S2018_33_aHe[obj] = chains[:,burnin:,5].reshape(-1)\n",
    "            nir_S2018_33_tauHe[obj] = chains[:,burnin:,6].reshape(-1)\n",
    "            nir_S2018_33_xi[obj] = chains[:,burnin:,7].reshape(-1)\n",
    "        \n",
    "        # Compare input versus output emission line flux ratios and their relative errors\n",
    "        full_tbl = Table.read('test_data/optical+nir/'+name+'_nir', format='ascii', delimiter=' ')\n",
    "        input_vals = full_tbl[:-1]\n",
    "        # Generate emission line ratios based on our MCMC parameters\n",
    "        mfr.generate_nir_emission_line_ratio('test_data/optical+nir/'+nir_diffs[d]+'/'+name+'_MCMCoutput', [3890.166, 4027.328, 4102.891, 4341.684, 4472.755, 4862.721, 5877.299, 6564.612, 6679.994, 7067.198, 10833.306], \\\n",
    "                input_vals['EW'], input_vals['EW'][np.where(input_vals['Wavelength']==4862.721)[0]][0], full_tbl['EW'][-1], \\\n",
    "                y_plus_mcmc[0], temp_mcmc[0], log_dens_mcmc[0], c_Hb_mcmc[0], a_H_mcmc[0], a_He_mcmc[0], tau_He_mcmc[0], log_xi_mcmc[0])\n",
    "\n",
    "        # Output values\n",
    "        output_vals = Table.read('test_data/optical+nir/'+nir_diffs[d]+'/'+name+'_MCMCoutput', format='ascii', delimiter=' ')\n",
    "\n",
    "        # Calculate chi-squared value\n",
    "        for emline in range(len(input_vals['Flux Ratio'])):\n",
    "            chisq[obj][emline] = ( (output_vals['Flux Ratio'][emline] - input_vals['Flux Ratio'][emline])**2 ) \\\n",
    "                            / (input_vals['Flux Ratio Errors'][emline]**2)\n",
    "\n",
    "        print (name, chisq[obj], np.sum(chisq[obj]), '\\n')"
   ]
  },
  {
   "cell_type": "code",
   "execution_count": 193,
   "metadata": {},
   "outputs": [
    {
     "name": "stderr",
     "output_type": "stream",
     "text": [
      "/Users/thsyu/.pyenv/versions/anaconda3-5.1.0/lib/python3.6/site-packages/matplotlib/figure.py:2366: UserWarning: This figure includes Axes that are not compatible with tight_layout, so results might be incorrect.\n",
      "  warnings.warn(\"This figure includes Axes that are not compatible \"\n"
     ]
    },
    {
     "data": {
      "image/png": "[encoded data removed]",
      "text/plain": [
       "<Figure size 576x432 with 1 Axes>"
      ]
     },
     "metadata": {},
     "output_type": "display_data"
    }
   ],
   "source": [
    "plt.subplots(figsize=(8,6))\n",
    "for i in range(len(qualifying)):\n",
    "    for j in range(len(nir_qualifying)):\n",
    "        idx = np.where(qualifying[i] == nir_qualifying[j])[0]\n",
    "        if idx.size != 0:\n",
    "            #print (i, j, qualifying[i], nir_qualifying[j])\n",
    "            plt.errorbar(j, np.percentile(S2018_11_yplus[i],50), yerr=[[np.percentile(S2018_11_yplus[i],50)-np.percentile(S2018_11_yplus[i],16)], [np.percentile(S2018_11_yplus[i],84)-np.percentile(S2018_11_yplus[i],50)]], marker='^', markersize=8, color=color[i], label='_nolabel_')\n",
    "            plt.errorbar(j+0.2, np.percentile(nir_S2018_11_yplus[j],50), yerr=[[np.percentile(nir_S2018_11_yplus[j],50)-np.percentile(nir_S2018_11_yplus[j],16)], [np.percentile(nir_S2018_11_yplus[j],84)-np.percentile(nir_S2018_11_yplus[j],50)]], marker='*', markersize=10, color=color[i], label=nir_qualifying[j])\n",
    "plt.xlim(-0.5, 10.5)\n",
    "plt.xticks(np.arange(0, len(nir_qualifying)), nir_qualifying, rotation=60, ha='right')\n",
    "plt.ylabel('y+')\n",
    "plt.title('Optical vs NIR, S2018 linear')\n",
    "#plt.legend(loc='center left', bbox_to_anchor=(1, 0.5))\n",
    "#plt.savefig('/Users/thsyu/Dropbox/BCDs/primordial_helium/opt_vs_nir_y+.pdf', overwrite=True)\n",
    "plt.show()"
   ]
  },
  {
   "cell_type": "markdown",
   "metadata": {},
   "source": [
    "# Calculate Yp from the recovered y+ values"
   ]
  },
  {
   "cell_type": "markdown",
   "metadata": {},
   "source": [
    "To get a set of Y values for the systems, we use our recovered y+ values but AOS2015's reported y++ values."
   ]
  },
  {
   "cell_type": "markdown",
   "metadata": {},
   "source": [
    "## Load Erik's work"
   ]
  },
  {
   "cell_type": "code",
   "execution_count": 116,
   "metadata": {},
   "outputs": [],
   "source": [
    "aops2013_mcmcout = Table.read('/Users/thsyu/Software/Yp/test_data/aops2013_mcmcoutput', format='ascii', delimiter=' ')\n",
    "aos2015_mcmcout = Table.read('/Users/thsyu/Software/Yp/test_data/aos2015_mcmcoutput', format='ascii', delimiter=' ')\n",
    "aos2015_mcmcout_cut = Table.read('/Users/thsyu/Software/Yp/test_data/aos2015_mcmcoutput', format='ascii', delimiter=' ')\n",
    "# SBS03350521+3 are in rows 1,2 and combined for a final OH vs Y\n",
    "# Their 8 MCMC parameters in aos2015_mcmcout are distinct, but OH and Y are the same\n",
    "# Removing one when doing OH vs Y regression allows us to reproduce Erik's regression\n",
    "aos2015_mcmcout_cut.remove_rows([1])\n",
    "aos2015_mcmcout_nir = Table.read('/Users/thsyu/Software/Yp/test_data/aos2015_mcmcoutput', format='ascii', delimiter=' ')\n",
    "aos2015_mcmcout_nir.remove_rows([1,2,3,6,7])"
   ]
  },
  {
   "cell_type": "markdown",
   "metadata": {},
   "source": [
    "## Plots of system vs y+, Y"
   ]
  },
  {
   "cell_type": "markdown",
   "metadata": {},
   "source": [
    "### System vs y+ (compare our 4 methods)"
   ]
  },
  {
   "cell_type": "code",
   "execution_count": 40,
   "metadata": {},
   "outputs": [],
   "source": [
    "color = cm.jet(np.linspace(0,1,len(qualifying)))"
   ]
  },
  {
   "cell_type": "code",
   "execution_count": 93,
   "metadata": {},
   "outputs": [
    {
     "name": "stderr",
     "output_type": "stream",
     "text": [
      "/Users/thsyu/.pyenv/versions/anaconda3-5.1.0/lib/python3.6/site-packages/matplotlib/figure.py:445: UserWarning: Matplotlib is currently using module://ipykernel.pylab.backend_inline, which is a non-GUI backend, so cannot show the figure.\n",
      "  % get_backend())\n",
      "/Users/thsyu/.pyenv/versions/anaconda3-5.1.0/lib/python3.6/site-packages/matplotlib/figure.py:2366: UserWarning: This figure includes Axes that are not compatible with tight_layout, so results might be incorrect.\n",
      "  warnings.warn(\"This figure includes Axes that are not compatible \"\n"
     ]
    },
    {
     "data": {
      "image/png": "[encoded data removed]",
      "text/plain": [
       "<Figure size 864x576 with 2 Axes>"
      ]
     },
     "metadata": {},
     "output_type": "display_data"
    }
   ],
   "source": [
    "f, (ax1, ax2) = plt.subplots(2, 1, figsize=(12,8), sharex=True, gridspec_kw = {'height_ratios':[1.5,3]})\n",
    "\n",
    "for obj in range(len(qualifying)):\n",
    "    name = str(qualifying[obj].replace(' ', '').replace('(','').replace(')','').replace('.', ''))    \n",
    "    \n",
    "    ax1.plot(obj+0.25, ((np.mean(CCMred_yplus[obj]))-(np.mean(base_yplus[obj])))/(np.mean(base_yplus[obj])), marker='*', markersize=10, color=color[obj], label='_nolabel')\n",
    "    ax1.plot(obj+0.5, ((np.mean(S2018_11_yplus[obj]))-(np.mean(base_yplus[obj])))/(np.mean(base_yplus[obj])), marker='^', markersize=8, color=color[obj], label='_nolabel')\n",
    "    ax1.plot(obj+0.75, ((np.mean(S2018_33_yplus[obj]))-(np.mean(base_yplus[obj])))/(np.mean(base_yplus[obj])), marker='s', markersize=6, color=color[obj], label='_nolabel')\n",
    "\n",
    "    if obj == 3:\n",
    "        ax2.plot(obj, np.mean(base_yplus[obj]), marker='o', color=color[obj], label='Base')\n",
    "        ax2.plot(obj+0.25, np.mean(CCMred_yplus[obj]), marker='*', markersize=10, color=color[obj], label='CCM1989 Reddening')\n",
    "        ax2.plot(obj+0.5, np.mean(S2018_11_yplus[obj]), marker='^', markersize=8, color=color[obj], label='S2018 Linear RBS')\n",
    "        ax2.plot(obj+0.75, np.mean(S2018_33_yplus[obj]),  marker='s', markersize=6, color=color[obj], label='S2018 Cubic RBS')\n",
    "\n",
    "    ax2.errorbar(obj, np.mean(base_yplus[obj]), yerr = np.std(base_yplus[obj]), marker='o', color=color[obj], label='_nolabel_')\n",
    "    ax2.errorbar(obj+0.25, np.mean(CCMred_yplus[obj]), yerr = np.std(CCMred_yplus[obj]), marker='*', markersize=10, color=color[obj], label='_nolabel_')\n",
    "    ax2.errorbar(obj+0.5, np.mean(S2018_11_yplus[obj]), yerr = np.std(S2018_11_yplus[obj]), marker='^', markersize=8, color=color[obj], label='_nolabel_')\n",
    "    ax2.errorbar(obj+0.75, np.mean(S2018_33_yplus[obj]), yerr = np.std(S2018_33_yplus[obj]), marker='s', markersize=6, color=color[obj], label='_nolabel_')\n",
    "\n",
    "ax1.set_ylabel(r'$\\frac{Diff-Our Base}{Our Base}$')\n",
    "\n",
    "ax2.set_xlim(-0.5, 14.5)\n",
    "ax2.set_ylabel('y+')\n",
    "ax2.set_xticks(np.arange(0, len(qualifying)))\n",
    "ax2.set_xticklabels(qualifying, rotation=60, ha='right')\n",
    "ax2.legend(loc='center left', bbox_to_anchor=(1, 0.5))\n",
    "\n",
    "#f.savefig('/Users/thsyu/Software/Yp/test_data/system_vs_y+.pdf', overwrite=True)\n",
    "f.show()"
   ]
  },
  {
   "cell_type": "markdown",
   "metadata": {},
   "source": [
    "Y = Y_primordial + dY/d(O/H) * (O/H)\n",
    "\n",
    "Y = 4y(1-Z)/1+4y\n",
    "\n",
    "y = (y_plus + y_plusplus) * ICF(He+ + He2+) (ICF is for He)\n",
    "\n",
    "y_plusplus = ????\n",
    "\n",
    "Z = ????; AOS2010 takes Z=20(O/H), stated in footnote 6"
   ]
  },
  {
   "cell_type": "markdown",
   "metadata": {},
   "source": [
    "### System vs y+ (AOS2015 and 4 of our methods)"
   ]
  },
  {
   "cell_type": "code",
   "execution_count": 49,
   "metadata": {},
   "outputs": [
    {
     "name": "stderr",
     "output_type": "stream",
     "text": [
      "/Users/thsyu/.pyenv/versions/anaconda3-5.1.0/lib/python3.6/site-packages/matplotlib/figure.py:2366: UserWarning: This figure includes Axes that are not compatible with tight_layout, so results might be incorrect.\n",
      "  warnings.warn(\"This figure includes Axes that are not compatible \"\n"
     ]
    },
    {
     "data": {
      "image/png": "[encoded data removed]",
      "text/plain": [
       "<Figure size 1152x576 with 1 Axes>"
      ]
     },
     "metadata": {},
     "output_type": "display_data"
    }
   ],
   "source": [
    "OH = np.zeros((len(qualifying), num))\n",
    "y_pp = np.zeros((len(qualifying), num))\n",
    "base_y = np.zeros((len(qualifying), num))\n",
    "base_Y = np.zeros((len(qualifying), num))\n",
    "CCMred_y = np.zeros((len(qualifying), num))\n",
    "CCMred_Y = np.zeros((len(qualifying), num))\n",
    "S2018_11_y = np.zeros((len(qualifying), num))\n",
    "S2018_11_Y = np.zeros((len(qualifying), num))\n",
    "S2018_33_y = np.zeros((len(qualifying), num))\n",
    "S2018_33_Y = np.zeros((len(qualifying), num))\n",
    "\n",
    "plt.subplots(figsize=(16,8))\n",
    "\n",
    "for obj in range(len(qualifying)):\n",
    "    name = str(qualifying[obj].replace(' ', '').replace('(','').replace(')','').replace('.', ''))\n",
    "    aosidx = np.where(aos2015_mcmcout['Object'] == name)[0] #AOS2015\n",
    "    aopsidx = np.where(aops2013_mcmcout['Object'] == name)[0] #AOS2013\n",
    "\n",
    "    # Take reported AOS2015 y++ and OH values and perturb N times to match our y+ chains \n",
    "    OH[obj] = np.random.normal(aos2015_mcmcout['OH'][aosidx], aos2015_mcmcout['OH_err'][aosidx], num)\n",
    "    # Need to take absolute values to avoid negative y++ abundances\n",
    "    y_pp[obj] = np.abs(np.random.normal(aos2015_mcmcout['y++'][aosidx], aos2015_mcmcout['y++_err'][aosidx], num))\n",
    "    \n",
    "    base_y[obj] = base_yplus[obj] + y_pp[obj]\n",
    "    base_Y = ( 4*base_y*(1 - 20*1e-5*OH)) / (1 + 4*base_y)\n",
    "    CCMred_y[obj] = CCMred_yplus[obj] + y_pp[obj]\n",
    "    CCMred_Y = ( 4*CCMred_y*(1 - 20*1e-5*OH)) / (1 + 4*CCMred_y)\n",
    "    S2018_11_y[obj] = S2018_11_yplus[obj] + y_pp[obj]\n",
    "    S2018_11_Y = ( 4*S2018_11_y*(1 - 20*1e-5*OH)) / (1 + 4*S2018_11_y)\n",
    "    S2018_33_y[obj] = S2018_33_yplus[obj] + y_pp[obj]\n",
    "    S2018_33_Y = ( 4*S2018_33_y*(1 - 20*1e-5*OH)) / (1 + 4*S2018_33_y)\n",
    "        \n",
    "    plt.errorbar(obj, aos2015_mcmcout['Y'][aosidx], yerr=aos2015_mcmcout['Y_err'][aosidx], marker='X', markersize=8, color=color[obj], label=qualifying[obj])\n",
    "    plt.errorbar(obj+0.2, np.mean(base_Y[obj]), yerr=np.std(base_Y[obj]), marker='o', color=color[obj], linestyle='None', label='_nolabel_')\n",
    "    plt.errorbar(obj+0.4, np.mean(CCMred_Y[obj]), yerr=np.std(CCMred_Y[obj]), marker='*', markersize=10, color=color[obj], linestyle='None', label='_nolabel_')\n",
    "    plt.errorbar(obj+0.6, np.mean(S2018_11_Y[obj]), yerr=np.std(S2018_11_Y[obj]), marker='^', markersize=8, color=color[obj], linestyle='None', label='_nolabel_')\n",
    "    plt.errorbar(obj+0.8, np.mean(S2018_33_Y[obj]), yerr=np.std(S2018_33_Y[obj]), marker='s', markersize=6, color=color[obj], linestyle='None', label='_nolabel_')\n",
    "\n",
    "plt.xlim(-0.25, len(qualifying)+0.25)\n",
    "plt.xticks(np.arange(0, len(qualifying)), qualifying, rotation=60, ha='right')\n",
    "plt.ylabel(r'Y')\n",
    "plt.legend(loc='center left', bbox_to_anchor=(1, 0.5))\n",
    "#plt.savefig('/Users/thsyu/Dropbox/BCDs/primordial_helium/system_vs_diff_Y.pdf', overwrite=True)\n",
    "plt.show()"
   ]
  },
  {
   "cell_type": "markdown",
   "metadata": {},
   "source": [
    "## Linear Regression to Yp"
   ]
  },
  {
   "cell_type": "markdown",
   "metadata": {},
   "source": [
    "Comparison of linear regressions to the primordial helium abundance measurement, Yp, for different MCMC methods. All our values of O/H use those reported in AOS2015, and Y values include our y+ value from MCMC but y++ value from AOS2015.\n",
    "\n",
    "(1) Linear regression on AOS2015's reported O/H, Y values (MCed, weighted)\n",
    "\n",
    "(2) Base, using SMC reddening\n",
    "\n",
    "(3) CCMred\n",
    "\n",
    "(4) Storey's 2018 hydrogen emissivities, linear interpolation\n",
    "\n",
    "(5) Storey's 2018 hydrogen emissivities, cubic interpolation\n",
    "\n",
    "\n",
    "and of course, AOPS 2013 and AOS 2015's linear extrapolations to Yp."
   ]
  },
  {
   "cell_type": "code",
   "execution_count": 51,
   "metadata": {},
   "outputs": [],
   "source": [
    "# Range of OH (x 10^5) values\n",
    "OH_vals = np.arange(0, 16.5, 0.5 )"
   ]
  },
  {
   "cell_type": "markdown",
   "metadata": {},
   "source": [
    "### On AOS2015's O/H, Y values"
   ]
  },
  {
   "cell_type": "code",
   "execution_count": 117,
   "metadata": {},
   "outputs": [
    {
     "name": "stdout",
     "output_type": "stream",
     "text": [
      "Slope, dY/dOH 0.0007886284929429539 [0.00035301 0.00078838 0.0012229 ]\n",
      "Intercept, Yp 0.2448843962846175 [0.24086949 0.24488219 0.2488735 ]\n"
     ]
    },
    {
     "name": "stderr",
     "output_type": "stream",
     "text": [
      "/Users/thsyu/.pyenv/versions/anaconda3-5.1.0/lib/python3.6/site-packages/matplotlib/figure.py:445: UserWarning: Matplotlib is currently using module://ipykernel.pylab.backend_inline, which is a non-GUI backend, so cannot show the figure.\n",
      "  % get_backend())\n",
      "/Users/thsyu/.pyenv/versions/anaconda3-5.1.0/lib/python3.6/site-packages/matplotlib/figure.py:2366: UserWarning: This figure includes Axes that are not compatible with tight_layout, so results might be incorrect.\n",
      "  warnings.warn(\"This figure includes Axes that are not compatible \"\n"
     ]
    },
    {
     "data": {
      "image/png": "[encoded data removed]",
      "text/plain": [
       "<Figure size 720x360 with 2 Axes>"
      ]
     },
     "metadata": {},
     "output_type": "display_data"
    }
   ],
   "source": [
    "# Do a np.polyfit to AOS2015 reported values of O/H vs Y, MCed, and weighted according to error in Y\n",
    "our_Yp = np.zeros(num)\n",
    "our_dYdOH = np.zeros(num)\n",
    "\n",
    "our_OH = np.array([np.random.normal(m, s, num) for m, s in zip(aos2015_mcmcout_cut['OH'], aos2015_mcmcout_cut['OH_err'])])\n",
    "our_Y = np.array([np.random.normal(m, s, num) for m, s in zip(aos2015_mcmcout_cut['Y'], aos2015_mcmcout_cut['Y_err'])])\n",
    "\n",
    "for n in range(num):\n",
    "    our_linfit = np.polyfit(our_OH[:,n], our_Y[:,n], deg=1, w=1/aos2015_mcmcout_cut['Y_err'])\n",
    "    our_Yp[n] = our_linfit[1]\n",
    "    our_dYdOH[n] = our_linfit[0]\n",
    "\n",
    "print ('Slope, dY/dOH', np.mean(our_dYdOH), np.percentile(our_dYdOH, [16, 50, 84], axis=0))\n",
    "print ('Intercept, Yp', np.mean(our_Yp), np.percentile(our_Yp, [16, 50, 84], axis=0))\n",
    "\n",
    "f, (ax1, ax2) = plt.subplots(1, 2, figsize=(10,5))\n",
    "ax1.hist(our_dYdOH*1e5, 30)\n",
    "ax1.set_xlabel(r'$\\frac{d(Y)}{d(O/H)}$')\n",
    "ax1.set_ylabel('Number')\n",
    "ax2.hist(our_Yp, 30)\n",
    "ax2.set_xlabel(r'$Y_{P}$')\n",
    "f.show()"
   ]
  },
  {
   "cell_type": "code",
   "execution_count": 118,
   "metadata": {},
   "outputs": [
    {
     "name": "stderr",
     "output_type": "stream",
     "text": [
      "/Users/thsyu/.pyenv/versions/anaconda3-5.1.0/lib/python3.6/site-packages/matplotlib/figure.py:2366: UserWarning: This figure includes Axes that are not compatible with tight_layout, so results might be incorrect.\n",
      "  warnings.warn(\"This figure includes Axes that are not compatible \"\n"
     ]
    },
    {
     "data": {
      "image/png": "[encoded data removed]",
      "text/plain": [
       "<Figure size 720x432 with 1 Axes>"
      ]
     },
     "metadata": {},
     "output_type": "display_data"
    }
   ],
   "source": [
    "plt.subplots(figsize=(10, 6))\n",
    "plt.errorbar(aos2015_mcmcout['OH'], aos2015_mcmcout['Y'], xerr=aos2015_mcmcout['OH_err'], yerr=aos2015_mcmcout['Y_err'], marker='X', markersize=8, linestyle='None', color='black', label='_nolabel_')\n",
    "plt.plot(OH_vals, np.mean(our_Yp)+np.mean(our_dYdOH)*OH_vals, label=r'$\\frac{d(Y)}{d(O/H)}_{ours} =\\,$'+str(\"{:.2f}\".format(np.mean(our_dYdOH)*1e5))+r'$~\\pm~$'+str(\"{:.2f}\".format(np.std(our_dYdOH)*1e5)))\n",
    "plt.plot(OH_vals, 0.2449 + 1e-5*79*OH_vals, ls='--', label=r'$\\frac{d(Y)}{d(O/H)}_{AOS2015} = 79\\pm43$')\n",
    "plt.text(12, 0.235, r'$Y_{P, ours} = $'+str('{:.4f}'.format(our_linfit[1])), fontsize=16)\n",
    "plt.text(12, 0.232, r'$Y_{P, AOS2015} = $'+str(0.2449), fontsize=16)\n",
    "\n",
    "plt.title('AOS 2015 Sample')\n",
    "plt.xlabel(r'(O/H)$\\times10^{5}$')\n",
    "plt.ylabel(r'Y')\n",
    "plt.legend(fontsize=12)\n",
    "#plt.savefig('/Users/thsyu/Dropbox/BCDs/primordial_helium/aos2015_regression.pdf', overwrite=True)\n",
    "plt.show()"
   ]
  },
  {
   "cell_type": "markdown",
   "metadata": {},
   "source": [
    "### On AOS2015's O/H values, our base Y values"
   ]
  },
  {
   "cell_type": "code",
   "execution_count": 183,
   "metadata": {
    "scrolled": false
   },
   "outputs": [
    {
     "name": "stdout",
     "output_type": "stream",
     "text": [
      "Slope, dY/dOH 0.0007693624118878616 [0.00032905 0.0007681  0.00119861]\n",
      "Intercept, Yp 0.24298705099064133 [0.23951958 0.24314363 0.24647653]\n"
     ]
    },
    {
     "name": "stderr",
     "output_type": "stream",
     "text": [
      "/Users/thsyu/.pyenv/versions/anaconda3-5.1.0/lib/python3.6/site-packages/matplotlib/figure.py:445: UserWarning: Matplotlib is currently using module://ipykernel.pylab.backend_inline, which is a non-GUI backend, so cannot show the figure.\n",
      "  % get_backend())\n",
      "/Users/thsyu/.pyenv/versions/anaconda3-5.1.0/lib/python3.6/site-packages/matplotlib/figure.py:2366: UserWarning: This figure includes Axes that are not compatible with tight_layout, so results might be incorrect.\n",
      "  warnings.warn(\"This figure includes Axes that are not compatible \"\n"
     ]
    },
    {
     "data": {
      "image/png": "[encoded data removed]",
      "text/plain": [
       "<Figure size 720x360 with 2 Axes>"
      ]
     },
     "metadata": {},
     "output_type": "display_data"
    }
   ],
   "source": [
    "base_Yp = np.zeros(num)\n",
    "base_dYdOH = np.zeros(num)\n",
    "\n",
    "for n in range(num):\n",
    "    base_linfit = np.polyfit(OH[:,n], base_Y[:,n], deg=1)#,w=np.std(base_Y[:,n])\n",
    "    base_Yp[n] = base_linfit[1]\n",
    "    base_dYdOH[n] = base_linfit[0]\n",
    "    \n",
    "print ('Slope, dY/dOH', np.mean(base_dYdOH), np.percentile(base_dYdOH, [16, 50, 84], axis=0))\n",
    "print ('Intercept, Yp', np.mean(base_Yp), np.percentile(base_Yp, [16, 50, 84], axis=0))\n",
    "\n",
    "f, (ax1, ax2) = plt.subplots(1, 2, figsize=(10,5))\n",
    "ax1.hist(base_dYdOH*1e5, 30)\n",
    "ax1.set_xlabel(r'$\\frac{d(Y)}{d(O/H)}$')\n",
    "ax1.set_ylabel('Number')\n",
    "ax2.hist(base_Yp, 30)\n",
    "ax2.set_xlabel(r'$Y_{P}$')\n",
    "f.show()"
   ]
  },
  {
   "cell_type": "markdown",
   "metadata": {},
   "source": [
    "### On AOS2015's O/H, our CCMreddening Y values"
   ]
  },
  {
   "cell_type": "code",
   "execution_count": 55,
   "metadata": {},
   "outputs": [
    {
     "name": "stdout",
     "output_type": "stream",
     "text": [
      "Slope, dY/dOH 0.000725705452019559 [0.00032193 0.00071441 0.00113698]\n",
      "Intercept, Yp 0.24347804438174858 [0.24004904 0.24365467 0.24689281]\n"
     ]
    },
    {
     "name": "stderr",
     "output_type": "stream",
     "text": [
      "/Users/thsyu/.pyenv/versions/anaconda3-5.1.0/lib/python3.6/site-packages/matplotlib/figure.py:445: UserWarning: Matplotlib is currently using module://ipykernel.pylab.backend_inline, which is a non-GUI backend, so cannot show the figure.\n",
      "  % get_backend())\n",
      "/Users/thsyu/.pyenv/versions/anaconda3-5.1.0/lib/python3.6/site-packages/matplotlib/figure.py:2366: UserWarning: This figure includes Axes that are not compatible with tight_layout, so results might be incorrect.\n",
      "  warnings.warn(\"This figure includes Axes that are not compatible \"\n"
     ]
    },
    {
     "data": {
      "image/png": "[encoded data removed]",
      "text/plain": [
       "<Figure size 720x360 with 2 Axes>"
      ]
     },
     "metadata": {},
     "output_type": "display_data"
    }
   ],
   "source": [
    "CCMred_Yp = np.zeros(num)\n",
    "CCMred_dYdOH = np.zeros(num)\n",
    "\n",
    "for n in range(num):\n",
    "    CCMred_linfit = np.polyfit(OH[:,n], CCMred_Y[:,n], deg=1)\n",
    "    CCMred_Yp[n] = CCMred_linfit[1]\n",
    "    CCMred_dYdOH[n] = CCMred_linfit[0]\n",
    "    \n",
    "print ('Slope, dY/dOH', np.mean(CCMred_dYdOH), np.percentile(CCMred_dYdOH, [16, 50, 84], axis=0))\n",
    "print ('Intercept, Yp', np.mean(CCMred_Yp), np.percentile(CCMred_Yp, [16, 50, 84], axis=0))\n",
    "\n",
    "f, (ax1, ax2) = plt.subplots(1, 2, figsize=(10,5))\n",
    "ax1.hist(CCMred_dYdOH*1e5, 30)\n",
    "ax1.set_xlabel(r'$\\frac{d(Y)}{d(O/H)}$')\n",
    "ax1.set_ylabel('Number')\n",
    "ax2.hist(CCMred_Yp, 30)\n",
    "ax2.set_xlabel(r'$Y_{P}$')\n",
    "f.show()"
   ]
  },
  {
   "cell_type": "markdown",
   "metadata": {},
   "source": [
    "### On AOS2015's O/H values, our S2018 linear interpolation Y values"
   ]
  },
  {
   "cell_type": "code",
   "execution_count": 56,
   "metadata": {},
   "outputs": [
    {
     "name": "stdout",
     "output_type": "stream",
     "text": [
      "Slope, dY/dOH 0.0007609480118258651 [0.00033622 0.00075448 0.00118637]\n",
      "Intercept, Yp 0.24274474157333348 [0.23923165 0.2428687  0.24625954]\n"
     ]
    },
    {
     "name": "stderr",
     "output_type": "stream",
     "text": [
      "/Users/thsyu/.pyenv/versions/anaconda3-5.1.0/lib/python3.6/site-packages/matplotlib/figure.py:445: UserWarning: Matplotlib is currently using module://ipykernel.pylab.backend_inline, which is a non-GUI backend, so cannot show the figure.\n",
      "  % get_backend())\n",
      "/Users/thsyu/.pyenv/versions/anaconda3-5.1.0/lib/python3.6/site-packages/matplotlib/figure.py:2366: UserWarning: This figure includes Axes that are not compatible with tight_layout, so results might be incorrect.\n",
      "  warnings.warn(\"This figure includes Axes that are not compatible \"\n"
     ]
    },
    {
     "data": {
      "image/png": "[encoded data removed]",
      "text/plain": [
       "<Figure size 720x360 with 2 Axes>"
      ]
     },
     "metadata": {},
     "output_type": "display_data"
    }
   ],
   "source": [
    "S2018_11_Yp = np.zeros(num)\n",
    "S2018_11_dYdOH = np.zeros(num)\n",
    "\n",
    "for n in range(num):\n",
    "    S2018_11_linfit = np.polyfit(OH[:,n], S2018_11_Y[:,n], deg=1)\n",
    "    S2018_11_Yp[n] = S2018_11_linfit[1]\n",
    "    S2018_11_dYdOH[n] = S2018_11_linfit[0]\n",
    "    \n",
    "print ('Slope, dY/dOH', np.mean(S2018_11_dYdOH), np.percentile(S2018_11_dYdOH, [16, 50, 84], axis=0))\n",
    "print ('Intercept, Yp', np.mean(S2018_11_Yp), np.percentile(S2018_11_Yp, [16, 50, 84], axis=0))\n",
    "\n",
    "f, (ax1, ax2) = plt.subplots(1, 2, figsize=(10,5))\n",
    "ax1.hist(S2018_11_dYdOH*1e5, 30)\n",
    "ax1.set_xlabel(r'$\\frac{d(Y)}{d(O/H)}$')\n",
    "ax1.set_ylabel('Number')\n",
    "ax2.hist(S2018_11_Yp, 30)\n",
    "ax2.set_xlabel(r'$Y_{P}$')\n",
    "f.show()"
   ]
  },
  {
   "cell_type": "markdown",
   "metadata": {},
   "source": [
    "### On AOS2015's O/H values, our S2018 cubic interpolation Y values"
   ]
  },
  {
   "cell_type": "code",
   "execution_count": 57,
   "metadata": {},
   "outputs": [
    {
     "name": "stdout",
     "output_type": "stream",
     "text": [
      "Slope, dY/dOH 0.0007577177098628141 [0.00030294 0.00075256 0.00121812]\n",
      "Intercept, Yp 0.24268624119129822 [0.23899858 0.24280834 0.24635758]\n"
     ]
    },
    {
     "name": "stderr",
     "output_type": "stream",
     "text": [
      "/Users/thsyu/.pyenv/versions/anaconda3-5.1.0/lib/python3.6/site-packages/matplotlib/figure.py:445: UserWarning: Matplotlib is currently using module://ipykernel.pylab.backend_inline, which is a non-GUI backend, so cannot show the figure.\n",
      "  % get_backend())\n",
      "/Users/thsyu/.pyenv/versions/anaconda3-5.1.0/lib/python3.6/site-packages/matplotlib/figure.py:2366: UserWarning: This figure includes Axes that are not compatible with tight_layout, so results might be incorrect.\n",
      "  warnings.warn(\"This figure includes Axes that are not compatible \"\n"
     ]
    },
    {
     "data": {
      "image/png": "[encoded data removed]",
      "text/plain": [
       "<Figure size 720x360 with 2 Axes>"
      ]
     },
     "metadata": {},
     "output_type": "display_data"
    }
   ],
   "source": [
    "S2018_33_Yp = np.zeros(num)\n",
    "S2018_33_dYdOH = np.zeros(num)\n",
    "\n",
    "for n in range(num):\n",
    "    S2018_33_linfit = np.polyfit(OH[:,n], S2018_33_Y[:,n], deg=1)\n",
    "    S2018_33_Yp[n] = S2018_33_linfit[1]\n",
    "    S2018_33_dYdOH[n] = S2018_33_linfit[0]\n",
    "    \n",
    "print ('Slope, dY/dOH', np.mean(S2018_33_dYdOH), np.percentile(S2018_33_dYdOH, [16, 50, 84], axis=0))\n",
    "print ('Intercept, Yp', np.mean(S2018_33_Yp), np.percentile(S2018_33_Yp, [16, 50, 84], axis=0))\n",
    "\n",
    "f, (ax1, ax2) = plt.subplots(1, 2, figsize=(10,5))\n",
    "#f.suptitle('Storey 2018 Hydrogen Emissivities, cubic', fontsize=16)\n",
    "ax1.hist(S2018_33_dYdOH*1e5, 30)\n",
    "ax1.set_xlabel(r'$\\frac{d(Y)}{d(O/H)}$')\n",
    "ax1.set_ylabel('Number')\n",
    "ax2.hist(S2018_33_Yp, 30)\n",
    "ax2.set_xlabel(r'$Y_{P}$')\n",
    "#f.savefig('/Users/thsyu/Dropbox/BCDs/primordial_helium/S2018_33_dYdOH_Yp')\n",
    "f.show()"
   ]
  },
  {
   "cell_type": "markdown",
   "metadata": {},
   "source": [
    "### Plot of Linear Extrapolation to Yp"
   ]
  },
  {
   "cell_type": "code",
   "execution_count": 176,
   "metadata": {},
   "outputs": [
    {
     "data": {
      "text/plain": [
       "0.003626769274578917"
      ]
     },
     "execution_count": 176,
     "metadata": {},
     "output_type": "execute_result"
    }
   ],
   "source": [
    "np.percentile(CCMred_Yp,50)-np.percentile(CCMred_Yp,15.865)"
   ]
  },
  {
   "cell_type": "code",
   "execution_count": 119,
   "metadata": {},
   "outputs": [
    {
     "name": "stderr",
     "output_type": "stream",
     "text": [
      "/Users/thsyu/.pyenv/versions/anaconda3-5.1.0/lib/python3.6/site-packages/matplotlib/figure.py:2366: UserWarning: This figure includes Axes that are not compatible with tight_layout, so results might be incorrect.\n",
      "  warnings.warn(\"This figure includes Axes that are not compatible \"\n"
     ]
    },
    {
     "data": {
      "image/png": "[encoded data removed]",
      "text/plain": [
       "<Figure size 432x432 with 1 Axes>"
      ]
     },
     "metadata": {},
     "output_type": "display_data"
    }
   ],
   "source": [
    "plt.subplots(figsize=(6,6))\n",
    "plt.errorbar(0.2465, -1, xerr=0.0097, marker='X', color='black') # AOS2013\n",
    "plt.errorbar(0.2449, 0, xerr=0.004, marker='X', color='black') # AOS 2015\n",
    "plt.errorbar(np.mean(our_Yp), 1, xerr=[[np.percentile(our_Yp,50)-np.percentile(our_Yp,15.865),np.percentile(our_Yp,84.135)-np.percentile(our_Yp,50)]], marker='X', color='black')\n",
    "plt.errorbar(np.mean(base_Yp), 2, xerr=[[np.percentile(base_Yp,50)-np.percentile(base_Yp,15.865),np.percentile(base_Yp,84.135)-np.percentile(base_Yp,50)]], marker='o', color='blue')\n",
    "plt.errorbar(np.mean(CCMred_Yp), 3, xerr=[[np.percentile(CCMred_Yp,50)-np.percentile(CCMred_Yp,15.865),np.percentile(CCMred_Yp,84.135)-np.percentile(CCMred_Yp,50)]], marker='*', markersize=10, color='red')\n",
    "plt.errorbar(np.mean(S2018_11_Yp), 4, xerr=[[np.percentile(S2018_11_Yp,50)-np.percentile(S2018_11_Yp,15.865),np.percentile(S2018_11_Yp,84.135)-np.percentile(S2018_11_Yp,50)]], marker='^', markersize=8, color='green')\n",
    "plt.errorbar(np.mean(S2018_33_Yp), 5, xerr=[[np.percentile(S2018_33_Yp,50)-np.percentile(S2018_33_Yp,15.865),np.percentile(S2018_33_Yp,84.135)-np.percentile(S2018_33_Yp,50)]], marker='s', markersize=6, color='orange')\n",
    "\n",
    "plt.ylim(-1.5, 5.5)\n",
    "plt.xlabel(r'$Y_{P}$')\n",
    "plt.ylabel('Model')\n",
    "plt.yticks(np.arange(-1,6),['AOS2013 \\n (Optical)', 'AOS2015 \\n (+NIR)', 'Ours on AOS2015 \\n (Linear fit, weighted)', 'Base', 'CCMred', r'$S2018_{11}$', r'$S2018_{33}$'])\n",
    "#plt.savefig('/Users/thsyu/Dropbox/BCDs/primordial_helium/Yp_vs_model.pdf', overwrite=True)\n",
    "plt.show()\n"
   ]
  },
  {
   "cell_type": "markdown",
   "metadata": {},
   "source": [
    "# Linear regression to y_p, then convert to Yp"
   ]
  },
  {
   "cell_type": "markdown",
   "metadata": {},
   "source": [
    "I have 100000 realizations of OH (perturbed 1e6 times by its measured error) and y (from 1e6 y+ chains and 1e6 perturbed y++ values).\n",
    "\n",
    "I can fit a linear regression to OH vs y to get y_p, then convert y_p to Yp."
   ]
  },
  {
   "cell_type": "markdown",
   "metadata": {},
   "source": [
    "## Optical"
   ]
  },
  {
   "cell_type": "markdown",
   "metadata": {},
   "source": [
    "### Our fit on AOS2015's Y, O/H values"
   ]
  },
  {
   "cell_type": "code",
   "execution_count": 120,
   "metadata": {},
   "outputs": [
    {
     "name": "stdout",
     "output_type": "stream",
     "text": [
      "Slope, dY/dOH 0.0002952710561382326 [2.03895825e-05 2.94358299e-04 5.69759465e-04]\n",
      "Intercept, Yp 0.08218200590137228 [0.08016019 0.08218524 0.08419573]\n",
      "$Y_{P}$ 0.2473723762819517 0.004603910123672309\n"
     ]
    }
   ],
   "source": [
    "# Do a np.polyfit to AOS2015 reported values of O/H vs Y, MCed, unweighted\n",
    "our_yp = np.zeros(num)\n",
    "our_dydOH = np.zeros(num)\n",
    "\n",
    "our_OH = np.array([np.random.normal(m, s, num) for m, s in zip(aos2015_mcmcout_cut['OH'], aos2015_mcmcout_cut['OH_err'])])\n",
    "our_y = np.array([np.random.normal(m, s, num) for m, s in zip(aos2015_mcmcout_cut['y+'], aos2015_mcmcout_cut['y+_p'])]) + \\\n",
    "        np.array([np.random.normal(m, s, num) for m, s in zip(aos2015_mcmcout_cut['y++'], aos2015_mcmcout_cut['y++_err'])])\n",
    "\n",
    "for n in range(num):\n",
    "    our_linfit = np.polyfit(our_OH[:,n], our_y[:,n], deg=1)#, w=1/aos2015_mcmcout_cut['Y_err'])\n",
    "    our_yp[n] = our_linfit[1]\n",
    "    our_dydOH[n] = our_linfit[0]\n",
    "\n",
    "print ('Slope, dY/dOH', np.mean(our_dydOH), np.percentile(our_dydOH, [16, 50, 84], axis=0))\n",
    "print ('Intercept, Yp', np.mean(our_yp), np.percentile(our_yp, [16, 50, 84], axis=0))\n",
    "\n",
    "our_Yp2 = 4*our_yp / (1 + 4*our_yp)\n",
    "print (r'$Y_{P}$', np.mean(our_Yp2), np.std(our_Yp2))"
   ]
  },
  {
   "cell_type": "markdown",
   "metadata": {},
   "source": [
    "### Our 'base'"
   ]
  },
  {
   "cell_type": "code",
   "execution_count": 184,
   "metadata": {},
   "outputs": [
    {
     "name": "stdout",
     "output_type": "stream",
     "text": [
      "Slope, dy/dOH 0.00036168079467127526 [0.00016657 0.00036152 0.00055184]\n",
      "Intercept, yp 0.08027698207248055 [0.07875412 0.08033991 0.08180999]\n",
      "$Y_{P}$ 0.2430428691585072 0.0035580291780248604\n"
     ]
    }
   ],
   "source": [
    "base_yp = np.zeros(num)\n",
    "base_dydOH = np.zeros(num)\n",
    "\n",
    "for n in range(num):\n",
    "    base_linfit = np.polyfit(OH[:,n], base_y[:,n], deg=1)#,w=np.std(base_y[:,n])\n",
    "    base_yp[n] = base_linfit[1]\n",
    "    base_dydOH[n] = base_linfit[0]\n",
    "    \n",
    "print ('Slope, dy/dOH', np.mean(base_dydOH), np.percentile(base_dydOH, [16, 50, 84], axis=0))\n",
    "print ('Intercept, yp', np.mean(base_yp), np.percentile(base_yp, [16, 50, 84], axis=0))\n",
    "\n",
    "base_Yp2 = 4*base_yp / (1 + 4*base_yp)\n",
    "\n",
    "print (r'$Y_{P}$', np.mean(base_Yp2), np.std(base_Yp2))"
   ]
  },
  {
   "cell_type": "markdown",
   "metadata": {},
   "source": [
    "#### Are 100%-68% of our objects not within 1-sigma of the best linear regression?"
   ]
  },
  {
   "cell_type": "code",
   "execution_count": 62,
   "metadata": {},
   "outputs": [
    {
     "name": "stderr",
     "output_type": "stream",
     "text": [
      "/Users/thsyu/.pyenv/versions/anaconda3-5.1.0/lib/python3.6/site-packages/matplotlib/figure.py:2366: UserWarning: This figure includes Axes that are not compatible with tight_layout, so results might be incorrect.\n",
      "  warnings.warn(\"This figure includes Axes that are not compatible \"\n"
     ]
    },
    {
     "data": {
      "image/png": "[encoded data removed]",
      "text/plain": [
       "<Figure size 576x432 with 1 Axes>"
      ]
     },
     "metadata": {},
     "output_type": "display_data"
    }
   ],
   "source": [
    "plt.subplots(figsize=(8, 6))\n",
    "plt.errorbar(np.mean(OH, axis=1), np.mean(base_y, axis=1), xerr=np.std(OH, axis=1), yerr=np.std(base_y, axis=1), marker='o', linestyle='None', color='black')\n",
    "plt.errorbar(np.mean(OH[5]), np.mean(base_y[5]), xerr=np.std(OH[5]), yerr=np.std(base_y[5]), marker='o', linestyle='None', color='red', label='E1')\n",
    "plt.errorbar(np.mean(OH[6]), np.mean(base_y[6]), xerr=np.std(OH[6]), yerr=np.std(base_y[6]), marker='o', linestyle='None', color='blue', label='E3')\n",
    "plt.plot(OH_vals, np.mean(base_yp)+(np.mean(base_dydOH) * OH_vals))\n",
    "plt.legend()\n",
    "plt.xlabel(r'O/H $\\times$ 10$^{5}$')\n",
    "plt.ylabel(r'y$_{P}$')\n",
    "plt.title('Base')\n",
    "#plt.savefig('/Users/thsyu/Dropbox/BCDs/primordial_helium/base_to_yP.pdf', overwrite=True)\n",
    "plt.show()"
   ]
  },
  {
   "cell_type": "markdown",
   "metadata": {},
   "source": [
    "### Our CCMred"
   ]
  },
  {
   "cell_type": "code",
   "execution_count": 63,
   "metadata": {},
   "outputs": [
    {
     "name": "stdout",
     "output_type": "stream",
     "text": [
      "Slope, dy/dOH 0.00034157039672539567 [0.00016232 0.00033694 0.00052412]\n",
      "Intercept, yp 0.08049754885447856 [0.07898804 0.08057005 0.08200091]\n",
      "$Y_{P}$ 0.24354828465413483 0.0035301894373777234\n"
     ]
    }
   ],
   "source": [
    "CCMred_yp = np.zeros(num)\n",
    "CCMred_dydOH = np.zeros(num)\n",
    "\n",
    "for n in range(num):\n",
    "    CCMred_linfit = np.polyfit(OH[:,n], CCMred_y[:,n], deg=1)#,w=np.std(CCMred_y[:,n])\n",
    "    CCMred_yp[n] = CCMred_linfit[1]\n",
    "    CCMred_dydOH[n] = CCMred_linfit[0]\n",
    "    \n",
    "print ('Slope, dy/dOH', np.mean(CCMred_dydOH), np.percentile(CCMred_dydOH, [16, 50, 84], axis=0))\n",
    "print ('Intercept, yp', np.mean(CCMred_yp), np.percentile(CCMred_yp, [16, 50, 84], axis=0))\n",
    "\n",
    "CCMred_Yp2 = 4*CCMred_yp / (1 + 4*CCMred_yp)\n",
    "\n",
    "print (r'$Y_{P}$', np.mean(CCMred_Yp2), np.std(CCMred_Yp2))"
   ]
  },
  {
   "cell_type": "markdown",
   "metadata": {},
   "source": [
    "### Our S2018, linear"
   ]
  },
  {
   "cell_type": "code",
   "execution_count": 64,
   "metadata": {},
   "outputs": [
    {
     "name": "stdout",
     "output_type": "stream",
     "text": [
      "Slope, dy/dOH 0.000357203139716292 [0.00016913 0.00035471 0.00054532]\n",
      "Intercept, yp 0.08017392901639778 [0.07863012 0.0802225  0.08171598]\n",
      "$Y_{P}$ 0.2428066487013368 0.003554567285827614\n"
     ]
    }
   ],
   "source": [
    "S2018_11_yp = np.zeros(num)\n",
    "S2018_11_dydOH = np.zeros(num)\n",
    "\n",
    "for n in range(num):\n",
    "    S2018_11_linfit = np.polyfit(OH[:,n], S2018_11_y[:,n], deg=1)#,w=np.std(S2018_11_y[:,n])\n",
    "    S2018_11_yp[n] = S2018_11_linfit[1]\n",
    "    S2018_11_dydOH[n] = S2018_11_linfit[0]\n",
    "    \n",
    "print ('Slope, dy/dOH', np.mean(S2018_11_dydOH), np.percentile(S2018_11_dydOH, [16, 50, 84], axis=0))\n",
    "print ('Intercept, yp', np.mean(S2018_11_yp), np.percentile(S2018_11_yp, [16, 50, 84], axis=0))\n",
    "\n",
    "S2018_11_Yp2 = 4*S2018_11_yp / (1 + 4*S2018_11_yp)\n",
    "\n",
    "print (r'$Y_{P}$', np.mean(S2018_11_Yp2), np.std(S2018_11_Yp2))"
   ]
  },
  {
   "cell_type": "markdown",
   "metadata": {},
   "source": [
    "### Our S2018, cubic"
   ]
  },
  {
   "cell_type": "code",
   "execution_count": 65,
   "metadata": {},
   "outputs": [
    {
     "name": "stdout",
     "output_type": "stream",
     "text": [
      "Slope, dy/dOH 0.00035580990363996674 [0.00015448 0.00035392 0.00055957]\n",
      "Intercept, yp 0.08014782966804596 [0.07852978 0.08019498 0.0817572 ]\n",
      "$Y_{P}$ 0.24274527922412886 0.003712134514629938\n"
     ]
    }
   ],
   "source": [
    "S2018_33_yp = np.zeros(num)\n",
    "S2018_33_dydOH = np.zeros(num)\n",
    "\n",
    "for n in range(num):\n",
    "    S2018_33_linfit = np.polyfit(OH[:,n], S2018_33_y[:,n], deg=1)#,w=np.std(S2018_33_y[:,n])\n",
    "    S2018_33_yp[n] = S2018_33_linfit[1]\n",
    "    S2018_33_dydOH[n] = S2018_33_linfit[0]\n",
    "    \n",
    "print ('Slope, dy/dOH', np.mean(S2018_33_dydOH), np.percentile(S2018_33_dydOH, [16, 50, 84], axis=0))\n",
    "print ('Intercept, yp', np.mean(S2018_33_yp), np.percentile(S2018_33_yp, [16, 50, 84], axis=0))\n",
    "\n",
    "S2018_33_Yp2 = 4*S2018_33_yp / (1 + 4*S2018_33_yp)\n",
    "\n",
    "print (r'$Y_{P}$', np.mean(S2018_33_Yp2), np.std(S2018_33_Yp2))"
   ]
  },
  {
   "cell_type": "markdown",
   "metadata": {},
   "source": [
    "## Optical+NIR"
   ]
  },
  {
   "cell_type": "markdown",
   "metadata": {},
   "source": [
    "### Compare all the results of the NIR run"
   ]
  },
  {
   "cell_type": "code",
   "execution_count": 194,
   "metadata": {},
   "outputs": [
    {
     "name": "stderr",
     "output_type": "stream",
     "text": [
      "/Users/thsyu/.pyenv/versions/anaconda3-5.1.0/lib/python3.6/site-packages/matplotlib/figure.py:2366: UserWarning: This figure includes Axes that are not compatible with tight_layout, so results might be incorrect.\n",
      "  warnings.warn(\"This figure includes Axes that are not compatible \"\n"
     ]
    },
    {
     "data": {
      "image/png": "[encoded data removed]",
      "text/plain": [
       "<Figure size 576x432 with 1 Axes>"
      ]
     },
     "metadata": {},
     "output_type": "display_data"
    }
   ],
   "source": [
    "plt.subplots(figsize=(8,6))\n",
    "\n",
    "nir_OH = np.zeros((len(nir_qualifying), num))\n",
    "nir_y_pp = np.zeros((len(nir_qualifying), num))\n",
    "\n",
    "nir_CCMred_y = np.zeros((len(nir_qualifying), num))\n",
    "nir_S2018_11_y = np.zeros((len(nir_qualifying), num))\n",
    "nir_S2018_33_y = np.zeros((len(nir_qualifying), num))\n",
    "\n",
    "for obj in range(len(nir_qualifying)):\n",
    "    name = str(nir_qualifying[obj].replace(' ', '').replace('(','').replace(')','').replace('.', ''))\n",
    "    aosidx = np.where(aos2015_mcmcout['Object'] == name)[0]\n",
    "\n",
    "    nir_OH[obj] = np.random.normal(aos2015_mcmcout['OH'][aosidx], aos2015_mcmcout['OH_err'][aosidx], num)\n",
    "    # Need to take absolute values to avoid negative y++ abundances\n",
    "    nir_y_pp[obj] = np.abs(np.random.normal(aos2015_mcmcout['y++'][aosidx], aos2015_mcmcout['y++_err'][aosidx], num))\n",
    "    \n",
    "    nir_CCMred_y[obj] = nir_CCMred_yplus[obj] + nir_y_pp[obj]\n",
    "    nir_S2018_11_y[obj] = nir_S2018_11_yplus[obj] + nir_y_pp[obj]\n",
    "    nir_S2018_33_y[obj] = nir_S2018_33_yplus[obj] + nir_y_pp[obj]\n",
    "        \n",
    "    plt.errorbar(obj, np.mean(nir_CCMred_y[obj]), yerr=np.std(nir_CCMred_y[obj]), marker='*', markersize=10, color=color[obj], linestyle='None', label='_nolabel_')\n",
    "    plt.errorbar(obj+0.2, np.mean(nir_S2018_11_y[obj]), yerr=np.std(nir_S2018_11_y[obj]), marker='^', markersize=8, color=color[obj], linestyle='None', label='_nolabel_')\n",
    "    plt.errorbar(obj+0.4, np.mean(nir_S2018_33_y[obj]), yerr=np.std(nir_S2018_33_y[obj]), marker='s', markersize=6, color=color[obj], linestyle='None', label='_nolabel_')\n",
    "\n",
    "plt.xlim(-0.25, len(nir_qualifying)+0.25)\n",
    "plt.xticks(np.arange(0, len(nir_qualifying)), nir_qualifying, rotation=60, ha='right')\n",
    "plt.ylabel(r'y')\n",
    "#plt.legend(loc='center left', bbox_to_anchor=(1, 0.5))\n",
    "#plt.savefig('/Users/thsyu/Dropbox/BCDs/primordial_helium/system_vs_diff_Y.pdf', overwrite=True)\n",
    "plt.show()"
   ]
  },
  {
   "cell_type": "markdown",
   "metadata": {},
   "source": [
    "### Our NIR CCMred"
   ]
  },
  {
   "cell_type": "code",
   "execution_count": 152,
   "metadata": {},
   "outputs": [
    {
     "name": "stdout",
     "output_type": "stream",
     "text": [
      "Slope, dy/dOH 0.0007194678892287929 [0.00050098 0.00069655 0.0009111 ]\n",
      "Intercept, yp 0.07603056340533497 [0.07400954 0.07593851 0.07805382]\n",
      "$Y_{P}$ 0.23316615359741807 0.00514431753596031\n"
     ]
    }
   ],
   "source": [
    "nir_CCMred_yp = np.zeros(num)\n",
    "nir_CCMred_dydOH = np.zeros(num)\n",
    "\n",
    "for n in range(num):\n",
    "    nir_CCMred_linfit = np.polyfit(nir_OH[:,n], nir_CCMred_y[:,n], deg=1)#,w=np.std(CCMred_y[:,n])\n",
    "    nir_CCMred_yp[n] = nir_CCMred_linfit[1]\n",
    "    nir_CCMred_dydOH[n] = nir_CCMred_linfit[0]\n",
    "    \n",
    "print ('Slope, dy/dOH', np.mean(nir_CCMred_dydOH), np.percentile(nir_CCMred_dydOH, [16, 50, 84], axis=0))\n",
    "print ('Intercept, yp', np.mean(nir_CCMred_yp), np.percentile(nir_CCMred_yp, [16, 50, 84], axis=0))\n",
    "\n",
    "nir_CCMred_Yp2 = 4*nir_CCMred_yp / (1 + 4*nir_CCMred_yp)\n",
    "\n",
    "print (r'$Y_{P}$', np.mean(nir_CCMred_Yp2), np.std(nir_CCMred_Yp2))"
   ]
  },
  {
   "cell_type": "markdown",
   "metadata": {},
   "source": [
    "### Our NIR S2018, linear"
   ]
  },
  {
   "cell_type": "code",
   "execution_count": 195,
   "metadata": {},
   "outputs": [
    {
     "name": "stdout",
     "output_type": "stream",
     "text": [
      "Slope, dy/dOH 0.0006562859455431808 [0.0004881  0.00065544 0.00081688]\n",
      "Intercept, yp 0.07627860042077914 [0.07480928 0.07624045 0.07774134]\n",
      "$Y_{P}$ 0.23376707159025586 0.0035623120166901998\n"
     ]
    }
   ],
   "source": [
    "nir_S2018_11_yp = np.zeros(num)\n",
    "nir_S2018_11_dydOH = np.zeros(num)\n",
    "\n",
    "for n in range(num):\n",
    "    nir_S2018_11_linfit = np.polyfit(nir_OH[:,n], nir_S2018_11_y[:,n], deg=1)#,w=np.std(S2018_11_y[:,n])\n",
    "    nir_S2018_11_yp[n] = nir_S2018_11_linfit[1]\n",
    "    nir_S2018_11_dydOH[n] = nir_S2018_11_linfit[0]\n",
    "    \n",
    "print ('Slope, dy/dOH', np.mean(nir_S2018_11_dydOH), np.percentile(nir_S2018_11_dydOH, [16, 50, 84], axis=0))\n",
    "print ('Intercept, yp', np.mean(nir_S2018_11_yp), np.percentile(nir_S2018_11_yp, [16, 50, 84], axis=0))\n",
    "\n",
    "nir_S2018_11_Yp2 = 4*nir_S2018_11_yp / (1 + 4*nir_S2018_11_yp)\n",
    "\n",
    "print (r'$Y_{P}$', np.mean(nir_S2018_11_Yp2), np.std(nir_S2018_11_Yp2))"
   ]
  },
  {
   "cell_type": "code",
   "execution_count": 196,
   "metadata": {},
   "outputs": [
    {
     "name": "stderr",
     "output_type": "stream",
     "text": [
      "/Users/thsyu/.pyenv/versions/anaconda3-5.1.0/lib/python3.6/site-packages/matplotlib/figure.py:2366: UserWarning: This figure includes Axes that are not compatible with tight_layout, so results might be incorrect.\n",
      "  warnings.warn(\"This figure includes Axes that are not compatible \"\n"
     ]
    },
    {
     "data": {
      "image/png": "[encoded data removed]",
      "text/plain": [
       "<Figure size 432x288 with 1 Axes>"
      ]
     },
     "metadata": {},
     "output_type": "display_data"
    }
   ],
   "source": [
    "plt.plot(np.mean(nir_OH, axis=1), np.mean(nir_S2018_11_y, axis=1), 'o')\n",
    "plt.plot(OH_vals, np.mean(nir_S2018_11_yp) + OH_vals*np.mean(nir_S2018_11_dydOH))\n",
    "plt.xlabel(r'O/H $\\times 10^{5}$')\n",
    "plt.ylabel('y')\n",
    "plt.show()"
   ]
  },
  {
   "cell_type": "markdown",
   "metadata": {},
   "source": [
    "### Our NIR S2018, cubic"
   ]
  },
  {
   "cell_type": "code",
   "execution_count": 123,
   "metadata": {},
   "outputs": [
    {
     "name": "stdout",
     "output_type": "stream",
     "text": [
      "Slope, dy/dOH 0.0006970641382037706 [0.00048986 0.00068522 0.00088801]\n",
      "Intercept, yp 0.07591816668241771 [0.07382817 0.075755   0.07799193]\n",
      "$Y_{P}$ 0.23289907051451303 0.005334100715317126\n"
     ]
    }
   ],
   "source": [
    "nir_S2018_33_yp = np.zeros(num)\n",
    "nir_S2018_33_dydOH = np.zeros(num)\n",
    "\n",
    "for n in range(num):\n",
    "    nir_S2018_33_linfit = np.polyfit(nir_OH[:,n], nir_S2018_33_y[:,n], deg=1)#,w=np.std(S2018_33_y[:,n])\n",
    "    nir_S2018_33_yp[n] = nir_S2018_33_linfit[1]\n",
    "    nir_S2018_33_dydOH[n] = nir_S2018_33_linfit[0]\n",
    "    \n",
    "print ('Slope, dy/dOH', np.mean(nir_S2018_33_dydOH), np.percentile(nir_S2018_33_dydOH, [16, 50, 84], axis=0))\n",
    "print ('Intercept, yp', np.mean(nir_S2018_33_yp), np.percentile(nir_S2018_33_yp, [16, 50, 84], axis=0))\n",
    "\n",
    "nir_S2018_33_Yp2 = 4*nir_S2018_33_yp / (1 + 4*nir_S2018_33_yp)\n",
    "\n",
    "print (r'$Y_{P}$', np.mean(nir_S2018_33_Yp2), np.std(nir_S2018_33_Yp2))"
   ]
  },
  {
   "cell_type": "markdown",
   "metadata": {},
   "source": [
    "# Plot of Yp vs Model"
   ]
  },
  {
   "cell_type": "markdown",
   "metadata": {},
   "source": [
    "Lower point for each model is a fit to O/H vs Y, extrapolated to Yp\n",
    "\n",
    "Upper point for each model is a fit to O/H vs y, extrapolated to y_P, converted to Yp"
   ]
  },
  {
   "cell_type": "code",
   "execution_count": 197,
   "metadata": {},
   "outputs": [
    {
     "name": "stderr",
     "output_type": "stream",
     "text": [
      "/Users/thsyu/.pyenv/versions/anaconda3-5.1.0/lib/python3.6/site-packages/matplotlib/figure.py:2366: UserWarning: This figure includes Axes that are not compatible with tight_layout, so results might be incorrect.\n",
      "  warnings.warn(\"This figure includes Axes that are not compatible \"\n"
     ]
    },
    {
     "data": {
      "image/png": "[encoded data removed]",
      "text/plain": [
       "<Figure size 432x432 with 1 Axes>"
      ]
     },
     "metadata": {},
     "output_type": "display_data"
    }
   ],
   "source": [
    "plt.subplots(figsize=(6,6))\n",
    "plt.errorbar(0.2465, -1, xerr=0.0097, marker='X', color='black') # AOS2013\n",
    "plt.errorbar(0.2449, 0, xerr=0.004, marker='X', color='black') # AOS 2015\n",
    "plt.errorbar(np.mean(our_Yp), 1, xerr=[[np.percentile(our_Yp,50)-np.percentile(our_Yp,15.865),np.percentile(our_Yp,84.135)-np.percentile(our_Yp,50)]], marker='X', color='black')\n",
    "plt.errorbar(np.mean(base_Yp), 2, xerr=[[np.percentile(base_Yp,50)-np.percentile(base_Yp,15.865),np.percentile(base_Yp,84.135)-np.percentile(base_Yp,50)]], marker='o', color='blue')\n",
    "plt.errorbar(np.mean(CCMred_Yp), 3, xerr=[[np.percentile(CCMred_Yp,50)-np.percentile(CCMred_Yp,15.865),np.percentile(CCMred_Yp,84.135)-np.percentile(CCMred_Yp,50)]], marker='*', markersize=10, color='red')\n",
    "plt.errorbar(np.mean(S2018_11_Yp), 4, xerr=[[np.percentile(S2018_11_Yp,50)-np.percentile(S2018_11_Yp,15.865),np.percentile(S2018_11_Yp,84.135)-np.percentile(S2018_11_Yp,50)]], marker='^', markersize=8, color='green')\n",
    "plt.errorbar(np.mean(S2018_33_Yp), 5, xerr=[[np.percentile(S2018_33_Yp,50)-np.percentile(S2018_33_Yp,15.865),np.percentile(S2018_33_Yp,84.135)-np.percentile(S2018_33_Yp,50)]], marker='s', markersize=6, color='orange')\n",
    "# Extrapolate to y_p, then convert to Yp, using O/H=0\n",
    "plt.errorbar(np.mean(our_Yp2), 1.25, xerr=[[np.percentile(our_Yp2,50)-np.percentile(our_Yp2,15.865),np.percentile(our_Yp2,84.135)-np.percentile(our_Yp2,50)]], marker='X', color='black')\n",
    "plt.errorbar(np.mean(base_Yp2), 2.25, xerr=[[np.percentile(base_Yp2,50)-np.percentile(base_Yp2,15.865),np.percentile(base_Yp2,84.135)-np.percentile(base_Yp2,50)]], marker='o', color='blue')\n",
    "plt.errorbar(np.mean(CCMred_Yp2), 3.25, xerr=[[np.percentile(CCMred_Yp2,50)-np.percentile(CCMred_Yp2,15.865),np.percentile(CCMred_Yp2,84.135)-np.percentile(CCMred_Yp2,50)]], marker='*', markersize=10, color='red')\n",
    "plt.errorbar(np.mean(S2018_11_Yp2), 4.25, xerr=[[np.percentile(S2018_11_Yp2,50)-np.percentile(S2018_11_Yp2,15.865),np.percentile(S2018_11_Yp2,84.135)-np.percentile(S2018_11_Yp2,50)]], marker='^', markersize=8, color='green')\n",
    "plt.errorbar(np.mean(S2018_33_Yp2), 5.25, xerr=[[np.percentile(S2018_33_Yp2,50)-np.percentile(S2018_33_Yp2,15.865),np.percentile(S2018_33_Yp2,84.135)-np.percentile(S2018_33_Yp2,50)]], marker='s', markersize=6, color='orange')\n",
    "# Extrapolate to y_p, then convert to Yp, using O/H=0\n",
    "plt.errorbar(np.mean(nir_CCMred_Yp2), 3.5, xerr=[[np.percentile(nir_CCMred_Yp2,50)-np.percentile(nir_CCMred_Yp2,15.865),np.percentile(nir_CCMred_Yp2,84.135)-np.percentile(nir_CCMred_Yp2,50)]], marker='*', markersize=10, color='red')\n",
    "plt.errorbar(np.mean(nir_S2018_11_Yp2), 4.5, xerr=[[np.percentile(nir_S2018_11_Yp2,50)-np.percentile(nir_S2018_11_Yp2,15.865),np.percentile(nir_S2018_11_Yp2,84.135)-np.percentile(nir_S2018_11_Yp2,50)]], marker='^', markersize=8, color='green')\n",
    "plt.errorbar(np.mean(nir_S2018_33_Yp2), 5.5, xerr=[[np.percentile(nir_S2018_33_Yp2,50)-np.percentile(nir_S2018_33_Yp2,15.865),np.percentile(nir_S2018_33_Yp2,84.135)-np.percentile(nir_S2018_33_Yp2,50)]], marker='s', markersize=6, color='orange')\n",
    "\n",
    "\n",
    "plt.ylim(-1.5, 6.)\n",
    "plt.xlabel(r'$Y_{P}$')\n",
    "plt.ylabel('Model')\n",
    "plt.yticks(np.arange(-1,6),['AOS2013 \\n (Optical)', 'AOS2015 \\n (+NIR)', 'Our linear fit to AOS2015 \\n (Unweighted on top)', 'Base', 'CCMred', r'$S2018_{11}$', r'$S2018_{33}$'])\n",
    "#plt.savefig('/Users/thsyu/Dropbox/BCDs/primordial_helium/Yp_vs_model.pdf', overwrite=True)\n",
    "plt.show()"
   ]
  },
  {
   "cell_type": "code",
   "execution_count": 185,
   "metadata": {
    "scrolled": false
   },
   "outputs": [
    {
     "name": "stderr",
     "output_type": "stream",
     "text": [
      "/Users/thsyu/.pyenv/versions/anaconda3-5.1.0/lib/python3.6/site-packages/matplotlib/figure.py:2366: UserWarning: This figure includes Axes that are not compatible with tight_layout, so results might be incorrect.\n",
      "  warnings.warn(\"This figure includes Axes that are not compatible \"\n"
     ]
    },
    {
     "data": {
      "image/png": "[encoded data removed]",
      "text/plain": [
       "<Figure size 432x432 with 1 Axes>"
      ]
     },
     "metadata": {},
     "output_type": "display_data"
    }
   ],
   "source": [
    "plt.subplots(figsize=(6,6))\n",
    "plt.errorbar(0.2465, -1, xerr=0.0097, marker='X', color='black') # AOS2013\n",
    "plt.errorbar(0.2449, 0, xerr=0.004, marker='X', color='black') # AOS 2015\n",
    "plt.errorbar(np.mean(base_Yp), 1, xerr=[[np.percentile(base_Yp,50)-np.percentile(base_Yp,15.865),np.percentile(base_Yp,84.135)-np.percentile(base_Yp,50)]], marker='o', color='blue')\n",
    "plt.errorbar(np.mean(CCMred_Yp), 2, xerr=[[np.percentile(CCMred_Yp,50)-np.percentile(CCMred_Yp,15.865),np.percentile(CCMred_Yp,84.135)-np.percentile(CCMred_Yp,50)]], marker='*', markersize=10, color='red')\n",
    "plt.errorbar(np.mean(S2018_11_Yp), 3, xerr=[[np.percentile(S2018_11_Yp,50)-np.percentile(S2018_11_Yp,15.865),np.percentile(S2018_11_Yp,84.135)-np.percentile(S2018_11_Yp,50)]], marker='^', markersize=8, color='green')\n",
    "# Extrapolate to y_p, then convert to Yp, using O/H=0\n",
    "plt.errorbar(np.mean(nir_CCMred_Yp2), 2.5, xerr=[[np.percentile(nir_CCMred_Yp2,50)-np.percentile(nir_CCMred_Yp2,15.865),np.percentile(nir_CCMred_Yp2,84.135)-np.percentile(nir_CCMred_Yp2,50)]], marker='*', markersize=10, color='red')\n",
    "plt.errorbar(np.mean(nir_S2018_11_Yp2), 3.5, xerr=[[np.percentile(nir_S2018_11_Yp2,50)-np.percentile(nir_S2018_11_Yp2,15.865),np.percentile(nir_S2018_11_Yp2,84.135)-np.percentile(nir_S2018_11_Yp2,50)]], marker='^', markersize=8, color='green')\n",
    "\n",
    "plt.ylim(-1.5, 4.)\n",
    "plt.xlabel(r'$Y_{P}$')\n",
    "plt.ylabel('Model')\n",
    "plt.yticks(np.arange(-1,4),['AOS2013 \\n (Optical)', 'AOS2015 \\n (+NIR)', 'Base', 'CCMred \\n (+NIR on top)', r'$S2018_{11}$'+'\\n (+NIR on top)'])\n",
    "#plt.savefig('/Users/thsyu/Dropbox/BCDs/primordial_helium/Yp_vs_model.pdf', overwrite=True)\n",
    "plt.show()"
   ]
  },
  {
   "cell_type": "markdown",
   "metadata": {},
   "source": [
    "# Compare reddening curves"
   ]
  },
  {
   "cell_type": "code",
   "execution_count": null,
   "metadata": {},
   "outputs": [],
   "source": [
    "waves = np.linspace(3750, 11000)"
   ]
  },
  {
   "cell_type": "code",
   "execution_count": null,
   "metadata": {},
   "outputs": [],
   "source": [
    "CCM = np.zeros(len(waves))\n",
    "CCMtest = np.zeros(len(waves))"
   ]
  },
  {
   "cell_type": "code",
   "execution_count": null,
   "metadata": {},
   "outputs": [],
   "source": [
    "f_lambda_at_Hbeta = mfr.f_lambda_avg_interp(4862.721)\n",
    "AHbeta_AV = mfr.reddening_coefficient(4862.721)\n",
    "SMC = (mfr.f_lambda_avg_interp(waves) / f_lambda_at_Hbeta ) - 1.           \n",
    "for w in range(len(waves)):\n",
    "    CCM[w] = mfr.reddening_coefficient(waves[w]) - 1.  \n",
    "    CCMtest[w] = (mfr.reddening_coefficient(waves[w]) / AHbeta_AV ) - 1.   "
   ]
  },
  {
   "cell_type": "code",
   "execution_count": null,
   "metadata": {},
   "outputs": [],
   "source": [
    "plt.plot(waves, SMC, label='SMC')\n",
    "plt.plot(waves, CCM, label=r'CCM, to A$_{V}$')\n",
    "plt.plot(waves, CCMtest, label='CCM, to Hbeta')\n",
    "plt.xlabel(r'Wavelength ($\\textnormal{\\AA}$)')\n",
    "plt.ylabel(r'$f(\\lambda)$')\n",
    "plt.legend()\n",
    "#plt.savefig('/Users/thsyu/Dropbox/BCDs/primordial_helium/reddening_curves.pdf', overwrite=True)\n",
    "plt.show()"
   ]
  },
  {
   "cell_type": "code",
   "execution_count": null,
   "metadata": {},
   "outputs": [],
   "source": []
  }
 ],
 "metadata": {
  "kernelspec": {
   "display_name": "Python 3",
   "language": "python",
   "name": "python3"
  },
  "language_info": {
   "codemirror_mode": {
    "name": "ipython",
    "version": 3
   },
   "file_extension": ".py",
   "mimetype": "text/x-python",
   "name": "python",
   "nbconvert_exporter": "python",
   "pygments_lexer": "ipython3",
   "version": "3.6.4"
  }
 },
 "nbformat": 4,
 "nbformat_minor": 2
}
