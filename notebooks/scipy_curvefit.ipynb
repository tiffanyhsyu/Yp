{
 "cells": [
  {
   "cell_type": "markdown",
   "metadata": {},
   "source": [
    "# Imports"
   ]
  },
  {
   "cell_type": "code",
   "execution_count": 1,
   "metadata": {},
   "outputs": [],
   "source": [
    "import os\n",
    "import numpy as np\n",
    "import model_flux_ratio as mfr\n",
    "\n",
    "from astropy.table import Table\n",
    "from scipy.optimize import curve_fit"
   ]
  },
  {
   "cell_type": "markdown",
   "metadata": {},
   "source": [
    "# Try scipy.optimize.curve_fit"
   ]
  },
  {
   "cell_type": "markdown",
   "metadata": {},
   "source": [
    "## Read in our data"
   ]
  },
  {
   "cell_type": "code",
   "execution_count": 20,
   "metadata": {},
   "outputs": [],
   "source": [
    "# Read in measured data (wavelength, flux ratios, and EWs)\n",
    "#flux_ratios = Table.read(os.getcwd()+'/test_output_flux', format='ascii', delimiter=' ')\n",
    "flux_ratios = Table.read(os.getcwd()+'/LeoP', format='ascii', delimiter=' ')\n",
    "\n",
    "# Names of wavelenghts of interest for MCMC\n",
    "y_names = ['HeI+H83890', 'HeI4027', 'Hd', 'Hg', 'HeI4472', 'Hb', 'HeI5017', 'HeI5877', 'Ha', 'HeI6679', 'HeI7067']\n",
    "\n",
    "# Input parameters for fake spectra\n",
    "input_vals = np.array([0.08, 18000, 2, 0.1, 1.0, 1.0, 1.0, 1e-2])\n",
    "\n",
    "# 'Measured' data (generated flux ratios from input parameters)\n",
    "EWs = np.array(flux_ratios['EW'])\n",
    "EW_Hb = flux_ratios['EW'][np.where(flux_ratios['Wavelength'] == 4862.721)[0]]\n",
    "\n",
    "y = np.array(flux_ratios['Flux Ratio'])\n",
    "#y_error = np.array(flux_ratios['Flux Ratio'] * 0.02)\n",
    "y_error = np.array(flux_ratios['Flux Ratio Errors'])\n",
    "x = np.zeros(y.size)"
   ]
  },
  {
   "cell_type": "markdown",
   "metadata": {},
   "source": [
    "## Emission lines of interest"
   ]
  },
  {
   "cell_type": "code",
   "execution_count": 21,
   "metadata": {},
   "outputs": [],
   "source": [
    "# Balmer and Helium lines of interest for MCMC\n",
    "balmer_lines = np.array([6564.612, 4862.721, 4341.684, 4102.891, 3890.166]) # Ha, Hb, Hg, Hd, H8\n",
    "helium_lines = np.array([7067.198, 6679.994, 5877.299, 5017.079, 4472.755, 4027.328, 3890.151])\n",
    "\n",
    "# Wavelengths we care about for MCMC\n",
    "emis_lines = np.sort(np.concatenate((balmer_lines, helium_lines)))[1:] # [1:] to remove the duplicate ~3890 wavelength"
   ]
  },
  {
   "cell_type": "markdown",
   "metadata": {},
   "source": [
    "## Range of parameters"
   ]
  },
  {
   "cell_type": "code",
   "execution_count": 22,
   "metadata": {},
   "outputs": [],
   "source": [
    "# Range of values for 8 parameters: y_plus, temp, dens, c_Hb, a_H, a_He, tau_He, n_HI\n",
    "min_y_plus, max_y_plus = 0.05, 0.1  # fraction of singly ionized He; y+ = He+/H+\n",
    "min_temp, max_temp = 5000, 25000  # electron temperature (K)\n",
    "min_log_dens, max_log_dens = 0, 3  # log10(electron density) (cm^-3)\n",
    "min_c_Hb, max_c_Hb = 0, 0.5  # reddening\n",
    "min_a_H, max_a_H = 0, 10  # underlying stellar H absorption (Angstroms)\n",
    "min_a_He, max_a_He = 0, 4  # underlying stellar HeI absorption (Angstroms)\n",
    "min_tau_He, max_tau_He = 0, 5  # optical depth; range of values from Izotov & Thuan 2010\n",
    "min_log_xi, max_log_xi = -6, -0.969 # ratio of neutral to singly ionized hydrogen density\n",
    "#min_n_HI, max_n_HI = 1e-4, 1e-1  # neutral hydrogen density (cm^-3)"
   ]
  },
  {
   "cell_type": "markdown",
   "metadata": {},
   "source": [
    "## Model"
   ]
  },
  {
   "cell_type": "code",
   "execution_count": 23,
   "metadata": {},
   "outputs": [],
   "source": [
    "def get_model(x, y_plus, temp, log_dens, c_Hb, a_H, a_He, tau_He, log_xi):\n",
    "\n",
    "    model_flux = np.zeros(len(x))\n",
    "    dens = 10 ** log_dens\n",
    "    xi = 10 ** log_xi\n",
    "    #xi = n_HI / dens\n",
    "\n",
    "    # Some values, calculated at Hbeta, for later use\n",
    "    collisional_to_recomb_Hbeta = mfr.hydrogen_collision_to_recomb(xi, balmer_lines[1], temp)\n",
    "    f_lambda_at_Hbeta = mfr.f_lambda_avg_interp(balmer_lines[1])\n",
    "\n",
    "    for w in range(len(emis_lines)):\n",
    "        # Determine if working with hydrogen or helium line; within 3 Angstroms is arbitrary but should cover difference in vacuum vs air wavelength\n",
    "        nearest_wave = emis_lines[np.where(np.abs(emis_lines - emis_lines[w]) < 3)[0]][0]\n",
    "        # The above line is redundant, but allows for cases where emis_lines[w] is some other array, say waves_of_interest[w], \n",
    "        # and not exactly at the wavelengths given in the emis_lines array (which is concatenated from arrays balmer_lines and helium_lines)\n",
    "\n",
    "        # Any Balmer line besides the blended HeI+H8 line (H8 at 3890.166)\n",
    "        if nearest_wave in balmer_lines and nearest_wave != 3890.166:\n",
    "            line_species = 'hydrogen'\n",
    "            \n",
    "            emissivity_ratio = mfr.hydrogen_emissivity(emis_lines[w], temp, dens)\n",
    "            a_H_at_wave = mfr.stellar_absorption(emis_lines[w], a_H, ion=line_species)            \n",
    "            collisional_to_recomb_ratio = mfr.hydrogen_collision_to_recomb(xi, emis_lines[w], temp)            \n",
    "            reddening_function = ( mfr.f_lambda_avg_interp(emis_lines[w]) / f_lambda_at_Hbeta ) - 1.            \n",
    "\n",
    "            flux = emissivity_ratio * ( ( (EW_Hb + a_H)/(EW_Hb) ) / ( (EWs[w] + a_H_at_wave)/(EWs[w]) ) ) * \\\n",
    "                    ( (1 + collisional_to_recomb_ratio) / (1 + collisional_to_recomb_Hbeta) ) * \\\n",
    "                    10**-(reddening_function * c_Hb)\n",
    "                    \n",
    "        # Any HeI line besides the blended HeI+H8 line (HeI at 3890.151)\n",
    "        elif nearest_wave in helium_lines and nearest_wave != 3890.151:\n",
    "            line_species = 'helium'\n",
    "            \n",
    "            emissivity_ratio = mfr.helium_emissivity(emis_lines[w], temp, dens)            \n",
    "            a_He_at_wave = mfr.stellar_absorption(emis_lines[w], a_He, ion=line_species)            \n",
    "            optical_depth_at_wave = mfr.optical_depth_function(emis_lines[w], temp, dens, tau_He)            \n",
    "            collisional_to_recomb_ratio = mfr.helium_collision_to_recomb(emis_lines[w], temp, dens)            \n",
    "            reddening_function = ( mfr.f_lambda_avg_interp(emis_lines[w]) / f_lambda_at_Hbeta ) - 1.\n",
    "\n",
    "            flux = y_plus * emissivity_ratio * ( ( (EW_Hb + a_H)/(EW_Hb) ) / ( (EWs[w] + a_He_at_wave)/(EWs[w]) ) ) * \\\n",
    "                    optical_depth_at_wave * ( (1 + collisional_to_recomb_ratio) / (1 + collisional_to_recomb_Hbeta) ) * \\\n",
    "                    10**-(reddening_function * c_Hb)\n",
    "        \n",
    "        # The blended HeI+H8 line\n",
    "        elif nearest_wave == 3890.151 or nearest_wave == 3890.166:\n",
    "            # HeI 3890.151 contribution:\n",
    "            line_species = 'helium'\n",
    "            \n",
    "            emissivity_ratio = mfr.helium_emissivity(emis_lines[w], temp, dens)\n",
    "            a_He_at_wave = mfr.stellar_absorption(emis_lines[w], a_He, ion=line_species)            \n",
    "            optical_depth_at_wave = mfr.optical_depth_function(emis_lines[w], temp, dens, tau_He)            \n",
    "            collisional_to_recomb_ratio = mfr.helium_collision_to_recomb(emis_lines[w], temp, dens)            \n",
    "            reddening_function = ( mfr.f_lambda_avg_interp(emis_lines[w]) / f_lambda_at_Hbeta ) - 1.\n",
    "\n",
    "            flux = y_plus * emissivity_ratio * ( ( (EW_Hb + a_H)/(EW_Hb) ) / ( (EWs[w] + a_He_at_wave)/(EWs[w]) ) ) * \\\n",
    "                    optical_depth_at_wave * ( (1 + collisional_to_recomb_ratio) / (1 + collisional_to_recomb_Hbeta) ) * \\\n",
    "                    10**-(reddening_function * c_Hb)\n",
    "                    \n",
    "            # H8 contribution:\n",
    "            line_species = 'hydrogen'\n",
    "\n",
    "            emissivity_ratio = mfr.hydrogen_emissivity(emis_lines[w], temp, dens)\n",
    "            a_H_at_wave = mfr.stellar_absorption(emis_lines[w], a_H, ion=line_species)            \n",
    "            collisional_to_recomb_factor = np.exp(( -13.6 * ((1/5**2)-(1/8**2)) ) / (8.6173303e-5 * temp)) # scale factor for going from C/R(Hg) to C/R(H8)\n",
    "            collisional_to_recomb_ratio = collisional_to_recomb_factor * mfr.hydrogen_collision_to_recomb(xi, 4341.684, temp) # Calculate C/R(Hg) and multiply by above scale factor\n",
    "            reddening_function = ( mfr.f_lambda_avg_interp(emis_lines[w]) / f_lambda_at_Hbeta ) - 1.            \n",
    "\n",
    "            flux += emissivity_ratio * ( ( (EW_Hb + a_H)/(EW_Hb) ) / ( (EWs[w] + a_H_at_wave)/(EWs[w]) ) ) * \\\n",
    "                    ( (1 + collisional_to_recomb_ratio) / (1 + collisional_to_recomb_Hbeta) ) * \\\n",
    "                    10**-(reddening_function * c_Hb)\n",
    "\n",
    "        model_flux[w] = flux\n",
    "\n",
    "    return model_flux"
   ]
  },
  {
   "cell_type": "markdown",
   "metadata": {},
   "source": [
    "## Initial guess"
   ]
  },
  {
   "cell_type": "code",
   "execution_count": 28,
   "metadata": {},
   "outputs": [
    {
     "name": "stdout",
     "output_type": "stream",
     "text": [
      "Initial guess: [0.05120661096825288, 6812.780016700919, 0.11749559932599118, 0.44705425528287007, 8.199054459031519, 3.4256279902779, 1.1733335082243785, -3.467519431952725]\n"
     ]
    }
   ],
   "source": [
    "pos = [np.random.uniform(min_y_plus, max_y_plus), np.random.uniform(min_temp, max_temp), \\\n",
    "                np.random.uniform(min_log_dens, max_log_dens), np.random.uniform(min_c_Hb, max_c_Hb), \\\n",
    "                np.random.uniform(min_a_H, max_a_H), np.random.uniform(min_a_He, max_a_He), \\\n",
    "                np.random.uniform(min_tau_He, max_tau_He), np.random.uniform(min_log_xi, max_log_xi)]\n",
    "\n",
    "print ('Initial guess:', pos)"
   ]
  },
  {
   "cell_type": "code",
   "execution_count": 29,
   "metadata": {},
   "outputs": [
    {
     "name": "stdout",
     "output_type": "stream",
     "text": [
      "Flux ratios from initial positions: [9.36097175e-02 1.89586642e-03 1.75003296e-01 3.70499772e-01\n",
      " 1.42638802e-02 1.00000000e+00 9.08794123e-03 9.11298293e-02\n",
      " 4.28935349e+00 2.87258251e-02 1.79053224e-02]\n"
     ]
    }
   ],
   "source": [
    "test_model = get_model(x, pos[0], pos[1], pos[2], pos[3], pos[4], pos[5], pos[6], pos[7])\n",
    "\n",
    "print ('Flux ratios from initial positions:', test_model)"
   ]
  },
  {
   "cell_type": "markdown",
   "metadata": {},
   "source": [
    "## curve_fit"
   ]
  },
  {
   "cell_type": "code",
   "execution_count": 35,
   "metadata": {},
   "outputs": [],
   "source": [
    "best_params, covar = curve_fit(get_model, x, y, p0=pos, sigma=y_error, \\\n",
    "                        bounds=((min_y_plus, min_temp, min_log_dens, min_c_Hb, min_a_H, min_a_He, min_tau_He, min_log_xi), \\\n",
    "                        (max_y_plus, max_temp, max_log_dens, max_c_Hb, max_a_H, max_a_He, max_tau_He, max_log_xi)))"
   ]
  },
  {
   "cell_type": "code",
   "execution_count": 36,
   "metadata": {},
   "outputs": [
    {
     "data": {
      "text/plain": [
       "array([ 7.86460406e-02,  1.43074730e+04,  3.54539939e-01,  6.65236987e-02,\n",
       "        2.40383108e+00,  4.03378600e-01,  9.36280761e-01, -5.83369919e+00])"
      ]
     },
     "execution_count": 36,
     "metadata": {},
     "output_type": "execute_result"
    }
   ],
   "source": [
    "best_params"
   ]
  },
  {
   "cell_type": "markdown",
   "metadata": {},
   "source": [
    "# Flux ratios from best fit parameters"
   ]
  },
  {
   "cell_type": "code",
   "execution_count": 37,
   "metadata": {},
   "outputs": [],
   "source": [
    "best_fit_model = get_model(x, best_params[0], best_params[1], best_params[2], best_params[3], \\\n",
    "                       best_params[4], best_params[5], best_params[6], best_params[7])\n",
    "\n"
   ]
  },
  {
   "cell_type": "code",
   "execution_count": 38,
   "metadata": {},
   "outputs": [
    {
     "data": {
      "text/html": [
       "&lt;Column name=&apos;Flux Ratio&apos; dtype=&apos;float64&apos; length=11&gt;\n",
       "<table>\n",
       "<tr><td>0.0008515134941122215</td></tr>\n",
       "<tr><td>0.0005144732384681772</td></tr>\n",
       "<tr><td>-0.0068605535158415</td></tr>\n",
       "<tr><td>0.018993374200058588</td></tr>\n",
       "<tr><td>0.0012968114588568294</td></tr>\n",
       "<tr><td>0.0</td></tr>\n",
       "<tr><td>-0.003982112914470915</td></tr>\n",
       "<tr><td>0.00010381254565729192</td></tr>\n",
       "<tr><td>0.024698503638293623</td></tr>\n",
       "<tr><td>-0.0004984489168539455</td></tr>\n",
       "<tr><td>0.0002035779001764021</td></tr>\n",
       "</table>"
      ],
      "text/plain": [
       "<Column name='Flux Ratio' dtype='float64' length=11>\n",
       " 0.0008515134941122215\n",
       " 0.0005144732384681772\n",
       "   -0.0068605535158415\n",
       "  0.018993374200058588\n",
       " 0.0012968114588568294\n",
       "                   0.0\n",
       " -0.003982112914470915\n",
       "0.00010381254565729192\n",
       "  0.024698503638293623\n",
       "-0.0004984489168539455\n",
       " 0.0002035779001764021"
      ]
     },
     "execution_count": 38,
     "metadata": {},
     "output_type": "execute_result"
    }
   ],
   "source": [
    "best_fit_model - flux_ratios['Flux Ratio']"
   ]
  },
  {
   "cell_type": "code",
   "execution_count": 39,
   "metadata": {},
   "outputs": [
    {
     "data": {
      "text/plain": [
       "array([0.17585151, 0.01151447, 0.23913945, 0.44999337, 0.03429681,\n",
       "       1.        , 0.02201789, 0.10310381, 2.9736985 , 0.02950155,\n",
       "       0.02520358])"
      ]
     },
     "execution_count": 39,
     "metadata": {},
     "output_type": "execute_result"
    }
   ],
   "source": [
    "best_fit_model"
   ]
  },
  {
   "cell_type": "code",
   "execution_count": null,
   "metadata": {},
   "outputs": [],
   "source": []
  },
  {
   "cell_type": "code",
   "execution_count": null,
   "metadata": {},
   "outputs": [],
   "source": []
  }
 ],
 "metadata": {
  "kernelspec": {
   "display_name": "Python 3",
   "language": "python",
   "name": "python3"
  },
  "language_info": {
   "codemirror_mode": {
    "name": "ipython",
    "version": 3
   },
   "file_extension": ".py",
   "mimetype": "text/x-python",
   "name": "python",
   "nbconvert_exporter": "python",
   "pygments_lexer": "ipython3",
   "version": "3.6.4"
  }
 },
 "nbformat": 4,
 "nbformat_minor": 2
}
