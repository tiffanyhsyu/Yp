{
 "cells": [
  {
   "cell_type": "markdown",
   "metadata": {},
   "source": [
    "# Imports"
   ]
  },
  {
   "cell_type": "code",
   "execution_count": 3,
   "metadata": {},
   "outputs": [],
   "source": [
    "import fileinput\n",
    "import numpy as np\n",
    "import shutil\n",
    "\n",
    "from astropy.table import Column\n",
    "from astropy.table import Table\n",
    "\n",
    "import corner\n",
    "#import model_flux_ratio as mfr"
   ]
  },
  {
   "cell_type": "code",
   "execution_count": 2,
   "metadata": {},
   "outputs": [
    {
     "name": "stdout",
     "output_type": "stream",
     "text": [
      "/Users/thsyu/Software/Yp/test_data\n"
     ]
    }
   ],
   "source": [
    "import os\n",
    "\n",
    "print (os.getcwd())"
   ]
  },
  {
   "cell_type": "markdown",
   "metadata": {},
   "source": [
    "# Input Flux Table"
   ]
  },
  {
   "cell_type": "markdown",
   "metadata": {},
   "source": [
    "## Optical"
   ]
  },
  {
   "cell_type": "markdown",
   "metadata": {},
   "source": [
    "### Read in Erik Aver's table"
   ]
  },
  {
   "cell_type": "code",
   "execution_count": 4,
   "metadata": {},
   "outputs": [],
   "source": [
    "aos2015 = Table.read('/Users/thsyu/Software/Yp/test_data/aos2015_systems.txt', format='ascii', delimiter='\\t')"
   ]
  },
  {
   "cell_type": "code",
   "execution_count": 7,
   "metadata": {},
   "outputs": [
    {
     "data": {
      "text/html": [
       "<i>Table length=3</i>\n",
       "<table id=\"table4644768904\" class=\"table-striped table-bordered table-condensed\">\n",
       "<thead><tr><th>Object</th><th>[O II] 3727</th><th>[O II] 3727Flux Error</th><th>[O II] 3727EW</th><th>H8+He I 3889</th><th>H8+He I 3889Flux Error</th><th>H8+He I 3889EW</th><th>He I 4026</th><th>He I 4026Flux Error</th><th>He I 4026EW</th><th>Hd  4102</th><th>Hd  4102Flux Error</th><th>Hd  4102EW</th><th>Hg 4340</th><th>Hg 4340Flux Error</th><th>Hg 4340EW</th><th>[O III] 4363</th><th>[O III] 4363Flux Error</th><th>[O III] 4363EW</th><th>He I 4471</th><th>He I 4471Flux Error</th><th>He I 4471EW</th><th>He II 4686</th><th>He II 4686Flux Error</th><th>He II 4686EW</th><th>Hb  4861</th><th>Hb  4861Flux Error</th><th>Hb  4861EW</th><th>[O III] 4959</th><th>[O III] 4959Flux Error</th><th>[O III] 4959EW</th><th>[O III] 5007</th><th>[O III] 5007Flux Error</th><th>[O III] 5007EW</th><th>He I 5876</th><th>He I 5876Flux Error</th><th>He I 5876EW</th><th>Ha  6563</th><th>Ha  6563Flux Error</th><th>Ha  6563EW</th><th>He I 6678</th><th>He I 6678Flux Error</th><th>He I 6678EW</th><th>He I 7065</th><th>He I 7065Flux Error</th><th>He I 7065EW</th><th>[O II] 7320</th><th>[O II] 7320Flux Error</th><th>[O II] 7320EW</th><th>[O II] 7330</th><th>[O II] 7330Flux Error</th><th>[O II] 7330EW</th></tr></thead>\n",
       "<thead><tr><th>str23</th><th>float64</th><th>float64</th><th>float64</th><th>float64</th><th>float64</th><th>float64</th><th>float64</th><th>float64</th><th>float64</th><th>float64</th><th>float64</th><th>float64</th><th>float64</th><th>float64</th><th>float64</th><th>float64</th><th>float64</th><th>float64</th><th>float64</th><th>float64</th><th>float64</th><th>float64</th><th>float64</th><th>float64</th><th>int64</th><th>float64</th><th>float64</th><th>float64</th><th>float64</th><th>float64</th><th>float64</th><th>float64</th><th>float64</th><th>float64</th><th>float64</th><th>float64</th><th>float64</th><th>float64</th><th>float64</th><th>float64</th><th>float64</th><th>float64</th><th>float64</th><th>float64</th><th>float64</th><th>float64</th><th>float64</th><th>float64</th><th>float64</th><th>float64</th><th>float64</th></tr></thead>\n",
       "<tr><td>CGCG 007-025 (No.  1)</td><td>0.887</td><td>0.013</td><td>127.8</td><td>0.176</td><td>0.003</td><td>26.3</td><td>0.015</td><td>0.001</td><td>2.6</td><td>0.237</td><td>0.004</td><td>42.8</td><td>0.47</td><td>0.007</td><td>100.4</td><td>0.119</td><td>0.002</td><td>25.7</td><td>0.035</td><td>0.001</td><td>8.1</td><td>0.013</td><td>0.001</td><td>3.4</td><td>1</td><td>0.01</td><td>270.2</td><td>1.858</td><td>0.027</td><td>535.6</td><td>5.642</td><td>0.08</td><td>1633.0</td><td>0.122</td><td>0.002</td><td>47.4</td><td>3.499</td><td>0.05</td><td>1544.0</td><td>0.036</td><td>0.001</td><td>15.8</td><td>0.04</td><td>0.001</td><td>20.4</td><td>0.016</td><td>0.001</td><td>9.1</td><td>0.013</td><td>0.001</td><td>7.6</td></tr>\n",
       "<tr><td>CGCG 007-025 (No.  2)</td><td>1.352</td><td>0.023</td><td>131.0</td><td>0.167</td><td>0.005</td><td>21.7</td><td>0.015</td><td>0.002</td><td>1.8</td><td>0.249</td><td>0.005</td><td>32.8</td><td>0.457</td><td>0.008</td><td>72.3</td><td>0.102</td><td>0.003</td><td>16.5</td><td>0.034</td><td>0.002</td><td>5.9</td><td>0.008</td><td>0.001</td><td>1.6</td><td>1</td><td>0.011</td><td>204.3</td><td>1.512</td><td>0.023</td><td>308.8</td><td>4.634</td><td>0.068</td><td>952.1</td><td>0.111</td><td>0.002</td><td>34.0</td><td>3.257</td><td>0.048</td><td>1152.0</td><td>0.033</td><td>0.002</td><td>12.1</td><td>0.03</td><td>0.002</td><td>12.5</td><td>0.0</td><td>0.0</td><td>0.0</td><td>0.0</td><td>0.0</td><td>0.0</td></tr>\n",
       "<tr><td>Mrk  35</td><td>2.11</td><td>0.03</td><td>162.9</td><td>0.167</td><td>0.003</td><td>13.2</td><td>0.019</td><td>0.001</td><td>1.6</td><td>0.244</td><td>0.004</td><td>23.0</td><td>0.453</td><td>0.007</td><td>50.8</td><td>0.025</td><td>0.001</td><td>2.9</td><td>0.039</td><td>0.001</td><td>4.8</td><td>0.0</td><td>0.0</td><td>0.0</td><td>1</td><td>0.01</td><td>153.0</td><td>1.341</td><td>0.019</td><td>215.9</td><td>4.134</td><td>0.059</td><td>681.9</td><td>0.13</td><td>0.002</td><td>30.3</td><td>3.477</td><td>0.049</td><td>919.1</td><td>0.041</td><td>0.001</td><td>11.6</td><td>0.035</td><td>0.001</td><td>10.6</td><td>0.032</td><td>0.001</td><td>10.2</td><td>0.028</td><td>0.001</td><td>8.7</td></tr>\n",
       "</table>"
      ],
      "text/plain": [
       "<Table length=3>\n",
       "        Object        [O II] 3727 ... [O II] 7330Flux Error [O II] 7330EW\n",
       "        str23           float64   ...        float64           float64   \n",
       "--------------------- ----------- ... --------------------- -------------\n",
       "CGCG 007-025 (No.  1)       0.887 ...                 0.001           7.6\n",
       "CGCG 007-025 (No.  2)       1.352 ...                   0.0           0.0\n",
       "              Mrk  35        2.11 ...                 0.001           8.7"
      ]
     },
     "execution_count": 7,
     "metadata": {},
     "output_type": "execute_result"
    }
   ],
   "source": [
    "aos2015[0:3]"
   ]
  },
  {
   "cell_type": "markdown",
   "metadata": {},
   "source": [
    "### Pull fluxes from qualifying systems and write file"
   ]
  },
  {
   "cell_type": "code",
   "execution_count": 11,
   "metadata": {},
   "outputs": [],
   "source": [
    "# Names of systems in AOS2015 that \"qualified\" for helium abundance measurements\n",
    "qualifying = ['CGCG 007-025 (No.  2)', 'I Zw 18 SE 1', 'Mrk  209', 'Mrk  450 (No.  1)', 'Mrk  71 (No.  1)', \\\n",
    "             'SBS 0335-052E1', 'SBS 0335-052E3', 'SBS 0940+544 2', 'SBS 1030+583', 'SBS 1135+581', \\\n",
    "             'SBS 1152+579', 'Mrk  59', 'SBS 1415+437 (No.  2)', 'SBS 1415+437 (No.  1) 3', 'Tol 65']"
   ]
  },
  {
   "cell_type": "code",
   "execution_count": 12,
   "metadata": {},
   "outputs": [
    {
     "name": "stdout",
     "output_type": "stream",
     "text": [
      "15\n"
     ]
    }
   ],
   "source": [
    "print (len(qualifying))"
   ]
  },
  {
   "cell_type": "code",
   "execution_count": 7,
   "metadata": {},
   "outputs": [
    {
     "name": "stdout",
     "output_type": "stream",
     "text": [
      "Working on  CGCG007025No2\n",
      "Working on  IZw18SE1\n",
      "Working on  Mrk209\n",
      "Working on  Mrk450No1\n",
      "Working on  Mrk71No1\n",
      "Working on  SBS0335052E1\n",
      "Working on  SBS0335052E3\n",
      "Working on  SBS0940+5442\n",
      "Working on  SBS1030+583\n",
      "Working on  SBS1135+581\n",
      "Working on  SBS1152+579\n",
      "Working on  Mrk59\n",
      "Working on  SBS1415+437No2\n",
      "Working on  SBS1415+437No13\n",
      "Working on  Tol65\n"
     ]
    },
    {
     "name": "stderr",
     "output_type": "stream",
     "text": [
      "/Users/thsyu/.pyenv/versions/anaconda3-5.1.0/lib/python3.6/site-packages/ipykernel_launcher.py:12: RuntimeWarning: invalid value encountered in true_divide\n",
      "  if sys.path[0] == '':\n"
     ]
    }
   ],
   "source": [
    "for obj in range(len(qualifying)):\n",
    "    idx = np.where(aos2015['Object'] == qualifying[obj])[0]\n",
    "    name = str(qualifying[obj].replace(' ', '').replace('(','').replace('-', '').replace(')','').replace('.', ''))\n",
    "    \n",
    "    print ('Working on ', name)\n",
    "    targ_table = Table()\n",
    "    targ_table['Wavelength'] = Column([3890.166, 4027.328, 4102.891, 4341.684, 4472.755, 4862.721, 5877.299, 6564.612, 6679.994, 7067.198])\n",
    "    targ_table['Species'] = Column(['hydrogen+helium', 'helium', 'hydrogen', 'hydrogen', 'helium', 'hydrogen', 'helium', 'hydrogen', 'helium', 'helium'])\n",
    "    targ_table['Flux Ratio'] = Column([float(aos2015['H8+He I 3889'][idx]), float(aos2015['He I 4026'][idx]), float(aos2015['Hd  4102'][idx]), \\\n",
    "                                       float(aos2015['Hg 4340'][idx]), float(aos2015['He I 4471'][idx]), float(aos2015['Hb  4861'][idx]), \\\n",
    "                                       float(aos2015['He I 5876'][idx]), float(aos2015['Ha  6563'][idx]), float(aos2015['He I 6678'][idx]), \\\n",
    "                                       float(aos2015['He I 7065'][idx])])\n",
    "    targ_table['Flux Ratio Errors'] = Column([float(aos2015['H8+He I 3889Flux Error'][idx]), float(aos2015['He I 4026Flux Error'][idx]), float(aos2015['Hd  4102Flux Error'][idx]), \\\n",
    "                                       float(aos2015['Hg 4340Flux Error'][idx]), float(aos2015['He I 4471Flux Error'][idx]), float(aos2015['Hb  4861Flux Error'][idx]), \\\n",
    "                                       float(aos2015['He I 5876Flux Error'][idx]), float(aos2015['Ha  6563Flux Error'][idx]), float(aos2015['He I 6678Flux Error'][idx]), \\\n",
    "                                       float(aos2015['He I 7065Flux Error'][idx])])\n",
    "    targ_table['EW'] = Column([float(aos2015['H8+He I 3889EW'][idx]), float(aos2015['He I 4026EW'][idx]), float(aos2015['Hd  4102EW'][idx]), \\\n",
    "                                      float(aos2015['Hg 4340EW'][idx]), float(aos2015['He I 4471EW'][idx]), float(aos2015['Hb  4861EW'][idx]), \\\n",
    "                                       float(aos2015['He I 5876EW'][idx]), float(aos2015['Ha  6563EW'][idx]), float(aos2015['He I 6678EW'][idx]), \\\n",
    "                                       float(aos2015['He I 7065EW'][idx])])\n",
    "    targ_table['EW Errors'] = targ_table['Flux Ratio Errors'] * targ_table['EW'] / targ_table['Flux Ratio']\n",
    "    \n",
    "#    targ_table.write('/Users/thsyu/Software/Yp/test_data/' + name, format='ascii', overwrite=True)\n"
   ]
  },
  {
   "cell_type": "markdown",
   "metadata": {},
   "source": [
    "## Optical+NIR"
   ]
  },
  {
   "cell_type": "code",
   "execution_count": 24,
   "metadata": {},
   "outputs": [],
   "source": [
    "itg2014 = Table.read('/Users/thsyu/Software/Yp/test_data/HeBCD_NIR', format='ascii', delimiter=' ')"
   ]
  },
  {
   "cell_type": "code",
   "execution_count": 29,
   "metadata": {},
   "outputs": [
    {
     "data": {
      "text/html": [
       "<i>Row index=16</i>\n",
       "<table id=\"table4648270032\">\n",
       "<thead><tr><th>Object</th><th>HeI10830Flux</th><th>HeI10830Flux_Error</th><th>HeI10830EW</th><th>HeI10830EW_Error</th><th>Pg10940Flux</th><th>Pg10940Flux_Error</th><th>Pg10940EW</th><th>Pg10940EW_Error</th><th>Flux_Ratio</th><th>Flux_Ratio_Error</th><th>Telescope</th></tr></thead>\n",
       "<thead><tr><th>str14</th><th>float64</th><th>float64</th><th>int64</th><th>int64</th><th>float64</th><th>float64</th><th>int64</th><th>int64</th><th>float64</th><th>float64</th><th>str18</th></tr></thead>\n",
       "<tr><td>Mrk71No1</td><td>2055.0</td><td>2.2</td><td>978</td><td>1</td><td>573.2</td><td>1.4</td><td>313</td><td>1</td><td>3.59</td><td>0.01</td><td>3.5mAPO/Triplespec</td></tr>\n",
       "</table>"
      ],
      "text/plain": [
       "<Row index=16>\n",
       " Object  HeI10830Flux HeI10830Flux_Error HeI10830EW HeI10830EW_Error Pg10940Flux Pg10940Flux_Error Pg10940EW Pg10940EW_Error Flux_Ratio Flux_Ratio_Error     Telescope     \n",
       " str14     float64         float64         int64         int64         float64        float64        int64        int64       float64       float64            str18       \n",
       "-------- ------------ ------------------ ---------- ---------------- ----------- ----------------- --------- --------------- ---------- ---------------- ------------------\n",
       "Mrk71No1       2055.0                2.2        978                1       573.2               1.4       313               1       3.59             0.01 3.5mAPO/Triplespec"
      ]
     },
     "execution_count": 29,
     "metadata": {},
     "output_type": "execute_result"
    }
   ],
   "source": [
    "itg2014[16]"
   ]
  },
  {
   "cell_type": "markdown",
   "metadata": {},
   "source": [
    "### Check how they calculate Flux Ratio"
   ]
  },
  {
   "cell_type": "code",
   "execution_count": 26,
   "metadata": {},
   "outputs": [
    {
     "name": "stdout",
     "output_type": "stream",
     "text": [
      "3.685503685503685\n",
      "0.019656019656019656\n"
     ]
    }
   ],
   "source": [
    "print (itg2014['HeI10830Flux'][0]/itg2014['Pg10940Flux'][0]) # gives same value as 'Flux Ratio'\n",
    "print (itg2014['HeI10830Flux_Error'][0]/itg2014['Pg10940Flux'][0])"
   ]
  },
  {
   "cell_type": "code",
   "execution_count": 30,
   "metadata": {},
   "outputs": [
    {
     "name": "stdout",
     "output_type": "stream",
     "text": [
      "CGCG007025No2 CGCG007025No2\n",
      "IZw18SE1 IZw18SE1\n",
      "Mrk209 Mrk209\n",
      "Mrk450No1 Mrk450No1\n",
      "Mrk71No1 Mrk71No1\n",
      "SBS0335052E1 -- need to weight combine\n",
      "SBS0335052E3 -- need to weight combine\n",
      "SBS0940+5442 SBS0940+5442\n",
      "SBS1030+583 SBS1030+583\n",
      "SBS1135+581 SBS1135+581\n",
      "SBS1152+579 SBS1152+579\n",
      "Mrk59 Mrk59\n",
      "SBS1415+437No2 -- need to weight combine\n",
      "SBS1415+437No13 -- need to weight combine\n",
      "Tol65 Tol65\n"
     ]
    }
   ],
   "source": [
    "for i in range(len(qualifying)):\n",
    "    name = str(qualifying[i].replace(' ', '').replace('(','').replace('-', '').replace(')','').replace('.', ''))\n",
    "    obj = np.where(aos2015['Object'] == qualifying[i])[0][0]\n",
    "    idx = np.where(itg2014['Object'] == name)[0]\n",
    "    \n",
    "    if idx.size != 0:\n",
    "        print (name, itg2014['Object'][idx][0])\n",
    "    elif idx.size == 0:\n",
    "        print (name, '-- need to weight combine')"
   ]
  },
  {
   "cell_type": "code",
   "execution_count": 16,
   "metadata": {},
   "outputs": [
    {
     "name": "stdout",
     "output_type": "stream",
     "text": [
      "Working on  CGCG007025No2\n",
      "Working on  IZw18SE1\n",
      "Working on  Mrk209\n",
      "Working on  Mrk450No1\n",
      "Working on  Mrk71No1\n",
      "Working on  SBS0940+5442\n",
      "Working on  SBS1030+583\n",
      "Working on  SBS1135+581\n",
      "Working on  SBS1152+579\n",
      "Working on  Mrk59\n",
      "Working on  Tol65\n"
     ]
    },
    {
     "name": "stderr",
     "output_type": "stream",
     "text": [
      "/Users/thsyu/.pyenv/versions/anaconda3-5.1.0/lib/python3.6/site-packages/ipykernel_launcher.py:14: RuntimeWarning: invalid value encountered in true_divide\n",
      "  \n"
     ]
    }
   ],
   "source": [
    "for i in range(len(qualifying)):\n",
    "    name = str(qualifying[i].replace(' ', '').replace('(','').replace('-', '').replace(')','').replace('.', ''))\n",
    "    obj = np.where(aos2015['Object'] == qualifying[i])[0]\n",
    "    idx = np.where(itg2014['Object'] == name)[0]\n",
    "    \n",
    "    if idx.size != 0:\n",
    "        print ('Working on ', name)\n",
    "        targ_table = Table()\n",
    "        targ_table['Wavelength'] = Column([3890.166, 4027.328, 4102.891, 4341.684, 4472.755, 4862.721, 5877.299, 6564.612, 6679.994, 7067.198, 10833.306, 10941.082])\n",
    "        targ_table['Species'] = Column(['hydrogen+helium', 'helium', 'hydrogen', 'hydrogen', 'helium', 'hydrogen', 'helium', 'hydrogen', 'helium', 'helium', 'helium', 'hydrogen'])\n",
    "        targ_table['Flux Ratio'] = Column([float(aos2015['H8+He I 3889'][obj]), float(aos2015['He I 4026'][obj]), float(aos2015['Hd  4102'][obj]), \\\n",
    "                                           float(aos2015['Hg 4340'][obj]), float(aos2015['He I 4471'][obj]), float(aos2015['Hb  4861'][obj]), \\\n",
    "                                           float(aos2015['He I 5876'][obj]), float(aos2015['Ha  6563'][obj]), float(aos2015['He I 6678'][obj]), \\\n",
    "                                           float(aos2015['He I 7065'][obj]), float(itg2014['Flux_Ratio'][idx]), float(0)])\n",
    "        targ_table['Flux Ratio Errors'] = Column([float(aos2015['H8+He I 3889Flux Error'][obj]), float(aos2015['He I 4026Flux Error'][obj]), float(aos2015['Hd  4102Flux Error'][obj]), \\\n",
    "                                           float(aos2015['Hg 4340Flux Error'][obj]), float(aos2015['He I 4471Flux Error'][obj]), float(aos2015['Hb  4861Flux Error'][obj]), \\\n",
    "                                           float(aos2015['He I 5876Flux Error'][obj]), float(aos2015['Ha  6563Flux Error'][obj]), float(aos2015['He I 6678Flux Error'][obj]), \\\n",
    "                                           float(aos2015['He I 7065Flux Error'][obj]), float(itg2014['Flux_Ratio_Error'][idx]), float(0)])\n",
    "        targ_table['EW'] = Column([float(aos2015['H8+He I 3889EW'][obj]), float(aos2015['He I 4026EW'][obj]), float(aos2015['Hd  4102EW'][obj]), \\\n",
    "                                          float(aos2015['Hg 4340EW'][obj]), float(aos2015['He I 4471EW'][obj]), float(aos2015['Hb  4861EW'][obj]), \\\n",
    "                                           float(aos2015['He I 5876EW'][obj]), float(aos2015['Ha  6563EW'][obj]), float(aos2015['He I 6678EW'][obj]), \\\n",
    "                                           float(aos2015['He I 7065EW'][obj]), float(itg2014['HeI10830EW'][idx]), float(itg2014['Pg10940EW'][idx])])\n",
    "        targ_table['EW Errors'] = targ_table['Flux Ratio Errors'] * targ_table['EW'] / targ_table['Flux Ratio']\n",
    "        # For HeI10830: 'Flux Ratio' is F(HeI10830)/F(Pg), 'Flux Ratio Errors' is error in that flux ratio\n",
    "        #               'EW' is HeI10830 EW, 'EW Errors' is measured HeI10830 EW Error (not scaled up from flux error, like with optical lines)\n",
    "        # For Pg10940: 'Flux Ratio' is 0.0, 'Flux Ratio Errors' is 0.0\n",
    "        #               'EW' is Pg10940 EW, 'EW Errors' is measured Pg10940 EW Error (not scaled up from flux error, like with optical lines)\n",
    "        targ_table['EW Errors'][-2] = float(itg2014['HeI10830EW_Error'][idx])\n",
    "        targ_table['EW Errors'][-1] = float(itg2014['Pg10940EW_Error'][idx])\n",
    "        \n",
    "        targ_table.write('/Users/thsyu/Software/Yp/test_data/' + name + '_nir', format='ascii', overwrite=True)"
   ]
  },
  {
   "cell_type": "code",
   "execution_count": 45,
   "metadata": {},
   "outputs": [],
   "source": [
    "full_tbl = Table.read('/Users/thsyu/Software/Yp/test_data/optical+nir/IZw18SE1_nir', format='ascii', delimiter=' ')\n",
    "flux_ratios = full_tbl[:-1]"
   ]
  },
  {
   "cell_type": "code",
   "execution_count": 47,
   "metadata": {},
   "outputs": [
    {
     "data": {
      "text/html": [
       "<i>Table length=11</i>\n",
       "<table id=\"table4883536528\" class=\"table-striped table-bordered table-condensed\">\n",
       "<thead><tr><th>Wavelength</th><th>Species</th><th>Flux Ratio</th><th>Flux Ratio Errors</th><th>EW</th><th>EW Errors</th></tr></thead>\n",
       "<thead><tr><th>float64</th><th>str15</th><th>float64</th><th>float64</th><th>float64</th><th>float64</th></tr></thead>\n",
       "<tr><td>3890.166</td><td>hydrogen+helium</td><td>0.157</td><td>0.004</td><td>12.6</td><td>0.32101910828025476</td></tr>\n",
       "<tr><td>4027.328</td><td>helium</td><td>0.015</td><td>0.004</td><td>1.3</td><td>0.34666666666666673</td></tr>\n",
       "<tr><td>4102.891</td><td>hydrogen</td><td>0.233</td><td>0.005</td><td>21.0</td><td>0.4506437768240343</td></tr>\n",
       "<tr><td>4341.684</td><td>hydrogen</td><td>0.449</td><td>0.008</td><td>48.2</td><td>0.8587973273942094</td></tr>\n",
       "<tr><td>4472.755</td><td>helium</td><td>0.035</td><td>0.003</td><td>3.8</td><td>0.3257142857142857</td></tr>\n",
       "<tr><td>4862.721</td><td>hydrogen</td><td>1.0</td><td>0.012</td><td>135.6</td><td>1.6272</td></tr>\n",
       "<tr><td>5877.299</td><td>helium</td><td>0.097</td><td>0.003</td><td>21.3</td><td>0.6587628865979381</td></tr>\n",
       "<tr><td>6564.612</td><td>hydrogen</td><td>2.837</td><td>0.044</td><td>802.6</td><td>12.447796968628833</td></tr>\n",
       "<tr><td>6679.994</td><td>helium</td><td>0.027</td><td>0.002</td><td>8.2</td><td>0.6074074074074073</td></tr>\n",
       "<tr><td>7067.198</td><td>helium</td><td>0.025</td><td>0.002</td><td>9.0</td><td>0.7200000000000001</td></tr>\n",
       "<tr><td>10833.306</td><td>helium</td><td>2.9</td><td>0.12</td><td>209.0</td><td>4.0</td></tr>\n",
       "</table>"
      ],
      "text/plain": [
       "<Table length=11>\n",
       "Wavelength     Species     Flux Ratio ...    EW        EW Errors     \n",
       " float64        str15       float64   ... float64       float64      \n",
       "---------- --------------- ---------- ... ------- -------------------\n",
       "  3890.166 hydrogen+helium      0.157 ...    12.6 0.32101910828025476\n",
       "  4027.328          helium      0.015 ...     1.3 0.34666666666666673\n",
       "  4102.891        hydrogen      0.233 ...    21.0  0.4506437768240343\n",
       "  4341.684        hydrogen      0.449 ...    48.2  0.8587973273942094\n",
       "  4472.755          helium      0.035 ...     3.8  0.3257142857142857\n",
       "  4862.721        hydrogen        1.0 ...   135.6              1.6272\n",
       "  5877.299          helium      0.097 ...    21.3  0.6587628865979381\n",
       "  6564.612        hydrogen      2.837 ...   802.6  12.447796968628833\n",
       "  6679.994          helium      0.027 ...     8.2  0.6074074074074073\n",
       "  7067.198          helium      0.025 ...     9.0  0.7200000000000001\n",
       " 10833.306          helium        2.9 ...   209.0                 4.0"
      ]
     },
     "execution_count": 47,
     "metadata": {},
     "output_type": "execute_result"
    }
   ],
   "source": [
    "flux_ratios"
   ]
  },
  {
   "cell_type": "code",
   "execution_count": 27,
   "metadata": {},
   "outputs": [],
   "source": [
    "EWs_meas = np.array(flux_ratios['EW'])"
   ]
  },
  {
   "cell_type": "code",
   "execution_count": 28,
   "metadata": {},
   "outputs": [
    {
     "data": {
      "text/plain": [
       "array([ 12.6,   1.3,  21. ,  48.2,   3.8, 135.6,  21.3, 802.6,   8.2,\n",
       "         9. , 209. ])"
      ]
     },
     "execution_count": 28,
     "metadata": {},
     "output_type": "execute_result"
    }
   ],
   "source": [
    "EWs_meas"
   ]
  },
  {
   "cell_type": "code",
   "execution_count": 48,
   "metadata": {},
   "outputs": [
    {
     "data": {
      "text/plain": [
       "57.0"
      ]
     },
     "execution_count": 48,
     "metadata": {},
     "output_type": "execute_result"
    }
   ],
   "source": [
    "tbl[-1]['EW']"
   ]
  },
  {
   "cell_type": "markdown",
   "metadata": {},
   "source": [
    "# MCMC.py file"
   ]
  },
  {
   "cell_type": "markdown",
   "metadata": {},
   "source": [
    "## Optical"
   ]
  },
  {
   "cell_type": "code",
   "execution_count": null,
   "metadata": {},
   "outputs": [],
   "source": [
    "for obj in range(len(qualifying)):\n",
    "    name = str(qualifying[obj].replace(' ', '').replace('(','').replace('-', '').replace(')','').replace('.', ''))\n",
    "    shutil.copy('mcmc_find_parameters.py', name+'.py')\n",
    "    \n",
    "    for line in fileinput.input(name+'.py', inplace = True):\n",
    "        if line.startswith('flux_ratios'):\n",
    "            #if line starts with rx_b_phase then do something here\n",
    "            print ('flux_ratios = Table.read(os.getcwd()+\\'/test_data/' + name +'\\', format=\\'ascii\\', delimiter=\\' \\')')\n",
    "        elif line.startswith('np.save'):\n",
    "                print ('np.save(\\'{0:s}_{1:d}walkers_{2:d}steps\\'.format(\\'' + name + '\\', nwalkers, nmbr), sampler.chain)')\n",
    "        else:\n",
    "            print (line.strip('\\n'))"
   ]
  },
  {
   "cell_type": "markdown",
   "metadata": {},
   "source": [
    "## Optical+NIR"
   ]
  },
  {
   "cell_type": "code",
   "execution_count": 53,
   "metadata": {},
   "outputs": [
    {
     "data": {
      "text/plain": [
       "'/Users/thsyu/Software/Yp/test_data'"
      ]
     },
     "execution_count": 53,
     "metadata": {},
     "output_type": "execute_result"
    }
   ],
   "source": [
    "os.getcwd()"
   ]
  },
  {
   "cell_type": "code",
   "execution_count": 56,
   "metadata": {},
   "outputs": [],
   "source": [
    "for obj in range(len(qualifying)):\n",
    "    name = str(qualifying[obj].replace(' ', '').replace('(','').replace('-', '').replace(')','').replace('.', ''))\n",
    "    shutil.copy('../mcmc_find_parameters_scale_IR_to_OPT.py', name+'.py')\n",
    "    \n",
    "    for line in fileinput.input(name+'.py', inplace=True):\n",
    "        if line.startswith('full_tbl'):\n",
    "            #if line starts with flux_ratios then do something here\n",
    "            print ('full_tbl = Table.read(os.getcwd()+\\'/test_data/' + name +'_nir\\', format=\\'ascii\\', delimiter=\\' \\')')\n",
    "        elif line.startswith('np.save'):\n",
    "            print ('np.save(\\'{0:s}_{1:d}walkers_{2:d}steps\\'.format(\\'' + name + '\\', nwalkers, nmbr), sampler.chain)')\n",
    "        else:\n",
    "            print (line.strip('\\n'))"
   ]
  },
  {
   "cell_type": "markdown",
   "metadata": {},
   "source": [
    "# Check MCMC run results"
   ]
  },
  {
   "cell_type": "code",
   "execution_count": 8,
   "metadata": {},
   "outputs": [],
   "source": [
    "qualifying.remove('SBS 1415+437 (No.  2)') # No HeI4027 for this system (they're measured to be 0)"
   ]
  },
  {
   "cell_type": "code",
   "execution_count": 24,
   "metadata": {},
   "outputs": [],
   "source": [
    "our_yplus = np.zeros((len(qualifying),3))\n",
    "our_temp = np.zeros((len(qualifying),3))\n",
    "our_dens = np.zeros((len(qualifying),3))\n",
    "our_cHb = np.zeros((len(qualifying),3))\n",
    "our_aH = np.zeros((len(qualifying),3))\n",
    "our_aHe = np.zeros((len(qualifying),3))\n",
    "our_tauHe = np.zeros((len(qualifying),3))\n",
    "our_xi = np.zeros((len(qualifying),3))"
   ]
  },
  {
   "cell_type": "code",
   "execution_count": 27,
   "metadata": {},
   "outputs": [
    {
     "name": "stdout",
     "output_type": "stream",
     "text": [
      "CGCG007025No2\n",
      "Best parameter values:\n",
      "y+ (0.07876858678558427, 0.002248150157545828, 0.002623598291836865)\n",
      "T (14119.060600690647, 1574.2579534789802, 1559.8587118051673)\n",
      "log(n_e) (1.258724516686186, 0.9272365555865856, 0.8494567852950714)\n",
      "c(Hb) (0.18242415461179848, 0.021243714691272036, 0.02150554296813717)\n",
      "a_H (0.38022742190366055, 0.5080991033923998, 0.27844794725502664)\n",
      "a_He (0.247745936601598, 0.16730628490184435, 0.14379828909786993)\n",
      "tau_He (1.5273822459232829, 0.6609421214139277, 0.6053021161630431)\n",
      "log(xi) (-3.130119221221112, 2.020875146968076, 2.017903762866097)\n"
     ]
    },
    {
     "ename": "NameError",
     "evalue": "name 'corner' is not defined",
     "output_type": "error",
     "traceback": [
      "\u001b[0;31m---------------------------------------------------------------------------\u001b[0m",
      "\u001b[0;31mNameError\u001b[0m                                 Traceback (most recent call last)",
      "\u001b[0;32m<ipython-input-27-26f8f75ae51c>\u001b[0m in \u001b[0;36m<module>\u001b[0;34m()\u001b[0m\n\u001b[1;32m     45\u001b[0m     \u001b[0mhist_kwargs\u001b[0m \u001b[0;34m=\u001b[0m \u001b[0mdict\u001b[0m\u001b[0;34m(\u001b[0m\u001b[0;34m{\u001b[0m\u001b[0;34m}\u001b[0m\u001b[0;34m)\u001b[0m\u001b[0;34m\u001b[0m\u001b[0m\n\u001b[1;32m     46\u001b[0m     \u001b[0mhist_kwargs\u001b[0m\u001b[0;34m[\u001b[0m\u001b[0;34m\"color\"\u001b[0m\u001b[0;34m]\u001b[0m \u001b[0;34m=\u001b[0m \u001b[0mcontourf_kwargs\u001b[0m\u001b[0;34m[\u001b[0m\u001b[0;34m\"colors\"\u001b[0m\u001b[0;34m]\u001b[0m\u001b[0;34m[\u001b[0m\u001b[0;34m-\u001b[0m\u001b[0;36m1\u001b[0m\u001b[0;34m]\u001b[0m\u001b[0;34m\u001b[0m\u001b[0m\n\u001b[0;32m---> 47\u001b[0;31m     fig = corner.corner(samples, bins=[50, 50, 50, 50, 50, 50, 50, 50], levels=levels, plot_datapoints=False, fill_contours=True, smooth=1,\n\u001b[0m\u001b[1;32m     48\u001b[0m     plot_density=False, contour_kwargs=contour_kwargs, contourf_kwargs=contourf_kwargs, hist_kwargs=hist_kwargs, labels=prenams)#, truths=input_vals)\n\u001b[1;32m     49\u001b[0m     \u001b[0mfig\u001b[0m\u001b[0;34m.\u001b[0m\u001b[0msavefig\u001b[0m\u001b[0;34m(\u001b[0m\u001b[0;34m'{0:s}_{1:d}walkers_{2:d}steps.pdf'\u001b[0m\u001b[0;34m.\u001b[0m\u001b[0mformat\u001b[0m\u001b[0;34m(\u001b[0m\u001b[0mname\u001b[0m\u001b[0;34m+\u001b[0m\u001b[0;34m'_corner'\u001b[0m\u001b[0;34m,\u001b[0m \u001b[0mnwalkers\u001b[0m\u001b[0;34m,\u001b[0m \u001b[0mnmbr\u001b[0m\u001b[0;34m)\u001b[0m\u001b[0;34m,\u001b[0m \u001b[0moverwrite\u001b[0m\u001b[0;34m=\u001b[0m\u001b[0;32mTrue\u001b[0m\u001b[0;34m)\u001b[0m\u001b[0;34m\u001b[0m\u001b[0m\n",
      "\u001b[0;31mNameError\u001b[0m: name 'corner' is not defined"
     ]
    }
   ],
   "source": [
    "for npy in range(0,1): #len(qualifying)):\n",
    "    name = str(qualifying[npy].replace(' ', '').replace('(','').replace('-', '').replace(')','').replace('.', ''))\n",
    "    \n",
    "    print (name)\n",
    "    # Load .npy file\n",
    "    ndim = 8\n",
    "    onevar = -1\n",
    "\n",
    "    nwalkers = 500\n",
    "    nmbr = 1000\n",
    "    burnin = int(0.8*nmbr) #int(0.1*nmbr)\n",
    "\n",
    "    chains = np.load(name+'_500walkers_1000steps.npy')\n",
    "    samples = chains[:, burnin:, :].reshape((-1, ndim))\n",
    "\n",
    "    prenams = ['y+', 'temperature', '$log(n_{e})$', 'c(H\\\\beta)', '$a_{H}$', '$a_{He}$', '$\\\\tau_{He}', '$log(\\\\xi)$'] #'$n_{HI}$']\n",
    "\n",
    "    print ('Best parameter values:')\n",
    "    y_plus_mcmc, temp_mcmc, log_dens_mcmc, c_Hb_mcmc, a_H_mcmc, a_He_mcmc, tau_He_mcmc, log_xi_mcmc = map(\n",
    "        lambda v: (v[1], v[2] - v[1], v[1] - v[0]), zip(*np.percentile(samples, [16, 50, 84], axis=0)))\n",
    "    print ('y+', y_plus_mcmc)\n",
    "    print ('T', temp_mcmc)\n",
    "    print ('log(n_e)', log_dens_mcmc)\n",
    "    print ('c(Hb)', c_Hb_mcmc)\n",
    "    print ('a_H', a_H_mcmc)\n",
    "    print ('a_He', a_He_mcmc)\n",
    "    print ('tau_He', tau_He_mcmc)\n",
    "    print ('log(xi)', log_xi_mcmc)\n",
    "    \n",
    "    # Save our MCMC parameters into an array\n",
    "    our_yplus[npy] = y_plus_mcmc\n",
    "    our_temp[npy] = temp_mcmc\n",
    "    our_dens[npy] = log_dens_mcmc\n",
    "    our_cHb[npy] = c_Hb_mcmc\n",
    "    our_aH[npy] = a_H_mcmc\n",
    "    our_aHe[npy] = a_He_mcmc\n",
    "    our_tauHe[npy] = tau_He_mcmc\n",
    "    our_xi[npy] = log_xi_mcmc\n",
    "    \n",
    "    # Make contour plot\n",
    "    levels = 1.0 - np.exp(-0.5 * np.arange(1.0, 2.1, 1.0) ** 2)\n",
    "    contour_kwargs, contourf_kwargs = dict({}), dict({})\n",
    "    contour_kwargs[\"linewidths\"] = [1.0, 1.0]\n",
    "    contourf_kwargs[\"colors\"] = ((1, 1, 1), (0.502, 0.651, 0.808), (0.055, 0.302, 0.5727))\n",
    "    hist_kwargs = dict({})\n",
    "    hist_kwargs[\"color\"] = contourf_kwargs[\"colors\"][-1]\n",
    "    fig = corner.corner(samples, bins=[50, 50, 50, 50, 50, 50, 50, 50], levels=levels, plot_datapoints=False, fill_contours=True, smooth=1,\n",
    "    plot_density=False, contour_kwargs=contour_kwargs, contourf_kwargs=contourf_kwargs, hist_kwargs=hist_kwargs, labels=prenams)#, truths=input_vals)\n",
    "    fig.savefig('{0:s}_{1:d}walkers_{2:d}steps.pdf'.format(name+'_corner', nwalkers, nmbr), overwrite=True)\n",
    "    \n",
    "    # Make time evolution plot\n",
    "    fig, axes = plt.subplots(ndim, 1, sharex=True, figsize=(8, 12))\n",
    "    for i in range(ndim):\n",
    "        axes[i].plot(chains[:, :, i].T, color=\"k\", alpha=0.4)\n",
    "        axes[i].yaxis.set_major_locator(MaxNLocator(5))\n",
    "        axes[i].axvline(burnin, color='red')\n",
    "        axes[i].set_ylabel(prenams[i])\n",
    "    axes[7].set_xlabel('Steps')\n",
    "    fig.tight_layout(h_pad=0.0)\n",
    "    fig.savefig('{0:s}_{1:d}walkers_{2:d}steps.pdf'.format(name+'_timeevol', nwalkers, nmbr), overwrite=True)\n",
    "    \n",
    "    # Generate emission line ratios based on our MCMC parameters\n",
    "    mfr.generate_emission_line_ratio(name+'_MCMCoutput', [3890.166, 4027.328, 4102.891, 4341.684, 4472.755, 4862.721, 5877.299, 6564.612, 6679.994, 7067.198], \\\n",
    "                             [21.7, 1.8, 32.8, 72.3, 5.9, 204.3, 34.0, 1152.0, 12.1, 12.5], 204.3, \\\n",
    "                             y_plus_mcmc[0], temp_mcmc[0], log_dens_mcmc[0], c_Hb_mcmc[0], a_H_mcmc[0], a_He_mcmc[0], tau_He_mcmc[0], log_xi_mcmc[0])"
   ]
  },
  {
   "cell_type": "code",
   "execution_count": 30,
   "metadata": {},
   "outputs": [],
   "source": [
    "test = Table.read('CGCG007025No2', format='ascii', delimiter=' ')"
   ]
  },
  {
   "cell_type": "code",
   "execution_count": 31,
   "metadata": {},
   "outputs": [
    {
     "data": {
      "text/html": [
       "<i>Table length=10</i>\n",
       "<table id=\"table34628717032\" class=\"table-striped table-bordered table-condensed\">\n",
       "<thead><tr><th>Wavelength</th><th>Species</th><th>Flux Ratio</th><th>Flux Ratio Errors</th><th>EW</th><th>EW Errors</th></tr></thead>\n",
       "<thead><tr><th>float64</th><th>str15</th><th>float64</th><th>float64</th><th>float64</th><th>float64</th></tr></thead>\n",
       "<tr><td>3890.166</td><td>hydrogen+helium</td><td>0.167</td><td>0.005</td><td>21.7</td><td>0.6497005988023952</td></tr>\n",
       "<tr><td>4027.328</td><td>helium</td><td>0.015</td><td>0.002</td><td>1.8</td><td>0.24000000000000002</td></tr>\n",
       "<tr><td>4102.891</td><td>hydrogen</td><td>0.249</td><td>0.005</td><td>32.8</td><td>0.6586345381526103</td></tr>\n",
       "<tr><td>4341.684</td><td>hydrogen</td><td>0.457</td><td>0.008</td><td>72.3</td><td>1.2656455142231948</td></tr>\n",
       "<tr><td>4472.755</td><td>helium</td><td>0.034</td><td>0.002</td><td>5.9</td><td>0.3470588235294118</td></tr>\n",
       "<tr><td>4862.721</td><td>hydrogen</td><td>1.0</td><td>0.011</td><td>204.3</td><td>2.2473</td></tr>\n",
       "<tr><td>5877.299</td><td>helium</td><td>0.111</td><td>0.002</td><td>34.0</td><td>0.6126126126126127</td></tr>\n",
       "<tr><td>6564.612</td><td>hydrogen</td><td>3.257</td><td>0.048</td><td>1152.0</td><td>16.97758673626036</td></tr>\n",
       "<tr><td>6679.994</td><td>helium</td><td>0.033</td><td>0.002</td><td>12.1</td><td>0.7333333333333333</td></tr>\n",
       "<tr><td>7067.198</td><td>helium</td><td>0.03</td><td>0.002</td><td>12.5</td><td>0.8333333333333334</td></tr>\n",
       "</table>"
      ],
      "text/plain": [
       "<Table length=10>\n",
       "Wavelength     Species     Flux Ratio ...    EW        EW Errors     \n",
       " float64        str15       float64   ... float64       float64      \n",
       "---------- --------------- ---------- ... ------- -------------------\n",
       "  3890.166 hydrogen+helium      0.167 ...    21.7  0.6497005988023952\n",
       "  4027.328          helium      0.015 ...     1.8 0.24000000000000002\n",
       "  4102.891        hydrogen      0.249 ...    32.8  0.6586345381526103\n",
       "  4341.684        hydrogen      0.457 ...    72.3  1.2656455142231948\n",
       "  4472.755          helium      0.034 ...     5.9  0.3470588235294118\n",
       "  4862.721        hydrogen        1.0 ...   204.3              2.2473\n",
       "  5877.299          helium      0.111 ...    34.0  0.6126126126126127\n",
       "  6564.612        hydrogen      3.257 ...  1152.0   16.97758673626036\n",
       "  6679.994          helium      0.033 ...    12.1  0.7333333333333333\n",
       "  7067.198          helium       0.03 ...    12.5  0.8333333333333334"
      ]
     },
     "execution_count": 31,
     "metadata": {},
     "output_type": "execute_result"
    }
   ],
   "source": [
    "test"
   ]
  },
  {
   "cell_type": "code",
   "execution_count": null,
   "metadata": {},
   "outputs": [],
   "source": []
  }
 ],
 "metadata": {
  "kernelspec": {
   "display_name": "Python 3",
   "language": "python",
   "name": "python3"
  },
  "language_info": {
   "codemirror_mode": {
    "name": "ipython",
    "version": 3
   },
   "file_extension": ".py",
   "mimetype": "text/x-python",
   "name": "python",
   "nbconvert_exporter": "python",
   "pygments_lexer": "ipython3",
   "version": "3.6.4"
  }
 },
 "nbformat": 4,
 "nbformat_minor": 2
}
